{
 "cells": [
  {
   "cell_type": "code",
   "execution_count": 1,
   "metadata": {
    "collapsed": true
   },
   "outputs": [],
   "source": [
    "from sqlalchemy import create_engine\n",
    "from pysandag.database import get_connection_string\n",
    "import pandas as pd"
   ]
  },
  {
   "cell_type": "code",
   "execution_count": 2,
   "metadata": {
    "collapsed": true
   },
   "outputs": [],
   "source": [
    "%matplotlib inline"
   ]
  },
  {
   "cell_type": "code",
   "execution_count": 3,
   "metadata": {
    "collapsed": true
   },
   "outputs": [],
   "source": [
    "db_connection_string = get_connection_string('..\\data\\config.yml', 'mssql_db')\n",
    "mssql_engine = create_engine(db_connection_string)"
   ]
  },
  {
   "cell_type": "markdown",
   "metadata": {},
   "source": [
    "## Current simulation "
   ]
  },
  {
   "cell_type": "code",
   "execution_count": 4,
   "metadata": {
    "collapsed": true
   },
   "outputs": [],
   "source": [
    "current_run_units_added_sql = '''\n",
    "SELECT  [units_index]\n",
    "      ,[parcel_id]\n",
    "      ,[units_added]\n",
    "      ,[year_simulation]\n",
    "      ,[run_id]\n",
    "  FROM [urbansim].[urbansim].[urbansim_lite_output_units]\n",
    "  where run_id = 1'''\n",
    "units_added_df =  pd.read_sql(current_run_units_added_sql, mssql_engine)\n",
    "units_added_df.drop('units_index',inplace=True,axis=1)\n",
    "units_added_df.drop('run_id',inplace=True,axis=1)\n",
    "units_added_df.sort_values(by=['parcel_id','year_simulation'],inplace=True)\n",
    "units_added_df.set_index('parcel_id',inplace=True)"
   ]
  },
  {
   "cell_type": "markdown",
   "metadata": {},
   "source": [
    "## Previous simulation "
   ]
  },
  {
   "cell_type": "code",
   "execution_count": 5,
   "metadata": {
    "collapsed": true
   },
   "outputs": [],
   "source": [
    "previous_run_units_sql = '''SELECT  [units_index]\n",
    "      ,[parcel_id]\n",
    "      ,[units_added]\n",
    "      ,[year_simulation]\n",
    "      ,[run_id]\n",
    "  FROM [urbansim].[urbansim].[urbansim_lite_output_units]\n",
    "  where run_id = 2'''\n",
    "previous_run =  pd.read_sql(previous_run_units_sql, mssql_engine)\n",
    "previous_run.drop('run_id',inplace=True,axis=1)\n",
    "previous_run.drop('units_index',inplace=True,axis=1)\n",
    "previous_run.rename(columns = {'year_built': 'year_simulation'},inplace=True)\n",
    "previous_run.rename(columns = {'residential_units': 'units_added'},inplace=True)\n",
    "previous_run.sort_values(by=['parcel_id','year_simulation'],inplace=True)\n",
    "previous_run.set_index('parcel_id',inplace=True)"
   ]
  },
  {
   "cell_type": "markdown",
   "metadata": {},
   "source": [
    "## Comparison of simulations"
   ]
  },
  {
   "cell_type": "code",
   "execution_count": 6,
   "metadata": {},
   "outputs": [
    {
     "name": "stdout",
     "output_type": "stream",
     "text": [
      "\n",
      "Do the simulations produce the same results?\n",
      "False\n"
     ]
    }
   ],
   "source": [
    "print \"\\nDo the simulations produce the same results?\"\n",
    "print previous_run.equals(units_added_df)"
   ]
  },
  {
   "cell_type": "markdown",
   "metadata": {},
   "source": [
    "## Units added by jurisdiction"
   ]
  },
  {
   "cell_type": "code",
   "execution_count": 7,
   "metadata": {
    "collapsed": true
   },
   "outputs": [],
   "source": [
    "parcels_sql = '''\n",
    "  WITH bldgs_by_parcel AS (SELECT parcel_id, SUM(residential_units) AS residential_units, \n",
    "                                  count(building_id) AS num_of_bldgs\n",
    "                           FROM   urbansim.urbansim.building GROUP BY parcel_id)\n",
    "  SELECT parcels.parcel_id, parcels.jurisdiction_id, parcels.site_id,\n",
    "         parcels.capacity, \n",
    "         COALESCE(bldgs_by_parcel.residential_units,0) AS residential_units,\n",
    "         COALESCE(bldgs_by_parcel.num_of_bldgs,0) AS bldgs,\n",
    "         0 as partial_build\n",
    "  FROM urbansim.urbansim.parcel parcels\n",
    "  LEFT JOIN bldgs_by_parcel \n",
    "  ON bldgs_by_parcel.parcel_id = parcels.parcel_id\n",
    "  WHERE parcels.capacity > 0\n",
    "'''\n",
    "parcels_df =  pd.read_sql(parcels_sql, mssql_engine,index_col='parcel_id')"
   ]
  },
  {
   "cell_type": "code",
   "execution_count": 8,
   "metadata": {
    "collapsed": true
   },
   "outputs": [],
   "source": [
    "sched_dev_sql = '''\n",
    "select jurisdiction_id, sum(capacity) as schdev\n",
    "from urbansim.urbansim.parcel\n",
    "where  site_id is NOT NULL\n",
    "group by jurisdiction_id\n",
    "order by jurisdiction_id\n",
    "'''\n",
    "sched_dev =  pd.read_sql(sched_dev_sql, mssql_engine,index_col='jurisdiction_id')\n",
    "# print sched_dev"
   ]
  },
  {
   "cell_type": "code",
   "execution_count": 9,
   "metadata": {},
   "outputs": [],
   "source": [
    "capacity_sql = '''\n",
    "SELECT jurisdiction_id,SUM([capacity]) AS capacity\n",
    "FROM [urbansim].[urbansim].[parcel]\n",
    "GROUP BY jurisdiction_id\n",
    "ORDER BY jurisdiction_id\n",
    "'''\n",
    "capacity_df =  pd.read_sql(capacity_sql, mssql_engine,index_col='jurisdiction_id')"
   ]
  },
  {
   "cell_type": "code",
   "execution_count": 10,
   "metadata": {
    "collapsed": true
   },
   "outputs": [],
   "source": [
    "jurisdictions_sql = '''\n",
    "  SELECT jurisdiction_id, name\n",
    "  FROM urbansim.ref.jurisdiction\n",
    "'''\n",
    "jur_df =  pd.read_sql(jurisdictions_sql, mssql_engine,index_col='jurisdiction_id')"
   ]
  },
  {
   "cell_type": "code",
   "execution_count": 11,
   "metadata": {
    "collapsed": true
   },
   "outputs": [],
   "source": [
    "units_added_df.reset_index(inplace=True)"
   ]
  },
  {
   "cell_type": "code",
   "execution_count": 12,
   "metadata": {},
   "outputs": [
    {
     "data": {
      "text/html": [
       "<div>\n",
       "<style>\n",
       "    .dataframe thead tr:only-child th {\n",
       "        text-align: right;\n",
       "    }\n",
       "\n",
       "    .dataframe thead th {\n",
       "        text-align: left;\n",
       "    }\n",
       "\n",
       "    .dataframe tbody tr th {\n",
       "        vertical-align: top;\n",
       "    }\n",
       "</style>\n",
       "<table border=\"1\" class=\"dataframe\">\n",
       "  <thead>\n",
       "    <tr style=\"text-align: right;\">\n",
       "      <th></th>\n",
       "      <th>name</th>\n",
       "      <th>capacity</th>\n",
       "      <th>sr14_sans_schdev</th>\n",
       "      <th>schdev</th>\n",
       "      <th>forecast_sr14</th>\n",
       "      <th>remaining</th>\n",
       "    </tr>\n",
       "    <tr>\n",
       "      <th>jurisdiction_id</th>\n",
       "      <th></th>\n",
       "      <th></th>\n",
       "      <th></th>\n",
       "      <th></th>\n",
       "      <th></th>\n",
       "      <th></th>\n",
       "    </tr>\n",
       "  </thead>\n",
       "  <tbody>\n",
       "    <tr>\n",
       "      <th>1</th>\n",
       "      <td>Carlsbad</td>\n",
       "      <td>6692</td>\n",
       "      <td>3910</td>\n",
       "      <td>2782</td>\n",
       "      <td>6692</td>\n",
       "      <td>0</td>\n",
       "    </tr>\n",
       "    <tr>\n",
       "      <th>2</th>\n",
       "      <td>Chula Vista</td>\n",
       "      <td>27215</td>\n",
       "      <td>8460</td>\n",
       "      <td>18755</td>\n",
       "      <td>27215</td>\n",
       "      <td>0</td>\n",
       "    </tr>\n",
       "    <tr>\n",
       "      <th>3</th>\n",
       "      <td>Coronado</td>\n",
       "      <td>246</td>\n",
       "      <td>187</td>\n",
       "      <td>36</td>\n",
       "      <td>223</td>\n",
       "      <td>23</td>\n",
       "    </tr>\n",
       "    <tr>\n",
       "      <th>4</th>\n",
       "      <td>Del Mar</td>\n",
       "      <td>53</td>\n",
       "      <td>32</td>\n",
       "      <td>2</td>\n",
       "      <td>34</td>\n",
       "      <td>19</td>\n",
       "    </tr>\n",
       "    <tr>\n",
       "      <th>5</th>\n",
       "      <td>El Cajon</td>\n",
       "      <td>3178</td>\n",
       "      <td>2828</td>\n",
       "      <td>350</td>\n",
       "      <td>3178</td>\n",
       "      <td>0</td>\n",
       "    </tr>\n",
       "    <tr>\n",
       "      <th>6</th>\n",
       "      <td>Encinitas</td>\n",
       "      <td>2460</td>\n",
       "      <td>2197</td>\n",
       "      <td>249</td>\n",
       "      <td>2446</td>\n",
       "      <td>14</td>\n",
       "    </tr>\n",
       "    <tr>\n",
       "      <th>7</th>\n",
       "      <td>Escondido</td>\n",
       "      <td>10933</td>\n",
       "      <td>8414</td>\n",
       "      <td>2519</td>\n",
       "      <td>10933</td>\n",
       "      <td>0</td>\n",
       "    </tr>\n",
       "    <tr>\n",
       "      <th>8</th>\n",
       "      <td>Imperial Beach</td>\n",
       "      <td>3569</td>\n",
       "      <td>2628</td>\n",
       "      <td>228</td>\n",
       "      <td>2856</td>\n",
       "      <td>713</td>\n",
       "    </tr>\n",
       "    <tr>\n",
       "      <th>9</th>\n",
       "      <td>La Mesa</td>\n",
       "      <td>9307</td>\n",
       "      <td>8692</td>\n",
       "      <td>615</td>\n",
       "      <td>9307</td>\n",
       "      <td>0</td>\n",
       "    </tr>\n",
       "    <tr>\n",
       "      <th>10</th>\n",
       "      <td>Lemon Grove</td>\n",
       "      <td>1159</td>\n",
       "      <td>864</td>\n",
       "      <td>295</td>\n",
       "      <td>1159</td>\n",
       "      <td>0</td>\n",
       "    </tr>\n",
       "    <tr>\n",
       "      <th>11</th>\n",
       "      <td>National City</td>\n",
       "      <td>5404</td>\n",
       "      <td>4500</td>\n",
       "      <td>904</td>\n",
       "      <td>5404</td>\n",
       "      <td>0</td>\n",
       "    </tr>\n",
       "    <tr>\n",
       "      <th>12</th>\n",
       "      <td>Oceanside</td>\n",
       "      <td>7246</td>\n",
       "      <td>4068</td>\n",
       "      <td>3178</td>\n",
       "      <td>7246</td>\n",
       "      <td>0</td>\n",
       "    </tr>\n",
       "    <tr>\n",
       "      <th>13</th>\n",
       "      <td>Poway</td>\n",
       "      <td>1463</td>\n",
       "      <td>1312</td>\n",
       "      <td>151</td>\n",
       "      <td>1463</td>\n",
       "      <td>0</td>\n",
       "    </tr>\n",
       "    <tr>\n",
       "      <th>14</th>\n",
       "      <td>San Diego</td>\n",
       "      <td>192718</td>\n",
       "      <td>158822</td>\n",
       "      <td>31234</td>\n",
       "      <td>190056</td>\n",
       "      <td>2662</td>\n",
       "    </tr>\n",
       "    <tr>\n",
       "      <th>15</th>\n",
       "      <td>San Marcos</td>\n",
       "      <td>9355</td>\n",
       "      <td>2804</td>\n",
       "      <td>6551</td>\n",
       "      <td>9355</td>\n",
       "      <td>0</td>\n",
       "    </tr>\n",
       "    <tr>\n",
       "      <th>16</th>\n",
       "      <td>Santee</td>\n",
       "      <td>3496</td>\n",
       "      <td>1186</td>\n",
       "      <td>2310</td>\n",
       "      <td>3496</td>\n",
       "      <td>0</td>\n",
       "    </tr>\n",
       "    <tr>\n",
       "      <th>17</th>\n",
       "      <td>Solana Beach</td>\n",
       "      <td>421</td>\n",
       "      <td>261</td>\n",
       "      <td>160</td>\n",
       "      <td>421</td>\n",
       "      <td>0</td>\n",
       "    </tr>\n",
       "    <tr>\n",
       "      <th>18</th>\n",
       "      <td>Vista</td>\n",
       "      <td>8260</td>\n",
       "      <td>6031</td>\n",
       "      <td>2229</td>\n",
       "      <td>8260</td>\n",
       "      <td>0</td>\n",
       "    </tr>\n",
       "    <tr>\n",
       "      <th>19</th>\n",
       "      <td>Unincorporated</td>\n",
       "      <td>71333</td>\n",
       "      <td>58795</td>\n",
       "      <td>6498</td>\n",
       "      <td>65293</td>\n",
       "      <td>6040</td>\n",
       "    </tr>\n",
       "    <tr>\n",
       "      <th>totals</th>\n",
       "      <td>NaN</td>\n",
       "      <td>364508</td>\n",
       "      <td>275991</td>\n",
       "      <td>79046</td>\n",
       "      <td>355037</td>\n",
       "      <td>9471</td>\n",
       "    </tr>\n",
       "  </tbody>\n",
       "</table>\n",
       "</div>"
      ],
      "text/plain": [
       "                           name  capacity  sr14_sans_schdev  schdev  \\\n",
       "jurisdiction_id                                                       \n",
       "1                      Carlsbad      6692              3910    2782   \n",
       "2                   Chula Vista     27215              8460   18755   \n",
       "3                      Coronado       246               187      36   \n",
       "4                       Del Mar        53                32       2   \n",
       "5                      El Cajon      3178              2828     350   \n",
       "6                     Encinitas      2460              2197     249   \n",
       "7                     Escondido     10933              8414    2519   \n",
       "8                Imperial Beach      3569              2628     228   \n",
       "9                       La Mesa      9307              8692     615   \n",
       "10                  Lemon Grove      1159               864     295   \n",
       "11                National City      5404              4500     904   \n",
       "12                    Oceanside      7246              4068    3178   \n",
       "13                        Poway      1463              1312     151   \n",
       "14                    San Diego    192718            158822   31234   \n",
       "15                   San Marcos      9355              2804    6551   \n",
       "16                       Santee      3496              1186    2310   \n",
       "17                 Solana Beach       421               261     160   \n",
       "18                        Vista      8260              6031    2229   \n",
       "19               Unincorporated     71333             58795    6498   \n",
       "totals                      NaN    364508            275991   79046   \n",
       "\n",
       "                 forecast_sr14  remaining  \n",
       "jurisdiction_id                            \n",
       "1                         6692          0  \n",
       "2                        27215          0  \n",
       "3                          223         23  \n",
       "4                           34         19  \n",
       "5                         3178          0  \n",
       "6                         2446         14  \n",
       "7                        10933          0  \n",
       "8                         2856        713  \n",
       "9                         9307          0  \n",
       "10                        1159          0  \n",
       "11                        5404          0  \n",
       "12                        7246          0  \n",
       "13                        1463          0  \n",
       "14                      190056       2662  \n",
       "15                        9355          0  \n",
       "16                        3496          0  \n",
       "17                         421          0  \n",
       "18                        8260          0  \n",
       "19                       65293       6040  \n",
       "totals                  355037       9471  "
      ]
     },
     "execution_count": 12,
     "metadata": {},
     "output_type": "execute_result"
    }
   ],
   "source": [
    "# get jurisdiction id for parcels\n",
    "\n",
    "units_added_w_city = units_added_df.join(parcels_df,on='parcel_id')\n",
    "units_by_city = pd.DataFrame({'sr14_sans_schdev': units_added_w_city .\n",
    "                                            groupby([\"jurisdiction_id\"]).units_added.sum()})\n",
    "forecast_sr14_df = units_by_city.join(sched_dev)\n",
    "forecast_sr14_df = forecast_sr14_df.join(capacity_df)\n",
    "forecast_sr14_df = forecast_sr14_df.join(jur_df)\n",
    "forecast_sr14_df['forecast_sr14'] = forecast_sr14_df['sr14_sans_schdev'] + forecast_sr14_df['schdev']\n",
    "forecast_sr14_df['remaining'] = forecast_sr14_df['capacity'] - forecast_sr14_df['forecast_sr14']\n",
    "forecast_sr14_df_totals = forecast_sr14_df.copy()\n",
    "forecast_sr14_df_totals.reset_index(inplace=True)\n",
    "forecast_sr14_df_totals['jurisdiction_id'] = forecast_sr14_df_totals['jurisdiction_id'].astype(str)\n",
    "sr14_totals = forecast_sr14_df_totals.append(forecast_sr14_df_totals.sum(numeric_only=True), ignore_index=True)\n",
    "sr14_totals.at[19, 'jurisdiction_id'] = 'totals'\n",
    "sr14_totals.set_index('jurisdiction_id',inplace=True)\n",
    "cols = ['sr14_sans_schdev','schdev','capacity','forecast_sr14','remaining']\n",
    "sr14_totals[cols] = sr14_totals[cols].apply(pd.to_numeric, errors='coerce', axis=1,downcast='integer')\n",
    "sr14_totals[['name','capacity','sr14_sans_schdev','schdev','forecast_sr14','remaining']]\n"
   ]
  },
  {
   "cell_type": "markdown",
   "metadata": {},
   "source": [
    "## Compare to series 13"
   ]
  },
  {
   "cell_type": "code",
   "execution_count": 13,
   "metadata": {
    "collapsed": true
   },
   "outputs": [],
   "source": [
    "sr13_forecast_sql = ''' \n",
    "WITH sr13_capacity AS (\n",
    "SELECT  City,sum([hs]) as base_yr_hs_sr13\n",
    "      ,sum([cap_hs]) as capacity_sr13\n",
    "  FROM [regional_forecast].[sr13_final].[capacity] x\n",
    "  inner join [regional_forecast].[sr13_final].[mgra13] as y \n",
    "  on y.mgra = x.mgra\n",
    "   where scenario = 0 and increment = 2012 --and y.City = 1\n",
    "   GROUP BY City\n",
    "),\n",
    "sr13_2050 AS (\n",
    "SELECT  y.jurisdiction_id,yr_id, sum(units) as units2050\n",
    "FROM [demographic_warehouse].[fact].[housing] as x\n",
    "inner join [demographic_warehouse].[dim].[mgra_denormalize] as y \n",
    "on x.mgra_id = y.mgra_id\n",
    "where units > 0 and x.datasource_id = 13 and x.yr_id = 2050\n",
    "group by yr_id,y.jurisdiction_id\n",
    "),\n",
    "sr13_2012 AS (\n",
    "SELECT  y.jurisdiction_id,yr_id, sum(units) as units2012\n",
    "FROM [demographic_warehouse].[fact].[housing] as x\n",
    "inner join [demographic_warehouse].[dim].[mgra_denormalize] as y \n",
    "on x.mgra_id = y.mgra_id\n",
    "where units > 0 and x.datasource_id = 13 and x.yr_id = 2012\n",
    "group by yr_id,y.jurisdiction_id\n",
    ")\n",
    "SELECT sr13_2012.jurisdiction_id,base_yr_hs_sr13,capacity_sr13,sr13_2050.units2050 - sr13_2012.units2012 as forecast_sr13\n",
    "FROM sr13_2012 \n",
    "JOIN sr13_2050\n",
    "ON sr13_2012.jurisdiction_id = sr13_2050.jurisdiction_id\n",
    "JOIN sr13_capacity\n",
    "ON sr13_capacity.City = sr13_2012.jurisdiction_id\n",
    "order by sr13_2012 .jurisdiction_id\n",
    "'''\n",
    "sr13_forecast =  pd.read_sql(sr13_forecast_sql, mssql_engine,index_col='jurisdiction_id')"
   ]
  },
  {
   "cell_type": "code",
   "execution_count": 15,
   "metadata": {},
   "outputs": [
    {
     "data": {
      "text/html": [
       "<div>\n",
       "<style>\n",
       "    .dataframe thead tr:only-child th {\n",
       "        text-align: right;\n",
       "    }\n",
       "\n",
       "    .dataframe thead th {\n",
       "        text-align: left;\n",
       "    }\n",
       "\n",
       "    .dataframe tbody tr th {\n",
       "        vertical-align: top;\n",
       "    }\n",
       "</style>\n",
       "<table border=\"1\" class=\"dataframe\">\n",
       "  <thead>\n",
       "    <tr style=\"text-align: right;\">\n",
       "      <th></th>\n",
       "      <th>name</th>\n",
       "      <th>forecast_sr14</th>\n",
       "      <th>forecast_sr13</th>\n",
       "      <th>diff</th>\n",
       "    </tr>\n",
       "    <tr>\n",
       "      <th>jurisdiction_id</th>\n",
       "      <th></th>\n",
       "      <th></th>\n",
       "      <th></th>\n",
       "      <th></th>\n",
       "    </tr>\n",
       "  </thead>\n",
       "  <tbody>\n",
       "    <tr>\n",
       "      <th>1</th>\n",
       "      <td>Carlsbad</td>\n",
       "      <td>6692</td>\n",
       "      <td>5334</td>\n",
       "      <td>1358</td>\n",
       "    </tr>\n",
       "    <tr>\n",
       "      <th>2</th>\n",
       "      <td>Chula Vista</td>\n",
       "      <td>27215</td>\n",
       "      <td>29018</td>\n",
       "      <td>-1803</td>\n",
       "    </tr>\n",
       "    <tr>\n",
       "      <th>3</th>\n",
       "      <td>Coronado</td>\n",
       "      <td>223</td>\n",
       "      <td>205</td>\n",
       "      <td>18</td>\n",
       "    </tr>\n",
       "    <tr>\n",
       "      <th>4</th>\n",
       "      <td>Del Mar</td>\n",
       "      <td>34</td>\n",
       "      <td>37</td>\n",
       "      <td>-3</td>\n",
       "    </tr>\n",
       "    <tr>\n",
       "      <th>5</th>\n",
       "      <td>El Cajon</td>\n",
       "      <td>3178</td>\n",
       "      <td>4875</td>\n",
       "      <td>-1697</td>\n",
       "    </tr>\n",
       "    <tr>\n",
       "      <th>6</th>\n",
       "      <td>Encinitas</td>\n",
       "      <td>2446</td>\n",
       "      <td>2100</td>\n",
       "      <td>346</td>\n",
       "    </tr>\n",
       "    <tr>\n",
       "      <th>7</th>\n",
       "      <td>Escondido</td>\n",
       "      <td>10933</td>\n",
       "      <td>7701</td>\n",
       "      <td>3232</td>\n",
       "    </tr>\n",
       "    <tr>\n",
       "      <th>8</th>\n",
       "      <td>Imperial Beach</td>\n",
       "      <td>2856</td>\n",
       "      <td>1665</td>\n",
       "      <td>1191</td>\n",
       "    </tr>\n",
       "    <tr>\n",
       "      <th>9</th>\n",
       "      <td>La Mesa</td>\n",
       "      <td>9307</td>\n",
       "      <td>7567</td>\n",
       "      <td>1740</td>\n",
       "    </tr>\n",
       "    <tr>\n",
       "      <th>10</th>\n",
       "      <td>Lemon Grove</td>\n",
       "      <td>1159</td>\n",
       "      <td>1713</td>\n",
       "      <td>-554</td>\n",
       "    </tr>\n",
       "    <tr>\n",
       "      <th>11</th>\n",
       "      <td>National City</td>\n",
       "      <td>5404</td>\n",
       "      <td>8016</td>\n",
       "      <td>-2612</td>\n",
       "    </tr>\n",
       "    <tr>\n",
       "      <th>12</th>\n",
       "      <td>Oceanside</td>\n",
       "      <td>7246</td>\n",
       "      <td>5473</td>\n",
       "      <td>1773</td>\n",
       "    </tr>\n",
       "    <tr>\n",
       "      <th>13</th>\n",
       "      <td>Poway</td>\n",
       "      <td>1463</td>\n",
       "      <td>1294</td>\n",
       "      <td>169</td>\n",
       "    </tr>\n",
       "    <tr>\n",
       "      <th>14</th>\n",
       "      <td>San Diego</td>\n",
       "      <td>190056</td>\n",
       "      <td>177566</td>\n",
       "      <td>12490</td>\n",
       "    </tr>\n",
       "    <tr>\n",
       "      <th>15</th>\n",
       "      <td>San Marcos</td>\n",
       "      <td>9355</td>\n",
       "      <td>8798</td>\n",
       "      <td>557</td>\n",
       "    </tr>\n",
       "    <tr>\n",
       "      <th>16</th>\n",
       "      <td>Santee</td>\n",
       "      <td>3496</td>\n",
       "      <td>3762</td>\n",
       "      <td>-266</td>\n",
       "    </tr>\n",
       "    <tr>\n",
       "      <th>17</th>\n",
       "      <td>Solana Beach</td>\n",
       "      <td>421</td>\n",
       "      <td>600</td>\n",
       "      <td>-179</td>\n",
       "    </tr>\n",
       "    <tr>\n",
       "      <th>18</th>\n",
       "      <td>Vista</td>\n",
       "      <td>8260</td>\n",
       "      <td>9321</td>\n",
       "      <td>-1061</td>\n",
       "    </tr>\n",
       "    <tr>\n",
       "      <th>19</th>\n",
       "      <td>Unincorporated</td>\n",
       "      <td>65293</td>\n",
       "      <td>51072</td>\n",
       "      <td>14221</td>\n",
       "    </tr>\n",
       "    <tr>\n",
       "      <th>totals</th>\n",
       "      <td>NaN</td>\n",
       "      <td>355037</td>\n",
       "      <td>326117</td>\n",
       "      <td>28920</td>\n",
       "    </tr>\n",
       "  </tbody>\n",
       "</table>\n",
       "</div>"
      ],
      "text/plain": [
       "                           name  forecast_sr14  forecast_sr13   diff\n",
       "jurisdiction_id                                                     \n",
       "1                      Carlsbad           6692           5334   1358\n",
       "2                   Chula Vista          27215          29018  -1803\n",
       "3                      Coronado            223            205     18\n",
       "4                       Del Mar             34             37     -3\n",
       "5                      El Cajon           3178           4875  -1697\n",
       "6                     Encinitas           2446           2100    346\n",
       "7                     Escondido          10933           7701   3232\n",
       "8                Imperial Beach           2856           1665   1191\n",
       "9                       La Mesa           9307           7567   1740\n",
       "10                  Lemon Grove           1159           1713   -554\n",
       "11                National City           5404           8016  -2612\n",
       "12                    Oceanside           7246           5473   1773\n",
       "13                        Poway           1463           1294    169\n",
       "14                    San Diego         190056         177566  12490\n",
       "15                   San Marcos           9355           8798    557\n",
       "16                       Santee           3496           3762   -266\n",
       "17                 Solana Beach            421            600   -179\n",
       "18                        Vista           8260           9321  -1061\n",
       "19               Unincorporated          65293          51072  14221\n",
       "totals                      NaN         355037         326117  28920"
      ]
     },
     "execution_count": 15,
     "metadata": {},
     "output_type": "execute_result"
    }
   ],
   "source": [
    "forecast_compare = forecast_sr14_df.join(sr13_forecast)\n",
    "forecast_compare['diff'] =  forecast_compare['forecast_sr14'] - forecast_compare['forecast_sr13']\n",
    "forecast_compare.reset_index(inplace=True)\n",
    "forecast_compare['jurisdiction_id'] = forecast_compare['jurisdiction_id'].astype(str)\n",
    "x = forecast_compare.append(forecast_compare.sum(numeric_only=True), ignore_index=True)\n",
    "x.at[19, 'jurisdiction_id'] = 'totals'\n",
    "x.set_index('jurisdiction_id',inplace=True)\n",
    "cols = ['forecast_sr14','forecast_sr13','diff']\n",
    "x[cols] = x[cols].apply(pd.to_numeric, errors='coerce', axis=1,downcast='integer')\n",
    "x[['name','forecast_sr14','forecast_sr13','diff']]"
   ]
  },
  {
   "cell_type": "markdown",
   "metadata": {},
   "source": [
    "## Number of units added in simulation:"
   ]
  },
  {
   "cell_type": "code",
   "execution_count": null,
   "metadata": {},
   "outputs": [],
   "source": [
    "print previous_run.units_added.sum()\n",
    "print units_added_df.units_added.sum()"
   ]
  },
  {
   "cell_type": "code",
   "execution_count": null,
   "metadata": {},
   "outputs": [],
   "source": [
    "# duplicated parcel ids (developed over more than one year)\n",
    "duplicated_parcels =  units_added_df[units_added_df.duplicated(['parcel_id'],keep=False)].sort_values(by='parcel_id')\n",
    "print duplicated_parcels.head()\n",
    "duplicated_parcels_count = pd.DataFrame({'count_parcels': duplicated_parcels.groupby([\"parcel_id\"]).size()})\n",
    "duplicated_parcels_count.sort_values(by='count_parcels',inplace=True)"
   ]
  },
  {
   "cell_type": "code",
   "execution_count": null,
   "metadata": {},
   "outputs": [],
   "source": [
    "duplicated_parcels_count['count_sum'] = duplicated_parcels_count.count_parcels -  1\n",
    "print('\\nNumber of parcels with units built over multiple years:')\n",
    "print len(duplicated_parcels_count)\n",
    "print('\\nNumber of extra rows (some parcels have units added in 2 years, some in 3 yrs:')\n",
    "print duplicated_parcels_count['count_sum'].sum()\n",
    "# print duplicated_parcels_count.head()"
   ]
  },
  {
   "cell_type": "code",
   "execution_count": null,
   "metadata": {
    "collapsed": true
   },
   "outputs": [],
   "source": [
    "units_by_parcel = pd.DataFrame({'total_units_added': units_added_df.groupby([\"parcel_id\"]).\n",
    "                                units_added.sum()}).reset_index()"
   ]
  },
  {
   "cell_type": "code",
   "execution_count": null,
   "metadata": {},
   "outputs": [],
   "source": [
    "units_by_parcel.set_index('parcel_id',inplace=True)\n",
    "print units_by_parcel.head()"
   ]
  },
  {
   "cell_type": "code",
   "execution_count": null,
   "metadata": {},
   "outputs": [],
   "source": [
    "print len(units_by_parcel)\n",
    "print len(units_added_df)\n",
    "# print len(units_added_df) - duplicated_parcels_count.count_parcels.sum() \n",
    "print len(units_added_df) - duplicated_parcels_count['count_sum'].sum()"
   ]
  },
  {
   "cell_type": "code",
   "execution_count": null,
   "metadata": {},
   "outputs": [],
   "source": [
    "print units_by_parcel.head()"
   ]
  },
  {
   "cell_type": "code",
   "execution_count": null,
   "metadata": {},
   "outputs": [],
   "source": [
    "print \"Number of parcels with capacity that have no units added:\"\n",
    "print len(parcels_df[~parcels_df.index.isin(units_by_parcel.index)].reset_index())"
   ]
  },
  {
   "cell_type": "code",
   "execution_count": null,
   "metadata": {},
   "outputs": [],
   "source": [
    "print \"Number of parcels that have units added but no capacity:\"\n",
    "print len(units_by_parcel[~units_by_parcel.index.isin(parcels_df.index)].reset_index())"
   ]
  },
  {
   "cell_type": "code",
   "execution_count": null,
   "metadata": {},
   "outputs": [],
   "source": [
    "print parcels_df.head()\n",
    "#print units_by_parcel.head()"
   ]
  },
  {
   "cell_type": "code",
   "execution_count": null,
   "metadata": {},
   "outputs": [],
   "source": [
    "parcels_plus_capacity = parcels_df.join(units_by_parcel)\n",
    "print parcels_plus_capacity.head()"
   ]
  },
  {
   "cell_type": "code",
   "execution_count": null,
   "metadata": {
    "collapsed": true
   },
   "outputs": [],
   "source": [
    "parcels_plus_capacity['diff'] = parcels_plus_capacity['capacity'] - parcels_plus_capacity['total_units_added']"
   ]
  },
  {
   "cell_type": "code",
   "execution_count": null,
   "metadata": {
    "collapsed": true
   },
   "outputs": [],
   "source": [
    "parcels_plus_capacity.to_csv('data/pcap.csv')"
   ]
  },
  {
   "cell_type": "code",
   "execution_count": null,
   "metadata": {
    "collapsed": true
   },
   "outputs": [],
   "source": [
    "households_sql = '''\n",
    "  SELECT sum(hh) AS hh,yr\n",
    "  FROM isam.demographic_output.summary\n",
    "  WHERE sim_id = 1004 and yr > 2019\n",
    "  GROUP BY yr\n",
    "'''"
   ]
  },
  {
   "cell_type": "code",
   "execution_count": null,
   "metadata": {
    "collapsed": true
   },
   "outputs": [],
   "source": [
    "buildings_sql = '''\n",
    "SELECT  SUM(COALESCE(residential_units,0)) AS residential_units\n",
    "FROM urbansim.urbansim.building\n",
    "'''"
   ]
  },
  {
   "cell_type": "code",
   "execution_count": null,
   "metadata": {
    "collapsed": true
   },
   "outputs": [],
   "source": [
    "sched_dev_sql = '''\n",
    "SELECT  SUM(COALESCE(capacity,0)) \n",
    "FROM urbansim.urbansim.parcel\n",
    "WHERE site_id is NOT NULL and capacity > 0\n",
    "'''"
   ]
  },
  {
   "cell_type": "code",
   "execution_count": null,
   "metadata": {
    "collapsed": true
   },
   "outputs": [],
   "source": [
    "hh_df =  pd.read_sql(households_sql, mssql_engine)\n",
    "du_df =  pd.read_sql(buildings_sql, mssql_engine)\n",
    "sh_df =  pd.read_sql(sched_dev_sql, mssql_engine)"
   ]
  },
  {
   "cell_type": "code",
   "execution_count": null,
   "metadata": {
    "collapsed": true
   },
   "outputs": [],
   "source": [
    "hh = hh_df.loc[hh_df.yr==2050].hh.values[0]\n",
    "du = int(du_df.values)\n",
    "sched_dev_capacity = int(sh_df.values)"
   ]
  },
  {
   "cell_type": "code",
   "execution_count": null,
   "metadata": {
    "collapsed": true
   },
   "outputs": [],
   "source": [
    "units_needed = hh - du - sched_dev_capacity"
   ]
  },
  {
   "cell_type": "code",
   "execution_count": null,
   "metadata": {},
   "outputs": [],
   "source": [
    "print '\\nHouseholds 2050:'\n",
    "print hh\n",
    "print '\\nResidential units base year:'\n",
    "print du\n",
    "print '\\nSched dev:'\n",
    "print sched_dev_capacity\n",
    "print '\\nUnits needed = Households 2050 - Residential units base year - Sched dev'\n",
    "print '\\nUnits needed:'\n",
    "print units_needed\n",
    "print '\\nTotal units added:'\n",
    "print int(units_added_df.units_added.sum())"
   ]
  },
  {
   "cell_type": "code",
   "execution_count": null,
   "metadata": {
    "collapsed": true
   },
   "outputs": [],
   "source": [
    "hh_diff = hh_df.set_index('yr').diff()\n",
    "hh_diff.reset_index(inplace=True)\n",
    "ts = pd.Series(hh_diff['hh'].values, index=hh_diff['yr'])"
   ]
  },
  {
   "cell_type": "code",
   "execution_count": null,
   "metadata": {},
   "outputs": [],
   "source": [
    "# Number of new households by year \n",
    "ts.plot.bar()"
   ]
  },
  {
   "cell_type": "code",
   "execution_count": null,
   "metadata": {},
   "outputs": [],
   "source": [
    "# Number of units added by year\n",
    "df = units_added_df.groupby(['year_simulation'])['units_added'].sum()\n",
    "df.plot.bar()"
   ]
  },
  {
   "cell_type": "code",
   "execution_count": null,
   "metadata": {
    "collapsed": true
   },
   "outputs": [],
   "source": [
    "units_added_df.sort_values(by='units_added',inplace=True,ascending=False)"
   ]
  },
  {
   "cell_type": "code",
   "execution_count": null,
   "metadata": {},
   "outputs": [],
   "source": [
    "print units_added_df.head(10)"
   ]
  },
  {
   "cell_type": "code",
   "execution_count": null,
   "metadata": {},
   "outputs": [],
   "source": [
    "print units_added_df.loc[units_added_df.parcel_id==9002470]"
   ]
  },
  {
   "cell_type": "code",
   "execution_count": null,
   "metadata": {},
   "outputs": [],
   "source": [
    "# Number of Total households by year\n",
    "df = hh_df.groupby(['yr'])['hh'].sum()\n",
    "df.plot.bar()"
   ]
  },
  {
   "cell_type": "code",
   "execution_count": null,
   "metadata": {
    "collapsed": true
   },
   "outputs": [],
   "source": []
  }
 ],
 "metadata": {
  "kernelspec": {
   "display_name": "Python 2",
   "language": "python",
   "name": "python2"
  },
  "language_info": {
   "codemirror_mode": {
    "name": "ipython",
    "version": 2
   },
   "file_extension": ".py",
   "mimetype": "text/x-python",
   "name": "python",
   "nbconvert_exporter": "python",
   "pygments_lexer": "ipython2",
   "version": "2.7.14"
  }
 },
 "nbformat": 4,
 "nbformat_minor": 2
}
