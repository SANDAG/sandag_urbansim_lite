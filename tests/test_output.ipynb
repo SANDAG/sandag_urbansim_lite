{
 "cells": [
  {
   "cell_type": "code",
   "execution_count": null,
   "metadata": {},
   "outputs": [],
   "source": [
    "from sqlalchemy import create_engine\n",
    "from pysandag.database import get_connection_string\n",
    "import pandas as pd"
   ]
  },
  {
   "cell_type": "code",
   "execution_count": null,
   "metadata": {},
   "outputs": [],
   "source": [
    "%matplotlib inline"
   ]
  },
  {
   "cell_type": "code",
   "execution_count": null,
   "metadata": {},
   "outputs": [],
   "source": [
    "db_connection_string = get_connection_string('..\\data\\config.yml', 'mssql_db')\n",
    "mssql_engine = create_engine(db_connection_string)"
   ]
  },
  {
   "cell_type": "markdown",
   "metadata": {},
   "source": [
    "# Compare outputs"
   ]
  },
  {
   "cell_type": "markdown",
   "metadata": {},
   "source": [
    "#### Current simulation, run ids to compare"
   ]
  },
  {
   "cell_type": "code",
   "execution_count": null,
   "metadata": {},
   "outputs": [],
   "source": [
    "# get max run id from urbansim\n",
    "run_id_sql = '''\n",
    "SELECT max(run_id)\n",
    "  FROM [urbansim].[urbansim].[urbansim_lite_output]\n",
    "'''\n",
    "run_id_df = pd.read_sql(run_id_sql, mssql_engine)\n",
    "run_id = int(run_id_df.values)\n",
    "print(\"\\n   Current run id : {:,}\".format(run_id))\n",
    "hs_change_sql = '''\n",
    "    SELECT parcel_id, capacity_type, source, unit_change, year_simulation\n",
    "      FROM urbansim.urbansim.urbansim_lite_output\n",
    "     WHERE run_id =  %s'''\n",
    "hs_change_sql = hs_change_sql % run_id\n",
    "current_hs = pd.read_sql(hs_change_sql,mssql_engine)\n",
    "current_hs.sort_values(by=['year_simulation','parcel_id'],inplace=True)"
   ]
  },
  {
   "cell_type": "code",
   "execution_count": null,
   "metadata": {},
   "outputs": [],
   "source": [
    "run_id = run_id - 1\n",
    "print(\"\\n   Previous run id : {:,}\".format(run_id))\n",
    "hs_change_sql = '''\n",
    "    SELECT parcel_id, capacity_type, source, unit_change, year_simulation\n",
    "      FROM urbansim.urbansim.urbansim_lite_output\n",
    "     WHERE run_id =  %s'''\n",
    "hs_change_sql = hs_change_sql % run_id\n",
    "previous_hs = pd.read_sql(hs_change_sql,mssql_engine)\n",
    "previous_hs.sort_values(by=['year_simulation','parcel_id'],inplace=True)"
   ]
  },
  {
   "cell_type": "code",
   "execution_count": null,
   "metadata": {},
   "outputs": [],
   "source": [
    "print(\"\\nDo the simulations produce the same results?\")\n",
    "print(current_hs.equals(previous_hs))"
   ]
  }
 ],
 "metadata": {
  "kernelspec": {
   "display_name": "Python 3",
   "language": "python",
   "name": "python3"
  },
  "language_info": {
   "codemirror_mode": {
    "name": "ipython",
    "version": 3
   },
   "file_extension": ".py",
   "mimetype": "text/x-python",
   "name": "python",
   "nbconvert_exporter": "python",
   "pygments_lexer": "ipython3",
   "version": "3.6.4"
  }
 },
 "nbformat": 4,
 "nbformat_minor": 2
}
