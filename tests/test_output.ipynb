{
 "cells": [
  {
   "cell_type": "code",
   "execution_count": null,
   "metadata": {
    "collapsed": true
   },
   "outputs": [],
   "source": [
    "from sqlalchemy import create_engine\n",
    "from pysandag.database import get_connection_string\n",
    "import pandas as pd"
   ]
  },
  {
   "cell_type": "code",
   "execution_count": null,
   "metadata": {
    "collapsed": true
   },
   "outputs": [],
   "source": [
    "%matplotlib inline"
   ]
  },
  {
   "cell_type": "code",
   "execution_count": null,
   "metadata": {
    "collapsed": true
   },
   "outputs": [],
   "source": [
    "db_connection_string = get_connection_string('..\\data\\config.yml', 'mssql_db')\n",
    "mssql_engine = create_engine(db_connection_string)"
   ]
  },
  {
   "cell_type": "code",
   "execution_count": null,
   "metadata": {
    "collapsed": true
   },
   "outputs": [],
   "source": [
    "current_run_units_added_sql = '''\n",
    "SELECT  [units_index]\n",
    "      ,[parcel_id]\n",
    "      ,[units_added]\n",
    "      ,[year_simulation]\n",
    "      ,[run_id]\n",
    "  FROM [urbansim].[urbansim].[urbansim_lite_output_units]\n",
    "  where run_id = 3'''"
   ]
  },
  {
   "cell_type": "code",
   "execution_count": null,
   "metadata": {
    "collapsed": true
   },
   "outputs": [],
   "source": [
    "units_added_df =  pd.read_sql(current_run_units_added_sql, mssql_engine)\n",
    "units_added_df.drop('units_index',inplace=True,axis=1)\n",
    "units_added_df.drop('run_id',inplace=True,axis=1)\n",
    "units_added_df.sort_values(by='parcel_id',inplace=True)"
   ]
  },
  {
   "cell_type": "code",
   "execution_count": null,
   "metadata": {
    "collapsed": true
   },
   "outputs": [],
   "source": [
    "previous_run_units_sql = '''SELECT  [units_index]\n",
    "      ,[parcel_id]\n",
    "      ,[units_added]\n",
    "      ,[year_simulation]\n",
    "      ,[run_id]\n",
    "  FROM [urbansim].[urbansim].[urbansim_lite_output_units]\n",
    "  where run_id = 2'''"
   ]
  },
  {
   "cell_type": "code",
   "execution_count": null,
   "metadata": {
    "collapsed": true
   },
   "outputs": [],
   "source": [
    "previous_run =  pd.read_sql(previous_run_units_sql, mssql_engine)\n",
    "previous_run.drop('run_id',inplace=True,axis=1)\n",
    "previous_run.drop('units_index',inplace=True,axis=1)\n",
    "previous_run.rename(columns = {'year_built': 'year_simulation'},inplace=True)\n",
    "previous_run.rename(columns = {'residential_units': 'units_added'},inplace=True)\n",
    "previous_run.sort_values(by='parcel_id',inplace=True)"
   ]
  },
  {
   "cell_type": "code",
   "execution_count": null,
   "metadata": {},
   "outputs": [],
   "source": [
    "print \"\\nComparison of runs - match?\"\n",
    "print previous_run.equals(units_added_df)"
   ]
  },
  {
   "cell_type": "code",
   "execution_count": null,
   "metadata": {
    "collapsed": true
   },
   "outputs": [],
   "source": [
    "# duplicated parcel ids (developed over more than one year)\n",
    "duplicated_parcels =  units_added_df[units_added_df.duplicated(['parcel_id'],keep=False)].sort_values(by='parcel_id')\n",
    "# print duplicated_parcels.head()\n",
    "duplicated_parcels_count = pd.DataFrame({'count_parcels': duplicated_parcels.groupby([\"parcel_id\"]).size()})\n",
    "duplicated_parcels_count.sort_values(by='count_parcels',inplace=True)"
   ]
  },
  {
   "cell_type": "code",
   "execution_count": null,
   "metadata": {},
   "outputs": [],
   "source": [
    "print('\\nNumber of parcels with units built over multiple years:')\n",
    "print duplicated_parcels_count.count_parcels.sum()"
   ]
  },
  {
   "cell_type": "code",
   "execution_count": null,
   "metadata": {
    "collapsed": true
   },
   "outputs": [],
   "source": [
    "households_sql = '''\n",
    "  SELECT sum(hh) AS hh,yr\n",
    "  FROM isam.demographic_output.summary\n",
    "  WHERE sim_id = 1004 and yr > 2019\n",
    "  GROUP BY yr\n",
    "'''"
   ]
  },
  {
   "cell_type": "code",
   "execution_count": null,
   "metadata": {
    "collapsed": true
   },
   "outputs": [],
   "source": [
    "buildings_sql = '''\n",
    "SELECT  SUM(COALESCE(residential_units,0)) AS residential_units\n",
    "FROM urbansim.urbansim.building\n",
    "'''"
   ]
  },
  {
   "cell_type": "code",
   "execution_count": null,
   "metadata": {
    "collapsed": true
   },
   "outputs": [],
   "source": [
    "sched_dev_sql = '''\n",
    "SELECT  SUM(COALESCE(capacity,0)) \n",
    "FROM urbansim.urbansim.parcel\n",
    "WHERE site_id is NOT NULL and capacity > 0\n",
    "'''"
   ]
  },
  {
   "cell_type": "code",
   "execution_count": null,
   "metadata": {
    "collapsed": true
   },
   "outputs": [],
   "source": [
    "hh_df =  pd.read_sql(households_sql, mssql_engine)\n",
    "du_df =  pd.read_sql(buildings_sql, mssql_engine)\n",
    "sh_df =  pd.read_sql(sched_dev_sql, mssql_engine)"
   ]
  },
  {
   "cell_type": "code",
   "execution_count": null,
   "metadata": {
    "collapsed": true
   },
   "outputs": [],
   "source": [
    "hh = hh_df.loc[hh_df.yr==2050].hh.values[0]\n",
    "du = int(du_df.values)\n",
    "sched_dev_capacity = int(sh_df.values)"
   ]
  },
  {
   "cell_type": "code",
   "execution_count": null,
   "metadata": {
    "collapsed": true
   },
   "outputs": [],
   "source": [
    "units_needed = hh - du - sched_dev_capacity"
   ]
  },
  {
   "cell_type": "code",
   "execution_count": null,
   "metadata": {},
   "outputs": [],
   "source": [
    "print '\\nHouseholds 2050:'\n",
    "print hh\n",
    "print '\\nResidential units base year:'\n",
    "print du\n",
    "print '\\nSched dev:'\n",
    "print sched_dev_capacity\n",
    "print '\\nUnits needed = Households 2050 - Residential units base year - Sched dev'\n",
    "print '\\nUnits needed:'\n",
    "print units_needed\n",
    "print '\\nTotal units added:'\n",
    "print int(units_added_df.units_added.sum())"
   ]
  },
  {
   "cell_type": "code",
   "execution_count": null,
   "metadata": {
    "collapsed": true
   },
   "outputs": [],
   "source": [
    "hh_diff = hh_df.set_index('yr').diff()\n",
    "hh_diff.reset_index(inplace=True)\n",
    "ts = pd.Series(hh_diff['hh'].values, index=hh_diff['yr'])"
   ]
  },
  {
   "cell_type": "code",
   "execution_count": null,
   "metadata": {},
   "outputs": [],
   "source": [
    "# Number of new households by year \n",
    "ts.plot.bar()"
   ]
  },
  {
   "cell_type": "code",
   "execution_count": null,
   "metadata": {},
   "outputs": [],
   "source": [
    "# Number of units added by year\n",
    "df = units_added_df.groupby(['year_simulation'])['units_added'].sum()\n",
    "df.plot.bar()"
   ]
  },
  {
   "cell_type": "code",
   "execution_count": null,
   "metadata": {
    "collapsed": true
   },
   "outputs": [],
   "source": [
    "units_added_df.sort_values(by='units_added',inplace=True,ascending=False)"
   ]
  },
  {
   "cell_type": "code",
   "execution_count": null,
   "metadata": {},
   "outputs": [],
   "source": [
    "print units_added_df.head(10)"
   ]
  },
  {
   "cell_type": "code",
   "execution_count": null,
   "metadata": {},
   "outputs": [],
   "source": [
    "print units_added_df.loc[units_added_df.parcel_id==9002470]"
   ]
  },
  {
   "cell_type": "code",
   "execution_count": null,
   "metadata": {},
   "outputs": [],
   "source": [
    "# Number of Total households by year\n",
    "df = hh_df.groupby(['yr'])['hh'].sum()\n",
    "df.plot.bar()"
   ]
  }
 ],
 "metadata": {
  "kernelspec": {
   "display_name": "Python 2",
   "language": "python",
   "name": "python2"
  },
  "language_info": {
   "codemirror_mode": {
    "name": "ipython",
    "version": 2
   },
   "file_extension": ".py",
   "mimetype": "text/x-python",
   "name": "python",
   "nbconvert_exporter": "python",
   "pygments_lexer": "ipython2",
   "version": "2.7.14"
  }
 },
 "nbformat": 4,
 "nbformat_minor": 2
}
