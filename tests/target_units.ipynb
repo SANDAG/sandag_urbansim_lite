{
 "cells": [
  {
   "cell_type": "markdown",
   "metadata": {},
   "source": [
    "# Target units and Capacity"
   ]
  },
  {
   "cell_type": "code",
   "execution_count": null,
   "metadata": {
    "collapsed": true
   },
   "outputs": [],
   "source": [
    "# append path to find utils module in urbansim\n",
    "import os \n",
    "import sys\n",
    "cwd = os.getcwd() \n",
    "parentdir =  os.path.abspath(os.path.join(cwd, os.pardir))\n",
    "sys.path.append(parentdir) # to get path to utils module"
   ]
  },
  {
   "cell_type": "code",
   "execution_count": null,
   "metadata": {
    "collapsed": true
   },
   "outputs": [],
   "source": [
    "from sqlalchemy import create_engine\n",
    "from pysandag.database import get_connection_string\n",
    "import pandas as pd\n",
    "import utils\n",
    "%matplotlib inline"
   ]
  },
  {
   "cell_type": "code",
   "execution_count": null,
   "metadata": {
    "collapsed": true
   },
   "outputs": [],
   "source": [
    "# connect to database and get version ids\n",
    "db_connection_string = get_connection_string('..\\data\\config.yml', 'mssql_db')\n",
    "mssql_engine = create_engine(db_connection_string)\n",
    "versions = utils.yaml_to_dict('../data/scenario_config.yaml', 'scenario')"
   ]
  },
  {
   "cell_type": "markdown",
   "metadata": {},
   "source": [
    "##### from urbansim.parcel"
   ]
  },
  {
   "cell_type": "code",
   "execution_count": null,
   "metadata": {},
   "outputs": [],
   "source": [
    "parcel_capacity_sql = '''\n",
    "    SELECT [parcel_id],[jurisdiction_id],[cap_jurisdiction_id],[site_id],\n",
    "           [du_2015],[du_2017],[capacity_1],[capacity_2]\n",
    "      FROM [urbansim].[urbansim].[parcel]'''\n",
    "capacity_df = pd.read_sql(parcel_capacity_sql,mssql_engine)\n",
    "urbansim_parcel_capacity = int(capacity_df.loc[capacity_df.site_id.isnull()].capacity_2.sum())\n",
    "print(\"\\nCapacity from urbansim.parcel where site id is null: {:,}\".format(urbansim_parcel_capacity))\n",
    "# 291,989"
   ]
  },
  {
   "cell_type": "markdown",
   "metadata": {},
   "source": [
    "##### from urbansim.additional_capacity"
   ]
  },
  {
   "cell_type": "code",
   "execution_count": null,
   "metadata": {},
   "outputs": [],
   "source": [
    "assigned_parcel_sql = '''\n",
    "SELECT  a.parcel_id, jur_id as cap_jurisdiction_id, jur_id as jurisdiction_id, a.du\n",
    "   FROM [urbansim].[urbansim].[additional_capacity] a\n",
    "   JOIN urbansim.parcel p on p.parcel_id = a.parcel_id\n",
    "  WHERE version_id = %s'''\n",
    "assigned_parcel_sql = assigned_parcel_sql % versions['additional_capacity_version']\n",
    "assigned_df = pd.read_sql(assigned_parcel_sql, mssql_engine)\n",
    "assigned_capacity = int(assigned_df.du.sum())\n",
    "print(\"\\nCapacity from urbansim.additional_capacity (ADU and SGOAs): {:,}\".format(assigned_capacity))\n",
    "# 136,158"
   ]
  },
  {
   "cell_type": "markdown",
   "metadata": {},
   "source": [
    "##### \"urbansim.scheduled_development_parcel\" & \"urbansim.urbansim.scheduled_development_do_not_use\""
   ]
  },
  {
   "cell_type": "code",
   "execution_count": null,
   "metadata": {},
   "outputs": [],
   "source": [
    "sched_dev_parcel_sql = '''\n",
    "SELECT [capacity_3] FROM [urbansim].[urbansim].[scheduled_development_parcel]'''\n",
    "sched_dev_df = pd.read_sql(sched_dev_parcel_sql, mssql_engine)\n",
    "sched_dev_capacity = int(sched_dev_df.capacity_3.sum())\n",
    "print(\"\\nScheduled development capacity from urbansim.scheduled_development_parcel : {:,}\".\\\n",
    "      format(sched_dev_capacity))\n",
    "sched_dev_do_not_use_sql = '''\n",
    "SELECT [sched_version_id],[parcel_id],[yr],[site_id],[capacity_3]\n",
    "  FROM [urbansim].[urbansim].[scheduled_development_do_not_use]'''\n",
    "site_do_not_use = pd.read_sql(sched_dev_do_not_use_sql,mssql_engine)\n",
    "sched_dev_capacity_do_not_use = int(site_do_not_use.capacity_3.sum())\n",
    "print(\"\\nScheduled developments from scheduled_development_do_not_use: {:,}\".format(sched_dev_capacity_do_not_use))\n",
    "# 78,976"
   ]
  },
  {
   "cell_type": "markdown",
   "metadata": {},
   "source": [
    "##### urbansim.urbansim_target_housing_units"
   ]
  },
  {
   "cell_type": "code",
   "execution_count": null,
   "metadata": {},
   "outputs": [],
   "source": [
    "units_needed_sql = '''\n",
    "SELECT [yr], [version_id], [housing_units_add]\n",
    "  FROM [urbansim].[urbansim].[urbansim_target_housing_units]\n",
    "  WHERE version_id = %s'''\n",
    "units_needed_sql = units_needed_sql % versions['demographic_simulation_id']\n",
    "units_needed_df =  pd.read_sql(units_needed_sql, mssql_engine)\n",
    "units_needed_df['total_housing_units_add'] = units_needed_df['housing_units_add'].cumsum()\n",
    "units_needed = int(sum(units_needed_df.housing_units_add))\n",
    "print(\"\\n  Target units to add : {:,}\\n\\\n",
    "      (from urbansim.urbansim_target_housing_units version id {:})\".\\\n",
    "      format(units_needed,versions['demographic_simulation_id']))\n",
    "# 468,866"
   ]
  },
  {
   "cell_type": "markdown",
   "metadata": {},
   "source": [
    "## Total Capacity"
   ]
  },
  {
   "cell_type": "code",
   "execution_count": null,
   "metadata": {},
   "outputs": [],
   "source": [
    "dme_capacity_sql = '''select sum(a.cap) as RC from  \n",
    "(select x.parcel_id,coalesce(y.capacity_3,x.capacity_2) as cap \n",
    "from  [urbansim].[urbansim].[parcel] as x \n",
    "left join [urbansim].[urbansim].[scheduled_development_parcel] as  y \n",
    "on x.parcel_id=y.parcel_id) as a'''\n",
    "dme_capacity_df = pd.read_sql(dme_capacity_sql,mssql_engine)\n",
    "dme_capacity_calc = int(dme_capacity_df.RC[0])\n",
    "total_capacity = urbansim_parcel_capacity + assigned_capacity + sched_dev_capacity\n",
    "print(\"\\n\\nTotal Capacity: {:,}\\n\".format(total_capacity))\n",
    "print(\"       = {:,} (urbansim.parcel) + {:,} (sched dev) + {:,} (assigned capacity) \\n\".\\\n",
    "      format(urbansim_parcel_capacity,sched_dev_capacity,assigned_capacity))\n",
    "print(\"            ({:,} urbansim.parcel and sched dev only)\\n\".format(urbansim_parcel_capacity+sched_dev_capacity))\n",
    "print(\"            ({:,} DME calculation for urbansim.parcel and sched dev only using COALESCE(capacity_3,capacity_2))\\n\".\\\n",
    "      format(dme_capacity_calc))\n",
    "remaining_capacity = total_capacity - units_needed\n",
    "print(\"\\n Remaining capacity 2050: {:,}\\n       = {:,} capacity - {:,} units needed\\n\".\\\n",
    "format(remaining_capacity,total_capacity,units_needed))\n",
    "# 507,123"
   ]
  },
  {
   "cell_type": "code",
   "execution_count": null,
   "metadata": {
    "collapsed": true
   },
   "outputs": [],
   "source": [
    "# compare to 364,374 capacity previously"
   ]
  },
  {
   "cell_type": "markdown",
   "metadata": {},
   "source": [
    "# Output of simulation "
   ]
  },
  {
   "cell_type": "markdown",
   "metadata": {},
   "source": [
    "##### from urbansim.urbansim_lite_output"
   ]
  },
  {
   "cell_type": "code",
   "execution_count": null,
   "metadata": {},
   "outputs": [],
   "source": [
    "# get max run id from urbansim\n",
    "run_id_sql = '''\n",
    "SELECT max(run_id)\n",
    "  FROM [urbansim].[urbansim].[urbansim_lite_output]\n",
    "'''\n",
    "run_id_df = pd.read_sql(run_id_sql, mssql_engine)\n",
    "run_id = int(run_id_df.values)\n",
    "print(\"\\nRun id : {:,}\".format(run_id))\n",
    "\n",
    "hs_change_sql = '''\n",
    "    SELECT o.parcel_id, j.name,  p.cap_jurisdiction_id, p.jurisdiction_id, p.mgra_id, p.luz_id,\n",
    "    unit_change as hs_change, source, capacity_type,year_simulation\n",
    "      FROM urbansim.urbansim.urbansim_lite_output o \n",
    "      JOIN urbansim.urbansim.parcel p on p.parcel_id = o.parcel_id\n",
    "      JOIN urbansim.ref.jurisdiction j on p.cap_jurisdiction_id = j.jurisdiction_id\n",
    "     WHERE run_id =  %s\n",
    "  ORDER BY j.name,p.jurisdiction_id, year_simulation'''\n",
    "hs_change_sql = hs_change_sql % run_id\n",
    "hs = pd.read_sql(hs_change_sql,mssql_engine)\n",
    "units_added = int(hs.hs_change.sum())\n",
    "units_from_sched_dev = int(hs.loc[hs.capacity_type=='sch'].hs_change.sum())\n",
    "sched_dev_difference = int(sched_dev_capacity_do_not_use - units_from_sched_dev)\n",
    "units_from_assigned = int(hs.loc[~hs.capacity_type.isin(['sch','jur'])].hs_change.sum())\n",
    "assigned_difference = int(assigned_capacity - units_from_assigned)\n",
    "units_from_urbansim_parcel = int(hs.loc[hs.capacity_type=='jur'].hs_change.sum())\n",
    "urbansim_parcel_difference = int(urbansim_parcel_capacity - units_from_urbansim_parcel)\n",
    "\n",
    "print(\"\\nUnits added: {:,} (from capacity {:,})\".\\\n",
    "      format(units_added,total_capacity))\n",
    "print(\"\\n    (Target: {:,})\".format(units_needed))\n",
    "print(\"\\n       Urb parcel units: {:,} (capacity {:,}) (remaining {:,})\".\\\n",
    "      format(units_from_urbansim_parcel,urbansim_parcel_capacity,urbansim_parcel_difference))\n",
    "print(\"\\n       Sched dev units: {:,} (capacity {:,}) (remaining {:,})\".\\\n",
    "      format(units_from_sched_dev,sched_dev_capacity_do_not_use,sched_dev_difference))\n",
    "print(\"\\n       Additional units: {:,} (capacity {:,}) (remaining {:,})\".\\\n",
    "      format(units_from_assigned,int(assigned_df.du.sum()),assigned_difference))\n",
    "print(\"\\n Total Remaining Capacity : {:,}\".format(remaining_capacity))\n",
    "# remaining 38,257"
   ]
  },
  {
   "cell_type": "markdown",
   "metadata": {},
   "source": [
    "## Housing Units by Capacity Type Plot"
   ]
  },
  {
   "cell_type": "code",
   "execution_count": null,
   "metadata": {
    "collapsed": true
   },
   "outputs": [],
   "source": [
    "hs2 = hs.copy()\n",
    "hs2.replace('cc', 'SGOA',inplace=True)\n",
    "hs2.replace('mc', 'SGOA',inplace=True)\n",
    "hs2.replace('tc', 'SGOA',inplace=True)\n",
    "hs2.replace('tco', 'SGOA',inplace=True)\n",
    "hs2.replace('uc', 'SGOA',inplace=True)\n",
    "units_added_by_capacity_type_and_yr = pd.DataFrame({'units_by_type': hs2.\n",
    "                                          groupby([\"year_simulation\",\"capacity_type\"])\n",
    "                                          .hs_change.sum()}).reset_index()\n",
    "type_pivot = units_added_by_capacity_type_and_yr.pivot\\\n",
    "(index='year_simulation', columns='capacity_type', values='units_by_type').\\\n",
    "reset_index().rename_axis(None, axis=1)\n",
    "type_pivot.fillna(0,inplace=True)\n",
    "type_pivot.set_index('year_simulation',inplace=True)\n",
    "type_pivot = type_pivot[['sch', 'jur', 'adu', 'SGOA']]"
   ]
  },
  {
   "cell_type": "code",
   "execution_count": null,
   "metadata": {},
   "outputs": [],
   "source": [
    "ax = type_pivot.plot.bar(stacked=True)\n",
    "ptitle = 'DRAFT Housing Units By Capacity Type'\n",
    "ax.set_ylabel(\"housing units added\",size=14)\n",
    "ax.set_title(ptitle,size=16) "
   ]
  },
  {
   "cell_type": "markdown",
   "metadata": {},
   "source": [
    "# Output of simulation"
   ]
  },
  {
   "cell_type": "markdown",
   "metadata": {},
   "source": [
    "##### from urbansim.sr14_residential_cap_parcel_results"
   ]
  },
  {
   "cell_type": "code",
   "execution_count": null,
   "metadata": {},
   "outputs": [],
   "source": [
    "cap_unit_output_sql = '''SELECT scenario_id, sum([tot_chg_hs]) as units_built\n",
    "  FROM [urbansim].[urbansim].[sr14_residential_cap_parcel_results]\n",
    "  group by scenario_id\n",
    "'''\n",
    "cap_unit_output_df = pd.read_sql(cap_unit_output_sql, mssql_engine)\n",
    "# Can manually set scenario_id here:\n",
    "# max_scenario = \n",
    "max_scenario = int(max(cap_unit_output_df.scenario_id.values))\n",
    "units_built = int(cap_unit_output_df.loc[cap_unit_output_df.\\\n",
    "                scenario_id==max_scenario].units_built.values)\n",
    "print(\"\\nCapacity Built in scenario {:,}: {:,}\".\\\n",
    "      format(max_scenario, units_built))\n",
    "print(\"\\nDifference remaining: {:,}\\n       {:,} units needed - {:,} units built\".\\\n",
    "      format((units_needed - units_built),units_needed,units_built))"
   ]
  },
  {
   "cell_type": "code",
   "execution_count": null,
   "metadata": {},
   "outputs": [],
   "source": [
    "provided_capacity_parcel_count_sql = '''Select count(*)\n",
    "    from urbansim.urbansim.parcel\n",
    "    where capacity_2 > 0 and site_id is NULL\n",
    "'''\n",
    "provided_capacity_parcel_count_df = pd.read_sql(provided_capacity_parcel_count_sql, mssql_engine)\n",
    "prov_parcels = int(provided_capacity_parcel_count_df.values)\n",
    "\n",
    "scheduled_dev_parcel_count_sql = '''select count(*) \n",
    "    from urbansim.urbansim.scheduled_development_do_not_use \n",
    "    where capacity_3 > 0 and parcel_id not in (\n",
    "        Select parcel_id from urbansim.urbansim.parcel \n",
    "        where capacity_2 > 0 and site_id is NULL)\n",
    "'''\n",
    "scheduled_dev_parcel_count_df = pd.read_sql(scheduled_dev_parcel_count_sql, mssql_engine)\n",
    "sched_dev_parcels = int(scheduled_dev_parcel_count_df.values)\n",
    "\n",
    "additional_capacity_parcel_count_sql = '''select count(*) \n",
    "    from urbansim.urbansim.additional_capacity\n",
    "    where parcel_id not in (\n",
    "        Select parcel_id from urbansim.urbansim.parcel \n",
    "        where capacity_2 > 0 and site_id is NULL)\n",
    "    and parcel_id not in (\n",
    "        Select parcel_id from urbansim.urbansim.scheduled_development_do_not_use \n",
    "        where capacity_3 > 0)\n",
    "'''\n",
    "additional_capacity_parcel_count_df = pd.read_sql(additional_capacity_parcel_count_sql, mssql_engine)\n",
    "extra_parcels = int(additional_capacity_parcel_count_df.values)\n",
    "\n",
    "total_parcels = prov_parcels + sched_dev_parcels + extra_parcels\n",
    "\n",
    "print(\"\\nParcels originally provided by Jurisdictions: {:,}\\n   Only when capacity_2 > 0 and site_id is NULL\".\\\n",
    "     format(prov_parcels))\n",
    "print(\"\\nScheduled Development parcel count: {:,}\\n   Excludes parcels chosen in step above\".\\\n",
    "     format(sched_dev_parcels))\n",
    "print(\"\\nNew parcels added for additional capacity needs: {:,}\\n   Excludes parcels chosen in both steps above\".\\\n",
    "     format(extra_parcels))\n",
    "print(\"\\nTotal unique parcels: {:,}\".format(total_parcels))"
   ]
  },
  {
   "cell_type": "code",
   "execution_count": null,
   "metadata": {},
   "outputs": [],
   "source": [
    "total_output_rows_sql = '''Select count(*)\n",
    "    from urbansim.urbansim.sr14_residential_cap_parcel_results\n",
    "'''\n",
    "total_output_rows_df = pd.read_sql(total_output_rows_sql, mssql_engine)\n",
    "total_output_rows = int(total_output_rows_df.values)\n",
    "rows_per_year = round(total_output_rows/34, 3)\n",
    "\n",
    "print(\"\\nTotal Rows in Output: {:,}\".format(total_output_rows))\n",
    "print(\"\\nRows per year with 34 years: {:,}\".format(rows_per_year))\n",
    "print(\"Difference: {:,}\\n       {:,} rows per year - {:,} unique parcels\".\\\n",
    "     format(round(rows_per_year-total_parcels, 3), rows_per_year, total_parcels))"
   ]
  },
  {
   "cell_type": "code",
   "execution_count": null,
   "metadata": {},
   "outputs": [],
   "source": [
    "output_by_yr_sql = '''Select yr,count(*) as parcel_count\n",
    "    from urbansim.urbansim.sr14_residential_cap_parcel_results\n",
    "    GROUP BY yr\n",
    "    ORDER BY yr\n",
    "'''\n",
    "output_by_yr = pd.read_sql(output_by_yr_sql, mssql_engine)\n",
    "output_by_yr.loc[output_by_yr.parcel_count != total_parcels]"
   ]
  },
  {
   "cell_type": "code",
   "execution_count": null,
   "metadata": {
    "collapsed": true
   },
   "outputs": [],
   "source": [
    "columns_of_interest = ['parcel_id', 'yr', 'jurisdiction_id',\n",
    "       'cap_jurisdiction_id', 'cpa_id','site_id',\n",
    "        'hs', 'tot_cap_hs', 'tot_chg_hs', \n",
    "       'regional_overflow', 'cap_hs_adu', \n",
    "       'cap_hs_jur',  'cap_hs_sch',\n",
    "       'chg_hs_jur', 'chg_hs_adu', \n",
    "       'chg_hs_sch']"
   ]
  },
  {
   "cell_type": "code",
   "execution_count": null,
   "metadata": {},
   "outputs": [],
   "source": [
    "output_by_yr_sql = '''\n",
    "    SELECT *\n",
    "    FROM urbansim.urbansim.sr14_residential_cap_parcel_results\n",
    "    WHERE yr=2025'''\n",
    "output_by_yr = pd.read_sql(output_by_yr_sql, mssql_engine)\n",
    "duplicated_parcels = output_by_yr.parcel_id.loc[output_by_yr.parcel_id.duplicated()].tolist()\n",
    "output_by_yr.loc[output_by_yr.parcel_id.isin(duplicated_parcels)][columns_of_interest]"
   ]
  },
  {
   "cell_type": "code",
   "execution_count": null,
   "metadata": {},
   "outputs": [],
   "source": [
    "output_sql = '''SELECT parcel_id, yr, jurisdiction_id,cap_jurisdiction_id, cpa_id,site_id,\n",
    "        hs, tot_cap_hs, tot_chg_hs\n",
    "    FROM urbansim.urbansim.sr14_residential_cap_parcel_results'''\n",
    "output = pd.read_sql(output_sql, mssql_engine)"
   ]
  },
  {
   "cell_type": "code",
   "execution_count": null,
   "metadata": {
    "collapsed": true
   },
   "outputs": [],
   "source": [
    "output.head()"
   ]
  },
  {
   "cell_type": "markdown",
   "metadata": {},
   "source": [
    "# Plot of Housing Units Added by Year"
   ]
  },
  {
   "cell_type": "code",
   "execution_count": null,
   "metadata": {},
   "outputs": [],
   "source": [
    "units_added_by_yr = pd.DataFrame({'subregional_simulation': hs.\n",
    "                                          groupby([\"year_simulation\"])\n",
    "                                          .hs_change.sum()}).reset_index()\n",
    "housing_units_by_yr = pd.merge(units_needed_df[['yr','housing_units_add']],units_added_by_yr,\\\n",
    "                               left_on='yr',right_on='year_simulation')\n",
    "housing_units_by_yr['housing_units_add'] = housing_units_by_yr['housing_units_add'].astype(int)\n",
    "housing_units_by_yr.rename(columns={\"housing_units_add\": \"forecast\"}, inplace=True)\n",
    "housing_units_by_yr.drop(['year_simulation'], axis=1,inplace=True)\n",
    "housing_units_by_yr.set_index('yr',inplace=True)\n",
    "axes = housing_units_by_yr.plot(style='.-',subplots=True, figsize=(6, 6));\n",
    "ptitle = 'Housing Units By Year \\n(version_id=' + \\\n",
    "str(versions['demographic_simulation_id']) + ')'\n",
    "axes.flat[0].set_title(ptitle,size=16) \n",
    "axes[0].set_ylabel('housing units')\n",
    "axes[1].set_ylabel('housing units')\n"
   ]
  },
  {
   "cell_type": "markdown",
   "metadata": {},
   "source": [
    "# Housing units 2017 & 2050"
   ]
  },
  {
   "cell_type": "code",
   "execution_count": null,
   "metadata": {},
   "outputs": [],
   "source": [
    "du_2017 = capacity_df.du_2017.sum()\n",
    "print(\"\\n Housing units 2017 from urbansim.parcel: {:,}\\n\".format(du_2017))\n",
    "housing_unit_estimates_sql = '''SELECT  [yr],[du]FROM [isam].[defm].[housing_units]'''\n",
    "housing_unit_estimates = pd.read_sql(housing_unit_estimates_sql, mssql_engine)\n",
    "print(\"\\n Housing units 2017 from estimates in defm.housing_units: {:,}\\n\".\\\n",
    "      format(int(housing_unit_estimates.loc[housing_unit_estimates.yr==2017].du)))\n",
    "print(\"\\n DIFFERENCE in housing units urbansim and defm.housing_units: {:,}\\n\".\\\n",
    "      format(int(housing_unit_estimates.loc[housing_unit_estimates.yr==2017].du)\\\n",
    "                - du_2017 ))\n",
    "\n",
    "print(\"\\n Total Housing units 2050: {:,}\\n\\n (= {:,} du 2017 +  {:,} units needed) \\n\".\\\n",
    "      format(du_2017 + units_needed,du_2017,units_needed)) \n",
    "# housing units du_2017 from urbansim.parcel\n",
    "# 1,192,748\n",
    "# housing units from estimates:\n",
    "# 2015: 1,183,211\n",
    "# 2016: 1,194,603\n",
    "# 2017: 1,205,531\n",
    "# 2018: 1,217,060"
   ]
  },
  {
   "cell_type": "markdown",
   "metadata": {},
   "source": [
    "### QC \"units to add\" not equal \"units added\""
   ]
  },
  {
   "cell_type": "code",
   "execution_count": null,
   "metadata": {},
   "outputs": [],
   "source": [
    "hu = housing_units_by_yr.copy()\n",
    "hu.rename(columns={\"forecast\":\"hu_forecast\"}, inplace=True)\n",
    "hu.rename(columns={\"subregional_simulation\":\"hu_subregional\"}, inplace=True)\n",
    "hu['DIFF'] = hu.hu_subregional - hu.hu_forecast\n",
    "hu['cum_sum_forecast'] = hu.hu_forecast.cumsum()\n",
    "hu['cum_sum_subregional'] = hu.hu_subregional.cumsum()\n",
    "print('\\n\\nQC: Years that \"Units to Add\" not equal to \"Units Added\"')\n",
    "hu.loc[hu.hu_forecast != hu.hu_subregional]"
   ]
  },
  {
   "cell_type": "code",
   "execution_count": null,
   "metadata": {
    "collapsed": true
   },
   "outputs": [],
   "source": []
  }
 ],
 "metadata": {
  "kernelspec": {
   "display_name": "Python 2",
   "language": "python",
   "name": "python2"
  },
  "language_info": {
   "codemirror_mode": {
    "name": "ipython",
    "version": 2
   },
   "file_extension": ".py",
   "mimetype": "text/x-python",
   "name": "python",
   "nbconvert_exporter": "python",
   "pygments_lexer": "ipython2",
   "version": "2.7.14"
  }
 },
 "nbformat": 4,
 "nbformat_minor": 2
}
