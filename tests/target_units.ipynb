{
 "cells": [
  {
   "cell_type": "markdown",
   "metadata": {},
   "source": [
    "## Target number of units"
   ]
  },
  {
   "cell_type": "code",
   "execution_count": 1,
   "metadata": {
    "collapsed": true
   },
   "outputs": [],
   "source": [
    "from sqlalchemy import create_engine\n",
    "from pysandag.database import get_connection_string\n",
    "import pandas as pd\n",
    "import matplotlib.pyplot as plt\n",
    "import matplotlib.ticker as mtick\n",
    "%matplotlib inline"
   ]
  },
  {
   "cell_type": "code",
   "execution_count": 2,
   "metadata": {
    "collapsed": true
   },
   "outputs": [],
   "source": [
    "db_connection_string = get_connection_string('..\\data\\config.yml', 'mssql_db')\n",
    "mssql_engine = create_engine(db_connection_string)"
   ]
  },
  {
   "cell_type": "markdown",
   "metadata": {},
   "source": [
    "Target units from regionwide forecast"
   ]
  },
  {
   "cell_type": "code",
   "execution_count": 3,
   "metadata": {
    "collapsed": true
   },
   "outputs": [],
   "source": [
    "# Target number of units: units needed\n",
    "units_needed_sql = '''\n",
    "SELECT sum(housing_units_add) as housing_units_to_add\n",
    "FROM [isam].[economic_output].[urbansim_housing_units]'''\n",
    "units_needed_df =  pd.read_sql(units_needed_sql, mssql_engine)\n",
    "units_needed = int(units_needed_df.values)"
   ]
  },
  {
   "cell_type": "markdown",
   "metadata": {},
   "source": [
    "Capacity from parcel update 2017"
   ]
  },
  {
   "cell_type": "code",
   "execution_count": 4,
   "metadata": {
    "collapsed": true
   },
   "outputs": [],
   "source": [
    "# capacity\n",
    "parcel_update_2017_sql = '''\n",
    "    SELECT\tparcelid_2015 as parcel_id, p.mgra_id, p.jurisdiction_id, \n",
    "            p.luz_id, p.site_id, cap_remaining_new AS capacity_base_yr, \n",
    "            du_2017 AS residential_units, \n",
    "            0 as partial_build\n",
    "       FROM urbansim.urbansim.parcel_update_2017 update2017\n",
    "       JOIN urbansim.urbansim.parcel p\n",
    "         ON p.parcel_id = update2017.parcelid_2015\n",
    "      WHERE cap_remaining_new > 0 and jurisdiction_id NOT IN (14,19) and site_id IS NULL\n",
    "'''\n",
    "update_2017_df =  pd.read_sql(parcel_update_2017_sql, mssql_engine)\n",
    "update_2017_capacity = int(update_2017_df.capacity_base_yr.sum())\n",
    "# print(update_2017_capacity)"
   ]
  },
  {
   "cell_type": "markdown",
   "metadata": {},
   "source": [
    "Capacity from city and county - not yet in parcel update 2017"
   ]
  },
  {
   "cell_type": "code",
   "execution_count": 5,
   "metadata": {
    "collapsed": true
   },
   "outputs": [],
   "source": [
    "# capacity for city and county - not in parcel update 2017\n",
    "parcel_city_and_county_sql = '''\n",
    "    SELECT\tparcel_id, p.mgra_id, p.jurisdiction_id, \n",
    "            p.luz_id, p.site_id, capacity AS capacity_base_yr, \n",
    "            du AS residential_units, \n",
    "            0 as partial_build\n",
    "       FROM urbansim.urbansim.parcel p\n",
    "      WHERE capacity > 0 and jurisdiction_id IN (14,19) and site_id IS NULL\n",
    "'''\n",
    "city_county_capacity_parcel_df =  pd.read_sql(parcel_city_and_county_sql, mssql_engine)\n",
    "city_county_capacity = int(city_county_capacity_parcel_df.capacity_base_yr.sum())\n",
    "# print(city_county_capacity)"
   ]
  },
  {
   "cell_type": "markdown",
   "metadata": {},
   "source": [
    "Scheduled development capacity"
   ]
  },
  {
   "cell_type": "code",
   "execution_count": 6,
   "metadata": {
    "collapsed": true
   },
   "outputs": [],
   "source": [
    "# capacity from sched dev\n",
    "sched_dev_sql = '''\n",
    "    SELECT scenario, parcel_id, yr, site_id, \n",
    "           res_units, job_spaces, households, jobs\n",
    "      FROM urbansim.urbansim.scheduled_development_do_not_use\n",
    "     WHERE scenario = 1 and yr > 2016\n",
    "'''\n",
    "sched_dev_df =  pd.read_sql(sched_dev_sql, mssql_engine)\n",
    "sched_dev_capacity = int(sched_dev_df.res_units.sum())\n",
    "# print(sched_dev_capacity)"
   ]
  },
  {
   "cell_type": "code",
   "execution_count": 7,
   "metadata": {
    "collapsed": true
   },
   "outputs": [],
   "source": [
    "capacity = update_2017_capacity + city_county_capacity + sched_dev_capacity"
   ]
  },
  {
   "cell_type": "markdown",
   "metadata": {},
   "source": [
    "# Target"
   ]
  },
  {
   "cell_type": "code",
   "execution_count": 8,
   "metadata": {},
   "outputs": [
    {
     "name": "stdout",
     "output_type": "stream",
     "text": [
      "Target units to add: 396,354\n"
     ]
    }
   ],
   "source": [
    "print(\"Target units to add: {:,}\".format(units_needed))"
   ]
  },
  {
   "cell_type": "markdown",
   "metadata": {},
   "source": [
    "# Capacity"
   ]
  },
  {
   "cell_type": "code",
   "execution_count": 9,
   "metadata": {},
   "outputs": [
    {
     "name": "stdout",
     "output_type": "stream",
     "text": [
      "Capacity: 364,170\n"
     ]
    }
   ],
   "source": [
    "print(\"Capacity: {:,}\".format(capacity))"
   ]
  },
  {
   "cell_type": "markdown",
   "metadata": {},
   "source": [
    "# Remaining"
   ]
  },
  {
   "cell_type": "code",
   "execution_count": 10,
   "metadata": {},
   "outputs": [
    {
     "name": "stdout",
     "output_type": "stream",
     "text": [
      "Remaining units: -32,184\n"
     ]
    }
   ],
   "source": [
    "print(\"Remaining units: {:,}\".format(capacity - units_needed))"
   ]
  },
  {
   "cell_type": "markdown",
   "metadata": {},
   "source": [
    "# Target units 2017"
   ]
  },
  {
   "cell_type": "code",
   "execution_count": 11,
   "metadata": {
    "collapsed": true
   },
   "outputs": [],
   "source": [
    "housing_unit_sql = '''select  yr,\n",
    "    housing_units1, households,housing_units_add \n",
    "    from [isam].[economic_output].[urbansim_housing_units]'''\n",
    "hu_df =  pd.read_sql(housing_unit_sql, mssql_engine)\n",
    "hu_df['total_housing_units_add'] = hu_df.housing_units_add.cumsum()"
   ]
  },
  {
   "cell_type": "code",
   "execution_count": 12,
   "metadata": {},
   "outputs": [
    {
     "name": "stdout",
     "output_type": "stream",
     "text": [
      "Target units to add 2017: 10,947\n"
     ]
    }
   ],
   "source": [
    "units_to_add_2017 = int(hu_df.loc[hu_df.yr == 2017].housing_units_add.values[0])\n",
    "print(\"Target units to add 2017: {:,}\".format(units_to_add_2017))"
   ]
  },
  {
   "cell_type": "markdown",
   "metadata": {},
   "source": [
    "# Existing du 2017 urbansim.parcel_update_2017"
   ]
  },
  {
   "cell_type": "code",
   "execution_count": 13,
   "metadata": {
    "collapsed": true
   },
   "outputs": [],
   "source": [
    "existing_du_sql = '''\n",
    "  select sum(du_2017) \n",
    "  from [urbansim].[urbansim].[parcel_update_2017]'''\n",
    "existing_du_df =  pd.read_sql(existing_du_sql, mssql_engine)\n",
    "existing_du = int(existing_du_df.values)"
   ]
  },
  {
   "cell_type": "code",
   "execution_count": 14,
   "metadata": {},
   "outputs": [
    {
     "name": "stdout",
     "output_type": "stream",
     "text": [
      "Existing du 2017 from urbansim.parcel_update_2017: 1,192,416\n"
     ]
    }
   ],
   "source": [
    "print(\"Existing du 2017 from urbansim.parcel_update_2017: {:,}\".format(existing_du))"
   ]
  },
  {
   "cell_type": "markdown",
   "metadata": {},
   "source": [
    "# Calculate number of housing units: existing du + target units"
   ]
  },
  {
   "cell_type": "code",
   "execution_count": 15,
   "metadata": {},
   "outputs": [
    {
     "name": "stdout",
     "output_type": "stream",
     "text": [
      "Housing units at end of 2017: 1,203,363\n"
     ]
    }
   ],
   "source": [
    "housing_units_end_of_2017 = units_to_add_2017 + existing_du\n",
    "print(\"Housing units at end of 2017: {:,}\".format(housing_units_end_of_2017))"
   ]
  },
  {
   "cell_type": "markdown",
   "metadata": {},
   "source": [
    "# Database number of housing units [isam].[economic_output].[urbansim_housing_units]"
   ]
  },
  {
   "cell_type": "code",
   "execution_count": 16,
   "metadata": {},
   "outputs": [
    {
     "name": "stdout",
     "output_type": "stream",
     "text": [
      "Housing units at end of 2017 from database table: 1,203,896\n"
     ]
    }
   ],
   "source": [
    "hu_df_2017 = int(hu_df.loc[hu_df.yr == 2017].housing_units1.values[0])\n",
    "print(\"Housing units at end of 2017 from database table: {:,}\".format(hu_df_2017))"
   ]
  },
  {
   "cell_type": "markdown",
   "metadata": {},
   "source": [
    "#  <span style=\"color:red\">Difference between database table and calculated units </span>"
   ]
  },
  {
   "cell_type": "code",
   "execution_count": 17,
   "metadata": {},
   "outputs": [
    {
     "name": "stdout",
     "output_type": "stream",
     "text": [
      "Difference between database and calculation for 2017 housing units: 533\n"
     ]
    }
   ],
   "source": [
    "diff_hu_2017 = hu_df_2017 - housing_units_end_of_2017\n",
    "print(\"Difference between database and calculation for 2017 housing units: {:,}\".format(diff_hu_2017))"
   ]
  },
  {
   "cell_type": "markdown",
   "metadata": {},
   "source": [
    "# Plot (note: increase 2026 and 2027)"
   ]
  },
  {
   "cell_type": "code",
   "execution_count": 18,
   "metadata": {
    "collapsed": true
   },
   "outputs": [],
   "source": [
    "hu_df['capacity'] = capacity"
   ]
  },
  {
   "cell_type": "code",
   "execution_count": 19,
   "metadata": {
    "collapsed": true
   },
   "outputs": [],
   "source": [
    "hu_df['remaining_capacity'] = hu_df['capacity'] - hu_df['total_housing_units_add'] "
   ]
  },
  {
   "cell_type": "code",
   "execution_count": 20,
   "metadata": {},
   "outputs": [
    {
     "data": {
      "image/png": "[encoded data removed]",
      "text/plain": [
       "<matplotlib.figure.Figure at 0xe3d4b70>"
      ]
     },
     "metadata": {},
     "output_type": "display_data"
    }
   ],
   "source": [
    "fig, axes = plt.subplots(3, 1)\n",
    "\n",
    "\n",
    "plot_df = hu_df[['yr','housing_units_add']].copy()\n",
    "plot_df.rename(columns = {'housing_units_add': 'Housing units to add'}, inplace=True)\n",
    "plot_df.set_index('yr',inplace=True)\n",
    "plot_df.plot(style='.-',ax=axes.flat[0],figsize=(10,5),color='b')\n",
    "\n",
    "plot_df = hu_df[['yr','total_housing_units_add','households']].copy()\n",
    "plot_df.set_index('yr',inplace=True)\n",
    "plot_df['Total Housing Units'] = existing_du + plot_df['total_housing_units_add']\n",
    "plot_df.rename(columns = {'households': 'Households'}, inplace=True)\n",
    "del  plot_df['total_housing_units_add']\n",
    "plot_df.plot(style='.-',ax=axes.flat[1],figsize=(10,10),color=['darkorange','b'])\n",
    "\n",
    "plot_df = hu_df[['yr','total_housing_units_add','remaining_capacity']].copy()\n",
    "plot_df.set_index('yr',inplace=True)\n",
    "plot_df.rename(columns = {'total_housing_units_add': 'Housing units'}, inplace=True)\n",
    "plot_df.rename(columns = {'remaining_capacity': 'Remaining capacity'}, inplace=True)\n",
    "plot_df.plot(style='.-',ax=axes.flat[2],figsize=(10,15),color=['b','chocolate'])\n",
    "plt.axhline(y=0,color='black', lw=2, alpha=0.5,linestyle='--')\n",
    "# format\n",
    "fmt = '{x:,.0f}'\n",
    "tick = mtick.StrMethodFormatter(fmt)\n",
    "\n",
    "axes.flat[0].set_xlabel(\"Simulation Year\",size =16)\n",
    "axes.flat[0].set_ylabel(\"Housing Units\",size =16)\n",
    "axes.flat[0].set_title('Housing Units Needed by Year\\n demographic_simulation_id=2001',size=16) \n",
    "axes.flat[0].yaxis.set_major_formatter(tick) \n",
    "axes.flat[0].legend(fontsize=14)\n",
    "\n",
    "# change order of legend in second plot\n",
    "axes.flat[1].set_xlabel(\"Simulation Year\",size=16)\n",
    "axes.flat[1].set_ylabel(\"Total Housing Units\",size =16)\n",
    "axes.flat[1].set_title('Housing Units and Households \\ndemographic_simulation_id=2001',size=16) \n",
    "axes.flat[1].yaxis.set_major_formatter(tick) \n",
    "handles, labels = axes.flat[1].get_legend_handles_labels()\n",
    "zipped = zip(labels,handles)\n",
    "zipped.sort(key = lambda t: t[0],reverse=True)\n",
    "labels, handles = zip(*zipped)\n",
    "axes.flat[1].legend(handles, labels,fontsize=14)\n",
    "# axes.flat[1].legend(fontsize=14)\n",
    "\n",
    "axes.flat[2].set_xlabel(\"Simulation Year\",size =16)\n",
    "axes.flat[2].set_ylabel(\"Housing Units (cusum)\",size =16)\n",
    "axes.flat[2].set_title('Housing Units Needed and Remaining Capacity\\n demographic_simulation_id=2001',size=16) \n",
    "axes.flat[2].yaxis.set_major_formatter(tick) \n",
    "axes.flat[2].legend(fontsize=14)\n",
    "\n",
    "plt.xticks(rotation=25)\n",
    "plt.tight_layout(pad=0.5, w_pad=0.6, h_pad=2)\n",
    "\n",
    "\n",
    "\n",
    "plt.show()\n",
    "fig.savefig('Demographic_simulation_2001.png', format='png', dpi=300)"
   ]
  },
  {
   "cell_type": "markdown",
   "metadata": {},
   "source": [
    "# Previous Version:"
   ]
  },
  {
   "cell_type": "markdown",
   "metadata": {},
   "source": [
    "### Capacity"
   ]
  },
  {
   "cell_type": "code",
   "execution_count": 21,
   "metadata": {
    "collapsed": true
   },
   "outputs": [],
   "source": [
    "parcels_capacity_sql = '''\n",
    "SELECT  SUM(capacity) AS capacity_parcels\n",
    "FROM urbansim.urbansim.parcel where capacity > 0\n",
    "'''\n",
    "parcel_capacity_df =  pd.read_sql(parcels_capacity_sql, mssql_engine)\n",
    "parcel_capacity = int(parcel_capacity_df.values)"
   ]
  },
  {
   "cell_type": "code",
   "execution_count": 22,
   "metadata": {},
   "outputs": [
    {
     "name": "stdout",
     "output_type": "stream",
     "text": [
      "Original capacity: 363,378\n"
     ]
    }
   ],
   "source": [
    "print(\"Original capacity: {:,}\".format(parcel_capacity))"
   ]
  },
  {
   "cell_type": "code",
   "execution_count": 23,
   "metadata": {},
   "outputs": [
    {
     "name": "stdout",
     "output_type": "stream",
     "text": [
      "Parcel update 2017 capacity: 364,170\n"
     ]
    }
   ],
   "source": [
    "print(\"Parcel update 2017 capacity: {:,}\".format(capacity))"
   ]
  },
  {
   "cell_type": "code",
   "execution_count": 24,
   "metadata": {},
   "outputs": [
    {
     "name": "stdout",
     "output_type": "stream",
     "text": [
      "Capacity difference: update 2017 minus original capacity from parcel table: 792\n"
     ]
    }
   ],
   "source": [
    "print(\"Capacity difference: update 2017 minus original capacity from parcel table: {:,}\".\n",
    "      format(capacity-parcel_capacity))"
   ]
  },
  {
   "cell_type": "markdown",
   "metadata": {},
   "source": [
    "### Dwelling units"
   ]
  },
  {
   "cell_type": "code",
   "execution_count": 25,
   "metadata": {
    "collapsed": true
   },
   "outputs": [],
   "source": [
    "buildings_sql = '''\n",
    "SELECT  SUM(COALESCE(residential_units,0)) AS residential_units\n",
    "FROM urbansim.urbansim.building\n",
    "'''"
   ]
  },
  {
   "cell_type": "code",
   "execution_count": 26,
   "metadata": {
    "collapsed": true
   },
   "outputs": [],
   "source": [
    "du_df =  pd.read_sql(buildings_sql, mssql_engine)"
   ]
  },
  {
   "cell_type": "code",
   "execution_count": 27,
   "metadata": {
    "collapsed": true
   },
   "outputs": [],
   "source": [
    "du = int(du_df.values)"
   ]
  },
  {
   "cell_type": "code",
   "execution_count": 28,
   "metadata": {},
   "outputs": [
    {
     "name": "stdout",
     "output_type": "stream",
     "text": [
      "Existing dwelling units: 1,183,211\n"
     ]
    }
   ],
   "source": [
    "print(\"Existing dwelling units: {:,}\".format(du))"
   ]
  },
  {
   "cell_type": "markdown",
   "metadata": {},
   "source": [
    "### Households 2050"
   ]
  },
  {
   "cell_type": "code",
   "execution_count": 29,
   "metadata": {
    "collapsed": true
   },
   "outputs": [],
   "source": [
    "household_sql = '''\n",
    "  SELECT sum(hh) AS hh\n",
    "  FROM isam.demographic_output.summary\n",
    "  WHERE sim_id = 1004 and yr = 2050\n",
    "  '''"
   ]
  },
  {
   "cell_type": "code",
   "execution_count": 30,
   "metadata": {
    "collapsed": true
   },
   "outputs": [],
   "source": [
    "hh_df =  pd.read_sql(household_sql, mssql_engine)"
   ]
  },
  {
   "cell_type": "code",
   "execution_count": 31,
   "metadata": {
    "collapsed": true
   },
   "outputs": [],
   "source": [
    "hh = int(hh_df.values)"
   ]
  },
  {
   "cell_type": "code",
   "execution_count": 32,
   "metadata": {},
   "outputs": [
    {
     "name": "stdout",
     "output_type": "stream",
     "text": [
      "Number of households 2050: 1,476,038\n"
     ]
    }
   ],
   "source": [
    "print(\"Number of households 2050: {:,}\".format(hh))"
   ]
  },
  {
   "cell_type": "markdown",
   "metadata": {},
   "source": [
    "### Target number of units for region"
   ]
  },
  {
   "cell_type": "code",
   "execution_count": 33,
   "metadata": {
    "collapsed": true
   },
   "outputs": [],
   "source": [
    "target_for_region = hh - du"
   ]
  },
  {
   "cell_type": "code",
   "execution_count": 34,
   "metadata": {},
   "outputs": [
    {
     "name": "stdout",
     "output_type": "stream",
     "text": [
      "Target for region: 292,827\n"
     ]
    }
   ],
   "source": [
    "print(\"Target for region: {:,}\".format(target_for_region))"
   ]
  },
  {
   "cell_type": "markdown",
   "metadata": {},
   "source": [
    "# Map with folium"
   ]
  },
  {
   "cell_type": "code",
   "execution_count": 35,
   "metadata": {
    "collapsed": true
   },
   "outputs": [],
   "source": [
    "import folium"
   ]
  },
  {
   "cell_type": "code",
   "execution_count": 36,
   "metadata": {
    "collapsed": true
   },
   "outputs": [],
   "source": [
    "m = folium.Map(location=[32.7157,  -117.1611])"
   ]
  },
  {
   "cell_type": "code",
   "execution_count": 37,
   "metadata": {},
   "outputs": [
    {
     "data": {
      "text/html": [
       "<div style=\"width:100%;\"><div style=\"position:relative;width:100%;height:0;padding-bottom:60%;\"><iframe src=\"data:text/html;charset=utf-8;base64,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\" style=\"position:absolute;width:100%;height:100%;left:0;top:0;border:none !important;\" allowfullscreen webkitallowfullscreen mozallowfullscreen></iframe></div></div>"
      ],
      "text/plain": [
       "<folium.folium.Map at 0xe8028d0>"
      ]
     },
     "execution_count": 37,
     "metadata": {},
     "output_type": "execute_result"
    }
   ],
   "source": [
    "m"
   ]
  },
  {
   "cell_type": "code",
   "execution_count": null,
   "metadata": {
    "collapsed": true
   },
   "outputs": [],
   "source": []
  }
 ],
 "metadata": {
  "kernelspec": {
   "display_name": "Python 2",
   "language": "python",
   "name": "python2"
  },
  "language_info": {
   "codemirror_mode": {
    "name": "ipython",
    "version": 2
   },
   "file_extension": ".py",
   "mimetype": "text/x-python",
   "name": "python",
   "nbconvert_exporter": "python",
   "pygments_lexer": "ipython2",
   "version": "2.7.14"
  }
 },
 "nbformat": 4,
 "nbformat_minor": 2
}
