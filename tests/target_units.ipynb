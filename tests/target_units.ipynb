{
 "cells": [
  {
   "cell_type": "markdown",
   "metadata": {},
   "source": [
    "## Target number of units"
   ]
  },
  {
   "cell_type": "code",
   "execution_count": null,
   "metadata": {
    "collapsed": true
   },
   "outputs": [],
   "source": [
    "from sqlalchemy import create_engine\n",
    "from pysandag.database import get_connection_string\n",
    "import pandas as pd\n",
    "import matplotlib.pyplot as plt\n",
    "import matplotlib.ticker as mtick\n",
    "%matplotlib inline"
   ]
  },
  {
   "cell_type": "code",
   "execution_count": null,
   "metadata": {
    "collapsed": true
   },
   "outputs": [],
   "source": [
    "db_connection_string = get_connection_string('..\\data\\config.yml', 'mssql_db')\n",
    "mssql_engine = create_engine(db_connection_string)"
   ]
  },
  {
   "cell_type": "code",
   "execution_count": null,
   "metadata": {
    "collapsed": true
   },
   "outputs": [],
   "source": [
    "capacity_sql = '''\n",
    "SELECT sum([cap_remaining_new]) as capacity\n",
    "  FROM [urbansim].[urbansim].[parcel_update_2017]'''\n",
    "capacity_df =  pd.read_sql(capacity_sql, mssql_engine)\n",
    "capacity = int(capacity_df.values)"
   ]
  },
  {
   "cell_type": "code",
   "execution_count": null,
   "metadata": {
    "collapsed": true
   },
   "outputs": [],
   "source": [
    "units_needed_sql = '''\n",
    "SELECT sum(housing_units_add) as housing_units_to_add\n",
    "FROM [isam].[economic_output].[urbansim_housing_units]'''\n",
    "units_needed_df =  pd.read_sql(units_needed_sql, mssql_engine)\n",
    "units_needed = int(units_needed_df.values)"
   ]
  },
  {
   "cell_type": "code",
   "execution_count": null,
   "metadata": {
    "collapsed": true
   },
   "outputs": [],
   "source": [
    "housing_unit_sql = '''select  yr,\n",
    "    housing_units1, households,housing_units_add \n",
    "    from [isam].[economic_output].[urbansim_housing_units]'''\n",
    "hu_df =  pd.read_sql(housing_unit_sql, mssql_engine)\n",
    "hu_df['total_housing_units_add'] = hu_df.housing_units_add.cumsum()"
   ]
  },
  {
   "cell_type": "code",
   "execution_count": null,
   "metadata": {
    "collapsed": true
   },
   "outputs": [],
   "source": [
    "existing_du_sql = '''\n",
    "  select sum(du_2017) \n",
    "  from [urbansim].[urbansim].[parcel_update_2017]'''\n",
    "existing_du_df =  pd.read_sql(existing_du_sql, mssql_engine)\n",
    "existing_du = int(existing_du_df.values)"
   ]
  },
  {
   "cell_type": "markdown",
   "metadata": {},
   "source": [
    "# Target"
   ]
  },
  {
   "cell_type": "code",
   "execution_count": null,
   "metadata": {},
   "outputs": [],
   "source": [
    "print(\"Target units to add: {:,}\".format(units_needed))"
   ]
  },
  {
   "cell_type": "markdown",
   "metadata": {},
   "source": [
    "# Capacity"
   ]
  },
  {
   "cell_type": "code",
   "execution_count": null,
   "metadata": {},
   "outputs": [],
   "source": [
    "print(\"Capacity: {:,}\".format(capacity))"
   ]
  },
  {
   "cell_type": "markdown",
   "metadata": {},
   "source": [
    "# Remaining"
   ]
  },
  {
   "cell_type": "code",
   "execution_count": null,
   "metadata": {},
   "outputs": [],
   "source": [
    "print(\"Remaining units: {:,}\".format(capacity - units_needed))"
   ]
  },
  {
   "cell_type": "code",
   "execution_count": null,
   "metadata": {
    "collapsed": true
   },
   "outputs": [],
   "source": []
  },
  {
   "cell_type": "markdown",
   "metadata": {},
   "source": [
    "# Target units 2017"
   ]
  },
  {
   "cell_type": "code",
   "execution_count": null,
   "metadata": {},
   "outputs": [],
   "source": [
    "units_to_add_2017 = int(hu_df.loc[hu_df.yr == 2017].housing_units_add.values[0])\n",
    "print(\"Target units to add 2017: {:,}\".format(units_to_add_2017))"
   ]
  },
  {
   "cell_type": "markdown",
   "metadata": {},
   "source": [
    "# Existing du 2017 urbansim.parcel_update_2017"
   ]
  },
  {
   "cell_type": "code",
   "execution_count": null,
   "metadata": {},
   "outputs": [],
   "source": [
    "print(\"Existing du 2017 from urbansim.parcel_update_2017: {:,}\".format(existing_du))"
   ]
  },
  {
   "cell_type": "markdown",
   "metadata": {},
   "source": [
    "# Calculate number of housing units: existing du + target units"
   ]
  },
  {
   "cell_type": "code",
   "execution_count": null,
   "metadata": {},
   "outputs": [],
   "source": [
    "housing_units_end_of_2017 = units_to_add_2017 + existing_du\n",
    "print(\"Housing units at end of 2017: {:,}\".format(housing_units_end_of_2017))"
   ]
  },
  {
   "cell_type": "markdown",
   "metadata": {},
   "source": [
    "# Database number of housing units [isam].[economic_output].[urbansim_housing_units]"
   ]
  },
  {
   "cell_type": "code",
   "execution_count": null,
   "metadata": {},
   "outputs": [],
   "source": [
    "hu_df_2017 = int(hu_df.loc[hu_df.yr == 2017].housing_units1.values[0])\n",
    "print(\"Housing units at end of 2017 from database table: {:,}\".format(hu_df_2017))"
   ]
  },
  {
   "cell_type": "markdown",
   "metadata": {},
   "source": [
    "#  <span style=\"color:red\">Difference between database table and calculated units </span>"
   ]
  },
  {
   "cell_type": "code",
   "execution_count": null,
   "metadata": {},
   "outputs": [],
   "source": [
    "diff_hu_2017 = hu_df_2017 - housing_units_end_of_2017\n",
    "print(\"Difference between database and calculation for 2017 housing units: {:,}\".format(diff_hu_2017))"
   ]
  },
  {
   "cell_type": "markdown",
   "metadata": {},
   "source": [
    "# Plot (note: increase 2026 and 2027)"
   ]
  },
  {
   "cell_type": "code",
   "execution_count": null,
   "metadata": {},
   "outputs": [],
   "source": [
    "existing_du"
   ]
  },
  {
   "cell_type": "code",
   "execution_count": null,
   "metadata": {
    "collapsed": true
   },
   "outputs": [],
   "source": [
    "hu_df['capacity'] = capacity"
   ]
  },
  {
   "cell_type": "code",
   "execution_count": null,
   "metadata": {},
   "outputs": [],
   "source": [
    "hu_df['remaining_capacity'] = hu_df['capacity'] - hu_df['total_housing_units_add'] "
   ]
  },
  {
   "cell_type": "code",
   "execution_count": null,
   "metadata": {},
   "outputs": [],
   "source": [
    "# hu_df"
   ]
  },
  {
   "cell_type": "code",
   "execution_count": null,
   "metadata": {},
   "outputs": [],
   "source": [
    "fig, axes = plt.subplots(3, 1)\n",
    "\n",
    "\n",
    "plot_df = hu_df[['yr','housing_units_add']].copy()\n",
    "plot_df.rename(columns = {'housing_units_add': 'Housing units to add'}, inplace=True)\n",
    "plot_df.set_index('yr',inplace=True)\n",
    "plot_df.plot(style='.-',ax=axes.flat[0],figsize=(10,5),color='b')\n",
    "\n",
    "plot_df = hu_df[['yr','total_housing_units_add','households']].copy()\n",
    "plot_df.set_index('yr',inplace=True)\n",
    "plot_df['Total Housing Units'] = existing_du + plot_df['total_housing_units_add']\n",
    "plot_df.rename(columns = {'households': 'Households'}, inplace=True)\n",
    "del  plot_df['total_housing_units_add']\n",
    "plot_df.plot(style='.-',ax=axes.flat[1],figsize=(10,10),color=['darkorange','b'])\n",
    "\n",
    "plot_df = hu_df[['yr','total_housing_units_add','remaining_capacity']].copy()\n",
    "plot_df.set_index('yr',inplace=True)\n",
    "plot_df.rename(columns = {'total_housing_units_add': 'Housing units cusum'}, inplace=True)\n",
    "plot_df.rename(columns = {'remaining_capacity': 'Remaining capacity'}, inplace=True)\n",
    "plot_df.plot(style='.-',ax=axes.flat[2],figsize=(10,15),color=['b','chocolate'])\n",
    "plt.axhline(y=0,color='black', lw=2, alpha=0.5,linestyle='--')\n",
    "# format\n",
    "fmt = '{x:,.0f}'\n",
    "tick = mtick.StrMethodFormatter(fmt)\n",
    "\n",
    "axes.flat[0].set_xlabel(\"Simulation Year\",size =16)\n",
    "axes.flat[0].set_ylabel(\"Housing Units\",size =16)\n",
    "axes.flat[0].set_title('Housing Units Needed by Year\\n demographic_simulation_id=2001',size=16) \n",
    "axes.flat[0].yaxis.set_major_formatter(tick) \n",
    "axes.flat[0].legend(fontsize=14)\n",
    "\n",
    "# change order of legend in second plot\n",
    "axes.flat[1].set_xlabel(\"Simulation Year\",size=16)\n",
    "axes.flat[1].set_ylabel(\"Total Housing Units\",size =16)\n",
    "axes.flat[1].set_title('Housing Units and Households \\ndemographic_simulation_id=2001',size=16) \n",
    "axes.flat[1].yaxis.set_major_formatter(tick) \n",
    "handles, labels = axes.flat[1].get_legend_handles_labels()\n",
    "zipped = zip(labels,handles)\n",
    "zipped.sort(key = lambda t: t[0],reverse=True)\n",
    "labels, handles = zip(*zipped)\n",
    "axes.flat[1].legend(handles, labels,fontsize=14)\n",
    "# axes.flat[1].legend(fontsize=14)\n",
    "\n",
    "axes.flat[2].set_xlabel(\"Simulation Year\",size =16)\n",
    "axes.flat[2].set_ylabel(\"Housing Units (cusum)\",size =16)\n",
    "axes.flat[2].set_title('Housing Units Needed and Remaining Capacity\\n demographic_simulation_id=2001',size=16) \n",
    "axes.flat[2].yaxis.set_major_formatter(tick) \n",
    "axes.flat[2].legend(fontsize=14)\n",
    "\n",
    "plt.xticks(rotation=25)\n",
    "plt.tight_layout(pad=0.5, w_pad=0.6, h_pad=2)\n",
    "\n",
    "\n",
    "\n",
    "plt.show()\n",
    "fig.savefig('Demographic_simulation_2001.png', format='png', dpi=300)"
   ]
  },
  {
   "cell_type": "markdown",
   "metadata": {},
   "source": [
    "# Previous Version:"
   ]
  },
  {
   "cell_type": "markdown",
   "metadata": {},
   "source": [
    "### Capacity"
   ]
  },
  {
   "cell_type": "code",
   "execution_count": null,
   "metadata": {
    "collapsed": true
   },
   "outputs": [],
   "source": [
    "parcels_capacity_sql = '''\n",
    "SELECT  SUM(capacity) AS capacity_parcels\n",
    "FROM urbansim.urbansim.parcel where capacity > 0\n",
    "'''\n",
    "parcel_capacity_df =  pd.read_sql(parcels_capacity_sql, mssql_engine)\n",
    "parcel_capacity = int(parcel_capacity_df.values)"
   ]
  },
  {
   "cell_type": "code",
   "execution_count": null,
   "metadata": {},
   "outputs": [],
   "source": [
    "print(\"Original capacity: {:,}\".format(parcel_capacity))"
   ]
  },
  {
   "cell_type": "code",
   "execution_count": null,
   "metadata": {},
   "outputs": [],
   "source": [
    "print(\"Parcel update 2017 capacity: {:,}\".format(capacity))"
   ]
  },
  {
   "cell_type": "code",
   "execution_count": null,
   "metadata": {},
   "outputs": [],
   "source": [
    "print(\"Capacity difference: update 2017 minus original capacity from parcel table: {:,}\".\n",
    "      format(capacity-parcel_capacity))"
   ]
  },
  {
   "cell_type": "markdown",
   "metadata": {},
   "source": [
    "### Dwelling units"
   ]
  },
  {
   "cell_type": "code",
   "execution_count": null,
   "metadata": {
    "collapsed": true
   },
   "outputs": [],
   "source": [
    "buildings_sql = '''\n",
    "SELECT  SUM(COALESCE(residential_units,0)) AS residential_units\n",
    "FROM urbansim.urbansim.building\n",
    "'''"
   ]
  },
  {
   "cell_type": "code",
   "execution_count": null,
   "metadata": {
    "collapsed": true
   },
   "outputs": [],
   "source": [
    "du_df =  pd.read_sql(buildings_sql, mssql_engine)"
   ]
  },
  {
   "cell_type": "code",
   "execution_count": null,
   "metadata": {
    "collapsed": true
   },
   "outputs": [],
   "source": [
    "du = int(du_df.values)"
   ]
  },
  {
   "cell_type": "code",
   "execution_count": null,
   "metadata": {
    "collapsed": true
   },
   "outputs": [],
   "source": [
    "print(\"Existing dwelling units: {:,}\".format(du))"
   ]
  },
  {
   "cell_type": "markdown",
   "metadata": {},
   "source": [
    "### Households 2050"
   ]
  },
  {
   "cell_type": "code",
   "execution_count": null,
   "metadata": {
    "collapsed": true
   },
   "outputs": [],
   "source": [
    "household_sql = '''\n",
    "  SELECT sum(hh) AS hh\n",
    "  FROM isam.demographic_output.summary\n",
    "  WHERE sim_id = 1004 and yr = 2050\n",
    "  '''"
   ]
  },
  {
   "cell_type": "code",
   "execution_count": null,
   "metadata": {
    "collapsed": true
   },
   "outputs": [],
   "source": [
    "hh_df =  pd.read_sql(household_sql, mssql_engine)"
   ]
  },
  {
   "cell_type": "code",
   "execution_count": null,
   "metadata": {
    "collapsed": true
   },
   "outputs": [],
   "source": [
    "hh = int(hh_df.values)"
   ]
  },
  {
   "cell_type": "code",
   "execution_count": null,
   "metadata": {
    "collapsed": true
   },
   "outputs": [],
   "source": [
    "print(\"Number of households 2050: {:,}\".format(hh))"
   ]
  },
  {
   "cell_type": "markdown",
   "metadata": {},
   "source": [
    "### Target number of units for region"
   ]
  },
  {
   "cell_type": "code",
   "execution_count": null,
   "metadata": {
    "collapsed": true
   },
   "outputs": [],
   "source": [
    "target_for_region = hh - du"
   ]
  },
  {
   "cell_type": "code",
   "execution_count": null,
   "metadata": {
    "collapsed": true
   },
   "outputs": [],
   "source": [
    "print(\"Target for region: {:,}\".format(target_for_region))"
   ]
  },
  {
   "cell_type": "markdown",
   "metadata": {},
   "source": [
    "# Map with folium"
   ]
  },
  {
   "cell_type": "code",
   "execution_count": null,
   "metadata": {
    "collapsed": true
   },
   "outputs": [],
   "source": [
    "import folium"
   ]
  },
  {
   "cell_type": "code",
   "execution_count": null,
   "metadata": {
    "collapsed": true
   },
   "outputs": [],
   "source": [
    "m = folium.Map(location=[32.7157,  -117.1611])"
   ]
  },
  {
   "cell_type": "code",
   "execution_count": null,
   "metadata": {
    "collapsed": true
   },
   "outputs": [],
   "source": [
    "m"
   ]
  },
  {
   "cell_type": "code",
   "execution_count": null,
   "metadata": {
    "collapsed": true
   },
   "outputs": [],
   "source": []
  }
 ],
 "metadata": {
  "kernelspec": {
   "display_name": "Python 2",
   "language": "python",
   "name": "python2"
  },
  "language_info": {
   "codemirror_mode": {
    "name": "ipython",
    "version": 2
   },
   "file_extension": ".py",
   "mimetype": "text/x-python",
   "name": "python",
   "nbconvert_exporter": "python",
   "pygments_lexer": "ipython2",
   "version": "2.7.14"
  }
 },
 "nbformat": 4,
 "nbformat_minor": 2
}
