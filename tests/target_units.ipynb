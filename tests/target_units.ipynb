{
 "cells": [
  {
   "cell_type": "markdown",
   "metadata": {},
   "source": [
    "## Target number of units"
   ]
  },
  {
   "cell_type": "code",
   "execution_count": null,
   "metadata": {
    "collapsed": true
   },
   "outputs": [],
   "source": [
    "import os \n",
    "import os.path\n",
    "import sys\n",
    "cwd = os.getcwd()\n",
    "parentdir =  os.path.abspath(os.path.join(cwd, os.pardir))\n",
    "sys.path.append(parentdir)"
   ]
  },
  {
   "cell_type": "code",
   "execution_count": null,
   "metadata": {
    "collapsed": true
   },
   "outputs": [],
   "source": [
    "from sqlalchemy import create_engine\n",
    "from pysandag.database import get_connection_string\n",
    "import pandas as pd\n",
    "import matplotlib.pyplot as plt\n",
    "import matplotlib.ticker as mtick\n",
    "import utils\n",
    "import orca\n",
    "# import datasources\n",
    "%matplotlib inline"
   ]
  },
  {
   "cell_type": "code",
   "execution_count": null,
   "metadata": {},
   "outputs": [],
   "source": [
    "db_connection_string = get_connection_string('..\\data\\config.yml', 'mssql_db')\n",
    "mssql_engine = create_engine(db_connection_string)\n",
    "scenarios = utils.yaml_to_dict('../data/scenario_config.yaml', 'scenario')\n",
    "print(scenarios)"
   ]
  },
  {
   "cell_type": "markdown",
   "metadata": {},
   "source": [
    "##### from urbansim.parcel"
   ]
  },
  {
   "cell_type": "code",
   "execution_count": null,
   "metadata": {},
   "outputs": [],
   "source": [
    "parcel_capacity_sql = '''\n",
    "SELECT [parcel_id]\n",
    "      ,[jurisdiction_id]  \n",
    "      ,[cap_jurisdiction_id]\n",
    "      ,[du]\n",
    "      ,[du_2017]\n",
    "      ,[capacity_1]\n",
    "      ,[capacity_2]\n",
    "      ,[site_id]\n",
    "  FROM [urbansim].[urbansim].[parcel]'''\n",
    "capacity_df = pd.read_sql(parcel_capacity_sql,mssql_engine)"
   ]
  },
  {
   "cell_type": "markdown",
   "metadata": {},
   "source": [
    "##### isam.economic_output.urbansim_housing_units"
   ]
  },
  {
   "cell_type": "code",
   "execution_count": null,
   "metadata": {
    "collapsed": true
   },
   "outputs": [],
   "source": [
    "units_needed_sql = '''\n",
    "SELECT [yr]\n",
    "      ,[demographic_simulation_id]\n",
    "      ,[household_population]\n",
    "      ,[householder_rate_id]\n",
    "      ,[households]\n",
    "      ,[housing_units1]\n",
    "      ,[hu_vacancy_rate1]\n",
    "      ,[housing_units2]\n",
    "      ,[hu_vacancy_rate2]\n",
    "      ,[housing_units3]\n",
    "      ,[housing_units_add]\n",
    "  FROM [isam].[economic_output].[urbansim_housing_units]\n",
    "  WHERE demographic_simulation_id = %s'''\n",
    "units_needed_sql = units_needed_sql % scenarios['demographic_simulation_id']\n",
    "units_needed_df =  pd.read_sql(units_needed_sql, mssql_engine)"
   ]
  },
  {
   "cell_type": "markdown",
   "metadata": {},
   "source": [
    "##### urbansim.urbansim.scheduled_development_do_not_use"
   ]
  },
  {
   "cell_type": "code",
   "execution_count": null,
   "metadata": {
    "collapsed": true
   },
   "outputs": [],
   "source": [
    "sched_dev_do_not_use_sql = '''\n",
    "SELECT [scenario]\n",
    "      ,[parcel_id]\n",
    "      ,[yr]\n",
    "      ,[site_id]\n",
    "      ,[res_units]\n",
    "  FROM [urbansim].[urbansim].[scheduled_development_do_not_use]'''\n",
    "site_do_not_use = pd.read_sql(sched_dev_do_not_use_sql,mssql_engine)"
   ]
  },
  {
   "cell_type": "markdown",
   "metadata": {},
   "source": [
    "# Capacity"
   ]
  },
  {
   "cell_type": "code",
   "execution_count": null,
   "metadata": {},
   "outputs": [],
   "source": [
    "\n",
    "total_capacity = int(capacity_df.capacity_2.sum())\n",
    "print(\"\\nCapacity from urbansim.parcel: {:,}\".format(total_capacity))"
   ]
  },
  {
   "cell_type": "code",
   "execution_count": null,
   "metadata": {
    "collapsed": true
   },
   "outputs": [],
   "source": [
    "# compare to 364,374"
   ]
  },
  {
   "cell_type": "markdown",
   "metadata": {},
   "source": [
    "# Target units to add 2050 "
   ]
  },
  {
   "cell_type": "code",
   "execution_count": null,
   "metadata": {},
   "outputs": [],
   "source": [
    "units_needed = int(sum(units_needed_df.housing_units_add))\n",
    "print(\"\\n  Target units to add : {:,}\\n\\\n",
    "      (from isam.economic_output.urbansim_housing_units demographic simulation id {:})\".\\\n",
    "      format(units_needed,scenarios['demographic_simulation_id']))"
   ]
  },
  {
   "cell_type": "markdown",
   "metadata": {},
   "source": [
    "# Remaining Capacity at 2050"
   ]
  },
  {
   "cell_type": "code",
   "execution_count": null,
   "metadata": {},
   "outputs": [],
   "source": [
    "print(\"\\n Remaining capacity 2050: {:,}\\n       = {:} capacity - {:} units needed\\n\".\\\n",
    "format(total_capacity - units_needed,total_capacity,units_needed))"
   ]
  },
  {
   "cell_type": "markdown",
   "metadata": {},
   "source": [
    "## Capacity from scheduled developments"
   ]
  },
  {
   "cell_type": "markdown",
   "metadata": {},
   "source": [
    "##### urbansim.scheduled_development_do_not_use"
   ]
  },
  {
   "cell_type": "code",
   "execution_count": null,
   "metadata": {},
   "outputs": [],
   "source": [
    "site_from_do_not_use = int(site_do_not_use.res_units.sum())\n",
    "print(\"\\n  Scheduled developments from scheduled_development_do_not_use: {:,}\".format(site_from_do_not_use))"
   ]
  },
  {
   "cell_type": "markdown",
   "metadata": {},
   "source": [
    "##### urbansim.parcel"
   ]
  },
  {
   "cell_type": "code",
   "execution_count": null,
   "metadata": {},
   "outputs": [],
   "source": [
    "site_from_parcel = int(capacity_df.loc[~capacity_df.site_id.isnull()].capacity_2.sum())\n",
    "print(\"\\n   Scheduled developments from urbansim.parcel : {:,}\".format(int(site_from_parcel)))"
   ]
  },
  {
   "cell_type": "markdown",
   "metadata": {},
   "source": [
    "# Housing units 2017"
   ]
  },
  {
   "cell_type": "code",
   "execution_count": null,
   "metadata": {},
   "outputs": [],
   "source": [
    "du_2017 = capacity_df.du_2017.sum()\n",
    "print(\"\\n Housing units 2017 from urbansim.parcel: {:,}\\n\".format(du_2017))"
   ]
  },
  {
   "cell_type": "markdown",
   "metadata": {},
   "source": [
    "# Housing units 2050 (forecast)"
   ]
  },
  {
   "cell_type": "code",
   "execution_count": null,
   "metadata": {},
   "outputs": [],
   "source": [
    "du_2017 = capacity_df.du_2017.sum()\n",
    "print(\"\\n Housing units 2050: {:,}\\n\\n (= {:,} du 2017 +  {:,} units needed) \\n\".\\\n",
    "      format(du_2017 + units_needed,du_2017,units_needed))  "
   ]
  },
  {
   "cell_type": "code",
   "execution_count": null,
   "metadata": {},
   "outputs": [],
   "source": [
    "housing_units_db = int(units_needed_df.loc[units_needed_df.yr==2050].iloc[0]['housing_units1'])\n",
    "print(\"\\n Housing units 2050: {:,}\\n\\n (from 'housing_units1' column of [isam].[economic_output].[urbansim_housing_units])\".\\\n",
    "      format(housing_units_db))"
   ]
  },
  {
   "cell_type": "code",
   "execution_count": null,
   "metadata": {},
   "outputs": [],
   "source": [
    "1203896 - 1192748 - 10947 # housing_units_1 minus du 2017 urbansim.parcel - housing_units_add"
   ]
  },
  {
   "cell_type": "markdown",
   "metadata": {},
   "source": [
    "#  <span style=\"color:red\">Difference between database table and du 2017 + 'housing_units_add' </span>"
   ]
  },
  {
   "cell_type": "code",
   "execution_count": null,
   "metadata": {},
   "outputs": [],
   "source": [
    "diff_hu_2050 = housing_units_db - (du_2017 + units_needed)\n",
    "print(\"\\n Difference between database and calculation of housing units 2050: {:,}\\n\".format(diff_hu_2050))"
   ]
  },
  {
   "cell_type": "markdown",
   "metadata": {},
   "source": [
    "# Plot (note: increase 2026 and 2027)"
   ]
  },
  {
   "cell_type": "code",
   "execution_count": null,
   "metadata": {
    "collapsed": true
   },
   "outputs": [],
   "source": [
    "hu_df = units_needed_df[['yr','households','housing_units_add']].copy()"
   ]
  },
  {
   "cell_type": "code",
   "execution_count": null,
   "metadata": {},
   "outputs": [],
   "source": [
    "hu_df['capacity'] = total_capacity"
   ]
  },
  {
   "cell_type": "code",
   "execution_count": null,
   "metadata": {
    "collapsed": true
   },
   "outputs": [],
   "source": [
    "hu_df['total_housing_units_add'] = hu_df['housing_units_add'].cumsum()"
   ]
  },
  {
   "cell_type": "code",
   "execution_count": null,
   "metadata": {},
   "outputs": [],
   "source": [
    "hu_df.head()"
   ]
  },
  {
   "cell_type": "code",
   "execution_count": null,
   "metadata": {
    "collapsed": true
   },
   "outputs": [],
   "source": [
    "hu_df['remaining_capacity'] = hu_df['capacity'] - hu_df['total_housing_units_add'] "
   ]
  },
  {
   "cell_type": "code",
   "execution_count": null,
   "metadata": {},
   "outputs": [],
   "source": [
    "fig, axes = plt.subplots(3, 1)\n",
    "\n",
    "\n",
    "plot_df = hu_df[['yr','housing_units_add']].copy()\n",
    "plot_df.rename(columns = {'housing_units_add': 'Housing units to add'}, inplace=True)\n",
    "plot_df.set_index('yr',inplace=True)\n",
    "plot_df.plot(style='.-',ax=axes.flat[0],figsize=(10,5),color='b')\n",
    "\n",
    "plot_df = hu_df[['yr','total_housing_units_add','households']].copy()\n",
    "plot_df.set_index('yr',inplace=True)\n",
    "plot_df['Total Housing Units'] = du_2017 + plot_df['total_housing_units_add']\n",
    "plot_df.rename(columns = {'households': 'Households'}, inplace=True)\n",
    "del  plot_df['total_housing_units_add']\n",
    "plot_df.plot(style='.-',ax=axes.flat[1],figsize=(10,10),color=['darkorange','b'])\n",
    "\n",
    "plot_df = hu_df[['yr','total_housing_units_add','remaining_capacity']].copy()\n",
    "plot_df.set_index('yr',inplace=True)\n",
    "plot_df.rename(columns = {'total_housing_units_add': 'Housing units'}, inplace=True)\n",
    "plot_df.rename(columns = {'remaining_capacity': 'Remaining capacity'}, inplace=True)\n",
    "plot_df.plot(style='.-',ax=axes.flat[2],figsize=(10,15),color=['b','chocolate'])\n",
    "plt.axhline(y=0,color='black', lw=2, alpha=0.5,linestyle='--')\n",
    "# format\n",
    "fmt = '{x:,.0f}'\n",
    "tick = mtick.StrMethodFormatter(fmt)\n",
    "\n",
    "axes.flat[0].set_xlabel(\"Simulation Year\",size =16)\n",
    "axes.flat[0].set_ylabel(\"Housing Units\",size =16)\n",
    "ptitle = 'Housing Units Needed by Year\\n demographic_simulation_id=' + str(scenarios['demographic_simulation_id'])\n",
    "axes.flat[0].set_title(ptitle,size=16) \n",
    "axes.flat[0].yaxis.set_major_formatter(tick) \n",
    "axes.flat[0].legend(fontsize=14)\n",
    "\n",
    "# change order of legend in second plot\n",
    "axes.flat[1].set_xlabel(\"Simulation Year\",size=16)\n",
    "axes.flat[1].set_ylabel(\"Total Housing Units\",size =16)\n",
    "ptitle = 'Housing Units and Households \\ndemographic_simulation_id=' + str(scenarios['demographic_simulation_id'])\n",
    "axes.flat[1].set_title(ptitle,size=16) \n",
    "axes.flat[1].yaxis.set_major_formatter(tick) \n",
    "handles, labels = axes.flat[1].get_legend_handles_labels()\n",
    "zipped = zip(labels,handles)\n",
    "zipped.sort(key = lambda t: t[0],reverse=True)\n",
    "labels, handles = zip(*zipped)\n",
    "axes.flat[1].legend(handles, labels,fontsize=14)\n",
    "# axes.flat[1].legend(fontsize=14)\n",
    "\n",
    "axes.flat[2].set_xlabel(\"Simulation Year\",size =16)\n",
    "axes.flat[2].set_ylabel(\"Housing Units (cusum)\",size =16)\n",
    "ptitle = 'Housing Units Needed and Remaining Capacity\\n demographic_simulation_id=' + str(scenarios['demographic_simulation_id'])\n",
    "axes.flat[2].set_title(ptitle,size=16) \n",
    "axes.flat[2].yaxis.set_major_formatter(tick) \n",
    "axes.flat[2].legend(fontsize=14)\n",
    "\n",
    "plt.xticks(rotation=25)\n",
    "plt.tight_layout(pad=0.5, w_pad=0.6, h_pad=2)\n",
    "\n",
    "\n",
    "\n",
    "plt.show()\n",
    "fig.savefig('Demographic_simulation_2001.png', format='png', dpi=300)"
   ]
  },
  {
   "cell_type": "markdown",
   "metadata": {},
   "source": [
    "# Map with folium"
   ]
  },
  {
   "cell_type": "code",
   "execution_count": null,
   "metadata": {
    "collapsed": true
   },
   "outputs": [],
   "source": [
    "import folium"
   ]
  },
  {
   "cell_type": "code",
   "execution_count": null,
   "metadata": {
    "collapsed": true
   },
   "outputs": [],
   "source": [
    "m = folium.Map(location=[32.7157,  -117.1611])"
   ]
  },
  {
   "cell_type": "code",
   "execution_count": null,
   "metadata": {
    "collapsed": true
   },
   "outputs": [],
   "source": [
    "m"
   ]
  },
  {
   "cell_type": "code",
   "execution_count": null,
   "metadata": {
    "collapsed": true
   },
   "outputs": [],
   "source": []
  }
 ],
 "metadata": {
  "kernelspec": {
   "display_name": "Python 2",
   "language": "python",
   "name": "python2"
  },
  "language_info": {
   "codemirror_mode": {
    "name": "ipython",
    "version": 2
   },
   "file_extension": ".py",
   "mimetype": "text/x-python",
   "name": "python",
   "nbconvert_exporter": "python",
   "pygments_lexer": "ipython2",
   "version": "2.7.14"
  }
 },
 "nbformat": 4,
 "nbformat_minor": 2
}
