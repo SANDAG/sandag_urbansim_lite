{
 "cells": [
  {
   "cell_type": "markdown",
   "metadata": {},
   "source": [
    "## Target number of units and capacity"
   ]
  },
  {
   "cell_type": "code",
   "execution_count": null,
   "metadata": {
    "collapsed": true
   },
   "outputs": [],
   "source": [
    "import os \n",
    "import os.path\n",
    "import sys\n",
    "cwd = os.getcwd()\n",
    "parentdir =  os.path.abspath(os.path.join(cwd, os.pardir))\n",
    "sys.path.append(parentdir)"
   ]
  },
  {
   "cell_type": "code",
   "execution_count": null,
   "metadata": {
    "collapsed": true
   },
   "outputs": [],
   "source": [
    "from sqlalchemy import create_engine\n",
    "from pysandag.database import get_connection_string\n",
    "import pandas as pd\n",
    "import matplotlib.pyplot as plt\n",
    "import matplotlib.ticker as mtick\n",
    "import utils\n",
    "import orca\n",
    "# import datasources\n",
    "%matplotlib inline"
   ]
  },
  {
   "cell_type": "code",
   "execution_count": null,
   "metadata": {},
   "outputs": [],
   "source": [
    "db_connection_string = get_connection_string('..\\data\\config.yml', 'mssql_db')\n",
    "mssql_engine = create_engine(db_connection_string)\n",
    "scenarios = utils.yaml_to_dict('../data/scenario_config.yaml', 'scenario')\n",
    "print(scenarios)"
   ]
  },
  {
   "cell_type": "markdown",
   "metadata": {},
   "source": [
    "##### from urbansim.parcel"
   ]
  },
  {
   "cell_type": "code",
   "execution_count": null,
   "metadata": {},
   "outputs": [],
   "source": [
    "parcel_capacity_sql = '''\n",
    "SELECT [parcel_id]\n",
    "      ,[jurisdiction_id]  \n",
    "      ,[cap_jurisdiction_id]\n",
    "      ,[du_2015]\n",
    "      ,[du_2017]\n",
    "      ,[capacity_1]\n",
    "      ,[capacity_2]\n",
    "      ,[site_id]\n",
    "  FROM [urbansim].[urbansim].[parcel]\n",
    "  WHERE site_id IS NULL'''\n",
    "capacity_df = pd.read_sql(parcel_capacity_sql,mssql_engine)\n",
    "urbansim_parcel_capacity = int(capacity_df.capacity_2.sum())\n",
    "print(\"\\nCapacity from urbansim.parcel: {:,}\".format(urbansim_parcel_capacity))"
   ]
  },
  {
   "cell_type": "markdown",
   "metadata": {},
   "source": [
    "##### from urbansim.additional_capacity"
   ]
  },
  {
   "cell_type": "code",
   "execution_count": null,
   "metadata": {},
   "outputs": [],
   "source": [
    "assigned_parcel_sql = '''\n",
    "SELECT  a.parcel_id,\n",
    "        p.mgra_id, \n",
    "        jur_id as cap_jurisdiction_id,\n",
    "        jur_id as jurisdiction_id,\n",
    "        p.luz_id,\n",
    "        p.site_id,\n",
    "        a.du,\n",
    "        p.du_2017 as residential_units,\n",
    "        0 as partial_build,\n",
    "        type\n",
    "  FROM [urbansim].[urbansim].[additional_capacity] a\n",
    "  join urbansim.parcel p on p.parcel_id = a.parcel_id\n",
    "  where version_id = %s\n",
    "'''\n",
    "assigned_parcel_sql = assigned_parcel_sql % scenarios['additional_capacity_version']\n",
    "assigned_df = pd.read_sql(assigned_parcel_sql, mssql_engine)\n",
    "assigned_capacity = int(assigned_df.du.sum())\n",
    "print(\"\\nCapacity from urbansim.additional_capacity: {:,}\".format(int(assigned_df.du.sum())))"
   ]
  },
  {
   "cell_type": "markdown",
   "metadata": {},
   "source": [
    "##### from urbansim.scheduled_development_parcel "
   ]
  },
  {
   "cell_type": "code",
   "execution_count": null,
   "metadata": {},
   "outputs": [],
   "source": [
    "sched_dev_parcel_sql = '''\n",
    "SELECT [capacity_3]\n",
    "      ,[sfu_effective_adj]\n",
    "      ,[mfu_effective_adj]\n",
    "      ,[mhu_effective_adj]\n",
    "      ,[notes]\n",
    "      ,[editor]\n",
    "  FROM [urbansim].[urbansim].[scheduled_development_parcel]\n",
    "'''\n",
    "sched_dev_df = pd.read_sql(sched_dev_parcel_sql, mssql_engine)\n",
    "site_from_sched_dev_parcel = int(sched_dev_df.capacity_3.sum())\n",
    "print(\"\\n   Scheduled development capacity from urbansim.scheduled_development_parcel : {:,}\".format(int(site_from_sched_dev_parcel)))"
   ]
  },
  {
   "cell_type": "markdown",
   "metadata": {},
   "source": [
    "##### urbansim.urbansim.scheduled_development_do_not_use"
   ]
  },
  {
   "cell_type": "code",
   "execution_count": null,
   "metadata": {},
   "outputs": [],
   "source": [
    "sched_dev_do_not_use_sql = '''\n",
    "SELECT [sched_version_id]\n",
    "      ,[parcel_id]\n",
    "      ,[yr]\n",
    "      ,[site_id]\n",
    "      ,[capacity_3]\n",
    "  FROM [urbansim].[urbansim].[scheduled_development_do_not_use]'''\n",
    "site_do_not_use = pd.read_sql(sched_dev_do_not_use_sql,mssql_engine)\n",
    "site_from_do_not_use = int(site_do_not_use.capacity_3.sum())\n",
    "print(\"\\n  Scheduled developments from scheduled_development_do_not_use: {:,}\".format(site_from_do_not_use))"
   ]
  },
  {
   "cell_type": "markdown",
   "metadata": {},
   "source": [
    "#### Total Capacity"
   ]
  },
  {
   "cell_type": "code",
   "execution_count": null,
   "metadata": {},
   "outputs": [],
   "source": [
    "total_capacity = urbansim_parcel_capacity + assigned_capacity + site_from_sched_dev_parcel\n",
    "print(\"\\nTotal Capacity: {:,}\".format(total_capacity))\n",
    "print(\"     = {:,} + {:,} + {:,}\\n\".format(urbansim_parcel_capacity,assigned_capacity,site_from_sched_dev_parcel))\n",
    "print(\"     Capacity from urbansim.parcel and sched dev = {:,}\\n\".format(urbansim_parcel_capacity+site_from_sched_dev_parcel))"
   ]
  },
  {
   "cell_type": "markdown",
   "metadata": {},
   "source": [
    "#### Target units to add 2050 "
   ]
  },
  {
   "cell_type": "markdown",
   "metadata": {},
   "source": [
    "##### isam.economic_output.urbansim_housing_units"
   ]
  },
  {
   "cell_type": "code",
   "execution_count": null,
   "metadata": {},
   "outputs": [],
   "source": [
    "units_needed_sql = '''\n",
    "SELECT [yr]\n",
    "      ,[version_id]\n",
    "      ,[housing_units_add]\n",
    "  FROM [isam].[economic_output].[urbansim_housing_units]\n",
    "  WHERE version_id = %s'''\n",
    "units_needed_sql = units_needed_sql % scenarios['demographic_simulation_id']\n",
    "units_needed_df =  pd.read_sql(units_needed_sql, mssql_engine)\n",
    "units_needed_df['total_housing_units_add'] = units_needed_df['housing_units_add'].cumsum()\n",
    "units_needed = int(sum(units_needed_df.housing_units_add))\n",
    "print(\"\\n  Target units to add : {:,}\\n\\\n",
    "      (from isam.economic_output.urbansim_housing_units demographic simulation id {:})\".\\\n",
    "      format(units_needed,scenarios['demographic_simulation_id']))"
   ]
  },
  {
   "cell_type": "code",
   "execution_count": null,
   "metadata": {
    "collapsed": true
   },
   "outputs": [],
   "source": [
    "# compare to 364,374"
   ]
  },
  {
   "cell_type": "markdown",
   "metadata": {},
   "source": [
    "#### Remaining Capacity at 2050"
   ]
  },
  {
   "cell_type": "code",
   "execution_count": null,
   "metadata": {},
   "outputs": [],
   "source": [
    "print(\"\\n Remaining capacity 2050: {:,}\\n       = {:} capacity - {:} units needed\\n\".\\\n",
    "format(total_capacity - units_needed,total_capacity,units_needed))"
   ]
  },
  {
   "cell_type": "markdown",
   "metadata": {},
   "source": [
    "## Capacity from scheduled developments"
   ]
  },
  {
   "cell_type": "markdown",
   "metadata": {},
   "source": [
    "##### urbansim.scheduled_development_do_not_use"
   ]
  },
  {
   "cell_type": "code",
   "execution_count": null,
   "metadata": {},
   "outputs": [],
   "source": [
    "print(\"\\n  Scheduled developments from scheduled_development_do_not_use: {:,}\".format(site_from_do_not_use))"
   ]
  },
  {
   "cell_type": "code",
   "execution_count": null,
   "metadata": {},
   "outputs": [],
   "source": [
    "print(\"\\n   Scheduled developments from urbansim.scheduled_development_parcel : {:,}\".format(int(site_from_sched_dev_parcel)))"
   ]
  },
  {
   "cell_type": "markdown",
   "metadata": {},
   "source": [
    "### check that no parcels with scheduled developments have additional capacity"
   ]
  },
  {
   "cell_type": "markdown",
   "metadata": {},
   "source": [
    "##### with urbansim.scheduled_development_parcel"
   ]
  },
  {
   "cell_type": "code",
   "execution_count": null,
   "metadata": {},
   "outputs": [],
   "source": [
    "sched_dev_in_urbansim_parcel_sql = '''\n",
    "select parcel_id,site_id,capacity_2 from urbansim.parcel where site_id IS NULL and parcel_id IN (\n",
    "SELECT parcel_id from urbansim.scheduled_development_parcel)'''\n",
    "sched_dev_in_urbansim_parcel = pd.read_sql(sched_dev_in_urbansim_parcel_sql, mssql_engine)\n",
    "print(sched_dev_in_urbansim_parcel)"
   ]
  },
  {
   "cell_type": "markdown",
   "metadata": {},
   "source": [
    "##### with scheduled_development_do_not_use"
   ]
  },
  {
   "cell_type": "code",
   "execution_count": null,
   "metadata": {},
   "outputs": [],
   "source": [
    "sched_dev_in_urbansim_parcel_sql = '''\n",
    "select parcel_id,site_id,capacity_2 from urbansim.parcel where site_id IS NULL and parcel_id IN (\n",
    "SELECT parcel_id from urbansim.scheduled_development_do_not_use)'''\n",
    "sched_dev_in_urbansim_parcel = pd.read_sql(sched_dev_in_urbansim_parcel_sql, mssql_engine)\n",
    "print(sched_dev_in_urbansim_parcel)"
   ]
  },
  {
   "cell_type": "markdown",
   "metadata": {},
   "source": [
    "#### check that parcels do not have capacity 2 and capacity 3"
   ]
  },
  {
   "cell_type": "code",
   "execution_count": null,
   "metadata": {},
   "outputs": [],
   "source": [
    "capacity_2_and_3_sql = '''select cap_jurisdiction_id, p.parcel_id,p.site_id,capacity_2,s.site_id,capacity_3 \n",
    "from urbansim.parcel p\n",
    "join urbansim.scheduled_development_do_not_use s\n",
    "on s.parcel_id = p.parcel_id\n",
    "where capacity_2 > 0 and p.site_id IS NULL and s.capacity_3 > 0\n",
    "ORDER BY jurisdiction_id'''\n",
    "capacity_2_and_3 = pd.read_sql(capacity_2_and_3_sql, mssql_engine)\n",
    "print(capacity_2_and_3)"
   ]
  },
  {
   "cell_type": "markdown",
   "metadata": {},
   "source": [
    "# Housing units 2017"
   ]
  },
  {
   "cell_type": "code",
   "execution_count": null,
   "metadata": {},
   "outputs": [],
   "source": [
    "du_2017 = capacity_df.du_2017.sum()\n",
    "print(\"\\n Housing units 2017 from urbansim.parcel: {:,}\\n\".format(du_2017))"
   ]
  },
  {
   "cell_type": "markdown",
   "metadata": {},
   "source": [
    "# Housing units 2050 (forecast)"
   ]
  },
  {
   "cell_type": "code",
   "execution_count": null,
   "metadata": {},
   "outputs": [],
   "source": [
    "du_2017 = capacity_df.du_2017.sum()\n",
    "print(\"\\n Housing units 2050: {:,}\\n\\n (= {:,} du 2017 +  {:,} units needed) \\n\".\\\n",
    "      format(du_2017 + units_needed,du_2017,units_needed))  "
   ]
  },
  {
   "cell_type": "markdown",
   "metadata": {},
   "source": [
    "#### Output of simulation compared to units needed"
   ]
  },
  {
   "cell_type": "code",
   "execution_count": null,
   "metadata": {},
   "outputs": [],
   "source": [
    "# get max run id from urbansim\n",
    "run_id_sql = '''\n",
    "SELECT max(run_id)\n",
    "  FROM [urbansim].[urbansim].[urbansim_lite_output]\n",
    "'''\n",
    "run_id_df = pd.read_sql(run_id_sql, mssql_engine)\n",
    "run_id = int(run_id_df.values)\n",
    "print(\"\\n   Max run id : {:,}\".format(run_id))\n",
    "\n",
    "hs_change_sql = '''\n",
    "    SELECT o.parcel_id, j.name,  p.cap_jurisdiction_id, p.jurisdiction_id, p.mgra_id, p.luz_id,\n",
    "    unit_change as hs_change, source, capacity_type,year_simulation\n",
    "      FROM urbansim.urbansim.urbansim_lite_output o \n",
    "      JOIN urbansim.urbansim.parcel p on p.parcel_id = o.parcel_id\n",
    "      JOIN urbansim.ref.jurisdiction j on p.cap_jurisdiction_id = j.jurisdiction_id\n",
    "     WHERE run_id =  %s\n",
    "  ORDER BY j.name,p.jurisdiction_id, year_simulation'''\n",
    "hs_change_sql = hs_change_sql % run_id\n",
    "hs = pd.read_sql(hs_change_sql,mssql_engine)\n",
    "print(\"\\n   Units added: {:,}\".format(int(hs.hs_change.sum())))"
   ]
  },
  {
   "cell_type": "code",
   "execution_count": null,
   "metadata": {},
   "outputs": [],
   "source": [
    "units_added_by_yr = pd.DataFrame({'units_per_year': hs.\n",
    "                                          groupby([\"year_simulation\"])\n",
    "                                          .hs_change.sum()}).reset_index()"
   ]
  },
  {
   "cell_type": "code",
   "execution_count": null,
   "metadata": {},
   "outputs": [],
   "source": [
    "pd.merge(units_needed_df[['yr','housing_units_add']],units_added_by_yr,left_on='yr',right_on='year_simulation')"
   ]
  },
  {
   "cell_type": "markdown",
   "metadata": {},
   "source": [
    "# Output of simulation compared to capacities"
   ]
  },
  {
   "cell_type": "code",
   "execution_count": null,
   "metadata": {
    "collapsed": true
   },
   "outputs": [],
   "source": [
    "output_and_capacity_sql =  '''\n",
    " WITH u_parcel_jur AS (\n",
    " SELECT parcel_id, cap_jurisdiction_id,capacity_2, 'jur' as capacity_type\n",
    " FROM urbansim.parcel\n",
    " WHERE capacity_2 > 0 and site_id IS NULL),\n",
    " u_output AS (\n",
    "  SELECT  [parcel_id],capacity_type,sum(unit_change) as units_added \n",
    "  FROM [urbansim].[urbansim].[urbansim_lite_output]\n",
    "  where run_id = %s\n",
    "  GROUP BY parcel_id, capacity_type),\n",
    "  assigned AS (\n",
    "  SELECT [parcel_id],jur_id\n",
    "      ,[type] as capacity_type\n",
    "      ,[du] as capacity_4\n",
    "  FROM [urbansim].[urbansim].[additional_capacity]),\n",
    "  sched AS (\n",
    "  SELECT [parcel_id],\n",
    "      sum([capacity_3]) as capacity_3,\n",
    "      'sched_dev' as capacity_type\n",
    "  FROM [urbansim].[urbansim].[scheduled_development_do_not_use]\n",
    "  WHERE capacity_3 > 0\n",
    "  GROUP BY parcel_id )\n",
    "  SELECT o.parcel_id as o_parcel_id, units_added, \n",
    "        p.parcel_id as p_parcel_id, p.cap_jurisdiction_id,p.capacity_2 as urbansim_parcel_capacity,\n",
    "        p.capacity_type as p_capacity_type,\n",
    "        a.parcel_id as a_parcel_id,a.jur_id,a.capacity_4 as assigned_capacity,\n",
    "        a.capacity_type as a_capacity_type,\n",
    "        s.parcel_id as s_parcel_id, s.capacity_3 as sched_dev_capacity,\n",
    "        s.capacity_type as s_capacity_type       \n",
    "  FROM u_output o\n",
    "  FULL OUTER JOIN  u_parcel_jur p\n",
    "  ON o.parcel_id = p.parcel_id and o.capacity_type = p.capacity_type\n",
    "  FULL OUTER JOIN assigned a\n",
    "  ON a.parcel_id = o.parcel_id and a.capacity_type = o.capacity_type\n",
    "    FULL OUTER JOIN sched s\n",
    "  ON s.parcel_id = o.parcel_id and s.capacity_type = o.capacity_type\n",
    "  --WHERE units_added IS NULL\n",
    "  ORDER BY  p.capacity_2'''"
   ]
  },
  {
   "cell_type": "code",
   "execution_count": null,
   "metadata": {},
   "outputs": [],
   "source": [
    "output_and_capacity_sql = output_and_capacity_sql % run_id\n",
    "output_and_capacity = pd.read_sql(output_and_capacity_sql, mssql_engine)"
   ]
  },
  {
   "cell_type": "code",
   "execution_count": null,
   "metadata": {},
   "outputs": [],
   "source": [
    "# output_and_capacity.to_csv('test.csv')"
   ]
  },
  {
   "cell_type": "code",
   "execution_count": null,
   "metadata": {},
   "outputs": [],
   "source": [
    "total_units_added = int(output_and_capacity.units_added.sum())\n",
    "print(\"\\nTotal Units added: {:,}\".format(total_units_added))\n",
    "units_from_sched_dev =  int(output_and_capacity.loc[output_and_capacity.s_capacity_type=='sched_dev'].units_added.sum())\n",
    "print(\"\\n   Units added from sched dev: {:,}\".format(units_from_sched_dev))\n",
    "units_from_assigned =  int(output_and_capacity.loc[output_and_capacity.\\\n",
    "                                                   a_capacity_type.isin(['adu','mc','cc','uc','tc','tco'])].\\\n",
    "                           units_added.sum())\n",
    "print(\"\\n   Units added from assigned: {:,}\".format(units_from_assigned))\n",
    "units_from_urbansim_parcel =  int(output_and_capacity.loc[output_and_capacity.p_capacity_type=='jur'].units_added.sum())\n",
    "print(\"\\n   Units added from urb parcel: {:,}\".format(units_from_urbansim_parcel))\n",
    "sum_units = units_from_sched_dev + units_from_assigned + units_from_urbansim_parcel\n",
    "print(\"\\n   Sum : {:,}\".format(sum_units))"
   ]
  },
  {
   "cell_type": "code",
   "execution_count": null,
   "metadata": {},
   "outputs": [],
   "source": [
    "print(\"\\nCapacity from scheduled_development_do_not_use: {:,}\".format(site_from_do_not_use))\n",
    "print(\"\\nCapacity from urbansim.additional_capacity: {:,}\".format(int(assigned_df.du.sum())))\n",
    "print(\"\\nCapacity from urbansim.parcel: {:,}\".format(int(capacity_df.capacity_2.sum())))\n",
    "sum_capacity = site_from_do_not_use + int(assigned_df.du.sum()) + int(capacity_df.capacity_2.sum())\n",
    "print(\"\\nSum : {:,}\".format(sum_capacity))"
   ]
  },
  {
   "cell_type": "code",
   "execution_count": null,
   "metadata": {},
   "outputs": [],
   "source": [
    "sched_dev_difference = site_from_do_not_use - units_from_sched_dev\n",
    "assigned_difference = int(assigned_df.du.sum()) - units_from_assigned\n",
    "urbansim_parcel_difference = int(capacity_df.capacity_2.sum()) - units_from_urbansim_parcel\n",
    "total_difference = sum_capacity - sum_units\n",
    "print(\"\\nDifference from scheduled_development_do_not_use: {:,}\".format(sched_dev_difference))\n",
    "print(\"\\nDifference from urbansim.additional_capacity: {:,}\".format(assigned_difference))\n",
    "print(\"\\nDifference from urbansim.parcel: {:,}\".format(urbansim_parcel_difference))\n",
    "print(\"\\nTotal Difference : {:,}\".format(total_difference))\n"
   ]
  },
  {
   "cell_type": "code",
   "execution_count": null,
   "metadata": {},
   "outputs": [],
   "source": [
    "urbansim_parcel_unused = output_and_capacity.loc[output_and_capacity.p_capacity_type == 'jur'].copy()\n",
    "urbansim_parcel_unused.fillna(0,inplace=True)\n",
    "urbansim_parcel_unused['unused'] = urbansim_parcel_unused.urbansim_parcel_capacity - urbansim_parcel_unused.units_added"
   ]
  },
  {
   "cell_type": "code",
   "execution_count": null,
   "metadata": {},
   "outputs": [],
   "source": [
    "urbansim_parcel_unused['unused'].sum()"
   ]
  },
  {
   "cell_type": "code",
   "execution_count": null,
   "metadata": {},
   "outputs": [],
   "source": [
    "assigned_unused = output_and_capacity.loc[output_and_capacity.a_capacity_type.\\\n",
    "                                                 isin(['adu','mc','cc','uc','tc','tco'])].copy()\n",
    "assigned_unused.fillna(0,inplace=True)\n",
    "assigned_unused['unused'] = assigned_unused.assigned_capacity - assigned_unused.units_added"
   ]
  },
  {
   "cell_type": "code",
   "execution_count": null,
   "metadata": {},
   "outputs": [],
   "source": [
    "assigned_unused['unused'].sum()"
   ]
  },
  {
   "cell_type": "code",
   "execution_count": null,
   "metadata": {},
   "outputs": [],
   "source": [
    "urbansim_parcel_unused.loc[urbansim_parcel_unused.unused!=0]\\\n",
    "[['p_parcel_id','cap_jurisdiction_id','units_added','urbansim_parcel_capacity']].sort_values(by='cap_jurisdiction_id')"
   ]
  },
  {
   "cell_type": "code",
   "execution_count": null,
   "metadata": {},
   "outputs": [],
   "source": [
    "assigned_unused.loc[assigned_unused.unused!=0]\\\n",
    "[['a_parcel_id','jur_id','units_added','assigned_capacity']].sort_values(by='jur_id')"
   ]
  },
  {
   "cell_type": "markdown",
   "metadata": {},
   "source": [
    "# Plot (note: increase 2026 and 2027)"
   ]
  },
  {
   "cell_type": "code",
   "execution_count": null,
   "metadata": {},
   "outputs": [],
   "source": [
    "hu_df = units_needed_df[['yr','households','housing_units_add']].copy()"
   ]
  },
  {
   "cell_type": "code",
   "execution_count": null,
   "metadata": {
    "collapsed": true
   },
   "outputs": [],
   "source": [
    "hu_df['capacity'] = total_capacity"
   ]
  },
  {
   "cell_type": "code",
   "execution_count": null,
   "metadata": {
    "collapsed": true
   },
   "outputs": [],
   "source": [
    "hu_df['total_housing_units_add'] = hu_df['housing_units_add'].cumsum()"
   ]
  },
  {
   "cell_type": "code",
   "execution_count": null,
   "metadata": {
    "collapsed": true
   },
   "outputs": [],
   "source": [
    "hu_df.head()"
   ]
  },
  {
   "cell_type": "code",
   "execution_count": null,
   "metadata": {
    "collapsed": true
   },
   "outputs": [],
   "source": [
    "hu_df['remaining_capacity'] = hu_df['capacity'] - hu_df['total_housing_units_add'] "
   ]
  },
  {
   "cell_type": "code",
   "execution_count": null,
   "metadata": {
    "collapsed": true
   },
   "outputs": [],
   "source": [
    "fig, axes = plt.subplots(3, 1)\n",
    "\n",
    "\n",
    "plot_df = hu_df[['yr','housing_units_add']].copy()\n",
    "plot_df.rename(columns = {'housing_units_add': 'Housing units to add'}, inplace=True)\n",
    "plot_df.set_index('yr',inplace=True)\n",
    "plot_df.plot(style='.-',ax=axes.flat[0],figsize=(10,5),color='b')\n",
    "\n",
    "plot_df = hu_df[['yr','total_housing_units_add','households']].copy()\n",
    "plot_df.set_index('yr',inplace=True)\n",
    "plot_df['Total Housing Units'] = du_2017 + plot_df['total_housing_units_add']\n",
    "plot_df.rename(columns = {'households': 'Households'}, inplace=True)\n",
    "del  plot_df['total_housing_units_add']\n",
    "plot_df.plot(style='.-',ax=axes.flat[1],figsize=(10,10),color=['darkorange','b'])\n",
    "\n",
    "plot_df = hu_df[['yr','total_housing_units_add','remaining_capacity']].copy()\n",
    "plot_df.set_index('yr',inplace=True)\n",
    "plot_df.rename(columns = {'total_housing_units_add': 'Housing units'}, inplace=True)\n",
    "plot_df.rename(columns = {'remaining_capacity': 'Remaining capacity'}, inplace=True)\n",
    "plot_df.plot(style='.-',ax=axes.flat[2],figsize=(10,15),color=['b','chocolate'])\n",
    "plt.axhline(y=0,color='black', lw=2, alpha=0.5,linestyle='--')\n",
    "# format\n",
    "fmt = '{x:,.0f}'\n",
    "tick = mtick.StrMethodFormatter(fmt)\n",
    "\n",
    "axes.flat[0].set_xlabel(\"Simulation Year\",size =16)\n",
    "axes.flat[0].set_ylabel(\"Housing Units\",size =16)\n",
    "ptitle = 'Housing Units Needed by Year\\n demographic_simulation_id=' + str(scenarios['demographic_simulation_id'])\n",
    "axes.flat[0].set_title(ptitle,size=16) \n",
    "axes.flat[0].yaxis.set_major_formatter(tick) \n",
    "axes.flat[0].legend(fontsize=14)\n",
    "\n",
    "# change order of legend in second plot\n",
    "axes.flat[1].set_xlabel(\"Simulation Year\",size=16)\n",
    "axes.flat[1].set_ylabel(\"Total Housing Units\",size =16)\n",
    "ptitle = 'Housing Units and Households \\ndemographic_simulation_id=' + str(scenarios['demographic_simulation_id'])\n",
    "axes.flat[1].set_title(ptitle,size=16) \n",
    "axes.flat[1].yaxis.set_major_formatter(tick) \n",
    "handles, labels = axes.flat[1].get_legend_handles_labels()\n",
    "zipped = zip(labels,handles)\n",
    "zipped.sort(key = lambda t: t[0],reverse=True)\n",
    "labels, handles = zip(*zipped)\n",
    "axes.flat[1].legend(handles, labels,fontsize=14)\n",
    "# axes.flat[1].legend(fontsize=14)\n",
    "\n",
    "axes.flat[2].set_xlabel(\"Simulation Year\",size =16)\n",
    "axes.flat[2].set_ylabel(\"Housing Units (cusum)\",size =16)\n",
    "ptitle = 'Housing Units Needed and Remaining Capacity\\n demographic_simulation_id=' + str(scenarios['demographic_simulation_id'])\n",
    "axes.flat[2].set_title(ptitle,size=16) \n",
    "axes.flat[2].yaxis.set_major_formatter(tick) \n",
    "axes.flat[2].legend(fontsize=14)\n",
    "\n",
    "plt.xticks(rotation=25)\n",
    "plt.tight_layout(pad=0.5, w_pad=0.6, h_pad=2)\n",
    "\n",
    "\n",
    "\n",
    "plt.show()\n",
    "fig.savefig('Demographic_simulation_2001.png', format='png', dpi=300)"
   ]
  },
  {
   "cell_type": "markdown",
   "metadata": {},
   "source": [
    "# Map with folium"
   ]
  },
  {
   "cell_type": "code",
   "execution_count": null,
   "metadata": {
    "collapsed": true
   },
   "outputs": [],
   "source": [
    "import folium"
   ]
  },
  {
   "cell_type": "code",
   "execution_count": null,
   "metadata": {
    "collapsed": true
   },
   "outputs": [],
   "source": [
    "m = folium.Map(location=[32.7157,  -117.1611])"
   ]
  },
  {
   "cell_type": "code",
   "execution_count": null,
   "metadata": {
    "collapsed": true
   },
   "outputs": [],
   "source": [
    "m"
   ]
  },
  {
   "cell_type": "code",
   "execution_count": null,
   "metadata": {
    "collapsed": true
   },
   "outputs": [],
   "source": []
  }
 ],
 "metadata": {
  "kernelspec": {
   "display_name": "Python 2",
   "language": "python",
   "name": "python2"
  },
  "language_info": {
   "codemirror_mode": {
    "name": "ipython",
    "version": 2
   },
   "file_extension": ".py",
   "mimetype": "text/x-python",
   "name": "python",
   "nbconvert_exporter": "python",
   "pygments_lexer": "ipython2",
   "version": "2.7.14"
  }
 },
 "nbformat": 4,
 "nbformat_minor": 2
}
