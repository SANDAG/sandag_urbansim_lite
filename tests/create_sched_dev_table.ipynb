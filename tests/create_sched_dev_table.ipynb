{
 "cells": [
  {
   "cell_type": "code",
   "execution_count": null,
   "metadata": {},
   "outputs": [],
   "source": [
    "# append path to find utils module in urbansim\n",
    "import os \n",
    "import sys\n",
    "cwd = os.getcwd() \n",
    "parentdir =  os.path.abspath(os.path.join(cwd, os.pardir))\n",
    "sys.path.append(parentdir) # to get path to utils module\n",
    "\n",
    "\n",
    "\n",
    "import pandas as pd\n",
    "import numpy as np\n",
    "from sqlalchemy import create_engine\n",
    "from database import get_connection_string\n",
    "\n",
    "db_connection_string = get_connection_string('..\\data\\config.yml', 'mssql_db')\n",
    "mssql_engine = create_engine(db_connection_string)"
   ]
  },
  {
   "cell_type": "code",
   "execution_count": null,
   "metadata": {},
   "outputs": [],
   "source": [
    "sched_dev_parcel_sql = '''\n",
    "SELECT [site_id]\n",
    "      ,[parcel_id]\n",
    "      ,[capacity_3]\n",
    "      ,[sfu_effective_adj]\n",
    "      ,[mfu_effective_adj]\n",
    "      ,[mhu_effective_adj]\n",
    "      ,[notes]\n",
    "      ,[editor]\n",
    "  FROM [urbansim].[urbansim].[scheduled_development_parcel]\n",
    "  WHERE capacity_3 > 0\n",
    "'''\n",
    "\n",
    "sched_dev_df = pd.read_sql(sched_dev_parcel_sql, mssql_engine)"
   ]
  },
  {
   "cell_type": "code",
   "execution_count": null,
   "metadata": {},
   "outputs": [],
   "source": [
    "priority_for_each_site = sched_dev_df.drop_duplicates(subset='site_id',keep='first').copy()\n",
    "priority_for_each_site.head()"
   ]
  },
  {
   "cell_type": "code",
   "execution_count": null,
   "metadata": {},
   "outputs": [],
   "source": [
    "len(priority_for_each_site)"
   ]
  },
  {
   "cell_type": "code",
   "execution_count": null,
   "metadata": {},
   "outputs": [],
   "source": [
    "sites = sched_dev_df.site_id.unique()\n",
    "len(sites)"
   ]
  },
  {
   "cell_type": "code",
   "execution_count": null,
   "metadata": {},
   "outputs": [],
   "source": [
    "np.random.seed(9)\n",
    "random_num = np.random.randint(1,11,size=(len(sites)))\n",
    "# random_num"
   ]
  },
  {
   "cell_type": "code",
   "execution_count": null,
   "metadata": {},
   "outputs": [],
   "source": [
    "priority_for_each_site['priority'] = random_num"
   ]
  },
  {
   "cell_type": "code",
   "execution_count": null,
   "metadata": {},
   "outputs": [],
   "source": [
    "priority_for_each_site = priority_for_each_site[['site_id','priority']].copy()"
   ]
  },
  {
   "cell_type": "code",
   "execution_count": null,
   "metadata": {},
   "outputs": [],
   "source": [
    "pd.DataFrame({'sites_by_year': priority_for_each_site.\n",
    "              groupby(['priority']).site_id.size()}).reset_index()"
   ]
  },
  {
   "cell_type": "code",
   "execution_count": null,
   "metadata": {},
   "outputs": [],
   "source": [
    "sched_dev_w_priority = pd.merge(sched_dev_df,priority_for_each_site, \\\n",
    "                            left_on='site_id',right_on='site_id',how='left')\n",
    "# sched_dev_w_year.head()\n",
    "pd.DataFrame({'units_by_year': sched_dev_w_priority.\n",
    "              groupby([\"priority\"]).capacity_3.sum()}).reset_index()"
   ]
  },
  {
   "cell_type": "code",
   "execution_count": null,
   "metadata": {},
   "outputs": [],
   "source": [
    "sched_dev_w_priority['sched_version_id'] = 106"
   ]
  },
  {
   "cell_type": "code",
   "execution_count": null,
   "metadata": {},
   "outputs": [],
   "source": [
    "sched_dev_for_db = sched_dev_w_priority[['sched_version_id','site_id','parcel_id','capacity_3',\\\n",
    "                                         'priority']].copy()"
   ]
  },
  {
   "cell_type": "code",
   "execution_count": null,
   "metadata": {},
   "outputs": [],
   "source": [
    "len(sched_dev_for_db)"
   ]
  },
  {
   "cell_type": "code",
   "execution_count": null,
   "metadata": {},
   "outputs": [],
   "source": [
    "sched_dev_for_db.capacity_3.sum()"
   ]
  },
  {
   "cell_type": "code",
   "execution_count": null,
   "metadata": {},
   "outputs": [],
   "source": [
    "sched_dev_for_db.to_csv('test.csv')"
   ]
  },
  {
   "cell_type": "code",
   "execution_count": null,
   "metadata": {},
   "outputs": [],
   "source": [
    "sched_dev_for_db.to_sql(name='scheduled_development_priority', \\\n",
    "                        con=mssql_engine, schema='urbansim', index=False,if_exists='append')"
   ]
  },
  {
   "cell_type": "markdown",
   "metadata": {},
   "source": [
    "# OLD"
   ]
  },
  {
   "cell_type": "raw",
   "metadata": {},
   "source": [
    "yr_for_each_site = sched_dev_df.drop_duplicates(subset='site_id',keep='first').copy()\n",
    "yr_for_each_site.head()\n",
    "len(yr_for_each_site)"
   ]
  },
  {
   "cell_type": "raw",
   "metadata": {},
   "source": [
    " d = {1: 2017, 2: 2018, 3: 2019, 4: 2020, 5: 2021, 6: 2022, 7: 2023, 8: 2024,\\\n",
    "      9: 2025, 10: 2019, 11: 2020, 12: 2021, 13: 2022, 14: 2023, 15: 2024,\\\n",
    "      16: 2019, 17: 2020, 18: 2021, 19: 2022, 20: 2018}\n",
    "random_yr = [d.get(x) for x in random_num]\n",
    "# random_yr"
   ]
  },
  {
   "cell_type": "code",
   "execution_count": null,
   "metadata": {},
   "outputs": [],
   "source": [
    " d = {1: 2017, 2: 2018, 3: 2022, 4: 2023, 5: 2021, 6: 2022, 7: 2023, 8: 2024,\\\n",
    "      9: 2025, 10: 2025, 11: 2024, 12: 2021, 13: 2022, 14: 2023, 15: 2024,\\\n",
    "      16: 2019, 17: 2020, 18: 2021, 19: 2022, 20: 2018}\n",
    "random_yr = [d.get(x) for x in random_num]\n",
    "# random_yr"
   ]
  },
  {
   "cell_type": "code",
   "execution_count": null,
   "metadata": {},
   "outputs": [],
   "source": [
    "#yr_for_each_site['yr'] = random_yr\n",
    "# yr_for_each_site = yr_for_each_site[['site_id','yr']].copy()\n",
    "# yr_for_each_site.head()\n",
    "# pd.DataFrame({'sites_by_year': yr_for_each_site.\n",
    "#               groupby([\"yr\"]).site_id.size()}).reset_index()"
   ]
  },
  {
   "cell_type": "raw",
   "metadata": {},
   "source": [
    "sched_dev_w_year = pd.merge(sched_dev_df,yr_for_each_site, \\\n",
    "                            left_on='site_id',right_on='site_id',how='left')\n",
    "# sched_dev_w_year.head()\n",
    "pd.DataFrame({'units_by_year': sched_dev_w_year.\n",
    "              groupby([\"yr\"]).capacity_3.sum()}).reset_index()"
   ]
  },
  {
   "cell_type": "code",
   "execution_count": null,
   "metadata": {},
   "outputs": [],
   "source": []
  },
  {
   "cell_type": "code",
   "execution_count": null,
   "metadata": {},
   "outputs": [],
   "source": []
  },
  {
   "cell_type": "code",
   "execution_count": null,
   "metadata": {},
   "outputs": [],
   "source": []
  }
 ],
 "metadata": {
  "kernelspec": {
   "display_name": "Python 3",
   "language": "python",
   "name": "python3"
  },
  "language_info": {
   "codemirror_mode": {
    "name": "ipython",
    "version": 3
   },
   "file_extension": ".py",
   "mimetype": "text/x-python",
   "name": "python",
   "nbconvert_exporter": "python",
   "pygments_lexer": "ipython3",
   "version": "3.6.4"
  }
 },
 "nbformat": 4,
 "nbformat_minor": 2
}
