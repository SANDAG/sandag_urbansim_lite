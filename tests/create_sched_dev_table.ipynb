{
 "cells": [
  {
   "cell_type": "code",
   "execution_count": null,
   "metadata": {
    "collapsed": true
   },
   "outputs": [],
   "source": [
    "import pandas as pd\n",
    "import numpy as np\n",
    "from sqlalchemy import create_engine\n",
    "from pysandag.database import get_connection_string\n",
    "\n",
    "db_connection_string = get_connection_string('..\\data\\config.yml', 'mssql_db')\n",
    "mssql_engine = create_engine(db_connection_string)"
   ]
  },
  {
   "cell_type": "code",
   "execution_count": null,
   "metadata": {
    "collapsed": true
   },
   "outputs": [],
   "source": [
    "sched_dev_parcel_sql = '''\n",
    "SELECT [site_id]\n",
    "      ,[parcel_id]\n",
    "      ,[capacity_3]\n",
    "      ,[sfu_effective_adj]\n",
    "      ,[mfu_effective_adj]\n",
    "      ,[mhu_effective_adj]\n",
    "      ,[notes]\n",
    "      ,[editor]\n",
    "  FROM [urbansim].[urbansim].[scheduled_development_parcel]\n",
    "  WHERE capacity_3 > 0\n",
    "'''\n",
    "\n",
    "sched_dev_df = pd.read_sql(sched_dev_parcel_sql, mssql_engine)"
   ]
  },
  {
   "cell_type": "code",
   "execution_count": null,
   "metadata": {},
   "outputs": [],
   "source": [
    "yr_for_each_site = sched_dev_df.drop_duplicates(subset='site_id',keep='first').copy()\n",
    "# yr_for_each_site.head()\n",
    "len(yr_for_each_site)"
   ]
  },
  {
   "cell_type": "code",
   "execution_count": null,
   "metadata": {},
   "outputs": [],
   "source": [
    "sites = sched_dev_df.site_id.unique()\n",
    "len(sites)"
   ]
  },
  {
   "cell_type": "code",
   "execution_count": null,
   "metadata": {},
   "outputs": [],
   "source": [
    "np.random.seed(7)\n",
    "random_num = np.random.randint(1,21,size=(len(sites)))\n",
    "# random_num"
   ]
  },
  {
   "cell_type": "code",
   "execution_count": null,
   "metadata": {},
   "outputs": [],
   "source": [
    " d = {1: 2017, 2: 2018, 3: 2019, 4: 2020, 5: 2021, 6: 2022, 7: 2023, 8: 2024,\\\n",
    "      9: 2025, 10: 2017, 11: 2018, 12: 2019, 13: 2020, 14: 2021, 15: 2022,\\\n",
    "      16: 2023, 17: 2018, 18: 2019, 19: 2020, 20: 2021}\n",
    "random_yr = [d.get(x) for x in random_num]\n",
    "# random_yr"
   ]
  },
  {
   "cell_type": "code",
   "execution_count": null,
   "metadata": {},
   "outputs": [],
   "source": [
    "yr_for_each_site['yr'] = random_yr\n",
    "yr_for_each_site = yr_for_each_site[['site_id','yr']].copy()\n",
    "# yr_for_each_site.head()\n",
    "pd.DataFrame({'sites_by_year': yr_for_each_site.\n",
    "              groupby([\"yr\"]).site_id.size()}).reset_index()"
   ]
  },
  {
   "cell_type": "code",
   "execution_count": null,
   "metadata": {},
   "outputs": [],
   "source": [
    "sched_dev_w_year = pd.merge(sched_dev_df,yr_for_each_site, \\\n",
    "                            left_on='site_id',right_on='site_id',how='left')\n",
    "# sched_dev_w_year.head()\n",
    "pd.DataFrame({'units_by_year': sched_dev_w_year.\n",
    "              groupby([\"yr\"]).capacity_3.sum()}).reset_index()"
   ]
  },
  {
   "cell_type": "code",
   "execution_count": null,
   "metadata": {
    "collapsed": true
   },
   "outputs": [],
   "source": [
    "sched_dev_w_year['sched_version_id'] = 1"
   ]
  },
  {
   "cell_type": "code",
   "execution_count": null,
   "metadata": {
    "collapsed": true
   },
   "outputs": [],
   "source": [
    "sched_dev_for_db = sched_dev_w_year[['sched_version_id','parcel_id','yr',\\\n",
    "                                     'site_id','capacity_3']].copy()"
   ]
  },
  {
   "cell_type": "code",
   "execution_count": null,
   "metadata": {},
   "outputs": [],
   "source": [
    "len(sched_dev_for_db)"
   ]
  },
  {
   "cell_type": "code",
   "execution_count": null,
   "metadata": {},
   "outputs": [],
   "source": [
    "# sched_dev_for_db.head()"
   ]
  },
  {
   "cell_type": "code",
   "execution_count": null,
   "metadata": {},
   "outputs": [],
   "source": [
    "sched_dev_for_db.capacity_3.sum()"
   ]
  },
  {
   "cell_type": "code",
   "execution_count": null,
   "metadata": {
    "collapsed": true
   },
   "outputs": [],
   "source": [
    "sched_dev_for_db.to_sql(name='scheduled_development_do_not_use', \\\n",
    "                        con=mssql_engine, schema='urbansim', index=False,if_exists='replace')"
   ]
  },
  {
   "cell_type": "code",
   "execution_count": null,
   "metadata": {
    "collapsed": true
   },
   "outputs": [],
   "source": []
  }
 ],
 "metadata": {
  "kernelspec": {
   "display_name": "Python 2",
   "language": "python",
   "name": "python2"
  },
  "language_info": {
   "codemirror_mode": {
    "name": "ipython",
    "version": 2
   },
   "file_extension": ".py",
   "mimetype": "text/x-python",
   "name": "python",
   "nbconvert_exporter": "python",
   "pygments_lexer": "ipython2",
   "version": "2.7.14"
  }
 },
 "nbformat": 4,
 "nbformat_minor": 2
}
