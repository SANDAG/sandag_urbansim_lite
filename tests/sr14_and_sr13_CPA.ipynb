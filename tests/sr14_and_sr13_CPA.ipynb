{
 "cells": [
  {
   "cell_type": "code",
   "execution_count": 1,
   "metadata": {
    "collapsed": true
   },
   "outputs": [],
   "source": [
    "import pandas as pd\n",
    "import os, datetime\n",
    "import numpy as np\n",
    "import matplotlib.pyplot as plt\n",
    "from sqlalchemy import create_engine\n",
    "from pysandag.database import get_connection_string\n",
    "from matplotlib.backends.backend_pdf import PdfPages\n",
    "%matplotlib inline"
   ]
  },
  {
   "cell_type": "code",
   "execution_count": 2,
   "metadata": {
    "collapsed": true
   },
   "outputs": [],
   "source": [
    "db_connection_string = get_connection_string('..\\data\\config.yml', 'mssql_db')\n",
    "mssql_engine = create_engine(db_connection_string)"
   ]
  },
  {
   "cell_type": "markdown",
   "metadata": {},
   "source": [
    "## Get subregional simulation output"
   ]
  },
  {
   "cell_type": "code",
   "execution_count": 3,
   "metadata": {
    "scrolled": true
   },
   "outputs": [
    {
     "name": "stdout",
     "output_type": "stream",
     "text": [
      "\n",
      "   Max run id : 21\n",
      "\n",
      "   Units added: 468,866\n"
     ]
    }
   ],
   "source": [
    "# get max run id from urbansim\n",
    "run_id_sql = '''\n",
    "SELECT max(run_id)\n",
    "  FROM [urbansim].[urbansim].[urbansim_lite_output]\n",
    "'''\n",
    "run_id_df = pd.read_sql(run_id_sql, mssql_engine)\n",
    "run_id = int(run_id_df.values)\n",
    "print(\"\\n   Max run id : {:,}\".format(run_id))\n",
    "\n",
    "hs_change_sql = '''\n",
    "    SELECT o.parcel_id, j.name,  p.cap_jurisdiction_id, p.jurisdiction_id, p.mgra_id, p.luz_id,\n",
    "    unit_change as hs_change, source, year_simulation\n",
    "      FROM urbansim.urbansim.urbansim_lite_output o \n",
    "      JOIN urbansim.urbansim.parcel p on p.parcel_id = o.parcel_id\n",
    "      JOIN urbansim.ref.jurisdiction j on p.cap_jurisdiction_id = j.jurisdiction_id\n",
    "     WHERE run_id =  %s\n",
    "  ORDER BY j.name,p.jurisdiction_id, year_simulation'''\n",
    "hs_change_sql = hs_change_sql % run_id\n",
    "hs = pd.read_sql(hs_change_sql,mssql_engine)\n",
    "print(\"\\n   Units added: {:,}\".format(int(hs.hs_change.sum())))"
   ]
  },
  {
   "cell_type": "markdown",
   "metadata": {},
   "source": [
    "## Get SR13 results"
   ]
  },
  {
   "cell_type": "code",
   "execution_count": null,
   "metadata": {
    "collapsed": true
   },
   "outputs": [],
   "source": [
    "sr13_sql = '''\n",
    "select x.mgra, sum([hs]) AS hs, increment, city, cpa, x.luz as luz_id,site\n",
    "from [regional_forecast].[sr13_final].[capacity] x\n",
    "join [regional_forecast].[sr13_final].[mgra13] y\n",
    "on x.mgra = y.mgra\n",
    "where scenario = 0 \n",
    "group by x.mgra, site, increment, y.city,y.cpa,x.luz\n",
    "order by x.mgra, increment'''\n",
    "sr13_df = pd.read_sql(sr13_sql, mssql_engine)\n",
    "# count results\n",
    "nmgra = int(len(sr13_df.mgra.unique()))\n",
    "nincrements = int(len(sr13_df.increment.unique()))\n",
    "lendf = int(len(sr13_df))\n",
    "duplicated_df = sr13_df[sr13_df.duplicated(subset=['mgra','increment'], keep=\"first\")]\n",
    "numdup = int(len(duplicated_df))\n",
    "mi = nmgra*nincrements\n",
    "nodups = lendf - numdup"
   ]
  },
  {
   "cell_type": "code",
   "execution_count": null,
   "metadata": {},
   "outputs": [],
   "source": [
    "print(\"\\n   Number of increments: {:,}\".format(nincrements))\n",
    "print(\"\\n   Number of mgras: {:,}\".format(nmgra))\n",
    "print(\"\\n        increments * mgras: {:,}\".format(mi))\n",
    "print(\"\\nsr13 dataframe length: {:,}\".format(lendf))\n",
    "print(\"\\n   Number of duplicates: {:,}  (mgra w site id and not site id)\".format(numdup))"
   ]
  },
  {
   "cell_type": "markdown",
   "metadata": {},
   "source": [
    "## QC check output against jurisdiction feedback confluence pg (since all capacity used)"
   ]
  },
  {
   "cell_type": "markdown",
   "metadata": {},
   "source": [
    "https://sandag.atlassian.net/wiki/spaces/LUM/pages/101679105/Jurisdictional+Feedback"
   ]
  },
  {
   "cell_type": "code",
   "execution_count": null,
   "metadata": {
    "collapsed": true
   },
   "outputs": [],
   "source": [
    "jur_cap_df = pd.DataFrame({'units_change': hs.groupby(['cap_jurisdiction_id']).hs_change.sum()}).reset_index()\n",
    "jur_cap_df.set_index('cap_jurisdiction_id',inplace=True)\n",
    "# jur_cap_df"
   ]
  },
  {
   "cell_type": "markdown",
   "metadata": {},
   "source": [
    "## Get total dwelling units in the region and sum by jurisdiction and cpa"
   ]
  },
  {
   "cell_type": "markdown",
   "metadata": {},
   "source": [
    "#### note using cap jurisdiction id"
   ]
  },
  {
   "cell_type": "code",
   "execution_count": null,
   "metadata": {},
   "outputs": [],
   "source": [
    "du_sql = '''\n",
    "    SELECT parcel_id, mgra_id, luz_id, p.jurisdiction_id, cap_jurisdiction_id, j.name, du_2015 as du, du_2017, capacity_2\n",
    "        FROM urbansim.parcel p\n",
    "        LEFT JOIN urbansim.ref.jurisdiction j on p.cap_jurisdiction_id = j.jurisdiction_id'''\n",
    "#        WHERE du_2017 > 0'''\n",
    "du = pd.read_sql(du_sql,mssql_engine)\n",
    "du.cap_jurisdiction_id.fillna(du.jurisdiction_id,inplace=True) # where there is no cap jurisdiction id \n",
    "print(\"\\n   Dwelling Units 2015: {:,}\".format(int(du.du.sum())))\n",
    "print(\"\\n   Dwelling Units 2017: {:,}\".format(int(du.du_2017.sum())))"
   ]
  },
  {
   "cell_type": "code",
   "execution_count": null,
   "metadata": {},
   "outputs": [],
   "source": [
    "du_sql = '''\n",
    "    SELECT parcel_id, mgra_id, luz_id, p.jurisdiction_id, cap_jurisdiction_id, j.name, du_2015 as du, du_2017, capacity_2\n",
    "        FROM urbansim.parcel p\n",
    "        LEFT JOIN urbansim.ref.jurisdiction j on p.cap_jurisdiction_id = j.jurisdiction_id\n",
    "        WHERE du_2017 > 0 or du_2015 > 0'''\n",
    "du = pd.read_sql(du_sql,mssql_engine)\n",
    "du.cap_jurisdiction_id.fillna(du.jurisdiction_id,inplace=True) # where there is no cap jurisdiction id \n",
    "print(\"\\n   Dwelling Units 2015: {:,}\".format(int(du.du.sum())))\n",
    "print(\"\\n   Dwelling Units 2017: {:,}\".format(int(du.du_2017.sum())))"
   ]
  },
  {
   "cell_type": "markdown",
   "metadata": {},
   "source": [
    "## Get CPAs for city and county"
   ]
  },
  {
   "cell_type": "markdown",
   "metadata": {},
   "source": [
    "#### complete list for plotting even if no housing stock change, i.e. plot zero for those with no change"
   ]
  },
  {
   "cell_type": "code",
   "execution_count": null,
   "metadata": {
    "collapsed": true
   },
   "outputs": [],
   "source": [
    "xref_geography_sql = '''\n",
    "    SELECT mgra_13, cocpa_2016, cicpa_13,cocpa_13, jurisdiction_2016, \n",
    "           COALESCE(cocpa_2016,cicpa_13,cocpa_13) as CPAs\n",
    "      FROM data_cafe.ref.vi_xref_geography_mgra_13'''\n",
    "xref_geography_df = pd.read_sql(xref_geography_sql, mssql_engine)"
   ]
  },
  {
   "cell_type": "code",
   "execution_count": null,
   "metadata": {},
   "outputs": [],
   "source": [
    "len(xref_geography_df)"
   ]
  },
  {
   "cell_type": "markdown",
   "metadata": {},
   "source": [
    "#### get unique CPAs"
   ]
  },
  {
   "cell_type": "code",
   "execution_count": null,
   "metadata": {
    "collapsed": true
   },
   "outputs": [],
   "source": [
    "CPAs = xref_geography_df.loc[~xref_geography_df.CPAs.isnull()].CPAs.unique().tolist()"
   ]
  },
  {
   "cell_type": "markdown",
   "metadata": {},
   "source": [
    "#### set jurisdiction id 14 and 19 to CPA otherwise use jurisdiction id"
   ]
  },
  {
   "cell_type": "code",
   "execution_count": null,
   "metadata": {
    "collapsed": true
   },
   "outputs": [],
   "source": [
    "# simulation output\n",
    "units = pd.merge(hs,xref_geography_df,left_on='mgra_id',right_on='mgra_13',how='left')\n",
    "units.loc[units.cap_jurisdiction_id == 19,'jcid'] = units['cocpa_2016']\n",
    "units.loc[units.cap_jurisdiction_id == 14,'jcid'] = units['cicpa_13']\n",
    "units['jcid'].fillna(units['cap_jurisdiction_id'],inplace=True)"
   ]
  },
  {
   "cell_type": "code",
   "execution_count": null,
   "metadata": {},
   "outputs": [],
   "source": [
    "len(units)"
   ]
  },
  {
   "cell_type": "code",
   "execution_count": null,
   "metadata": {},
   "outputs": [],
   "source": [
    "len(hs)"
   ]
  },
  {
   "cell_type": "markdown",
   "metadata": {},
   "source": [
    "#### Check for nulls and 14 and 19 instead of cpa as id"
   ]
  },
  {
   "cell_type": "code",
   "execution_count": null,
   "metadata": {
    "collapsed": true
   },
   "outputs": [],
   "source": [
    "# manually assign CPA to mgra 19415, 18831\n",
    "units.loc[units.mgra_id==19415,'jcid'] = 1909\n",
    "units.loc[units.mgra_id==18831,'jcid'] = 1909"
   ]
  },
  {
   "cell_type": "code",
   "execution_count": null,
   "metadata": {},
   "outputs": [],
   "source": [
    "units.loc[units.jcid.isnull()]"
   ]
  },
  {
   "cell_type": "code",
   "execution_count": null,
   "metadata": {},
   "outputs": [],
   "source": [
    "units.loc[units.jcid==14]"
   ]
  },
  {
   "cell_type": "code",
   "execution_count": null,
   "metadata": {},
   "outputs": [],
   "source": [
    "units.loc[units.jcid==19]"
   ]
  },
  {
   "cell_type": "markdown",
   "metadata": {},
   "source": [
    "####  Add CPAs where there was no unit change to complete dataset "
   ]
  },
  {
   "cell_type": "code",
   "execution_count": null,
   "metadata": {
    "collapsed": true
   },
   "outputs": [],
   "source": [
    "units.parcel_id = units.parcel_id.astype(int)\n",
    "units.jcid = units.jcid.astype(int)"
   ]
  },
  {
   "cell_type": "code",
   "execution_count": null,
   "metadata": {
    "collapsed": true
   },
   "outputs": [],
   "source": [
    "units.set_index('jcid',inplace=True)"
   ]
  },
  {
   "cell_type": "code",
   "execution_count": null,
   "metadata": {
    "collapsed": true
   },
   "outputs": [],
   "source": [
    "# units.head()"
   ]
  },
  {
   "cell_type": "code",
   "execution_count": null,
   "metadata": {
    "collapsed": true
   },
   "outputs": [],
   "source": [
    "jcids = units.index.unique().tolist()"
   ]
  },
  {
   "cell_type": "code",
   "execution_count": null,
   "metadata": {
    "collapsed": true
   },
   "outputs": [],
   "source": [
    "CPAs_no_unit_change = np.setdiff1d(CPAs,jcids).tolist()"
   ]
  },
  {
   "cell_type": "code",
   "execution_count": null,
   "metadata": {},
   "outputs": [],
   "source": [
    "CPAs_no_unit_change"
   ]
  },
  {
   "cell_type": "code",
   "execution_count": null,
   "metadata": {
    "collapsed": true
   },
   "outputs": [],
   "source": [
    "for cpa in CPAs_no_unit_change:\n",
    "    units.loc[cpa] = np.nan"
   ]
  },
  {
   "cell_type": "code",
   "execution_count": null,
   "metadata": {
    "collapsed": true
   },
   "outputs": [],
   "source": [
    "units.reset_index(inplace=True)"
   ]
  },
  {
   "cell_type": "code",
   "execution_count": null,
   "metadata": {},
   "outputs": [],
   "source": [
    "len(units.jcid.unique())"
   ]
  },
  {
   "cell_type": "code",
   "execution_count": null,
   "metadata": {
    "collapsed": true
   },
   "outputs": [],
   "source": [
    "units.fillna(0,inplace=True)"
   ]
  },
  {
   "cell_type": "code",
   "execution_count": null,
   "metadata": {
    "collapsed": true
   },
   "outputs": [],
   "source": [
    "# mgras where issues: 19415, 18831, 11514, 7521, 7259\n",
    "# manually assign CAP to mgra_13 7259\n",
    "# units.loc[units.mgra_13==7259,'jcid'] = 1439 # otherwise uses jurisdiction_2016 as 14"
   ]
  },
  {
   "cell_type": "code",
   "execution_count": null,
   "metadata": {
    "collapsed": true
   },
   "outputs": [],
   "source": [
    "# units.tail()"
   ]
  },
  {
   "cell_type": "code",
   "execution_count": null,
   "metadata": {
    "collapsed": true
   },
   "outputs": [],
   "source": [
    "# dwelling units\n",
    "dus = pd.merge(du,xref_geography_df,left_on='mgra_id',right_on='mgra_13',how = 'left')\n",
    "dus.loc[dus.cap_jurisdiction_id == 19,'jcid'] = dus['cocpa_2016']\n",
    "dus.loc[dus.cap_jurisdiction_id == 14,'jcid'] = dus['cicpa_13']\n",
    "dus['jcid'].fillna(dus['cap_jurisdiction_id'],inplace=True)"
   ]
  },
  {
   "cell_type": "code",
   "execution_count": null,
   "metadata": {
    "collapsed": true
   },
   "outputs": [],
   "source": [
    "# manually assign CPA or jurisdiction to mgra 19415,11514,18831\n",
    "dus.loc[dus.mgra_id==19415,'jcid'] = 1909\n",
    "dus.loc[dus.mgra_id==18831,'jcid'] = 1909\n",
    "dus.loc[dus.mgra_id==11514.0,'jcid'] = 13\n",
    "dus.loc[dus.mgra_id==7521.0,'jcid'] = 3\n",
    "# dus.loc[dus.mgra_13==7259,'jcid'] = 1439 "
   ]
  },
  {
   "cell_type": "code",
   "execution_count": null,
   "metadata": {},
   "outputs": [],
   "source": [
    "dus.loc[dus.jcid.isnull()]"
   ]
  },
  {
   "cell_type": "code",
   "execution_count": null,
   "metadata": {},
   "outputs": [],
   "source": [
    "dus.loc[dus.jcid==14]"
   ]
  },
  {
   "cell_type": "code",
   "execution_count": null,
   "metadata": {},
   "outputs": [],
   "source": [
    "dus.loc[dus.jcid==19]"
   ]
  },
  {
   "cell_type": "markdown",
   "metadata": {},
   "source": [
    "## fill in zero for CPAs with no dwelling units"
   ]
  },
  {
   "cell_type": "code",
   "execution_count": null,
   "metadata": {
    "collapsed": true
   },
   "outputs": [],
   "source": [
    "dus.set_index('jcid',inplace=True)"
   ]
  },
  {
   "cell_type": "code",
   "execution_count": null,
   "metadata": {},
   "outputs": [],
   "source": [
    "jcids = dus.index.unique().tolist()\n",
    "CPAs_no_unit_change = np.setdiff1d(CPAs,jcids).tolist()\n",
    "CPAs_no_unit_change"
   ]
  },
  {
   "cell_type": "code",
   "execution_count": null,
   "metadata": {
    "collapsed": true
   },
   "outputs": [],
   "source": [
    "for cpa in CPAs_no_unit_change:\n",
    "    dus.loc[cpa] = np.nan"
   ]
  },
  {
   "cell_type": "code",
   "execution_count": null,
   "metadata": {
    "collapsed": true
   },
   "outputs": [],
   "source": [
    "dus.reset_index(inplace=True)"
   ]
  },
  {
   "cell_type": "code",
   "execution_count": null,
   "metadata": {
    "collapsed": true
   },
   "outputs": [],
   "source": [
    "dus.fillna(0,inplace=True)"
   ]
  },
  {
   "cell_type": "code",
   "execution_count": null,
   "metadata": {},
   "outputs": [],
   "source": [
    "len(dus.jcid.unique())"
   ]
  },
  {
   "cell_type": "code",
   "execution_count": null,
   "metadata": {
    "collapsed": true
   },
   "outputs": [],
   "source": [
    "dus.parcel_id = dus.parcel_id.astype(int)\n",
    "dus.jcid = dus.jcid.astype(int)"
   ]
  },
  {
   "cell_type": "markdown",
   "metadata": {},
   "source": [
    "## use sql query to find nearest CPA if necessary"
   ]
  },
  {
   "cell_type": "raw",
   "metadata": {},
   "source": [
    "SELECT MGRA, City, CPA, Shape \n",
    "FROM [spacecore].[ref].[mgra13] as p1 \n",
    "WHERE p1.shape.STWithin((SELECT shape FROM [spacecore].[ref].[mgra13] where MGRA = 19415).STBuffer(5000)) = 1"
   ]
  },
  {
   "cell_type": "markdown",
   "metadata": {},
   "source": [
    "### Add cpa name"
   ]
  },
  {
   "cell_type": "code",
   "execution_count": null,
   "metadata": {
    "collapsed": true
   },
   "outputs": [],
   "source": [
    "cocpa_names_sql = '''\n",
    "    SELECT zone as cocpa_id, name as cocpa\n",
    "    FROM data_cafe.ref.geography_zone WHERE geography_type_id = 20'''\n",
    "cocpa_names = pd.read_sql(cocpa_names_sql, mssql_engine)\n",
    "cicpa_names_sql = '''\n",
    "    SELECT zone as cicpa_id, name as cicpa\n",
    "    FROM data_cafe.ref.geography_zone WHERE geography_type_id = 15'''\n",
    "cicpa_names = pd.read_sql(cicpa_names_sql, mssql_engine)\n",
    "luz_names_sql = '''\n",
    "    SELECT zone as luz_id, name as luz\n",
    "    FROM data_cafe.ref.geography_zone WHERE geography_type_id = 64'''\n",
    "luz_names = pd.read_sql(luz_names_sql, mssql_engine)    \n",
    "jurisdictions_names_sql = '''\n",
    "    SELECT zone as jurisdiction_id, name as jurisdiction\n",
    "    FROM data_cafe.ref.geography_zone WHERE geography_type_id = 150'''\n",
    "jur_name_df = pd.read_sql(jurisdictions_names_sql, mssql_engine)"
   ]
  },
  {
   "cell_type": "code",
   "execution_count": null,
   "metadata": {
    "collapsed": true
   },
   "outputs": [],
   "source": [
    "units = pd.merge(units,cocpa_names,left_on='jcid',right_on='cocpa_id',how = 'left')\n",
    "units = pd.merge(units,cicpa_names,left_on='jcid',right_on='cicpa_id',how = 'left')\n",
    "units = pd.merge(units,jur_name_df,left_on='jurisdiction_2016',right_on='jurisdiction_id',how = 'left')"
   ]
  },
  {
   "cell_type": "code",
   "execution_count": null,
   "metadata": {
    "collapsed": true
   },
   "outputs": [],
   "source": [
    "units['jcname'] = units['name']\n",
    "units.loc[units.jcid>=1900,'jcname'] = units['cocpa']\n",
    "units.loc[(units.jcid>=1400) & (units.jcid<1900),'jcname'] = units['cicpa']\n",
    "units.loc[units.jcname==0,'jcname'] = units['jurisdiction']"
   ]
  },
  {
   "cell_type": "code",
   "execution_count": null,
   "metadata": {},
   "outputs": [],
   "source": [
    "units.sort_values(by='jcid').jcid.unique()"
   ]
  },
  {
   "cell_type": "code",
   "execution_count": null,
   "metadata": {},
   "outputs": [],
   "source": [
    "# check that there are no nulls values (should equal 103)\n",
    "len(units.jcname.unique())"
   ]
  },
  {
   "cell_type": "code",
   "execution_count": null,
   "metadata": {
    "collapsed": true
   },
   "outputs": [],
   "source": [
    "units.loc[units.year_simulation==0,'year_simulation'] = 2017"
   ]
  },
  {
   "cell_type": "markdown",
   "metadata": {},
   "source": [
    "#### check results again to match jurisdiction feedback page"
   ]
  },
  {
   "cell_type": "code",
   "execution_count": null,
   "metadata": {
    "collapsed": true
   },
   "outputs": [],
   "source": [
    "change_df = pd.DataFrame({'chg': units.groupby(['jcid','jcname']).\n",
    "                               hs_change.sum()}).reset_index()\n",
    "change_df['jcid'] =change_df['jcid'].astype(int)\n",
    "change_df.set_index('jcid',inplace=True)\n",
    "# change_df"
   ]
  },
  {
   "cell_type": "markdown",
   "metadata": {},
   "source": [
    "## Get CPAs for city and county for sr13"
   ]
  },
  {
   "cell_type": "code",
   "execution_count": null,
   "metadata": {
    "collapsed": true
   },
   "outputs": [],
   "source": [
    "sr13_df = pd.merge(sr13_df,jur_name_df[['jurisdiction_id','jurisdiction']],left_on='city',right_on='jurisdiction_id')\n",
    "sr13_df = pd.merge(sr13_df,cocpa_names[['cocpa_id','cocpa']],left_on='cpa',right_on='cocpa_id', how = 'outer')\n",
    "sr13_df = pd.merge(sr13_df,cicpa_names[['cicpa_id','cicpa']],left_on='cpa',right_on='cicpa_id',how = 'outer')\n",
    "sr13_df = pd.merge(sr13_df,luz_names[['luz_id','luz']],left_on='luz_id',right_on='luz_id')\n",
    "sr13_df['jur_or_cpa_name'] = sr13_df['cocpa']\n",
    "sr13_df['jur_or_cpa_name'].fillna(sr13_df['cicpa'],inplace=True)\n",
    "sr13_df['jur_or_cpa_name'].fillna(sr13_df['jurisdiction'],inplace=True)\n",
    "sr13_df['jur_or_cpa_id'] = sr13_df['cocpa_id']\n",
    "sr13_df['jur_or_cpa_id'].fillna(sr13_df['cicpa_id'],inplace=True)\n",
    "sr13_df['jur_or_cpa_id'].fillna(sr13_df['jurisdiction_id'],inplace=True)\n",
    "sr13_df['jur_or_cpa_id'] = sr13_df['jur_or_cpa_id'].astype(int)\n",
    "sr13_df.drop(['jurisdiction_id', 'cocpa_id', 'cicpa_id', 'cocpa', 'cicpa'], axis=1,inplace=True)\n",
    "# sr13_df.to_csv('test.csv')"
   ]
  },
  {
   "cell_type": "code",
   "execution_count": null,
   "metadata": {},
   "outputs": [],
   "source": [
    "sr13_df.head()"
   ]
  },
  {
   "cell_type": "code",
   "execution_count": null,
   "metadata": {},
   "outputs": [],
   "source": [
    "len(sr13_df['jur_or_cpa_id'].unique())"
   ]
  },
  {
   "cell_type": "markdown",
   "metadata": {},
   "source": [
    "## sum dwelling units by jursidictions and CPAs (n=103)"
   ]
  },
  {
   "cell_type": "code",
   "execution_count": null,
   "metadata": {
    "collapsed": true
   },
   "outputs": [],
   "source": [
    "# dus.head()"
   ]
  },
  {
   "cell_type": "code",
   "execution_count": null,
   "metadata": {},
   "outputs": [],
   "source": [
    "du_sr14_geo_df = dus.groupby(['jcid'])[[\"du\",\"du_2017\"]].sum()\n",
    "du_sr14_geo_df['du_2017'] = du_sr14_geo_df['du_2017'].astype(int)\n",
    "du_sr14_geo_df['du'] = du_sr14_geo_df['du'].astype(int)\n",
    "print(\"\\n Total residential dwelling units 2015: {:,}\".format(int(du_sr14_geo_df.du.sum())))\n",
    "print(\"\\n Total residential dwelling units 2017: {:,}\".format(int(du_sr14_geo_df.du_2017.sum())))\n",
    "print(\"\\n Total number of jurisdictions and cpas: {:,}\\n\".format(len(du_sr14_geo_df.index.unique())))"
   ]
  },
  {
   "cell_type": "code",
   "execution_count": null,
   "metadata": {},
   "outputs": [],
   "source": [
    "du_sr14_geo_df.head()"
   ]
  },
  {
   "cell_type": "markdown",
   "metadata": {},
   "source": [
    "## sum hs change in simulation by jursidictions and CPAs (n=103)"
   ]
  },
  {
   "cell_type": "code",
   "execution_count": null,
   "metadata": {},
   "outputs": [],
   "source": [
    "sr14_geo_df = pd.DataFrame({'hs_sum': units.groupby(['jcid','jcname','year_simulation']).\\\n",
    "                            hs_change.sum()}).reset_index()\n",
    "sr14_geo_df.rename(columns = {'jcname':'geo'},inplace=True)\n",
    "# sr14_geo_df.rename(columns = {'year_simulation':'increment'},inplace=True)\n",
    "sr14_geo_df.sort_values(by='jcid',inplace=True)\n",
    "sr14_geo_df.set_index('jcid',inplace=True)\n",
    "sr14_geo_df['hs_sum'] = sr14_geo_df['hs_sum'].astype(int)\n",
    "sr14_geo_df['year_simulation'] = sr14_geo_df['year_simulation'].astype(int)\n",
    "print(\"\\n Total housing unit change after groupby: {:,}\".format(int(sr14_geo_df.hs_sum.sum())))\n",
    "print(\"\\n Total number of jurisdictions and cpas: {:,}\\n\".format(len(sr14_geo_df.index.unique())))"
   ]
  },
  {
   "cell_type": "code",
   "execution_count": null,
   "metadata": {},
   "outputs": [],
   "source": [
    "sr14_geo_df.head()"
   ]
  },
  {
   "cell_type": "markdown",
   "metadata": {},
   "source": [
    "## sum sr14 by source - fill NA with \"0\""
   ]
  },
  {
   "cell_type": "code",
   "execution_count": null,
   "metadata": {},
   "outputs": [],
   "source": [
    "sr14_source = pd.DataFrame({'hs_sum': units.groupby(['source','jcid','jcname']).\\\n",
    "                            hs_change.sum()}).reset_index()\n",
    "sr14_source.rename(columns = {'jcname':'geo'},inplace=True)\n",
    "sr14_source.sort_values(by='jcid',inplace=True)\n",
    "sr14_source.set_index('jcid',inplace=True)\n",
    "sr14_source['hs_sum'] = sr14_source['hs_sum'].astype(int)\n",
    "print(\"\\n Total housing unit change after groupby: {:,}\".format(int(sr14_source.hs_sum.sum())))\n",
    "print(\"\\n Total number of jurisdictions and cpas: {:,}\\n\".format(len(sr14_source.index.unique())))"
   ]
  },
  {
   "cell_type": "code",
   "execution_count": null,
   "metadata": {
    "collapsed": true
   },
   "outputs": [],
   "source": [
    "# sr14_source.source.unique()\n",
    "# sr14_source.head()"
   ]
  },
  {
   "cell_type": "code",
   "execution_count": null,
   "metadata": {
    "collapsed": true
   },
   "outputs": [],
   "source": [
    "idx = range(1,4)\n",
    "sr14_source.set_index(['geo','source'],append=True,inplace=True)\n",
    "sr14_source = sr14_source.unstack(['jcid','geo'])\n",
    "# sr14_source = sr14_source.reindex(idx, fill_value=0)\n",
    "sr14_source.fillna(0,inplace=True)\n",
    "sr14_source = sr14_source.stack(['jcid','geo'])\n",
    "sr14_source.reset_index(inplace=True)\n",
    "sr14_source.set_index('jcid',inplace=True)"
   ]
  },
  {
   "cell_type": "markdown",
   "metadata": {},
   "source": [
    "#### get sched development totals"
   ]
  },
  {
   "cell_type": "code",
   "execution_count": null,
   "metadata": {
    "collapsed": true
   },
   "outputs": [],
   "source": [
    "sr14_source1 =  sr14_source.loc[sr14_source.source==1.0].copy()"
   ]
  },
  {
   "cell_type": "code",
   "execution_count": null,
   "metadata": {},
   "outputs": [],
   "source": [
    "sr14_source1.head(5)"
   ]
  },
  {
   "cell_type": "markdown",
   "metadata": {},
   "source": [
    "### Get SR13 sched dev"
   ]
  },
  {
   "cell_type": "code",
   "execution_count": null,
   "metadata": {
    "collapsed": true
   },
   "outputs": [],
   "source": [
    "sr13_sched_dev_sql = '''\n",
    "SELECT x.mgra,city, cpa, x.luz as luz_id,site, sum(siteSF+siteMF+siteMH) AS sched_dev\n",
    "FROM [regional_forecast].[sr13_final].[capacity] x\n",
    "join [regional_forecast].[sr13_final].[mgra13] y\n",
    "on x.mgra = y.mgra\n",
    "where scenario = 0 and increment = 2012 and site != 0 and (siteSF + siteMF + siteMH) > 0 \n",
    "group by x.mgra, site, increment, y.city,y.cpa,x.luz\n",
    "order by city,site'''\n",
    "sr13_sched_dev = pd.read_sql(sr13_sched_dev_sql, mssql_engine)"
   ]
  },
  {
   "cell_type": "code",
   "execution_count": null,
   "metadata": {},
   "outputs": [],
   "source": [
    "sr13_sched_dev.head()"
   ]
  },
  {
   "cell_type": "code",
   "execution_count": null,
   "metadata": {
    "collapsed": true
   },
   "outputs": [],
   "source": [
    "sr13_sched_dev = pd.merge(sr13_sched_dev,jur_name_df[['jurisdiction_id','jurisdiction']],\\\n",
    "                          left_on='city',right_on='jurisdiction_id',how='outer')\n",
    "sr13_sched_dev = pd.merge(sr13_sched_dev,cocpa_names[['cocpa_id','cocpa']],left_on='cpa',right_on='cocpa_id', how = 'outer')\n",
    "sr13_sched_dev = pd.merge(sr13_sched_dev,cicpa_names[['cicpa_id','cicpa']],left_on='cpa',right_on='cicpa_id',how = 'outer')\n",
    "# sr13_sched_dev = pd.merge(sr13_sched_dev,luz_names[['luz_id','luz']],left_on='luz_id',right_on='luz_id',how='outer')\n",
    "sr13_sched_dev['jur_or_cpa_name'] = sr13_sched_dev['cocpa']\n",
    "sr13_sched_dev['jur_or_cpa_name'].fillna(sr13_sched_dev['cicpa'],inplace=True)\n",
    "sr13_sched_dev['jur_or_cpa_name'].fillna(sr13_sched_dev['jurisdiction'],inplace=True)\n",
    "sr13_sched_dev['jur_or_cpa_id'] = sr13_sched_dev['cocpa_id']\n",
    "sr13_sched_dev['jur_or_cpa_id'].fillna(sr13_sched_dev['cicpa_id'],inplace=True)\n",
    "sr13_sched_dev['jur_or_cpa_id'].fillna(sr13_sched_dev['jurisdiction_id'],inplace=True)\n",
    "# sr13_sched_dev['jur_or_cpa_id'] = sr13_sched_dev['jur_or_cpa_id'].astype(int)\n",
    "sr13_sched_dev.drop(['jurisdiction_id', 'cocpa_id', 'cicpa_id', 'cocpa', 'cicpa'], axis=1,inplace=True)\n",
    "sr13_sched_dev.rename(columns = {'jur_or_cpa_name':'geo'},inplace=True)"
   ]
  },
  {
   "cell_type": "code",
   "execution_count": null,
   "metadata": {},
   "outputs": [],
   "source": [
    "sr13_sched_dev.loc[sr13_sched_dev.jur_or_cpa_id ==8]"
   ]
  },
  {
   "cell_type": "code",
   "execution_count": null,
   "metadata": {},
   "outputs": [],
   "source": [
    "sr13_sched_dev.loc[sr13_sched_dev.jur_or_cpa_id.isnull()]"
   ]
  },
  {
   "cell_type": "code",
   "execution_count": null,
   "metadata": {
    "collapsed": true
   },
   "outputs": [],
   "source": [
    "sr13_sched_dev.fillna(0,inplace=True)"
   ]
  },
  {
   "cell_type": "code",
   "execution_count": null,
   "metadata": {
    "collapsed": true
   },
   "outputs": [],
   "source": [
    "sr13_sched_dev['jur_or_cpa_id'] = sr13_sched_dev['jur_or_cpa_id'].astype(int)"
   ]
  },
  {
   "cell_type": "code",
   "execution_count": null,
   "metadata": {
    "collapsed": true
   },
   "outputs": [],
   "source": [
    "sr13_sched_dev_totals = pd.DataFrame({'sched_dev_sum': sr13_sched_dev.\n",
    "                                            groupby([\"jur_or_cpa_id\",'geo']).\n",
    "                                 sched_dev.sum()}).reset_index()"
   ]
  },
  {
   "cell_type": "code",
   "execution_count": null,
   "metadata": {},
   "outputs": [],
   "source": [
    "sr13_sched_dev_totals.sched_dev_sum.sum()"
   ]
  },
  {
   "cell_type": "code",
   "execution_count": null,
   "metadata": {
    "collapsed": true
   },
   "outputs": [],
   "source": [
    "# sr13_sched_dev_totals"
   ]
  },
  {
   "cell_type": "markdown",
   "metadata": {},
   "source": [
    "## Fill in \"0\" for units for \"missing\" simulation years (for plotting) (e.g. Del Mar)"
   ]
  },
  {
   "cell_type": "code",
   "execution_count": null,
   "metadata": {},
   "outputs": [],
   "source": [
    "# Del Mar example\n",
    "del_mar_before = sr14_geo_df.loc[4].sort_values(by='year_simulation')\n",
    "# del_mar_before.head()\n",
    "del_mar_before.plot(x='year_simulation',y='hs_sum',style='.-',title='NULL values in Del Mar Housing Unit Change')"
   ]
  },
  {
   "cell_type": "code",
   "execution_count": null,
   "metadata": {
    "collapsed": true
   },
   "outputs": [],
   "source": [
    "# del_mar_before"
   ]
  },
  {
   "cell_type": "code",
   "execution_count": null,
   "metadata": {
    "collapsed": true
   },
   "outputs": [],
   "source": [
    "idx = range(2017,2051)\n",
    "sr14_geo_df.set_index(['geo','year_simulation'],append=True,inplace=True)\n",
    "sr14_geo_df = sr14_geo_df.unstack(['jcid','geo'])\n",
    "sr14_geo_df = sr14_geo_df.reindex(idx, fill_value=0)\n",
    "sr14_geo_df.fillna(0,inplace=True)\n",
    "sr14_geo_df = sr14_geo_df.stack(['jcid','geo'])\n",
    "sr14_geo_df.reset_index(inplace=True)\n",
    "sr14_geo_df.set_index('jcid',inplace=True)"
   ]
  },
  {
   "cell_type": "code",
   "execution_count": null,
   "metadata": {},
   "outputs": [],
   "source": [
    "del_mar_after = sr14_geo_df.loc[4].sort_values(by='year_simulation')\n",
    "del_mar_after.plot(x='year_simulation',y='hs_sum',style='.-',title='Replace Null with Zeroes Del Mar Housing Unit Change')"
   ]
  },
  {
   "cell_type": "code",
   "execution_count": null,
   "metadata": {},
   "outputs": [],
   "source": [
    "len(sr14_geo_df.geo.unique())"
   ]
  },
  {
   "cell_type": "code",
   "execution_count": null,
   "metadata": {},
   "outputs": [],
   "source": [
    "len(du_sr14_geo_df)"
   ]
  },
  {
   "cell_type": "code",
   "execution_count": null,
   "metadata": {},
   "outputs": [],
   "source": [
    "len(sr14_geo_df.year_simulation.unique())"
   ]
  },
  {
   "cell_type": "code",
   "execution_count": null,
   "metadata": {},
   "outputs": [],
   "source": [
    "len(sr14_geo_df.year_simulation.unique()) * len(sr14_geo_df.geo.unique())"
   ]
  },
  {
   "cell_type": "code",
   "execution_count": null,
   "metadata": {},
   "outputs": [],
   "source": [
    "len(sr14_geo_df)"
   ]
  },
  {
   "cell_type": "markdown",
   "metadata": {},
   "source": [
    "## Sum units from output of simulation over five year increments"
   ]
  },
  {
   "cell_type": "code",
   "execution_count": null,
   "metadata": {
    "collapsed": true
   },
   "outputs": [],
   "source": [
    "bins = range(2015,2055,5)\n",
    "names = [str(x) for x in range(2020,2055,5)]\n",
    "sr14_geo_df['increment'] = pd.cut(sr14_geo_df.year_simulation, bins, labels=names)"
   ]
  },
  {
   "cell_type": "code",
   "execution_count": null,
   "metadata": {
    "collapsed": true
   },
   "outputs": [],
   "source": [
    "sr14_increment = pd.DataFrame({'hs_increment': sr14_geo_df.\n",
    "                                            groupby([\"increment\",\"jcid\",\"geo\"]).\n",
    "                                 hs_sum.sum()}).reset_index()\n",
    "# sr14_increment.set_index('jcid',inplace=True)"
   ]
  },
  {
   "cell_type": "code",
   "execution_count": null,
   "metadata": {},
   "outputs": [],
   "source": [
    "sr14_increment.head()"
   ]
  },
  {
   "cell_type": "code",
   "execution_count": null,
   "metadata": {},
   "outputs": [],
   "source": [
    "sr14_increment.increment.unique()"
   ]
  },
  {
   "cell_type": "code",
   "execution_count": null,
   "metadata": {
    "collapsed": true
   },
   "outputs": [],
   "source": [
    "sr14_increment.increment = sr14_increment.increment.astype(int)"
   ]
  },
  {
   "cell_type": "markdown",
   "metadata": {},
   "source": [
    "## Cumulative sum units added by increment"
   ]
  },
  {
   "cell_type": "code",
   "execution_count": null,
   "metadata": {
    "collapsed": true
   },
   "outputs": [],
   "source": [
    "sr14_increment['hs_cumulative'] = sr14_increment.groupby(['geo'])['hs_increment'].apply(lambda x: x.cumsum())\n",
    "sr14_increment.set_index('jcid',inplace=True)"
   ]
  },
  {
   "cell_type": "code",
   "execution_count": null,
   "metadata": {},
   "outputs": [],
   "source": [
    "sr14_increment.loc[sr14_increment.geo=='Carlsbad']"
   ]
  },
  {
   "cell_type": "markdown",
   "metadata": {},
   "source": [
    "## Join simulation output with existing dwelling units"
   ]
  },
  {
   "cell_type": "code",
   "execution_count": null,
   "metadata": {},
   "outputs": [],
   "source": [
    "len(sr14_increment)"
   ]
  },
  {
   "cell_type": "code",
   "execution_count": null,
   "metadata": {},
   "outputs": [],
   "source": [
    "len(du_sr14_geo_df)"
   ]
  },
  {
   "cell_type": "code",
   "execution_count": null,
   "metadata": {
    "collapsed": true
   },
   "outputs": [],
   "source": [
    "sr14 = sr14_increment.join(du_sr14_geo_df)"
   ]
  },
  {
   "cell_type": "code",
   "execution_count": null,
   "metadata": {},
   "outputs": [],
   "source": [
    "sr14.head()"
   ]
  },
  {
   "cell_type": "code",
   "execution_count": null,
   "metadata": {
    "collapsed": true
   },
   "outputs": [],
   "source": [
    "sr14['hs'] = sr14['hs_cumulative'] + sr14['du_2017']"
   ]
  },
  {
   "cell_type": "code",
   "execution_count": null,
   "metadata": {
    "scrolled": true
   },
   "outputs": [],
   "source": [
    "sr14.loc[1].sort_values(by='increment')"
   ]
  },
  {
   "cell_type": "markdown",
   "metadata": {},
   "source": [
    "## Add increment 2016 with units added equal to zero for baseline du (for plotting)"
   ]
  },
  {
   "cell_type": "code",
   "execution_count": null,
   "metadata": {
    "collapsed": true
   },
   "outputs": [],
   "source": [
    "start_year = sr14_geo_df.loc[sr14_geo_df.year_simulation==2017].copy()\n",
    "len(start_year)\n",
    "start_year['increment'] = 2015\n",
    "start_year = start_year.join(du_sr14_geo_df)\n",
    "start_year['hs'] = start_year['du']\n",
    "start_year['year_simulation'] = 'baseline'\n",
    "sr14 = pd.concat([sr14,start_year])"
   ]
  },
  {
   "cell_type": "code",
   "execution_count": null,
   "metadata": {
    "collapsed": true
   },
   "outputs": [],
   "source": [
    "start_year['increment'] = 2017\n",
    "start_year['hs'] = start_year['du_2017']\n",
    "sr14 = pd.concat([sr14,start_year])"
   ]
  },
  {
   "cell_type": "code",
   "execution_count": null,
   "metadata": {
    "collapsed": true
   },
   "outputs": [],
   "source": [
    "# sr14.loc[1420].sort_values(by='increment')"
   ]
  },
  {
   "cell_type": "markdown",
   "metadata": {},
   "source": [
    "## SR13 aggregrate"
   ]
  },
  {
   "cell_type": "markdown",
   "metadata": {},
   "source": [
    "####  mgra level housing to cpa and jurisdiction and group by increment and sum"
   ]
  },
  {
   "cell_type": "code",
   "execution_count": null,
   "metadata": {},
   "outputs": [],
   "source": [
    "sr13_geo_df = pd.DataFrame({'hs_sum': sr13_df.groupby(['jur_or_cpa_name','jur_or_cpa_id','increment']).\n",
    "                               hs.sum()}).reset_index()\n",
    "sr13_geo_df.rename(columns = {'jur_or_cpa_name':'geo'},inplace=True)\n",
    "sr13_geo_df.sort_values(by='jur_or_cpa_id',inplace=True)\n",
    "sr13_geo_df.head()"
   ]
  },
  {
   "cell_type": "code",
   "execution_count": null,
   "metadata": {},
   "outputs": [],
   "source": [
    "print(\"\\nNum of geographies (jurisdiction plus cpa) = {:,}\\n\".format(int(len(sr13_geo_df.loc[sr13_geo_df.increment==2015]))))"
   ]
  },
  {
   "cell_type": "code",
   "execution_count": null,
   "metadata": {},
   "outputs": [],
   "source": [
    "sr13_geo_df.loc[sr13_geo_df.geo=='Escondido'].sort_values(by='increment')"
   ]
  },
  {
   "cell_type": "markdown",
   "metadata": {},
   "source": [
    "##  sr13 pivot so each jurisdiction or cpa is column and rows are increments"
   ]
  },
  {
   "cell_type": "code",
   "execution_count": null,
   "metadata": {},
   "outputs": [],
   "source": [
    "sr13_geo_df_pivot = sr13_geo_df.pivot\\\n",
    "(index='increment', columns='geo', values='hs_sum').\\\n",
    "reset_index().rename_axis(None, axis=1)\n",
    "sr13_geo_df_pivot.set_index('increment',inplace=True)\n",
    "sr13_geo_df_pivot"
   ]
  },
  {
   "cell_type": "markdown",
   "metadata": {},
   "source": [
    "##  sr14 pivot so each jurisdiction or cpa is column and rows are increments"
   ]
  },
  {
   "cell_type": "code",
   "execution_count": null,
   "metadata": {},
   "outputs": [],
   "source": [
    "sr14_geo_df_pivot = sr14.pivot\\\n",
    "(index='increment', columns='geo', values='hs').\\\n",
    "reset_index().rename_axis(None, axis=1)\n",
    "sr14_geo_df_pivot.set_index('increment',inplace=True)\n",
    "sr14_geo_df_pivot.fillna(0,inplace=True)\n",
    "sr14_geo_df_pivot"
   ]
  },
  {
   "cell_type": "markdown",
   "metadata": {},
   "source": [
    "####  sr13 calculate total change by region and jurisdiction and cpa"
   ]
  },
  {
   "cell_type": "code",
   "execution_count": null,
   "metadata": {},
   "outputs": [],
   "source": [
    "total_diff = sr13_geo_df_pivot.loc[[2012,2050],:]\n",
    "differences = total_diff.diff().loc[[2050]]\n",
    "differences.rename(index={2050: 'total_change'},inplace=True)\n",
    "totalchange = pd.DataFrame(differences.sum(axis=0))\n",
    "totalchange.rename(columns={0: 'total_change'},inplace=True)\n",
    "print(\"\\nTotal Units added sr13: {:,}\".format(int(totalchange.total_change.sum())))"
   ]
  },
  {
   "cell_type": "code",
   "execution_count": null,
   "metadata": {
    "collapsed": true
   },
   "outputs": [],
   "source": [
    "geolist = sr14_geo_df.geo.unique().tolist()"
   ]
  },
  {
   "cell_type": "code",
   "execution_count": null,
   "metadata": {
    "collapsed": true
   },
   "outputs": [],
   "source": [
    "l = []\n",
    "for jur in (geolist):\n",
    "    s = str(jur)\n",
    "    l.append(s)"
   ]
  },
  {
   "cell_type": "code",
   "execution_count": null,
   "metadata": {
    "collapsed": true
   },
   "outputs": [],
   "source": [
    "#print '[%s]' % ', '.join(map(str, l))"
   ]
  },
  {
   "cell_type": "code",
   "execution_count": null,
   "metadata": {},
   "outputs": [],
   "source": [
    "geolist[1:5]"
   ]
  },
  {
   "cell_type": "code",
   "execution_count": null,
   "metadata": {
    "collapsed": true
   },
   "outputs": [],
   "source": [
    "jur = geolist[4]"
   ]
  },
  {
   "cell_type": "code",
   "execution_count": null,
   "metadata": {},
   "outputs": [],
   "source": [
    "jur"
   ]
  },
  {
   "cell_type": "code",
   "execution_count": null,
   "metadata": {},
   "outputs": [],
   "source": [
    "scheddevlabel_sr13 = '(' + str(int( sr13_sched_dev_totals.loc[ sr13_sched_dev_totals['geo']==jur].iloc[0]['sched_dev_sum'])) + ' sched dev)'    \n",
    "scheddevlabel_sr13"
   ]
  },
  {
   "cell_type": "markdown",
   "metadata": {},
   "source": [
    "# plot"
   ]
  },
  {
   "cell_type": "markdown",
   "metadata": {},
   "source": [
    "### directory for plots"
   ]
  },
  {
   "cell_type": "code",
   "execution_count": null,
   "metadata": {
    "collapsed": true
   },
   "outputs": [],
   "source": [
    "#print os.getcwd()"
   ]
  },
  {
   "cell_type": "code",
   "execution_count": null,
   "metadata": {
    "collapsed": true
   },
   "outputs": [],
   "source": [
    "dirname = os.path.join(os.getcwd(),'plots')#,datetime.datetime.now().strftime('%Y-%m-%d_%H-%M-%S'))\n",
    "                       \n",
    "                       # 'run_'+str(run_id) + '_city_cpa')\n",
    "                         \n",
    "try:\n",
    "    os.stat(dirname)\n",
    "except:\n",
    "    os.mkdir(dirname)  "
   ]
  },
  {
   "cell_type": "code",
   "execution_count": null,
   "metadata": {
    "collapsed": true
   },
   "outputs": [],
   "source": [
    "# print dirname"
   ]
  },
  {
   "cell_type": "code",
   "execution_count": null,
   "metadata": {},
   "outputs": [],
   "source": [
    "# sr13_geo_df_pivot.columns.tolist()\n",
    "# sr13_geo_df_pivot[[jur]]\n",
    "# sr14_geo_df_pivot[[jur]]\n",
    "len(sr14_geo_df_pivot.columns.tolist())"
   ]
  },
  {
   "cell_type": "code",
   "execution_count": null,
   "metadata": {},
   "outputs": [],
   "source": [
    "sr14_geo_df_pivot.head()"
   ]
  },
  {
   "cell_type": "code",
   "execution_count": null,
   "metadata": {
    "collapsed": true
   },
   "outputs": [],
   "source": [
    "# sr14_geo_df_pivot.to_csv('test.csv')"
   ]
  },
  {
   "cell_type": "code",
   "execution_count": null,
   "metadata": {
    "collapsed": true
   },
   "outputs": [],
   "source": [
    "# scheddevlabel_sr13"
   ]
  },
  {
   "cell_type": "code",
   "execution_count": null,
   "metadata": {
    "collapsed": true
   },
   "outputs": [],
   "source": [
    "# '(' + str(int( sr13_sched_dev_totals.loc[ sr13_sched_dev_totals['geo']==jur].iloc[0]['sched_dev_sum'])) + ' sched dev)'    "
   ]
  },
  {
   "cell_type": "code",
   "execution_count": null,
   "metadata": {},
   "outputs": [],
   "source": [
    "sr14_geo_df.head()"
   ]
  },
  {
   "cell_type": "markdown",
   "metadata": {},
   "source": [
    "#### plot figures as png"
   ]
  },
  {
   "cell_type": "code",
   "execution_count": null,
   "metadata": {
    "scrolled": false
   },
   "outputs": [],
   "source": [
    "from matplotlib.patches import Rectangle\n",
    "for j, jur in enumerate(geolist):\n",
    "    if jur == 'blank':\n",
    "        img = np.zeros([100,100,3],dtype=np.uint8)\n",
    "        img.fill(255)\n",
    "        # plotname = 'out/luz4/' + str(j+1) + '_luz.png'\n",
    "        # imsave( plotname,img)\n",
    "    else:\n",
    "        fig = plt.figure()\n",
    "        ax = fig.add_subplot(111)\n",
    "        \n",
    "        chg = int(sr14_increment.loc[(sr14_increment.increment==2050) & (sr14_increment.geo==jur)].hs_cumulative)\n",
    "        \n",
    "        plotlabelsr13 = 'sr13: ' +  ' ' + str(int(totalchange.loc[jur][0]))\n",
    "        \n",
    "        plotlabelsr14 = 'sr14: '+ ' ' + str(chg)  # + '\\n(sched dev = ' + \\\n",
    "              # str(int(sr14_source1.loc[sr14_source1['geo']==jur].iloc[0]['hs_sum'])) + ')'\n",
    "            \n",
    "        scheddevlabel_sr13 = '(' + str(int( sr13_sched_dev_totals.loc[ sr13_sched_dev_totals['geo']==jur].iloc[0]['sched_dev_sum'])) + ' sched dev)'    \n",
    "        scheddevlabel = '(' + str(int(sr14_source1.loc[sr14_source1['geo']==jur].iloc[0]['hs_sum'])) + ' sched dev)'\n",
    "        \n",
    "        sr14_increments_int = sr14_geo_df_pivot[[jur]].reset_index().increment.tolist()\n",
    "        \n",
    "        \n",
    "        sr14 = ax.plot(sr14_increments_int,\n",
    "                       sr14_geo_df_pivot[[jur]].reset_index()[jur].tolist(),'b-o', label=plotlabelsr14)\n",
    "    \n",
    "        sr13_increments_int = sr13_geo_df_pivot[[jur]].reset_index().increment.tolist()\n",
    "        \n",
    "    \n",
    "        sr13 = plt.plot(sr13_increments_int,\n",
    "                        sr13_geo_df_pivot[[jur]].reset_index()[jur].tolist(),'r-o', label=plotlabelsr13)\n",
    "          \n",
    "        city_cpa_id = str(sr14_geo_df.loc[sr14_geo_df['geo']==jur].index.values[0])    \n",
    "        legendtitle = jur + ' (' +  city_cpa_id + ')'\n",
    "\n",
    "                \n",
    "        # create blank rectangle\n",
    "        extra = Rectangle((0, 0), 1, 1, fc=\"w\", fill=False, edgecolor='none', linewidth=0)\n",
    "        extra2 = Rectangle((0, 0), 1, 1, fc=\"w\", fill=False, edgecolor='none', linewidth=0)\n",
    "        extra3 = Rectangle((0, 0), 1, 1, fc=\"w\", fill=False, edgecolor='none', linewidth=0)\n",
    "        ax.legend([extra, sr13[0],extra2,sr14[0],extra3], (\"Total Chg\", plotlabelsr13,scheddevlabel_sr13, plotlabelsr14,scheddevlabel))\n",
    "        plt.ylabel('Housing stock')\n",
    "        plt.xlabel('Increment')\n",
    "        plt.title('Series 13 and DRAFT Series 14 Comparison\\n' + legendtitle)\n",
    "        jur_ = jur.replace(\":\", \"_\") # colon not allowed in windows filename\n",
    "        plotname = dirname + '//' + str(run_id) + '_city_cpa_' + city_cpa_id + '_' + jur_ + '.png'\n",
    "        \n",
    "        fig = plt.gcf()\n",
    "        fig.set_size_inches(6, 4.5)\n",
    "        fig.savefig(plotname, bbox_inches='tight',dpi=200)\n",
    "        plt.show()\n",
    "        plt.close(fig)"
   ]
  },
  {
   "cell_type": "markdown",
   "metadata": {},
   "source": [
    "#  AS PDF instead of png"
   ]
  },
  {
   "cell_type": "raw",
   "metadata": {
    "collapsed": true
   },
   "source": [
    "# pp = PdfPages(\"out/sr13_and_draft_sr14_compare_3_w_2controlsb.pdf\")# \n",
    "# pdfdirname = os.path.join(os.getcwd(),'plots') ,datetime.datetime.now().strftime('%Y-%m-%d_%H-%M-%S'))\n",
    "# pdfplotname = pdfdirname + '//' + str(run_id) + '_city_cpa_' + str(j+1) + '_' +\\\n",
    "#              datetime.datetime.now().strftime('%Y-%m-%d_%H-%M-%S')) + '.pdf'\n",
    "# pp = PdfPages(pdfplotname)\n",
    "\n",
    "\n",
    "# for j, jur in enumerate(sr14_geo_df.geo.unique().tolist()):\n",
    "# for j, jur in  enumerate(['Carlsbad','Chula Vista']):\n",
    "#    chg = int(sr14_increment.loc[(sr14_increment.increment=='2050') & (sr14_increment.geo==jur)].hs_cumulative)\n",
    "#    jur_and_cpa_plot = plt.figure()\n",
    "    # plt.subplot(20, 1, j+1)\n",
    "    # plotlabel = jur + '\\nchg = ' + str(int(totalchange.loc[jur][0]))\n",
    "#    plotlabelsr14 = 'sr14: '+ str(sr14_geo_df.loc[sr14_geo_df['geo']==jur].index.values[0]) + '.' +\\\n",
    "#                jur + '\\nchg = ' + str(chg) + '\\n(sched dev = ' + \\\n",
    "#                str(int(sr14_source1.loc[sr14_source1['geo']==jur].iloc[0]['hs_sum'])) + ')'\n",
    "#    plotlabelsr13 = 'sr13: ' + str(sr13_geo_df.loc[sr13_geo_df['geo']==jur].jur_or_cpa_id.values[0]) + '.' +\\\n",
    "#                jur + '\\nchg = ' + str(int(totalchange.loc[jur][0]))\n",
    "    \n",
    "    #plt.plot(sr14_geo_df_pivot[[jur]].reset_index().increment.tolist(),sr14_geo_df_pivot[[jur]].reset_index()[jur].tolist(),\n",
    "            # label=plotlabelsr14,\n",
    "    #         sr13_geo_df_pivot[[jur]].reset_index().increment.tolist(),sr13_geo_df_pivot[[jur]].reset_index()[jur].tolist(),\n",
    "     #        label=plotlabelsr13\n",
    "     #       )\n",
    "#    plt.plot(sr14_geo_df_pivot[[jur]].reset_index().increment.tolist(),\n",
    "#             sr14_geo_df_pivot[[jur]].reset_index()[jur].tolist(),'b-o', label=plotlabelsr14)\n",
    "#    plt.plot(sr13_geo_df_pivot[[jur]].reset_index().increment.tolist(),\n",
    "#             sr13_geo_df_pivot[[jur]].reset_index()[jur].tolist(),'r-o', label=plotlabelsr13)\n",
    "#    plt.legend()\n",
    "#    plt.ylabel('Housing stock')\n",
    "#    plt.xlabel('Increment')\n",
    "#    plt.title('Series 13 and Draft Series 14\\n   at Jurisdiction and CPA')\n",
    "#    pp.savefig(jur_and_cpa_plot, dpi = 300, transparent = True)\n",
    "# pp.close()\n",
    "# plt.savefig('sr13_jur_and_cpa.png')"
   ]
  },
  {
   "cell_type": "markdown",
   "metadata": {},
   "source": [
    "units_added_by_source.plot(style='.-',stacked=True,kind='bar',ax=axes.flat[2],\\\n",
    "                           figsize=(10,15),color=['red','purple','green','sandybrown'])"
   ]
  },
  {
   "cell_type": "markdown",
   "metadata": {
    "collapsed": true
   },
   "source": [
    "# QC data"
   ]
  },
  {
   "cell_type": "code",
   "execution_count": null,
   "metadata": {},
   "outputs": [],
   "source": [
    "units.columns"
   ]
  },
  {
   "cell_type": "code",
   "execution_count": null,
   "metadata": {
    "scrolled": true
   },
   "outputs": [],
   "source": [
    "units[['jcid','name','parcel_id','hs_change','source','year_simulation']].head()"
   ]
  },
  {
   "cell_type": "code",
   "execution_count": null,
   "metadata": {
    "collapsed": true
   },
   "outputs": [],
   "source": [
    "j1414 = units[['jcid','name','parcel_id','hs_change','source','year_simulation']].loc[units.jcid==1414]"
   ]
  },
  {
   "cell_type": "code",
   "execution_count": null,
   "metadata": {
    "collapsed": true
   },
   "outputs": [],
   "source": [
    "j1414.sort_values(by='year_simulation',inplace=True)"
   ]
  },
  {
   "cell_type": "code",
   "execution_count": null,
   "metadata": {},
   "outputs": [],
   "source": [
    "j1414.hs_change.sum()"
   ]
  },
  {
   "cell_type": "code",
   "execution_count": null,
   "metadata": {},
   "outputs": [],
   "source": [
    "j1414"
   ]
  },
  {
   "cell_type": "code",
   "execution_count": null,
   "metadata": {
    "collapsed": true
   },
   "outputs": [],
   "source": []
  },
  {
   "cell_type": "markdown",
   "metadata": {},
   "source": [
    "## bar chart"
   ]
  },
  {
   "cell_type": "code",
   "execution_count": 4,
   "metadata": {},
   "outputs": [
    {
     "name": "stdout",
     "output_type": "stream",
     "text": [
      "\n",
      "Run id : 21\n",
      "\n",
      "Units added: 7,865 \n"
     ]
    }
   ],
   "source": [
    "# get max run id from urbansim\n",
    "run_id_sql = '''\n",
    "SELECT max(run_id)\n",
    "  FROM [urbansim].[urbansim].[urbansim_lite_output]\n",
    "'''\n",
    "run_id_df = pd.read_sql(run_id_sql, mssql_engine)\n",
    "run_id = int(run_id_df.values)\n",
    "print(\"\\nRun id : {:,}\".format(run_id))\n",
    "\n",
    "hs_change_sql = '''\n",
    "    SELECT o.parcel_id, j.name,  p.cap_jurisdiction_id, p.jurisdiction_id, p.mgra_id, p.luz_id,\n",
    "    unit_change as hs_change, source, capacity_type,year_simulation\n",
    "      FROM urbansim.urbansim.urbansim_lite_output o \n",
    "      JOIN urbansim.urbansim.parcel p on p.parcel_id = o.parcel_id\n",
    "      JOIN urbansim.ref.jurisdiction j on p.cap_jurisdiction_id = j.jurisdiction_id\n",
    "     WHERE run_id =  %s and p.cap_jurisdiction_id = 1\n",
    "  ORDER BY j.name,p.jurisdiction_id, year_simulation'''\n",
    "hs_change_sql = hs_change_sql % run_id\n",
    "hs = pd.read_sql(hs_change_sql,mssql_engine)\n",
    "units_added = int(hs.hs_change.sum())\n",
    "\n",
    "print(\"\\nUnits added: {:,} \".\\\n",
    "      format(units_added))"
   ]
  },
  {
   "cell_type": "code",
   "execution_count": 5,
   "metadata": {},
   "outputs": [
    {
     "data": {
      "text/html": [
       "<div>\n",
       "<style>\n",
       "    .dataframe thead tr:only-child th {\n",
       "        text-align: right;\n",
       "    }\n",
       "\n",
       "    .dataframe thead th {\n",
       "        text-align: left;\n",
       "    }\n",
       "\n",
       "    .dataframe tbody tr th {\n",
       "        vertical-align: top;\n",
       "    }\n",
       "</style>\n",
       "<table border=\"1\" class=\"dataframe\">\n",
       "  <thead>\n",
       "    <tr style=\"text-align: right;\">\n",
       "      <th></th>\n",
       "      <th>parcel_id</th>\n",
       "      <th>name</th>\n",
       "      <th>cap_jurisdiction_id</th>\n",
       "      <th>jurisdiction_id</th>\n",
       "      <th>mgra_id</th>\n",
       "      <th>luz_id</th>\n",
       "      <th>hs_change</th>\n",
       "      <th>source</th>\n",
       "      <th>capacity_type</th>\n",
       "      <th>year_simulation</th>\n",
       "    </tr>\n",
       "  </thead>\n",
       "  <tbody>\n",
       "    <tr>\n",
       "      <th>0</th>\n",
       "      <td>5054670</td>\n",
       "      <td>Carlsbad</td>\n",
       "      <td>1</td>\n",
       "      <td>1</td>\n",
       "      <td>14090</td>\n",
       "      <td>12</td>\n",
       "      <td>11</td>\n",
       "      <td>1</td>\n",
       "      <td>sch</td>\n",
       "      <td>2017</td>\n",
       "    </tr>\n",
       "    <tr>\n",
       "      <th>1</th>\n",
       "      <td>329171</td>\n",
       "      <td>Carlsbad</td>\n",
       "      <td>1</td>\n",
       "      <td>1</td>\n",
       "      <td>14090</td>\n",
       "      <td>12</td>\n",
       "      <td>3</td>\n",
       "      <td>1</td>\n",
       "      <td>sch</td>\n",
       "      <td>2017</td>\n",
       "    </tr>\n",
       "    <tr>\n",
       "      <th>2</th>\n",
       "      <td>685559</td>\n",
       "      <td>Carlsbad</td>\n",
       "      <td>1</td>\n",
       "      <td>1</td>\n",
       "      <td>14167</td>\n",
       "      <td>12</td>\n",
       "      <td>1</td>\n",
       "      <td>1</td>\n",
       "      <td>sch</td>\n",
       "      <td>2017</td>\n",
       "    </tr>\n",
       "    <tr>\n",
       "      <th>3</th>\n",
       "      <td>684248</td>\n",
       "      <td>Carlsbad</td>\n",
       "      <td>1</td>\n",
       "      <td>1</td>\n",
       "      <td>14090</td>\n",
       "      <td>12</td>\n",
       "      <td>2</td>\n",
       "      <td>1</td>\n",
       "      <td>sch</td>\n",
       "      <td>2017</td>\n",
       "    </tr>\n",
       "    <tr>\n",
       "      <th>4</th>\n",
       "      <td>5010042</td>\n",
       "      <td>Carlsbad</td>\n",
       "      <td>1</td>\n",
       "      <td>1</td>\n",
       "      <td>14290</td>\n",
       "      <td>11</td>\n",
       "      <td>7</td>\n",
       "      <td>1</td>\n",
       "      <td>sch</td>\n",
       "      <td>2017</td>\n",
       "    </tr>\n",
       "  </tbody>\n",
       "</table>\n",
       "</div>"
      ],
      "text/plain": [
       "   parcel_id      name  cap_jurisdiction_id  jurisdiction_id  mgra_id  luz_id  \\\n",
       "0    5054670  Carlsbad                    1                1    14090      12   \n",
       "1     329171  Carlsbad                    1                1    14090      12   \n",
       "2     685559  Carlsbad                    1                1    14167      12   \n",
       "3     684248  Carlsbad                    1                1    14090      12   \n",
       "4    5010042  Carlsbad                    1                1    14290      11   \n",
       "\n",
       "   hs_change  source capacity_type  year_simulation  \n",
       "0         11       1           sch             2017  \n",
       "1          3       1           sch             2017  \n",
       "2          1       1           sch             2017  \n",
       "3          2       1           sch             2017  \n",
       "4          7       1           sch             2017  "
      ]
     },
     "execution_count": 5,
     "metadata": {},
     "output_type": "execute_result"
    }
   ],
   "source": [
    "hs.head()"
   ]
  },
  {
   "cell_type": "code",
   "execution_count": 6,
   "metadata": {
    "collapsed": true
   },
   "outputs": [],
   "source": [
    "hs2 = hs.copy()\n",
    "hs2.replace('cc', 'SGOA',inplace=True)\n",
    "hs2.replace('mc', 'SGOA',inplace=True)\n",
    "hs2.replace('tc', 'SGOA',inplace=True)\n",
    "hs2.replace('tco', 'SGOA',inplace=True)\n",
    "hs2.replace('uc', 'SGOA',inplace=True)\n",
    "units_added_by_capacity_type_and_yr = pd.DataFrame({'units_by_type': hs2.\n",
    "                                          groupby([\"year_simulation\",\"capacity_type\"])\n",
    "                                          .hs_change.sum()}).reset_index()\n",
    "type_pivot = units_added_by_capacity_type_and_yr.pivot\\\n",
    "(index='year_simulation', columns='capacity_type', values='units_by_type').\\\n",
    "reset_index().rename_axis(None, axis=1)\n",
    "type_pivot.fillna(0,inplace=True)\n",
    "type_pivot.set_index('year_simulation',inplace=True)\n",
    "type_pivot = type_pivot[['sch', 'jur', 'adu', 'SGOA']]"
   ]
  },
  {
   "cell_type": "code",
   "execution_count": 7,
   "metadata": {},
   "outputs": [],
   "source": [
    "type_pivot['sch'] = type_pivot['sch'].cumsum()\n",
    "type_pivot['jur'] = type_pivot['jur'].cumsum()\n",
    "type_pivot['adu'] = type_pivot['adu'].cumsum()\n",
    "type_pivot['SGOA'] = type_pivot['SGOA'].cumsum()"
   ]
  },
  {
   "cell_type": "code",
   "execution_count": 8,
   "metadata": {},
   "outputs": [
    {
     "data": {
      "text/html": [
       "<div>\n",
       "<style>\n",
       "    .dataframe thead tr:only-child th {\n",
       "        text-align: right;\n",
       "    }\n",
       "\n",
       "    .dataframe thead th {\n",
       "        text-align: left;\n",
       "    }\n",
       "\n",
       "    .dataframe tbody tr th {\n",
       "        vertical-align: top;\n",
       "    }\n",
       "</style>\n",
       "<table border=\"1\" class=\"dataframe\">\n",
       "  <thead>\n",
       "    <tr style=\"text-align: right;\">\n",
       "      <th></th>\n",
       "      <th>sch</th>\n",
       "      <th>jur</th>\n",
       "      <th>adu</th>\n",
       "      <th>SGOA</th>\n",
       "    </tr>\n",
       "    <tr>\n",
       "      <th>year_simulation</th>\n",
       "      <th></th>\n",
       "      <th></th>\n",
       "      <th></th>\n",
       "      <th></th>\n",
       "    </tr>\n",
       "  </thead>\n",
       "  <tbody>\n",
       "    <tr>\n",
       "      <th>2017</th>\n",
       "      <td>34.0</td>\n",
       "      <td>0.0</td>\n",
       "      <td>0.0</td>\n",
       "      <td>0.0</td>\n",
       "    </tr>\n",
       "    <tr>\n",
       "      <th>2018</th>\n",
       "      <td>86.0</td>\n",
       "      <td>0.0</td>\n",
       "      <td>0.0</td>\n",
       "      <td>0.0</td>\n",
       "    </tr>\n",
       "    <tr>\n",
       "      <th>2019</th>\n",
       "      <td>301.0</td>\n",
       "      <td>0.0</td>\n",
       "      <td>0.0</td>\n",
       "      <td>0.0</td>\n",
       "    </tr>\n",
       "    <tr>\n",
       "      <th>2020</th>\n",
       "      <td>2042.0</td>\n",
       "      <td>0.0</td>\n",
       "      <td>0.0</td>\n",
       "      <td>0.0</td>\n",
       "    </tr>\n",
       "    <tr>\n",
       "      <th>2021</th>\n",
       "      <td>2335.0</td>\n",
       "      <td>0.0</td>\n",
       "      <td>0.0</td>\n",
       "      <td>0.0</td>\n",
       "    </tr>\n",
       "  </tbody>\n",
       "</table>\n",
       "</div>"
      ],
      "text/plain": [
       "                    sch  jur  adu  SGOA\n",
       "year_simulation                        \n",
       "2017               34.0  0.0  0.0   0.0\n",
       "2018               86.0  0.0  0.0   0.0\n",
       "2019              301.0  0.0  0.0   0.0\n",
       "2020             2042.0  0.0  0.0   0.0\n",
       "2021             2335.0  0.0  0.0   0.0"
      ]
     },
     "execution_count": 8,
     "metadata": {},
     "output_type": "execute_result"
    }
   ],
   "source": [
    "type_pivot.head()"
   ]
  },
  {
   "cell_type": "code",
   "execution_count": 9,
   "metadata": {},
   "outputs": [
    {
     "data": {
      "image/png": "[encoded data removed]",
      "text/plain": [
       "<matplotlib.figure.Figure at 0xbe2e4e0>"
      ]
     },
     "metadata": {},
     "output_type": "display_data"
    }
   ],
   "source": [
    "city_cpa_id = 1\n",
    "jur = 'Carlsbad'\n",
    "\n",
    "\n",
    "\n",
    "ax = type_pivot.plot.bar(stacked=True)\n",
    "ptitle = 'DRAFT Cumulative Housing Units Added By Capacity Type\\n' + jur + ' (' +  str(city_cpa_id) + ')'\n",
    "ax.set_ylabel(\"housing units added\",size=14)\n",
    "ax.set_title(ptitle,size=16) \n",
    "orig = ax.legend\n",
    "#extra = Rectangle((0, 0), 1, 1, fc=\"w\", fill=False, edgecolor='none', linewidth=0)\n",
    "ax.legend([\"sch (5)\", \"jur (10)\",\"adu (20)\",\"SGOA (15)\"]);\n",
    "#ax.legend([orig,extra], ([\"sch (5)\", \"jur (10)\",\"adu (20)\",\"SGOA (15)\"],\"Total Chg\"))\n",
    "        # create blank rectangle\n",
    "# extra = Rectangle((0, 0), 1, 1, fc=\"w\", fill=False, edgecolor='none', linewidth=0)\n",
    "# extra2 = Rectangle((0, 0), 1, 1, fc=\"w\", fill=False, edgecolor='none', linewidth=0)\n",
    "# extra3 = Rectangle((0, 0), 1, 1, fc=\"w\", fill=False, edgecolor='none', linewidth=0)\n",
    "# ax.legend([ax.legend,extra], (plotlabelsr13,\"Total Chg\"))"
   ]
  },
  {
   "cell_type": "code",
   "execution_count": 10,
   "metadata": {
    "collapsed": true
   },
   "outputs": [],
   "source": [
    "bins = range(2015,2055,5)\n",
    "names = [str(x) for x in range(2020,2055,5)]"
   ]
  },
  {
   "cell_type": "code",
   "execution_count": 11,
   "metadata": {
    "collapsed": true
   },
   "outputs": [],
   "source": [
    "hs2['increment'] = pd.cut(hs2.year_simulation, bins, labels=names)"
   ]
  },
  {
   "cell_type": "code",
   "execution_count": 12,
   "metadata": {},
   "outputs": [
    {
     "data": {
      "text/html": [
       "<div>\n",
       "<style>\n",
       "    .dataframe thead tr:only-child th {\n",
       "        text-align: right;\n",
       "    }\n",
       "\n",
       "    .dataframe thead th {\n",
       "        text-align: left;\n",
       "    }\n",
       "\n",
       "    .dataframe tbody tr th {\n",
       "        vertical-align: top;\n",
       "    }\n",
       "</style>\n",
       "<table border=\"1\" class=\"dataframe\">\n",
       "  <thead>\n",
       "    <tr style=\"text-align: right;\">\n",
       "      <th></th>\n",
       "      <th>parcel_id</th>\n",
       "      <th>name</th>\n",
       "      <th>cap_jurisdiction_id</th>\n",
       "      <th>jurisdiction_id</th>\n",
       "      <th>mgra_id</th>\n",
       "      <th>luz_id</th>\n",
       "      <th>hs_change</th>\n",
       "      <th>source</th>\n",
       "      <th>capacity_type</th>\n",
       "      <th>year_simulation</th>\n",
       "      <th>increment</th>\n",
       "    </tr>\n",
       "  </thead>\n",
       "  <tbody>\n",
       "    <tr>\n",
       "      <th>0</th>\n",
       "      <td>5054670</td>\n",
       "      <td>Carlsbad</td>\n",
       "      <td>1</td>\n",
       "      <td>1</td>\n",
       "      <td>14090</td>\n",
       "      <td>12</td>\n",
       "      <td>11</td>\n",
       "      <td>1</td>\n",
       "      <td>sch</td>\n",
       "      <td>2017</td>\n",
       "      <td>2020</td>\n",
       "    </tr>\n",
       "    <tr>\n",
       "      <th>1</th>\n",
       "      <td>329171</td>\n",
       "      <td>Carlsbad</td>\n",
       "      <td>1</td>\n",
       "      <td>1</td>\n",
       "      <td>14090</td>\n",
       "      <td>12</td>\n",
       "      <td>3</td>\n",
       "      <td>1</td>\n",
       "      <td>sch</td>\n",
       "      <td>2017</td>\n",
       "      <td>2020</td>\n",
       "    </tr>\n",
       "    <tr>\n",
       "      <th>2</th>\n",
       "      <td>685559</td>\n",
       "      <td>Carlsbad</td>\n",
       "      <td>1</td>\n",
       "      <td>1</td>\n",
       "      <td>14167</td>\n",
       "      <td>12</td>\n",
       "      <td>1</td>\n",
       "      <td>1</td>\n",
       "      <td>sch</td>\n",
       "      <td>2017</td>\n",
       "      <td>2020</td>\n",
       "    </tr>\n",
       "    <tr>\n",
       "      <th>3</th>\n",
       "      <td>684248</td>\n",
       "      <td>Carlsbad</td>\n",
       "      <td>1</td>\n",
       "      <td>1</td>\n",
       "      <td>14090</td>\n",
       "      <td>12</td>\n",
       "      <td>2</td>\n",
       "      <td>1</td>\n",
       "      <td>sch</td>\n",
       "      <td>2017</td>\n",
       "      <td>2020</td>\n",
       "    </tr>\n",
       "    <tr>\n",
       "      <th>4</th>\n",
       "      <td>5010042</td>\n",
       "      <td>Carlsbad</td>\n",
       "      <td>1</td>\n",
       "      <td>1</td>\n",
       "      <td>14290</td>\n",
       "      <td>11</td>\n",
       "      <td>7</td>\n",
       "      <td>1</td>\n",
       "      <td>sch</td>\n",
       "      <td>2017</td>\n",
       "      <td>2020</td>\n",
       "    </tr>\n",
       "  </tbody>\n",
       "</table>\n",
       "</div>"
      ],
      "text/plain": [
       "   parcel_id      name  cap_jurisdiction_id  jurisdiction_id  mgra_id  luz_id  \\\n",
       "0    5054670  Carlsbad                    1                1    14090      12   \n",
       "1     329171  Carlsbad                    1                1    14090      12   \n",
       "2     685559  Carlsbad                    1                1    14167      12   \n",
       "3     684248  Carlsbad                    1                1    14090      12   \n",
       "4    5010042  Carlsbad                    1                1    14290      11   \n",
       "\n",
       "   hs_change  source capacity_type  year_simulation increment  \n",
       "0         11       1           sch             2017      2020  \n",
       "1          3       1           sch             2017      2020  \n",
       "2          1       1           sch             2017      2020  \n",
       "3          2       1           sch             2017      2020  \n",
       "4          7       1           sch             2017      2020  "
      ]
     },
     "execution_count": 12,
     "metadata": {},
     "output_type": "execute_result"
    }
   ],
   "source": [
    "hs2.head()"
   ]
  },
  {
   "cell_type": "code",
   "execution_count": 13,
   "metadata": {
    "collapsed": true
   },
   "outputs": [],
   "source": [
    "units_added_by_capacity_type_and_yr = pd.DataFrame({'units_by_type': hs2.\n",
    "                                          groupby([\"increment\",\"capacity_type\"])\n",
    "                                          .hs_change.sum()}).reset_index()"
   ]
  },
  {
   "cell_type": "code",
   "execution_count": 14,
   "metadata": {},
   "outputs": [
    {
     "data": {
      "text/html": [
       "<div>\n",
       "<style>\n",
       "    .dataframe thead tr:only-child th {\n",
       "        text-align: right;\n",
       "    }\n",
       "\n",
       "    .dataframe thead th {\n",
       "        text-align: left;\n",
       "    }\n",
       "\n",
       "    .dataframe tbody tr th {\n",
       "        vertical-align: top;\n",
       "    }\n",
       "</style>\n",
       "<table border=\"1\" class=\"dataframe\">\n",
       "  <thead>\n",
       "    <tr style=\"text-align: right;\">\n",
       "      <th></th>\n",
       "      <th>increment</th>\n",
       "      <th>capacity_type</th>\n",
       "      <th>units_by_type</th>\n",
       "    </tr>\n",
       "  </thead>\n",
       "  <tbody>\n",
       "    <tr>\n",
       "      <th>0</th>\n",
       "      <td>2020</td>\n",
       "      <td>sch</td>\n",
       "      <td>2042</td>\n",
       "    </tr>\n",
       "    <tr>\n",
       "      <th>1</th>\n",
       "      <td>2025</td>\n",
       "      <td>jur</td>\n",
       "      <td>285</td>\n",
       "    </tr>\n",
       "    <tr>\n",
       "      <th>2</th>\n",
       "      <td>2025</td>\n",
       "      <td>sch</td>\n",
       "      <td>428</td>\n",
       "    </tr>\n",
       "    <tr>\n",
       "      <th>3</th>\n",
       "      <td>2030</td>\n",
       "      <td>jur</td>\n",
       "      <td>1023</td>\n",
       "    </tr>\n",
       "    <tr>\n",
       "      <th>4</th>\n",
       "      <td>2035</td>\n",
       "      <td>adu</td>\n",
       "      <td>83</td>\n",
       "    </tr>\n",
       "  </tbody>\n",
       "</table>\n",
       "</div>"
      ],
      "text/plain": [
       "  increment capacity_type  units_by_type\n",
       "0      2020           sch           2042\n",
       "1      2025           jur            285\n",
       "2      2025           sch            428\n",
       "3      2030           jur           1023\n",
       "4      2035           adu             83"
      ]
     },
     "execution_count": 14,
     "metadata": {},
     "output_type": "execute_result"
    }
   ],
   "source": [
    "units_added_by_capacity_type_and_yr.head()"
   ]
  },
  {
   "cell_type": "code",
   "execution_count": 53,
   "metadata": {
    "collapsed": true
   },
   "outputs": [],
   "source": [
    "type_pivot = units_added_by_capacity_type_and_yr.pivot\\\n",
    "(index='increment', columns='capacity_type', values='units_by_type').\\\n",
    "reset_index().rename_axis(None, axis=1)"
   ]
  },
  {
   "cell_type": "code",
   "execution_count": 54,
   "metadata": {},
   "outputs": [
    {
     "data": {
      "text/html": [
       "<div>\n",
       "<style>\n",
       "    .dataframe thead tr:only-child th {\n",
       "        text-align: right;\n",
       "    }\n",
       "\n",
       "    .dataframe thead th {\n",
       "        text-align: left;\n",
       "    }\n",
       "\n",
       "    .dataframe tbody tr th {\n",
       "        vertical-align: top;\n",
       "    }\n",
       "</style>\n",
       "<table border=\"1\" class=\"dataframe\">\n",
       "  <thead>\n",
       "    <tr style=\"text-align: right;\">\n",
       "      <th></th>\n",
       "      <th>increment</th>\n",
       "      <th>SGOA</th>\n",
       "      <th>adu</th>\n",
       "      <th>jur</th>\n",
       "      <th>sch</th>\n",
       "    </tr>\n",
       "  </thead>\n",
       "  <tbody>\n",
       "    <tr>\n",
       "      <th>0</th>\n",
       "      <td>2020</td>\n",
       "      <td>NaN</td>\n",
       "      <td>NaN</td>\n",
       "      <td>NaN</td>\n",
       "      <td>2042.0</td>\n",
       "    </tr>\n",
       "    <tr>\n",
       "      <th>1</th>\n",
       "      <td>2025</td>\n",
       "      <td>NaN</td>\n",
       "      <td>NaN</td>\n",
       "      <td>285.0</td>\n",
       "      <td>428.0</td>\n",
       "    </tr>\n",
       "    <tr>\n",
       "      <th>2</th>\n",
       "      <td>2030</td>\n",
       "      <td>NaN</td>\n",
       "      <td>NaN</td>\n",
       "      <td>1023.0</td>\n",
       "      <td>NaN</td>\n",
       "    </tr>\n",
       "    <tr>\n",
       "      <th>3</th>\n",
       "      <td>2035</td>\n",
       "      <td>NaN</td>\n",
       "      <td>83.0</td>\n",
       "      <td>1420.0</td>\n",
       "      <td>NaN</td>\n",
       "    </tr>\n",
       "    <tr>\n",
       "      <th>4</th>\n",
       "      <td>2040</td>\n",
       "      <td>NaN</td>\n",
       "      <td>389.0</td>\n",
       "      <td>379.0</td>\n",
       "      <td>NaN</td>\n",
       "    </tr>\n",
       "  </tbody>\n",
       "</table>\n",
       "</div>"
      ],
      "text/plain": [
       "  increment  SGOA    adu     jur     sch\n",
       "0      2020   NaN    NaN     NaN  2042.0\n",
       "1      2025   NaN    NaN   285.0   428.0\n",
       "2      2030   NaN    NaN  1023.0     NaN\n",
       "3      2035   NaN   83.0  1420.0     NaN\n",
       "4      2040   NaN  389.0   379.0     NaN"
      ]
     },
     "execution_count": 54,
     "metadata": {},
     "output_type": "execute_result"
    }
   ],
   "source": [
    "type_pivot.head()"
   ]
  },
  {
   "cell_type": "code",
   "execution_count": 55,
   "metadata": {
    "collapsed": true
   },
   "outputs": [],
   "source": [
    "sum_SGOA = int(type_pivot.SGOA.sum())\n",
    "sum_adu = int(type_pivot.adu.sum())\n",
    "sum_jur = int(type_pivot.jur.sum())\n",
    "sum_sch = int(type_pivot.sch.sum())"
   ]
  },
  {
   "cell_type": "code",
   "execution_count": 56,
   "metadata": {},
   "outputs": [],
   "source": [
    "type_pivot.SGOA.fillna(0,inplace=True)\n",
    "type_pivot.adu.fillna(0,inplace=True)\n",
    "type_pivot.jur.fillna(0,inplace=True)\n",
    "type_pivot.sch.fillna(0,inplace=True)"
   ]
  },
  {
   "cell_type": "code",
   "execution_count": 57,
   "metadata": {},
   "outputs": [],
   "source": [
    "type_pivot.set_index('increment',inplace=True)\n",
    "type_pivot = type_pivot[['sch', 'jur', 'adu', 'SGOA']]\n",
    "type_pivot['sch'] = type_pivot['sch'].cumsum()\n",
    "type_pivot['jur'] = type_pivot['jur'].cumsum()\n",
    "type_pivot['adu'] = type_pivot['adu'].cumsum()\n",
    "type_pivot['SGOA'] = type_pivot['SGOA'].cumsum()"
   ]
  },
  {
   "cell_type": "code",
   "execution_count": null,
   "metadata": {
    "collapsed": true
   },
   "outputs": [],
   "source": []
  },
  {
   "cell_type": "code",
   "execution_count": 38,
   "metadata": {},
   "outputs": [
    {
     "data": {
      "text/plain": [
       "[<matplotlib.patches.Rectangle at 0xc5bd710>,\n",
       " <Container object of 7 artists>,\n",
       " <Container object of 7 artists>,\n",
       " <Container object of 7 artists>,\n",
       " <Container object of 7 artists>]"
      ]
     },
     "execution_count": 38,
     "metadata": {},
     "output_type": "execute_result"
    }
   ],
   "source": [
    "handles"
   ]
  },
  {
   "cell_type": "code",
   "execution_count": 37,
   "metadata": {},
   "outputs": [
    {
     "data": {
      "text/plain": [
       "['Total added/capacity', u'sch', u'jur', u'adu', u'SGOA']"
      ]
     },
     "execution_count": 37,
     "metadata": {},
     "output_type": "execute_result"
    }
   ],
   "source": [
    "labels"
   ]
  },
  {
   "cell_type": "code",
   "execution_count": 46,
   "metadata": {},
   "outputs": [
    {
     "data": {
      "text/html": [
       "<div>\n",
       "<style>\n",
       "    .dataframe thead tr:only-child th {\n",
       "        text-align: right;\n",
       "    }\n",
       "\n",
       "    .dataframe thead th {\n",
       "        text-align: left;\n",
       "    }\n",
       "\n",
       "    .dataframe tbody tr th {\n",
       "        vertical-align: top;\n",
       "    }\n",
       "</style>\n",
       "<table border=\"1\" class=\"dataframe\">\n",
       "  <thead>\n",
       "    <tr style=\"text-align: right;\">\n",
       "      <th></th>\n",
       "      <th>sch</th>\n",
       "      <th>jur</th>\n",
       "      <th>adu</th>\n",
       "      <th>SGOA</th>\n",
       "    </tr>\n",
       "    <tr>\n",
       "      <th>increment</th>\n",
       "      <th></th>\n",
       "      <th></th>\n",
       "      <th></th>\n",
       "      <th></th>\n",
       "    </tr>\n",
       "  </thead>\n",
       "  <tbody>\n",
       "    <tr>\n",
       "      <th>2020</th>\n",
       "      <td>2042.0</td>\n",
       "      <td>0.0</td>\n",
       "      <td>0.0</td>\n",
       "      <td>0.0</td>\n",
       "    </tr>\n",
       "    <tr>\n",
       "      <th>2025</th>\n",
       "      <td>2470.0</td>\n",
       "      <td>285.0</td>\n",
       "      <td>0.0</td>\n",
       "      <td>0.0</td>\n",
       "    </tr>\n",
       "    <tr>\n",
       "      <th>2030</th>\n",
       "      <td>2470.0</td>\n",
       "      <td>1308.0</td>\n",
       "      <td>0.0</td>\n",
       "      <td>0.0</td>\n",
       "    </tr>\n",
       "    <tr>\n",
       "      <th>2035</th>\n",
       "      <td>2470.0</td>\n",
       "      <td>2728.0</td>\n",
       "      <td>83.0</td>\n",
       "      <td>0.0</td>\n",
       "    </tr>\n",
       "    <tr>\n",
       "      <th>2040</th>\n",
       "      <td>2470.0</td>\n",
       "      <td>3107.0</td>\n",
       "      <td>472.0</td>\n",
       "      <td>0.0</td>\n",
       "    </tr>\n",
       "  </tbody>\n",
       "</table>\n",
       "</div>"
      ],
      "text/plain": [
       "              sch     jur    adu  SGOA\n",
       "increment                             \n",
       "2020       2042.0     0.0    0.0   0.0\n",
       "2025       2470.0   285.0    0.0   0.0\n",
       "2030       2470.0  1308.0    0.0   0.0\n",
       "2035       2470.0  2728.0   83.0   0.0\n",
       "2040       2470.0  3107.0  472.0   0.0"
      ]
     },
     "execution_count": 46,
     "metadata": {},
     "output_type": "execute_result"
    }
   ],
   "source": [
    "type_pivot.head()"
   ]
  },
  {
   "cell_type": "code",
   "execution_count": 60,
   "metadata": {},
   "outputs": [
    {
     "data": {
      "image/png": "[encoded data removed]",
      "text/plain": [
       "<matplotlib.figure.Figure at 0x115d7940>"
      ]
     },
     "metadata": {},
     "output_type": "display_data"
    }
   ],
   "source": [
    "import matplotlib.patches as mpatches\n",
    "import matplotlib.pyplot as plt\n",
    "from matplotlib.patches import Rectangle\n",
    "\n",
    "city_cpa_id = 1\n",
    "jur = 'Carlsbad'\n",
    "\n",
    "ax = type_pivot.plot.bar(stacked=True)\n",
    "handles, labels = ax.get_legend_handles_labels()\n",
    "extra = Rectangle((0, 0), 1, 1, fc=\"w\", fill=False, edgecolor='none', linewidth=0)\n",
    "handles.insert(0,extra)\n",
    "labels.insert(0,'(added/capacity)')\n",
    "labels = ['Total added/capacity',\\\n",
    "          'sch (' + str(sum_sch) +')',\\\n",
    "          'jur (' + str(sum_jur) +')',\\\n",
    "          'adu (' + str(sum_adu) +')',\\\n",
    "          'SGOA (' + str(sum_SGOA) +')']\n",
    "ptitle = 'DRAFT Cumulative Housing Units Added By Capacity Type\\n' + jur + ' (' +  str(city_cpa_id) + ')'\n",
    "ax.set_ylabel(\"housing units added\",size=14)\n",
    "ax.set_xlabel(\"increment\\n\\n increment 2020 = (2017,2018,2019,2020)\\nincrement 2025 = (2021, 2022, 2023, 2024, 2025)\\\n",
    "\\nincrement 2030 = (2026, 2027, 2028, 2029, 2030)\\nincrement 2035 = (2031, 2032, 2033, 2034, 2035)\\\n",
    "\\nincrement 2040 = (2036, 2037, 2038, 2039, 2040)\\nincrement 2045 = (2041, 2042, 2043, 2044, 2045)\\\n",
    "\\nincrement 2050 = (2046, 2047, 2048, 2049, 2050)\")\n",
    "ax.set_title(ptitle,size=16) \n",
    "\n",
    "# ax.legend([\"sch (5)\", \"jur (10)\",\"adu (20)\",\"SGOA (15)\"]);\n",
    "leg = ax.legend(handles, labels,fontsize=12)"
   ]
  },
  {
   "cell_type": "code",
   "execution_count": null,
   "metadata": {},
   "outputs": [],
   "source": [
    "hs2.loc[hs2.increment=='2050'].year_simulation.unique()"
   ]
  },
  {
   "cell_type": "code",
   "execution_count": null,
   "metadata": {
    "collapsed": true
   },
   "outputs": [],
   "source": []
  }
 ],
 "metadata": {
  "kernelspec": {
   "display_name": "Python 2",
   "language": "python",
   "name": "python2"
  },
  "language_info": {
   "codemirror_mode": {
    "name": "ipython",
    "version": 2
   },
   "file_extension": ".py",
   "mimetype": "text/x-python",
   "name": "python",
   "nbconvert_exporter": "python",
   "pygments_lexer": "ipython2",
   "version": "2.7.14"
  }
 },
 "nbformat": 4,
 "nbformat_minor": 2
}
