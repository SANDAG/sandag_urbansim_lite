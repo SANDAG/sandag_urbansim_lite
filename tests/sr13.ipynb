{
 "cells": [
  {
   "cell_type": "code",
   "execution_count": null,
   "metadata": {
    "collapsed": true
   },
   "outputs": [],
   "source": [
    "import pandas as pd\n",
    "from sqlalchemy import create_engine\n",
    "from pysandag.database import get_connection_string\n",
    "db_connection_string = get_connection_string('..\\data\\config.yml', 'mssql_db')\n",
    "mssql_engine = create_engine(db_connection_string)\n",
    "import matplotlib.pyplot as plt\n",
    "import matplotlib.ticker as mtick\n",
    "from matplotlib.patches import Rectangle\n",
    "%matplotlib inline"
   ]
  },
  {
   "cell_type": "code",
   "execution_count": null,
   "metadata": {
    "collapsed": true
   },
   "outputs": [],
   "source": [
    "sr13_sql = '''\n",
    "select x.mgra, hs, increment, city, cpa\n",
    "from [regional_forecast].[sr13_final].[mgrabase] x\n",
    "join [regional_forecast].[sr13_final].[mgra13] y\n",
    "on x.mgra = y.mgra\n",
    "where scenario = 0'''\n",
    "sr13_df = pd.read_sql(sr13_sql, mssql_engine)"
   ]
  },
  {
   "cell_type": "code",
   "execution_count": null,
   "metadata": {
    "collapsed": true
   },
   "outputs": [],
   "source": [
    "jurisdictions_names_sql = '''\n",
    "    SELECT zone, name\n",
    "      FROM data_cafe.ref.geography_zone\n",
    "     WHERE geography_type_id = 150\n",
    "'''\n",
    "jur_name_df = pd.read_sql(jurisdictions_names_sql, mssql_engine)"
   ]
  },
  {
   "cell_type": "code",
   "execution_count": null,
   "metadata": {
    "collapsed": true
   },
   "outputs": [],
   "source": [
    "xref_geography_sql = '''\n",
    "    SELECT mgra_13, luz_13, cocpa_13, cocpa_2016,\n",
    "           jurisdiction_2016, cicpa_13\n",
    "      FROM data_cafe.ref.vi_xref_geography_mgra_13'''\n",
    "xref_geography_df = pd.read_sql(xref_geography_sql, mssql_engine)"
   ]
  },
  {
   "cell_type": "code",
   "execution_count": null,
   "metadata": {
    "collapsed": true
   },
   "outputs": [],
   "source": [
    "xref_geography_df['jur_or_cpa_id'] = xref_geography_df['cocpa_13']\n",
    "xref_geography_df['jur_or_cpa_id'].fillna(xref_geography_df['cicpa_13'],inplace=True)\n",
    "xref_geography_df['jur_or_cpa_id'].fillna(xref_geography_df['jurisdiction_2016'],inplace=True)\n",
    "xref_geography_df['jur_or_cpa_id'] = xref_geography_df['jur_or_cpa_id'].astype(int)"
   ]
  },
  {
   "cell_type": "code",
   "execution_count": null,
   "metadata": {
    "collapsed": true
   },
   "outputs": [],
   "source": [
    "sr13_df = pd.merge(sr13_df,xref_geography_df[['mgra_13','jur_or_cpa_id','jurisdiction_2016']],\\\n",
    "                   left_on='mgra',right_on='mgra_13')"
   ]
  },
  {
   "cell_type": "code",
   "execution_count": null,
   "metadata": {
    "collapsed": true
   },
   "outputs": [],
   "source": [
    "sr13_df = pd.merge(sr13_df,jur_name_df[['zone','name']],left_on='city',right_on='zone')"
   ]
  },
  {
   "cell_type": "code",
   "execution_count": null,
   "metadata": {},
   "outputs": [],
   "source": [
    "sr13_df.head()"
   ]
  },
  {
   "cell_type": "code",
   "execution_count": null,
   "metadata": {},
   "outputs": [],
   "source": [
    "sr13_geo_df = pd.DataFrame({'hs_sum': sr13_df.groupby(['name','increment']).\n",
    "                               hs.sum()}).reset_index()\n",
    "sr13_geo_df.rename(columns = {'name':'geo'},inplace=True)\n",
    "sr13_geo_df.head()"
   ]
  },
  {
   "cell_type": "code",
   "execution_count": null,
   "metadata": {},
   "outputs": [],
   "source": [
    "sr13_geo_df_pivot = sr13_geo_df.pivot\\\n",
    "(index='increment', columns='geo', values='hs_sum').\\\n",
    "reset_index().rename_axis(None, axis=1)\n",
    "sr13_geo_df_pivot.set_index('increment',inplace=True)\n",
    "sr13_geo_df_pivot"
   ]
  },
  {
   "cell_type": "code",
   "execution_count": null,
   "metadata": {},
   "outputs": [],
   "source": [
    "total_diff = sr13_geo_df_pivot.loc[[2012,2050],:]\n",
    "differences = total_diff.diff().loc[[2050]]\n",
    "differences.rename(index={2050: 'total_change'},inplace=True)\n",
    "totalchange = pd.DataFrame(differences.sum(axis=0))\n",
    "totalchange.rename(columns={0: 'total_change'},inplace=True)\n",
    "print(\"\\nTotal Units added sr13: {:,}\".format(int(totalchange.total_change.sum())))"
   ]
  },
  {
   "cell_type": "code",
   "execution_count": null,
   "metadata": {},
   "outputs": [],
   "source": [
    "totalchange"
   ]
  },
  {
   "cell_type": "code",
   "execution_count": null,
   "metadata": {},
   "outputs": [],
   "source": [
    "sr13_geo_df_pivot"
   ]
  },
  {
   "cell_type": "code",
   "execution_count": null,
   "metadata": {},
   "outputs": [],
   "source": [
    "fig, axes = plt.subplots(nrows=10, ncols=2)\n",
    "fmt = '{x:,.0f}'\n",
    "tick = mtick.StrMethodFormatter(fmt)\n",
    "plt.xticks(rotation=70)\n",
    "plt.subplots_adjust(top=0.25)\n",
    "plt.suptitle(\"\\nTotal Additional Housing Units: {:,}\".format(int(totalchange.total_change.sum())),size=18)\n",
    "for j, jur in enumerate(sr13_geo_df.geo.unique().tolist()):\n",
    "    df_plot = sr13_geo_df_pivot[[jur]]\n",
    "    df_plot.plot(style='.-',ax=axes.flat[j],figsize=(10,30),x_compat=True)\n",
    "    axes.flat[j].set_xlabel(\"Forecast Year\",size=12)\n",
    "    axes.flat[j].set_ylabel(\"Total Housing Units\",size=12)\n",
    "    axes.flat[j].yaxis.set_major_formatter(tick) \n",
    "    axes.flat[j].set_xticks([2012,2015,2020,2025,2030,2035,2040,2045,2050])\n",
    "    axes.flat[j].set_xticklabels([2012,2015,2020,2025,2030,2035,2040,2045,2050],rotation=45)\n",
    "    axes.flat[j].set_title('SERIES 13 REGIONAL GROWTH FORECAST',size=14) \n",
    "    axes.flat[j].legend(fontsize=14)\n",
    "    handles, labels = axes.flat[j].get_legend_handles_labels()\n",
    "    extra = Rectangle((0, 0), 1, 1, fc=\"w\", fill=False, edgecolor='none', linewidth=0)\n",
    "    labels.append('chg = ' + str(int(totalchange.loc[jur][0])))\n",
    "    handles.append(extra)\n",
    "    axes.flat[j].legend(handles, labels)\n",
    "    fig.tight_layout(rect=[0, 0.03, 1, 0.95])\n",
    "fig.savefig('sr13.png', format='png', dpi=300)\n"
   ]
  },
  {
   "cell_type": "code",
   "execution_count": null,
   "metadata": {
    "collapsed": true
   },
   "outputs": [],
   "source": []
  }
 ],
 "metadata": {
  "kernelspec": {
   "display_name": "Python 2",
   "language": "python",
   "name": "python2"
  },
  "language_info": {
   "codemirror_mode": {
    "name": "ipython",
    "version": 2
   },
   "file_extension": ".py",
   "mimetype": "text/x-python",
   "name": "python",
   "nbconvert_exporter": "python",
   "pygments_lexer": "ipython2",
   "version": "2.7.14"
  }
 },
 "nbformat": 4,
 "nbformat_minor": 2
}
