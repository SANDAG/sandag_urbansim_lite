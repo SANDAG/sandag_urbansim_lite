{
 "cells": [
  {
   "cell_type": "markdown",
   "metadata": {},
   "source": [
    "# Units Added by Year"
   ]
  },
  {
   "cell_type": "code",
   "execution_count": null,
   "metadata": {
    "collapsed": true
   },
   "outputs": [],
   "source": [
    "import pandas as pd\n",
    "import numpy as np\n",
    "import matplotlib.pyplot as plt\n",
    "import matplotlib.ticker as mtick\n",
    "\n",
    "from sqlalchemy import create_engine\n",
    "from pysandag.database import get_connection_string\n",
    "\n",
    "%matplotlib inline\n",
    "\n",
    "db_connection_string = get_connection_string('..\\data\\config.yml', 'mssql_db')\n",
    "mssql_engine = create_engine(db_connection_string)"
   ]
  },
  {
   "cell_type": "markdown",
   "metadata": {},
   "source": [
    "# Regionwide totals from simulation"
   ]
  },
  {
   "cell_type": "code",
   "execution_count": null,
   "metadata": {},
   "outputs": [],
   "source": [
    "# regionwide forecast\n",
    "housing_unit_sql = '''select  yr,\n",
    "    housing_units1, households,housing_units_add \n",
    "    from [isam].[economic_output].[urbansim_housing_units]'''\n",
    "hu_df =  pd.read_sql(housing_unit_sql, mssql_engine,index_col ='yr')\n",
    "hu_df['total_housing_units_add'] = hu_df.housing_units_add.cumsum()\n",
    "hu_df.rename(columns = {'housing_units_add': 'Housing units to add'}, inplace=True)\n",
    "hu_df_to_plot = hu_df[['Housing units to add']].copy()\n",
    "print(\"\\nRegionwide Forecast:\")\n",
    "print(\"\\n   Target: {:,}\\n\".format(int(hu_df_to_plot['Housing units to add'].sum())))\n",
    "\n",
    "# get max run id from urbansim\n",
    "run_id_sql = '''\n",
    "SELECT max(run_id)\n",
    "  FROM [urbansim].[urbansim].[urbansim_lite_output]\n",
    "'''\n",
    "run_id_df = pd.read_sql(run_id_sql, mssql_engine)\n",
    "run_id = int(run_id_df.values)\n",
    "print(\"\\nSimulation summary:\")\n",
    "print(\"\\n   Max run id : {:,}\".format(run_id))\n",
    "\n",
    "# Urbansim\n",
    "hs_change_by_yr_sql = '''\n",
    "    SELECT source, sum(units_added) as housing_units_added,year_simulation\n",
    "      FROM urbansim.urbansim.urbansim_lite_output o \n",
    "      JOIN urbansim.urbansim.parcel p on p.parcel_id = o.parcel_id\n",
    "      JOIN urbansim.ref.jurisdiction j on p.jurisdiction_id = j.jurisdiction_id\n",
    "     WHERE run_id =  %s\n",
    "     GROUP BY source,year_simulation'''\n",
    "\n",
    "hs_change_by_yr_sql = hs_change_by_yr_sql % run_id\n",
    "units_added_by_yr_and_source = pd.read_sql(hs_change_by_yr_sql,mssql_engine)\n",
    "\n",
    "units_by_yr = pd.DataFrame({'housing_units_added': units_added_by_yr_and_source.\n",
    "                                            groupby([\"year_simulation\"]).\n",
    "                                 housing_units_added.sum()}).reset_index()\n",
    "units_by_yr.rename(columns = {'housing_units_added': 'Housing units added'}, inplace=True)\n",
    "units_by_yr.set_index('year_simulation',inplace=True)\n",
    "\n",
    "print(\"\\n   Units added: {:,}\".format(int(units_by_yr['Housing units added'].sum())))\n",
    "\n",
    "# pivot to get units added by source \n",
    "units_added_by_source = units_added_by_yr_and_source.pivot\\\n",
    "(index='year_simulation', columns='source', values='housing_units_added')\n",
    "units_added_by_source.rename(columns = {'sched_dev': 'scheduled development'}, inplace=True)\n",
    "units_added_by_source.rename(columns = {'subregional_control': 'control percentages'}, inplace=True)\n",
    "units_added_by_source.rename(columns = {'entire_region': 'remaining'}, inplace=True)\n",
    "subregional_control = units_added_by_source['control percentages'].sum()\n",
    "print(\"\\n      from subregional control percentages: {:,}\".format(int(subregional_control)))\n",
    "sched_dev = units_added_by_source['scheduled development'].sum()\n",
    "print(\"\\n      from scheduled developments: {:,}\".format(int(sched_dev)))\n",
    "entire_region = units_added_by_source['remaining'].sum()\n",
    "print(\"\\n      from remaining: {:,}\".format(int(entire_region)))\n",
    "\n",
    "# deficit\n",
    "diff = int(hu_df_to_plot['Housing units to add'].sum()) - int(units_by_yr['Housing units added'].sum())\n",
    "print(\"\\n  Deficit: {:,}\\n\".format(diff))"
   ]
  },
  {
   "cell_type": "markdown",
   "metadata": {},
   "source": [
    "# Plot units by year"
   ]
  },
  {
   "cell_type": "code",
   "execution_count": null,
   "metadata": {},
   "outputs": [],
   "source": [
    "fig, axes = plt.subplots(3, 1)\n",
    "hu_df_to_plot.plot(style='.-',ax=axes.flat[0],figsize=(10,15),color='b')\n",
    "units_by_yr.plot(style='.-',ax=axes.flat[1],figsize=(10,15),color=['darkorange','b'])\n",
    "units_added_by_source.plot(style='.-',stacked=True,kind='bar',ax=axes.flat[2],figsize=(10,15),color=['red','purple','green'])\n",
    "# units_added_by_source.plot(stacked=True,kind='bar');\n",
    "# format\n",
    "fmt = '{x:,.0f}'\n",
    "tick = mtick.StrMethodFormatter(fmt)\n",
    "handles, labels = axes.flat[2].get_legend_handles_labels()\n",
    "zipped = zip(labels,handles)\n",
    "zipped.sort(key = lambda t: t[0],reverse=True)\n",
    "labels, handles = zip(*zipped)\n",
    "\n",
    "\n",
    "axes.flat[0].set_xlabel(\"Simulation Year\",size =16)\n",
    "axes.flat[0].set_ylabel(\"Housing Units\",size =16)\n",
    "axes.flat[0].set_title('Housing Units Needed by Year\\n demographic_simulation_id=2001',size=16) \n",
    "axes.flat[0].yaxis.set_major_formatter(tick) \n",
    "axes.flat[0].legend(fontsize=14)\n",
    "axes.flat[1].set_xlabel(\"Simulation Year\",size =16)\n",
    "axes.flat[1].set_ylabel(\"Housing Units\",size =16)\n",
    "axes.flat[1].set_title('Housing Units Added by Year\\n run_id={:,}'.format(run_id),size=16)\n",
    "axes.flat[1].yaxis.set_major_formatter(tick) \n",
    "axes.flat[2].legend(fontsize=14)\n",
    "axes.flat[2].set_xlabel(\"Simulation Year\",size =16)\n",
    "axes.flat[2].set_ylabel(\"Housing Units\",size =16)\n",
    "axes.flat[2].set_title('Housing Units Added by Source',size=16) \n",
    "axes.flat[2].yaxis.set_major_formatter(tick) \n",
    "axes.flat[2].legend(handles, labels,fontsize=14)\n",
    "# format\n",
    "plt.xticks(rotation=25)\n",
    "plt.tight_layout(pad=0.5, w_pad=0.6, h_pad=2)\n",
    "plt.show()"
   ]
  }
 ],
 "metadata": {
  "kernelspec": {
   "display_name": "Python 2",
   "language": "python",
   "name": "python2"
  },
  "language_info": {
   "codemirror_mode": {
    "name": "ipython",
    "version": 2
   },
   "file_extension": ".py",
   "mimetype": "text/x-python",
   "name": "python",
   "nbconvert_exporter": "python",
   "pygments_lexer": "ipython2",
   "version": "2.7.14"
  }
 },
 "nbformat": 4,
 "nbformat_minor": 2
}
