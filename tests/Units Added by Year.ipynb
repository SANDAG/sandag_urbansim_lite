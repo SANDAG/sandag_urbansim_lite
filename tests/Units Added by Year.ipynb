{
 "cells": [
  {
   "cell_type": "markdown",
   "metadata": {},
   "source": [
    "# Units Added by Year"
   ]
  },
  {
   "cell_type": "code",
   "execution_count": null,
   "metadata": {
    "collapsed": true
   },
   "outputs": [],
   "source": [
    "import pandas as pd\n",
    "import numpy as np\n",
    "import matplotlib.pyplot as plt\n",
    "import matplotlib.ticker as mtick\n",
    "\n",
    "from sqlalchemy import create_engine\n",
    "from pysandag.database import get_connection_string\n",
    "\n",
    "%matplotlib inline\n",
    "\n",
    "db_connection_string = get_connection_string('..\\data\\config.yml', 'mssql_db')\n",
    "mssql_engine = create_engine(db_connection_string)"
   ]
  },
  {
   "cell_type": "markdown",
   "metadata": {},
   "source": [
    "get max run id"
   ]
  },
  {
   "cell_type": "code",
   "execution_count": null,
   "metadata": {},
   "outputs": [],
   "source": [
    "run_id_sql = '''\n",
    "SELECT max(run_id)\n",
    "  FROM [urbansim].[urbansim].[urbansim_lite_output]\n",
    "'''\n",
    "run_id_df = pd.read_sql(run_id_sql, mssql_engine)\n",
    "run_id = int(run_id_df.values)\n",
    "print(run_id)"
   ]
  },
  {
   "cell_type": "markdown",
   "metadata": {},
   "source": [
    "get housing units needed from regionwide forecast"
   ]
  },
  {
   "cell_type": "code",
   "execution_count": null,
   "metadata": {},
   "outputs": [],
   "source": [
    "housing_unit_sql = '''select  yr,\n",
    "    housing_units1, households,housing_units_add \n",
    "    from [isam].[economic_output].[urbansim_housing_units]'''\n",
    "hu_df =  pd.read_sql(housing_unit_sql, mssql_engine,index_col ='yr')\n",
    "hu_df['total_housing_units_add'] = hu_df.housing_units_add.cumsum()\n",
    "hu_df.rename(columns = {'housing_units_add': 'Housing units to add'}, inplace=True)\n",
    "hu_df_to_plot = hu_df[['Housing units to add']].copy()"
   ]
  },
  {
   "cell_type": "markdown",
   "metadata": {},
   "source": [
    "get housing units added from latest run"
   ]
  },
  {
   "cell_type": "code",
   "execution_count": null,
   "metadata": {},
   "outputs": [],
   "source": [
    "hs_change__by_yr_sql = '''\n",
    "    SELECT sum(units_added) as housing_units_added, year_simulation\n",
    "      FROM urbansim.urbansim.urbansim_lite_output o \n",
    "      JOIN urbansim.urbansim.parcel p on p.parcel_id = o.parcel_id\n",
    "      JOIN urbansim.ref.jurisdiction j on p.jurisdiction_id = j.jurisdiction_id\n",
    "     WHERE run_id =  %s\n",
    "  GROUP BY year_simulation\n",
    "  ORDER BY year_simulation'''\n",
    "hs_change__by_yr_sql = hs_change__by_yr_sql % run_id\n",
    "units_added_by_yr = pd.read_sql(hs_change__by_yr_sql,mssql_engine,index_col='year_simulation')\n",
    "units_added_by_yr.rename(columns = {'housing_units_added': 'Housing units added'}, inplace=True)"
   ]
  },
  {
   "cell_type": "markdown",
   "metadata": {},
   "source": [
    "get housing units by source"
   ]
  },
  {
   "cell_type": "code",
   "execution_count": null,
   "metadata": {},
   "outputs": [],
   "source": [
    "units_added_sched_dev_sql = '''\n",
    " SELECT sum(units_added) as housing_units_added,year_simulation,o.source\n",
    "      FROM [urbansim].[urbansim].[urbansim_lite_output] o\n",
    "      JOIN [urbansim].[urbansim].[parcel] p on p.parcel_id = o.parcel_id\n",
    "      JOIN urbansim.ref.jurisdiction j on p.jurisdiction_id = j.jurisdiction_id\n",
    "     WHERE run_id = %s\n",
    "  GROUP BY o.source,year_simulation\n",
    "  ORDER BY year_simulation,o.source\n",
    "'''\n",
    "units_added_sched_dev_sql = units_added_sched_dev_sql % run_id\n",
    "units_added_sched_dev_df =  pd.read_sql(units_added_sched_dev_sql,mssql_engine)\n",
    "units_added_by_source = units_added_sched_dev_df.pivot(index='year_simulation', columns='source', values='housing_units_added')"
   ]
  },
  {
   "cell_type": "markdown",
   "metadata": {},
   "source": [
    "plot housing units needed and added by simulation"
   ]
  },
  {
   "cell_type": "code",
   "execution_count": null,
   "metadata": {},
   "outputs": [],
   "source": [
    "fig, axes = plt.subplots(3, 1)\n",
    "hu_df_to_plot.plot(style='.-',ax=axes.flat[0],figsize=(10,15),color='b')\n",
    "units_added_by_yr.plot(style='.-',ax=axes.flat[1],figsize=(10,15),color=['darkorange','b'])\n",
    "units_added_by_source.plot(style='.-',stacked=True,kind='bar',ax=axes.flat[2],figsize=(10,15),color=['red','purple','green'])\n",
    "# units_added_by_source.plot(stacked=True,kind='bar');\n",
    "# format\n",
    "fmt = '{x:,.0f}'\n",
    "tick = mtick.StrMethodFormatter(fmt)\n",
    "axes.flat[0].set_xlabel(\"Simulation Year\",size =16)\n",
    "axes.flat[0].set_ylabel(\"Housing Units\",size =16)\n",
    "axes.flat[0].set_title('Housing Units Needed by Year\\n demographic_simulation_id=2001',size=16) \n",
    "axes.flat[0].yaxis.set_major_formatter(tick) \n",
    "axes.flat[0].legend(fontsize=14)\n",
    "axes.flat[1].set_xlabel(\"Simulation Year\",size =16)\n",
    "axes.flat[1].set_ylabel(\"Housing Units\",size =16)\n",
    "axes.flat[1].set_title('Housing Units Added by Year',size=16) \n",
    "axes.flat[1].yaxis.set_major_formatter(tick) \n",
    "axes.flat[2].legend(fontsize=14)\n",
    "axes.flat[2].set_xlabel(\"Simulation Year\",size =16)\n",
    "axes.flat[2].set_ylabel(\"Housing Units\",size =16)\n",
    "axes.flat[2].set_title('Housing Units Added by Source',size=16) \n",
    "axes.flat[2].yaxis.set_major_formatter(tick) \n",
    "axes.flat[2].legend(fontsize=14)\n",
    "# format\n",
    "plt.xticks(rotation=25)\n",
    "plt.tight_layout(pad=0.5, w_pad=0.6, h_pad=2)\n",
    "plt.show()"
   ]
  },
  {
   "cell_type": "code",
   "execution_count": null,
   "metadata": {},
   "outputs": [],
   "source": []
  },
  {
   "cell_type": "code",
   "execution_count": null,
   "metadata": {
    "collapsed": true
   },
   "outputs": [],
   "source": []
  }
 ],
 "metadata": {
  "kernelspec": {
   "display_name": "Python 2",
   "language": "python",
   "name": "python2"
  },
  "language_info": {
   "codemirror_mode": {
    "name": "ipython",
    "version": 2
   },
   "file_extension": ".py",
   "mimetype": "text/x-python",
   "name": "python",
   "nbconvert_exporter": "python",
   "pygments_lexer": "ipython2",
   "version": "2.7.14"
  }
 },
 "nbformat": 4,
 "nbformat_minor": 2
}
