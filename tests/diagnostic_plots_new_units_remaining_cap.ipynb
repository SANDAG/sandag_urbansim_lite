{
 "cells": [
  {
   "cell_type": "code",
   "execution_count": null,
   "metadata": {
    "collapsed": true
   },
   "outputs": [],
   "source": [
    "import pandas as pd\n",
    "import numpy as np\n",
    "%matplotlib inline "
   ]
  },
  {
   "cell_type": "code",
   "execution_count": null,
   "metadata": {
    "collapsed": true
   },
   "outputs": [],
   "source": [
    "from sqlalchemy import create_engine\n",
    "from pysandag.database import get_connection_string"
   ]
  },
  {
   "cell_type": "code",
   "execution_count": null,
   "metadata": {
    "collapsed": true
   },
   "outputs": [],
   "source": [
    "db_connection_string = get_connection_string('..\\data\\config.yml', 'mssql_db')\n",
    "mssql_engine = create_engine(db_connection_string)"
   ]
  },
  {
   "cell_type": "markdown",
   "metadata": {},
   "source": [
    "### get output of simulation:  units added grouped by jurisdiction"
   ]
  },
  {
   "cell_type": "code",
   "execution_count": null,
   "metadata": {
    "collapsed": true
   },
   "outputs": [],
   "source": [
    "units_by_jurs_sql = '''\n",
    "    SELECT name, jurisdiction_id,sum(units_added) as units_added,year_simulation\n",
    "      FROM urbansim.urbansim.output_temp_urbansim_lite_output\n",
    "  GROUP BY name,jurisdiction_id,year_simulation\n",
    "  ORDER BY name,jurisdiction_id,year_simulation'''"
   ]
  },
  {
   "cell_type": "code",
   "execution_count": null,
   "metadata": {
    "collapsed": true
   },
   "outputs": [],
   "source": [
    "units_by_jur = pd.read_sql(units_by_jurs_sql,mssql_engine)"
   ]
  },
  {
   "cell_type": "markdown",
   "metadata": {},
   "source": [
    "### capacity from urbansim.parcel without sched developments"
   ]
  },
  {
   "cell_type": "code",
   "execution_count": null,
   "metadata": {
    "collapsed": true
   },
   "outputs": [],
   "source": [
    "capacity_by_jurs_sans_sched_dev_sql = '''  \n",
    "    SELECT jurisdiction_id,  sum(capacity) as capacity_sans_sched_dev\n",
    "      FROM urbansim.parcel\n",
    "     WHERE site_id IS NULL and capacity > 0\n",
    "  GROUP BY jurisdiction_id\n",
    "  ORDER BY jurisdiction_id'''"
   ]
  },
  {
   "cell_type": "code",
   "execution_count": null,
   "metadata": {
    "collapsed": true
   },
   "outputs": [],
   "source": [
    "cap_by_jur_sans_sched =  pd.read_sql(capacity_by_jurs_sans_sched_dev_sql,mssql_engine,index_col='jurisdiction_id')"
   ]
  },
  {
   "cell_type": "markdown",
   "metadata": {},
   "source": [
    "### capacity from urbansim.scheduled_development_do_not_use with sched developments only"
   ]
  },
  {
   "cell_type": "code",
   "execution_count": null,
   "metadata": {
    "collapsed": true
   },
   "outputs": [],
   "source": [
    "capacity_by_jurs_sched_dev_sql = '''  \n",
    "    SELECT jurisdiction_id,  sum(res_units) as capacity_only_sched_dev\n",
    "      FROM urbansim.urbansim.scheduled_development_do_not_use s\n",
    "      JOIN urbansim.parcel p on p.parcel_id = s.parcel_id\n",
    "  GROUP BY jurisdiction_id\n",
    "  ORDER BY jurisdiction_id'''"
   ]
  },
  {
   "cell_type": "code",
   "execution_count": null,
   "metadata": {
    "collapsed": true
   },
   "outputs": [],
   "source": [
    "cap_by_jur_sched_dev =  pd.read_sql(capacity_by_jurs_sched_dev_sql,mssql_engine,index_col='jurisdiction_id')"
   ]
  },
  {
   "cell_type": "markdown",
   "metadata": {},
   "source": [
    "### add capacity from urbansim.parcel and urbansim.scheduled_development_do_not_use"
   ]
  },
  {
   "cell_type": "code",
   "execution_count": null,
   "metadata": {},
   "outputs": [],
   "source": [
    "cap_by_jur = cap_by_jur_sans_sched.join(cap_by_jur_sched_dev)"
   ]
  },
  {
   "cell_type": "code",
   "execution_count": null,
   "metadata": {},
   "outputs": [],
   "source": [
    "cap_by_jur['capacity'] = cap_by_jur['capacity_sans_sched_dev'] + cap_by_jur['capacity_only_sched_dev']"
   ]
  },
  {
   "cell_type": "code",
   "execution_count": null,
   "metadata": {},
   "outputs": [],
   "source": [
    "cap_by_jur = cap_by_jur.drop(['capacity_sans_sched_dev', 'capacity_only_sched_dev'],axis =1)"
   ]
  },
  {
   "cell_type": "markdown",
   "metadata": {},
   "source": [
    "### for plotting, add row with \"0\" units for years in simulation when no new units (e.g. Del Mar)"
   ]
  },
  {
   "cell_type": "code",
   "execution_count": null,
   "metadata": {
    "collapsed": true
   },
   "outputs": [],
   "source": [
    "units_by_jur = units_by_jur.set_index(['jurisdiction_id','name','year_simulation'])"
   ]
  },
  {
   "cell_type": "code",
   "execution_count": null,
   "metadata": {
    "collapsed": true
   },
   "outputs": [],
   "source": [
    "units_by_jur = units_by_jur.unstack(['jurisdiction_id','name']).fillna(0).stack(['jurisdiction_id','name'])"
   ]
  },
  {
   "cell_type": "code",
   "execution_count": null,
   "metadata": {
    "collapsed": true
   },
   "outputs": [],
   "source": [
    "units_by_jur.reset_index(inplace=True,drop=False)"
   ]
  },
  {
   "cell_type": "markdown",
   "metadata": {},
   "source": [
    "### sum units added over five year increments "
   ]
  },
  {
   "cell_type": "code",
   "execution_count": null,
   "metadata": {
    "collapsed": true
   },
   "outputs": [],
   "source": [
    "bins = range(2015,2055,5)\n",
    "names = [str(x) for x in range(2020,2055,5)]\n",
    "units_by_jur['increment'] = pd.cut(units_by_jur.year_simulation, bins, labels=names)"
   ]
  },
  {
   "cell_type": "code",
   "execution_count": null,
   "metadata": {
    "collapsed": true
   },
   "outputs": [],
   "source": [
    "units_by_jur_inc = pd.DataFrame({'hs_added': units_by_jur.\n",
    "                                            groupby([\"increment\", \"jurisdiction_id\",\"name\"]).\n",
    "                                 units_added.sum()}).reset_index()"
   ]
  },
  {
   "cell_type": "markdown",
   "metadata": {},
   "source": [
    "### join units (by increment) with capacity"
   ]
  },
  {
   "cell_type": "code",
   "execution_count": null,
   "metadata": {},
   "outputs": [],
   "source": [
    "units_by_jur_inc = units_by_jur_inc.set_index('jurisdiction_id').join(cap_by_jur)"
   ]
  },
  {
   "cell_type": "markdown",
   "metadata": {},
   "source": [
    "### add starting year as 2017 with units added as 0 (for plotting)"
   ]
  },
  {
   "cell_type": "code",
   "execution_count": null,
   "metadata": {
    "collapsed": true
   },
   "outputs": [],
   "source": [
    "start_year = units_by_jur_inc.loc[units_by_jur_inc.increment=='2020'].copy()"
   ]
  },
  {
   "cell_type": "code",
   "execution_count": null,
   "metadata": {
    "collapsed": true
   },
   "outputs": [],
   "source": [
    "start_year['increment'] = 2017\n",
    "start_year['hs_added'] = 0"
   ]
  },
  {
   "cell_type": "code",
   "execution_count": null,
   "metadata": {
    "collapsed": true
   },
   "outputs": [],
   "source": [
    "units_by_jur_inc = pd.concat([start_year,units_by_jur_inc])"
   ]
  },
  {
   "cell_type": "markdown",
   "metadata": {},
   "source": [
    "### pivot for plotting so jurisdictions are columns and increments are rows with new units"
   ]
  },
  {
   "cell_type": "code",
   "execution_count": null,
   "metadata": {
    "collapsed": true
   },
   "outputs": [],
   "source": [
    "units_by_jur_pivot = units_by_jur_inc.pivot\\\n",
    "(index='increment', columns='name', values='hs_added').\\\n",
    "reset_index().rename_axis(None, axis=1)\n",
    "units_by_jur_pivot.fillna(0,inplace=True)\n",
    "units_by_jur_pivot.set_index('increment',inplace=True)"
   ]
  },
  {
   "cell_type": "markdown",
   "metadata": {},
   "source": [
    "### pivot for plotting so jurisdictions are columns and increments are rows with capacity"
   ]
  },
  {
   "cell_type": "code",
   "execution_count": null,
   "metadata": {
    "collapsed": true
   },
   "outputs": [],
   "source": [
    "cap_by_jur_pivot = units_by_jur_inc.pivot\\\n",
    "(index='increment', columns='name', values='capacity').\\\n",
    "reset_index().rename_axis(None, axis=1)\n",
    "cap_by_jur_pivot.fillna(0,inplace=True)\n",
    "cap_by_jur_pivot.set_index('increment',inplace=True)"
   ]
  },
  {
   "cell_type": "markdown",
   "metadata": {},
   "source": [
    "### calculate cumulative sum of units added by jurisdiction"
   ]
  },
  {
   "cell_type": "code",
   "execution_count": null,
   "metadata": {
    "collapsed": true
   },
   "outputs": [],
   "source": [
    "units_by_jur_pivot = units_by_jur_pivot.cumsum()"
   ]
  },
  {
   "cell_type": "markdown",
   "metadata": {},
   "source": [
    "### plot results"
   ]
  },
  {
   "cell_type": "markdown",
   "metadata": {},
   "source": [
    "#### for each jurisdiction join dataframe of new units and capacity"
   ]
  },
  {
   "cell_type": "markdown",
   "metadata": {},
   "source": [
    "#### calculate remaining capacity by subtracting new units from starting capacity"
   ]
  },
  {
   "cell_type": "code",
   "execution_count": null,
   "metadata": {},
   "outputs": [],
   "source": [
    "import matplotlib.pyplot as plt\n",
    "fig, axes = plt.subplots(nrows=10, ncols=2)\n",
    "for j, jur in enumerate(units_by_jur.name.unique().tolist()):\n",
    "    df_units_added = units_by_jur_pivot[[jur]]\n",
    "    df_capacity = cap_by_jur_pivot[[jur]]\n",
    "    df_plot = df_units_added.join(df_capacity, lsuffix='_new', rsuffix='_capacity')\n",
    "    hs_column = jur + '_new'\n",
    "    cap_column = jur + '_capacity'\n",
    "    cap_plot_column = jur + '_cap'\n",
    "    df_plot[cap_plot_column] = df_plot[cap_column] - df_plot[hs_column]\n",
    "    del  df_plot[cap_column]\n",
    "    df_plot.plot(style='.-',ax=axes.flat[j],figsize=(10,32))\n",
    "   # df_plot.plot(kind='bar',ax=axes.flat[j],figsize=(10,32)))"
   ]
  },
  {
   "cell_type": "code",
   "execution_count": null,
   "metadata": {},
   "outputs": [],
   "source": [
    "df_plot.plot(kind='bar')"
   ]
  },
  {
   "cell_type": "code",
   "execution_count": null,
   "metadata": {
    "collapsed": true
   },
   "outputs": [],
   "source": []
  }
 ],
 "metadata": {
  "kernelspec": {
   "display_name": "Python 2",
   "language": "python",
   "name": "python2"
  },
  "language_info": {
   "codemirror_mode": {
    "name": "ipython",
    "version": 2
   },
   "file_extension": ".py",
   "mimetype": "text/x-python",
   "name": "python",
   "nbconvert_exporter": "python",
   "pygments_lexer": "ipython2",
   "version": "2.7.14"
  }
 },
 "nbformat": 4,
 "nbformat_minor": 2
}
