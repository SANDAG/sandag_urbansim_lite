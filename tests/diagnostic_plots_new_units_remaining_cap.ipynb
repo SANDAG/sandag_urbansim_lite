{
 "cells": [
  {
   "cell_type": "code",
   "execution_count": null,
   "metadata": {
    "collapsed": true
   },
   "outputs": [],
   "source": [
    "import pandas as pd\n",
    "import numpy as np\n",
    "import matplotlib.pyplot as plt\n",
    "import matplotlib.ticker as mtick\n",
    "%matplotlib inline\n",
    "from sqlalchemy import create_engine\n",
    "from pysandag.database import get_connection_string\n",
    "\n",
    "db_connection_string = get_connection_string('..\\data\\config.yml', 'mssql_db')\n",
    "mssql_engine = create_engine(db_connection_string)"
   ]
  },
  {
   "cell_type": "markdown",
   "metadata": {},
   "source": [
    "### Get max run id"
   ]
  },
  {
   "cell_type": "code",
   "execution_count": null,
   "metadata": {
    "collapsed": true
   },
   "outputs": [],
   "source": [
    "run_id_sql = '''\n",
    "SELECT max(run_id)\n",
    "  FROM [urbansim].[urbansim].[urbansim_lite_output]\n",
    "'''\n",
    "run_id_df = pd.read_sql(run_id_sql, mssql_engine)\n",
    "run_id = int(run_id_df.values)"
   ]
  },
  {
   "cell_type": "code",
   "execution_count": null,
   "metadata": {},
   "outputs": [],
   "source": [
    "run_id"
   ]
  },
  {
   "cell_type": "markdown",
   "metadata": {},
   "source": [
    "### 1. Get output of simulation"
   ]
  },
  {
   "cell_type": "markdown",
   "metadata": {},
   "source": [
    "##### urbansim.urbansim.urbansim_lite_output (unit change by year, grouped by jurisdiction)"
   ]
  },
  {
   "cell_type": "code",
   "execution_count": null,
   "metadata": {
    "collapsed": true
   },
   "outputs": [],
   "source": [
    "hs_change_sql = '''\n",
    "    SELECT j.name, p.jurisdiction_id, sum(unit_change) as hs_change, year_simulation\n",
    "      FROM urbansim.urbansim.urbansim_lite_output o \n",
    "      JOIN urbansim.urbansim.parcel p on p.parcel_id = o.parcel_id\n",
    "      JOIN urbansim.ref.jurisdiction j on p.jurisdiction_id = j.jurisdiction_id\n",
    "     WHERE run_id =  %s\n",
    "  GROUP BY j.name,p.jurisdiction_id, year_simulation\n",
    "  ORDER BY j.name,p.jurisdiction_id, year_simulation'''\n",
    "hs_change_sql = hs_change_sql % run_id"
   ]
  },
  {
   "cell_type": "code",
   "execution_count": null,
   "metadata": {
    "collapsed": true
   },
   "outputs": [],
   "source": [
    "units_by_jur = pd.read_sql(hs_change_sql,mssql_engine,index_col='jurisdiction_id')"
   ]
  },
  {
   "cell_type": "code",
   "execution_count": null,
   "metadata": {},
   "outputs": [],
   "source": [
    "units_by_jur.head()"
   ]
  },
  {
   "cell_type": "code",
   "execution_count": null,
   "metadata": {},
   "outputs": [],
   "source": [
    "units_by_jur.loc[units_by_jur.name=='Carlsbad'].hs_change.sum()"
   ]
  },
  {
   "cell_type": "markdown",
   "metadata": {},
   "source": [
    "### 2. Fill in \"0\" for units for \"missing\" years (for plotting) (e.g. Del Mar)"
   ]
  },
  {
   "cell_type": "code",
   "execution_count": null,
   "metadata": {},
   "outputs": [],
   "source": [
    "# Del Mar example\n",
    "del_mar_before = units_by_jur.loc[4].sort_values(by='year_simulation')\n",
    "# del_mar_before.head()\n",
    "del_mar_before.plot(x='year_simulation',y='hs_change',style='.-',title='NULL values in Del Mar Housing Unit Change')"
   ]
  },
  {
   "cell_type": "code",
   "execution_count": null,
   "metadata": {},
   "outputs": [],
   "source": [
    "units_by_jur.head()"
   ]
  },
  {
   "cell_type": "code",
   "execution_count": null,
   "metadata": {
    "collapsed": true
   },
   "outputs": [],
   "source": [
    "idx = range(2017,2051)\n",
    "units_by_jur.set_index(['name','year_simulation'],append=True,inplace=True)\n",
    "units_by_jur = units_by_jur.unstack(['jurisdiction_id','name'])\n",
    "units_by_jur = units_by_jur.reindex(idx, fill_value=0)\n",
    "units_by_jur.fillna(0,inplace=True)\n",
    "units_by_jur = units_by_jur.stack(['jurisdiction_id','name'])\n",
    "units_by_jur.reset_index(inplace=True)\n",
    "units_by_jur.set_index('jurisdiction_id',inplace=True)"
   ]
  },
  {
   "cell_type": "code",
   "execution_count": null,
   "metadata": {},
   "outputs": [],
   "source": [
    "del_mar_after = units_by_jur.loc[4].sort_values(by='year_simulation')\n",
    "del_mar_after.plot(x='year_simulation',y='hs_change',style='.-',title='Replace Null with Zeroes Del Mar Housing Unit Change')"
   ]
  },
  {
   "cell_type": "markdown",
   "metadata": {},
   "source": [
    "### 3. Get capacity"
   ]
  },
  {
   "cell_type": "markdown",
   "metadata": {},
   "source": [
    "#####  <span style=\"color:red\">!!! NOTE: urbansim.parcel for city and county, parcel_update_2017 for other jurisdictions & sched dev table </span>"
   ]
  },
  {
   "cell_type": "markdown",
   "metadata": {},
   "source": [
    "##### urbansim.parcel_update_2017 where site_id IS NULL"
   ]
  },
  {
   "cell_type": "code",
   "execution_count": null,
   "metadata": {
    "collapsed": true
   },
   "outputs": [],
   "source": [
    "# capacity\n",
    "parcel_update_2017_sql = '''\n",
    "    SELECT  p.jurisdiction_id, \n",
    "            sum(cap_remaining_new) AS capacity_sans_sched_dev \n",
    "       FROM urbansim.urbansim.parcel_update_2017 update2017\n",
    "       JOIN urbansim.urbansim.parcel p\n",
    "         ON p.parcel_id = update2017.parcelid_2015\n",
    "      WHERE cap_remaining_new > 0 and jurisdiction_id NOT IN (14,19) and site_id IS NULL\n",
    "      GROUP by p.jurisdiction_id\n",
    "      ORDER BY p.jurisdiction_id\n",
    "'''\n",
    "update_2017_df =  pd.read_sql(parcel_update_2017_sql, mssql_engine,index_col='jurisdiction_id')\n",
    "# update_2017_df"
   ]
  },
  {
   "cell_type": "markdown",
   "metadata": {},
   "source": [
    "##### from urbansim.parcel where site_id IS NULL"
   ]
  },
  {
   "cell_type": "code",
   "execution_count": null,
   "metadata": {
    "collapsed": true
   },
   "outputs": [],
   "source": [
    "# capacity for city and county - not in parcel update 2017\n",
    "parcel_city_and_county_sql = '''\n",
    "    SELECT\tp.jurisdiction_id, sum(capacity) AS capacity_sans_sched_dev \n",
    "       FROM urbansim.urbansim.parcel p\n",
    "      WHERE capacity > 0 and jurisdiction_id IN (14,19) and site_id IS NULL\n",
    "      GROUP by p.jurisdiction_id\n",
    "      ORDER BY p.jurisdiction_id\n",
    "'''\n",
    "city_county_capacity_parcel_df =  pd.read_sql(parcel_city_and_county_sql, mssql_engine,index_col='jurisdiction_id')\n",
    "# city_county_capacity_parcel_df"
   ]
  },
  {
   "cell_type": "markdown",
   "metadata": {},
   "source": [
    "join urbansim.parcel_update_2017 and urbansim.parcel"
   ]
  },
  {
   "cell_type": "code",
   "execution_count": null,
   "metadata": {
    "collapsed": true
   },
   "outputs": [],
   "source": [
    "capacity_not_sched = pd.concat([update_2017_df,city_county_capacity_parcel_df])"
   ]
  },
  {
   "cell_type": "code",
   "execution_count": null,
   "metadata": {
    "collapsed": true
   },
   "outputs": [],
   "source": [
    "capacity_not_sched.sort_index(inplace=True)"
   ]
  },
  {
   "cell_type": "code",
   "execution_count": null,
   "metadata": {
    "collapsed": true
   },
   "outputs": [],
   "source": [
    "# capacity_not_sched"
   ]
  },
  {
   "cell_type": "code",
   "execution_count": null,
   "metadata": {
    "collapsed": true
   },
   "outputs": [],
   "source": [
    "# capacity from sched dev\n",
    "sched_dev_sql = '''\n",
    "    SELECT p.jurisdiction_id, sum(res_units) AS capacity_sched_dev\n",
    "      FROM urbansim.urbansim.scheduled_development_do_not_use s\n",
    "      JOIN urbansim.urbansim.parcel p on p.parcel_id = s.parcel_id\n",
    "     WHERE scenario = 1 and yr > 2016\n",
    "     GROUP by p.jurisdiction_id\n",
    "    ORDER BY p.jurisdiction_id\n",
    "'''\n",
    "sched_dev_df =  pd.read_sql(sched_dev_sql, mssql_engine,index_col='jurisdiction_id')\n",
    "\n",
    "# sched_dev_df"
   ]
  },
  {
   "cell_type": "code",
   "execution_count": null,
   "metadata": {
    "collapsed": true
   },
   "outputs": [],
   "source": [
    "cap_by_jur = sched_dev_df.join(capacity_not_sched)"
   ]
  },
  {
   "cell_type": "code",
   "execution_count": null,
   "metadata": {
    "collapsed": true
   },
   "outputs": [],
   "source": [
    "cap_by_jur['capacity'] = cap_by_jur['capacity_sched_dev'] + cap_by_jur['capacity_sans_sched_dev']"
   ]
  },
  {
   "cell_type": "code",
   "execution_count": null,
   "metadata": {
    "collapsed": true
   },
   "outputs": [],
   "source": [
    "cap_by_jur = cap_by_jur[['capacity']]"
   ]
  },
  {
   "cell_type": "code",
   "execution_count": null,
   "metadata": {
    "collapsed": true
   },
   "outputs": [],
   "source": [
    "# cap_by_jur"
   ]
  },
  {
   "cell_type": "markdown",
   "metadata": {},
   "source": [
    "### 4. Sum units from output of simulation over five year increments"
   ]
  },
  {
   "cell_type": "code",
   "execution_count": null,
   "metadata": {
    "collapsed": true
   },
   "outputs": [],
   "source": [
    "bins = range(2015,2055,5)\n",
    "names = [str(x) for x in range(2020,2055,5)]\n",
    "units_by_jur['increment'] = pd.cut(units_by_jur.year_simulation, bins, labels=names)"
   ]
  },
  {
   "cell_type": "code",
   "execution_count": null,
   "metadata": {
    "collapsed": true
   },
   "outputs": [],
   "source": [
    "units_by_jur_inc = pd.DataFrame({'hs_added': units_by_jur.\n",
    "                                            groupby([\"increment\", \"jurisdiction_id\",\"name\"]).\n",
    "                                 hs_change.sum()}).reset_index()"
   ]
  },
  {
   "cell_type": "markdown",
   "metadata": {},
   "source": [
    "### 5. Join output of simulation with capacity"
   ]
  },
  {
   "cell_type": "code",
   "execution_count": null,
   "metadata": {
    "collapsed": true
   },
   "outputs": [],
   "source": [
    "units_by_jur_inc = units_by_jur_inc.set_index('jurisdiction_id').join(cap_by_jur)"
   ]
  },
  {
   "cell_type": "markdown",
   "metadata": {},
   "source": [
    "### 6. Add increment 2017 with units added equal to 0 (for plotting)"
   ]
  },
  {
   "cell_type": "code",
   "execution_count": null,
   "metadata": {
    "collapsed": true
   },
   "outputs": [],
   "source": [
    "start_year = units_by_jur_inc.loc[units_by_jur_inc.increment=='2020'].copy()"
   ]
  },
  {
   "cell_type": "code",
   "execution_count": null,
   "metadata": {
    "collapsed": true
   },
   "outputs": [],
   "source": [
    "start_year['increment'] = '2017'\n",
    "start_year['hs_added'] = 0"
   ]
  },
  {
   "cell_type": "code",
   "execution_count": null,
   "metadata": {
    "collapsed": true
   },
   "outputs": [],
   "source": [
    "units_by_jur_inc = pd.concat([start_year,units_by_jur_inc])"
   ]
  },
  {
   "cell_type": "markdown",
   "metadata": {},
   "source": [
    "### 7. Pivot so each jurisdiction is a column, each row is an increment and the values are hs unit change"
   ]
  },
  {
   "cell_type": "code",
   "execution_count": null,
   "metadata": {
    "collapsed": true
   },
   "outputs": [],
   "source": [
    "units_by_jur_pivot = units_by_jur_inc.pivot\\\n",
    "(index='increment', columns='name', values='hs_added').\\\n",
    "reset_index().rename_axis(None, axis=1)\n",
    "units_by_jur_pivot.fillna(0,inplace=True)\n",
    "units_by_jur_pivot.set_index('increment',inplace=True)"
   ]
  },
  {
   "cell_type": "markdown",
   "metadata": {},
   "source": [
    "### 8. Pivot so each jurisdiction is a column, each row is an increment and the values are capacity"
   ]
  },
  {
   "cell_type": "code",
   "execution_count": null,
   "metadata": {
    "collapsed": true
   },
   "outputs": [],
   "source": [
    "cap_by_jur_pivot = units_by_jur_inc.pivot\\\n",
    "(index='increment', columns='name', values='capacity').\\\n",
    "reset_index().rename_axis(None, axis=1)\n",
    "cap_by_jur_pivot.fillna(0,inplace=True)\n",
    "cap_by_jur_pivot.set_index('increment',inplace=True)"
   ]
  },
  {
   "cell_type": "markdown",
   "metadata": {},
   "source": [
    "### 9. Calculate cumulative sum of hs unit change by jurisdiction"
   ]
  },
  {
   "cell_type": "code",
   "execution_count": null,
   "metadata": {
    "collapsed": true
   },
   "outputs": [],
   "source": [
    "units_by_jur_pivot = units_by_jur_pivot.cumsum()"
   ]
  },
  {
   "cell_type": "code",
   "execution_count": null,
   "metadata": {},
   "outputs": [],
   "source": [
    "units_by_jur_pivot "
   ]
  },
  {
   "cell_type": "markdown",
   "metadata": {},
   "source": [
    "### 10. Plot results - line plots"
   ]
  },
  {
   "cell_type": "code",
   "execution_count": null,
   "metadata": {},
   "outputs": [],
   "source": [
    "fig, axes = plt.subplots(nrows=10, ncols=2)\n",
    "for j, jur in enumerate(units_by_jur.name.unique().tolist()):\n",
    "    df_units_added = units_by_jur_pivot[[jur]]\n",
    "    df_capacity = cap_by_jur_pivot[[jur]]\n",
    "    # join dataframe of units added with dataframe of capacity for each jurisdiction\n",
    "    df_plot = df_units_added.join(df_capacity, lsuffix='_hs_change', rsuffix='_capacity')\n",
    "    hs_column = jur + '_hs_change'\n",
    "    cap_column = jur + '_capacity'\n",
    "    cap_plot_column = jur + '_remaining_cap'\n",
    "    # calculate remaining capacity by subtracting\n",
    "    # units added from starting capacity\n",
    "    df_plot[cap_plot_column] = df_plot[cap_column] - df_plot[hs_column]\n",
    "    del  df_plot[cap_column]\n",
    "    df_plot.plot(style='.-',ax=axes.flat[j],figsize=(10,32))\n",
    "    fig.savefig('units_and_capacity_lineplot.png', format='png', dpi=300)"
   ]
  },
  {
   "cell_type": "markdown",
   "metadata": {},
   "source": [
    "### 10. Plot results - bar plots"
   ]
  },
  {
   "cell_type": "code",
   "execution_count": null,
   "metadata": {
    "scrolled": false
   },
   "outputs": [],
   "source": [
    "fig, axes = plt.subplots(nrows=10, ncols=2)\n",
    "for j, jur in enumerate(units_by_jur.name.unique().tolist()):\n",
    "    df_units_added = units_by_jur_pivot[[jur]]\n",
    "    df_capacity = cap_by_jur_pivot[[jur]]\n",
    "    # join dataframe of units added with dataframe of capacity for each jurisdiction\n",
    "    df_plot = df_units_added.join(df_capacity, lsuffix='_hs_change', rsuffix='_capacity')\n",
    "    hs_column = jur + '_hs_change'\n",
    "    cap_column = jur + '_capacity'\n",
    "    cap_plot_column = jur + '_remaining_cap'\n",
    "    # calculate remaining capacity by subtracting\n",
    "    # units added from starting capacity\n",
    "    df_plot[cap_plot_column] = df_plot[cap_column] - df_plot[hs_column]\n",
    "    del  df_plot[cap_column]\n",
    "    df_plot.plot(style='.-',ax=axes.flat[j],figsize=(10,32),kind='bar')\n",
    "    fig.savefig('units_and_capacity_barplot.png', format='png', dpi=300)"
   ]
  },
  {
   "cell_type": "markdown",
   "metadata": {},
   "source": [
    "## Units Added by Scheduled Dev"
   ]
  },
  {
   "cell_type": "code",
   "execution_count": null,
   "metadata": {},
   "outputs": [],
   "source": [
    "units_added_sched_dev_sql = '''\n",
    "    SELECT p.jurisdiction_id,j.name,year_simulation,o.source,\n",
    "           sum([unit_change]) as units_built\n",
    "      FROM [urbansim].[urbansim].[urbansim_lite_output] o\n",
    "      JOIN [urbansim].[urbansim].[parcel] p on p.parcel_id = o.parcel_id\n",
    "      JOIN urbansim.ref.jurisdiction j on p.jurisdiction_id = j.jurisdiction_id\n",
    "     WHERE run_id =  %s \n",
    "  GROUP BY p.jurisdiction_id,o.source,j.name,year_simulation\n",
    "  ORDER BY j.name,o.source,year_simulation\n",
    "'''\n",
    "units_added_sched_dev_sql = units_added_sched_dev_sql % run_id\n",
    "units_added_sched_dev_df =  pd.read_sql(units_added_sched_dev_sql,mssql_engine,index_col='jurisdiction_id')"
   ]
  },
  {
   "cell_type": "code",
   "execution_count": null,
   "metadata": {
    "collapsed": true
   },
   "outputs": [],
   "source": [
    "idx = range(2017,2051)\n",
    "units_added_sched_dev_df.set_index(['name','year_simulation','source'],append=True,inplace=True)\n",
    "units_added_sched_dev_df = units_added_sched_dev_df.unstack(['jurisdiction_id','name','source'])\n",
    "units_added_sched_dev_df = units_added_sched_dev_df.reindex(idx, fill_value=0)\n",
    "units_added_sched_dev_df.fillna(0,inplace=True)\n",
    "units_added_sched_dev_df = units_added_sched_dev_df.stack(['jurisdiction_id','name','source'])\n",
    "units_added_sched_dev_df.reset_index(inplace=True)\n",
    "units_added_sched_dev_df.set_index('jurisdiction_id',inplace=True)"
   ]
  },
  {
   "cell_type": "markdown",
   "metadata": {},
   "source": [
    "### Add increment 2017 with units added equal to 0 (for plotting)"
   ]
  },
  {
   "cell_type": "code",
   "execution_count": null,
   "metadata": {
    "collapsed": true
   },
   "outputs": [],
   "source": [
    "start_year = units_added_sched_dev_df.loc[units_added_sched_dev_df.year_simulation==2017].copy()"
   ]
  },
  {
   "cell_type": "code",
   "execution_count": null,
   "metadata": {
    "collapsed": true
   },
   "outputs": [],
   "source": [
    "start_year['year_simulation'] = '2016'\n",
    "start_year['units_built'] = 0"
   ]
  },
  {
   "cell_type": "code",
   "execution_count": null,
   "metadata": {
    "collapsed": true
   },
   "outputs": [],
   "source": [
    "units_added_sched_dev_by_increment = units_added_sched_dev_df.copy()"
   ]
  },
  {
   "cell_type": "code",
   "execution_count": null,
   "metadata": {
    "collapsed": true
   },
   "outputs": [],
   "source": [
    "units_added_sched_dev_by_increment = pd.concat([start_year,units_added_sched_dev_by_increment])"
   ]
  },
  {
   "cell_type": "code",
   "execution_count": null,
   "metadata": {
    "collapsed": true
   },
   "outputs": [],
   "source": [
    "# units_by_jur_source = units_added_sched_dev_by_increment.loc[units_added_sched_dev_by_increment.name == 'Carlsbad']"
   ]
  },
  {
   "cell_type": "code",
   "execution_count": null,
   "metadata": {},
   "outputs": [],
   "source": [
    "units_added_sched_dev_by_increment.source.unique().tolist()"
   ]
  },
  {
   "cell_type": "code",
   "execution_count": null,
   "metadata": {},
   "outputs": [],
   "source": [
    "x = units_added_sched_dev_by_increment.loc[units_added_sched_dev_by_increment.source=='entire_region']"
   ]
  },
  {
   "cell_type": "code",
   "execution_count": null,
   "metadata": {},
   "outputs": [],
   "source": [
    "x.name.unique()"
   ]
  },
  {
   "cell_type": "markdown",
   "metadata": {},
   "source": [
    "##### Fill in \"entire region\" as 0 for jurisdictions that do not have it (e.g. Oceanside)"
   ]
  },
  {
   "cell_type": "code",
   "execution_count": null,
   "metadata": {
    "collapsed": true
   },
   "outputs": [],
   "source": [
    "idx = units_added_sched_dev_by_increment.source.unique().tolist()\n",
    "units_added_sched_dev_by_increment.set_index(['name','year_simulation','source'],append=True,inplace=True)\n",
    "units_added_sched_dev_by_increment = units_added_sched_dev_by_increment.unstack(['jurisdiction_id','name','year_simulation'])\n",
    "units_added_sched_dev_by_increment = units_added_sched_dev_by_increment.reindex(idx, fill_value=0)\n",
    "units_added_sched_dev_by_increment.fillna(0,inplace=True)\n",
    "units_added_sched_dev_by_increment = units_added_sched_dev_by_increment.stack(['jurisdiction_id','name','year_simulation'])\n",
    "units_added_sched_dev_by_increment.reset_index(inplace=True)\n",
    "units_added_sched_dev_by_increment.set_index('jurisdiction_id',inplace=True)"
   ]
  },
  {
   "cell_type": "markdown",
   "metadata": {},
   "source": [
    "#####  <span style=\"color:red\"> might be better to make these as a stacked bar </span>"
   ]
  },
  {
   "cell_type": "code",
   "execution_count": null,
   "metadata": {},
   "outputs": [],
   "source": [
    "fig, axes = plt.subplots(nrows=10, ncols=2)\n",
    "for j, jur in enumerate(units_added_sched_dev_by_increment.name.unique().tolist()):\n",
    "    units_by_jur_source = units_added_sched_dev_by_increment.loc[units_added_sched_dev_by_increment.name == jur]\n",
    "    units_by_jur_source_pivot = units_by_jur_source.pivot\\\n",
    "    (index='year_simulation', columns='source', values='units_built').\\\n",
    "    reset_index().rename_axis(None, axis=1)\n",
    "    units_by_jur_pivot.fillna(0,inplace=True)\n",
    "    units_by_jur_source_pivot['subregional'] = units_by_jur_source_pivot['subregional_control'] + \\\n",
    "    units_by_jur_source_pivot['entire_region']\n",
    "    units_by_jur_source_pivot['total'] = units_by_jur_source_pivot['subregional'] + \\\n",
    "    units_by_jur_source_pivot['sched_dev']\n",
    "    units_by_jur_source_pivot.set_index('year_simulation',inplace=True)\n",
    "    df_plot2 = units_by_jur_source_pivot[['subregional','sched_dev','total']].copy()\n",
    "    df_plot2.rename(columns = {'subregional': jur + '_not_sched_dev'}, inplace=True)\n",
    "    df_plot2.rename(columns = {'sched_dev': jur + '_sched_dev'}, inplace=True)\n",
    "    df_plot2.rename(columns = {'total': jur + '_total'}, inplace=True)\n",
    "    df_plot2 = df_plot2.cumsum()\n",
    "    df_plot2.plot(style='.-',ax=axes.flat[j],figsize=(10,32))\n",
    "    # fig.savefig('units_and_capacity_lineplot.png', format='png', dpi=300)"
   ]
  },
  {
   "cell_type": "markdown",
   "metadata": {},
   "source": [
    "### 11. Double check results for one jurisdiction"
   ]
  },
  {
   "cell_type": "code",
   "execution_count": null,
   "metadata": {
    "collapsed": true
   },
   "outputs": [],
   "source": [
    "jur = 'Encinitas'\n",
    "jur_id = 6\n",
    "confluence_pg_cap = 2460\n",
    "# jur = 'Imperial Beach'\n",
    "# jur_id = 8\n",
    "# confluence_pg_cap = 3569"
   ]
  },
  {
   "cell_type": "code",
   "execution_count": null,
   "metadata": {},
   "outputs": [],
   "source": [
    "print(\"{} housing unit change and remaining capacity\".format(jur))"
   ]
  },
  {
   "cell_type": "code",
   "execution_count": null,
   "metadata": {},
   "outputs": [],
   "source": [
    "df_units_added = units_by_jur_pivot[[jur]]\n",
    "df_capacity = cap_by_jur_pivot[[jur]]\n",
    "df_plot = df_units_added.join(df_capacity, lsuffix='_hs_change', rsuffix='_capacity')\n",
    "hs_column = jur + '_hs_change'\n",
    "cap_column = jur + '_capacity'\n",
    "cap_plot_column = jur + '_remaining_cap'\n",
    "df_plot[cap_plot_column] = df_plot[cap_column] - df_plot[hs_column]\n",
    "del  df_plot[cap_column]\n",
    "df_plot.plot(style='.-',title=jur)"
   ]
  },
  {
   "cell_type": "code",
   "execution_count": null,
   "metadata": {
    "collapsed": true
   },
   "outputs": [],
   "source": [
    "remaining_cap = jur + '_remaining_cap'\n",
    "hs_change =  jur + '_hs_change'"
   ]
  },
  {
   "cell_type": "markdown",
   "metadata": {},
   "source": [
    "Capacity and housing unit change shown on plot"
   ]
  },
  {
   "cell_type": "code",
   "execution_count": null,
   "metadata": {},
   "outputs": [],
   "source": [
    "print(\"Starting capacity: {}\\nHousing unit change: {}\\nRemaining:   {}\".\\\n",
    "      format(int(df_plot.loc['2017'][remaining_cap]),\\\n",
    "       int(df_plot.loc['2050'][hs_change]),\\\n",
    "             int(df_plot.loc['2017'][remaining_cap])-int(df_plot.loc['2050'][hs_change])))\n",
    "print(\"Remaining capacity {} 2050: {}\".format(jur,int(df_plot.loc['2050'][remaining_cap])))"
   ]
  },
  {
   "cell_type": "markdown",
   "metadata": {},
   "source": [
    "Capacity on confluence page Jurisdiction Feedback"
   ]
  },
  {
   "cell_type": "code",
   "execution_count": null,
   "metadata": {},
   "outputs": [],
   "source": [
    "print(\"Starting capacity on jur feedback confluence page: {}\".format(confluence_pg_cap))\n",
    "print(\"Difference between confluence page and plot: {}\".\\\n",
    "      format(int(df_plot.loc['2017'][remaining_cap])-confluence_pg_cap))"
   ]
  },
  {
   "cell_type": "markdown",
   "metadata": {},
   "source": [
    "Capacity and forecast from database"
   ]
  },
  {
   "cell_type": "code",
   "execution_count": null,
   "metadata": {
    "collapsed": true
   },
   "outputs": [],
   "source": [
    "hs_change_sql = '''\n",
    "    SELECT j.name, p.jurisdiction_id, sum(unit_change) as hs_change, year_simulation\n",
    "      FROM urbansim.urbansim.urbansim_lite_output o \n",
    "      JOIN urbansim.urbansim.parcel p on p.parcel_id = o.parcel_id\n",
    "      JOIN urbansim.ref.jurisdiction j on p.jurisdiction_id = j.jurisdiction_id\n",
    "     WHERE run_id =  %s\n",
    "  GROUP BY j.name,p.jurisdiction_id, year_simulation\n",
    "  ORDER BY j.name,p.jurisdiction_id, year_simulation'''\n",
    "hs_change_sql = hs_change_sql % run_id"
   ]
  },
  {
   "cell_type": "code",
   "execution_count": null,
   "metadata": {},
   "outputs": [],
   "source": [
    "simulation_NOT_sched_dev =  '''  \n",
    "    SELECT  sum(unit_change)\n",
    "       FROM urbansim.urbansim.urbansim_lite_output o\n",
    "       JOIN urbansim.parcel p on p.parcel_id = o.parcel_id\n",
    "      WHERE jurisdiction_id = %s and source != 'sched_dev' and run_id =  %s'''\n",
    "simulation_NOT_sched_dev_sql = simulation_NOT_sched_dev % (jur_id,run_id)\n",
    "sim_NOT_sched_dev_df =  pd.read_sql(simulation_NOT_sched_dev_sql,mssql_engine)"
   ]
  },
  {
   "cell_type": "code",
   "execution_count": null,
   "metadata": {},
   "outputs": [],
   "source": [
    "jur_capacity_sql =  '''\n",
    "     SELECT sum(capacity)\n",
    "       FROM urbansim.parcel\n",
    "      WHERE jurisdiction_id = %s and capacity > 0'''\n",
    "jur_capacity_sql = jur_capacity_sql % jur_id\n",
    "cap_jur_df =  pd.read_sql(jur_capacity_sql,mssql_engine)\n",
    "\n",
    "jur_capacity_sql_no_sched_dev_sql =  '''\n",
    "     SELECT sum(capacity)\n",
    "       FROM urbansim.parcel\n",
    "      WHERE jurisdiction_id = %s and site_id IS NULL and capacity > 0'''\n",
    "jur_capacity_sql_no_sched_dev_sql =  jur_capacity_sql_no_sched_dev_sql % jur_id\n",
    "cap_jur_df_no_sched_dev =  pd.read_sql(jur_capacity_sql_no_sched_dev_sql,mssql_engine)\n",
    "\n",
    "jur_capacity_sql_just_sched_dev =  '''\n",
    "     SELECT sum(res_units)\n",
    "       FROM urbansim.urbansim.scheduled_development_do_not_use s\n",
    "       JOIN urbansim.parcel p on p.parcel_id = s.parcel_id\n",
    "      WHERE jurisdiction_id = %s and yr >= 2017'''\n",
    "jur_capacity_sql_just_sched_dev =  jur_capacity_sql_just_sched_dev % jur_id\n",
    "cap_jur_just_sched_dev_df =  pd.read_sql(jur_capacity_sql_just_sched_dev,mssql_engine)\n",
    "\n",
    "simulation_sched_dev =  '''  \n",
    "    SELECT  sum(unit_change)\n",
    "       FROM urbansim.urbansim.urbansim_lite_output o\n",
    "       JOIN urbansim.parcel p on p.parcel_id = o.parcel_id\n",
    "      WHERE jurisdiction_id = %s and source='sched_dev' and run_id =  %s'''\n",
    "simulation_sched_dev_sql = simulation_sched_dev % (jur_id,run_id)\n",
    "sim_sched_dev_df =  pd.read_sql(simulation_sched_dev_sql,mssql_engine)\n",
    "\n",
    "simulation_NOT_sched_dev =  '''  \n",
    "    SELECT  sum(unit_change)\n",
    "       FROM urbansim.urbansim.urbansim_lite_output o\n",
    "       JOIN urbansim.parcel p on p.parcel_id = o.parcel_id\n",
    "      WHERE jurisdiction_id = %s and source != 'sched_dev' and run_id =  %s'''\n",
    "simulation_NOT_sched_dev_sql = simulation_NOT_sched_dev % (jur_id,run_id)\n",
    "sim_NOT_sched_dev_df =  pd.read_sql(simulation_NOT_sched_dev_sql,mssql_engine)"
   ]
  },
  {
   "cell_type": "code",
   "execution_count": null,
   "metadata": {},
   "outputs": [],
   "source": [
    "print(jur)\n",
    "print(\"\\nTotal capacity from urbansim.parcel: {}\".\\\n",
    "      format(int(cap_jur_df.values)))\n",
    "print(\"Total capacity from urbansim.parcel and sched dev table: {}\\n\".\\\n",
    "      format(int(cap_jur_df_no_sched_dev.values) +\\\n",
    "             int(cap_jur_just_sched_dev_df.values)))\n",
    "print(\"Capacity sched dev: {}\".\\\n",
    "      format(int(cap_jur_just_sched_dev_df.values)))\n",
    "print(\"Forecast sched dev: {}\\n\".\\\n",
    "      format(int(sim_sched_dev_df.values)))\n",
    "\n",
    "print(\"Capacity no sched dev: {}\".\\\n",
    "      format(int(cap_jur_df_no_sched_dev.values)))\n",
    "print(\"Forecast no sched dev: {}\\n\".\\\n",
    "      format(int(sim_NOT_sched_dev_df.values)))\n",
    "\n",
    "print(\"Remaining: {}\".\\\n",
    "      format(int(cap_jur_df_no_sched_dev.values)-\\\n",
    "                 int(sim_NOT_sched_dev_df.values)))\n",
    "print(\"Remaining shown on plot: {}\\n\".format(int(df_plot.loc['2050'][remaining_cap])))\n",
    "print(\"Forecast total: {}\".\\\n",
    "      format(int(sim_sched_dev_df.values) +  int(sim_NOT_sched_dev_df.values)))\n",
    "print(\"Forecast housing unit change on plot: {}\".\\\n",
    "      format(int(df_plot.loc['2050'][hs_change])))\n"
   ]
  },
  {
   "cell_type": "code",
   "execution_count": null,
   "metadata": {
    "collapsed": true
   },
   "outputs": [],
   "source": [
    "remaining_capacity_sql = ''' \n",
    "        WITH parcel_out AS \n",
    "            (SELECT  o.parcel_id, sum(unit_change) as units_added\n",
    "                FROM urbansim.urbansim.urbansim_lite_output o \n",
    "                JOIN urbansim.parcel p on p.parcel_id = o.parcel_id\n",
    "                WHERE jurisdiction_id = %s and source != 'sched_dev' and  run_id =  %s\n",
    "                GROUP BY o.parcel_id)\n",
    "        SELECT sum(p.capacity - COALESCE(o.units_added,0))\n",
    "        FROM urbansim.parcel p\n",
    "        FULL OUTER JOIN parcel_out o\n",
    "        ON o.parcel_id = p.parcel_id\n",
    "        WHERE jurisdiction_id = %s  and site_id IS NULL and p.capacity  > 0 '''\n",
    "remaining_capacity_sql = remaining_capacity_sql % (jur_id,run_id,jur_id)\n",
    "remaining_capacity_df =  pd.read_sql(remaining_capacity_sql,mssql_engine)\n",
    "remaining_capacity_df =  pd.read_sql(remaining_capacity_sql,mssql_engine)"
   ]
  },
  {
   "cell_type": "code",
   "execution_count": null,
   "metadata": {},
   "outputs": [],
   "source": [
    "print(\"Remaining capacity from db: {}\".\\\n",
    "      format(int(remaining_capacity_df.values)))"
   ]
  },
  {
   "cell_type": "code",
   "execution_count": null,
   "metadata": {
    "collapsed": true
   },
   "outputs": [],
   "source": [
    "jur_forecast = units_by_jur.loc[jur_id].sort_values(by='year_simulation')"
   ]
  },
  {
   "cell_type": "code",
   "execution_count": null,
   "metadata": {
    "collapsed": true
   },
   "outputs": [],
   "source": [
    "df_plot_jur = jur_forecast[['year_simulation','hs_change']]"
   ]
  },
  {
   "cell_type": "code",
   "execution_count": null,
   "metadata": {
    "collapsed": true
   },
   "outputs": [],
   "source": [
    "df_plot_jur.set_index('year_simulation',inplace=True)"
   ]
  },
  {
   "cell_type": "markdown",
   "metadata": {},
   "source": [
    "### Housing unit change by year"
   ]
  },
  {
   "cell_type": "code",
   "execution_count": null,
   "metadata": {},
   "outputs": [],
   "source": [
    "df_plot_jur.plot(style='.-',title=jur)"
   ]
  },
  {
   "cell_type": "markdown",
   "metadata": {},
   "source": [
    "### Housing unit change cumulative sum"
   ]
  },
  {
   "cell_type": "code",
   "execution_count": null,
   "metadata": {
    "collapsed": true
   },
   "outputs": [],
   "source": [
    "df_plot_jur = df_plot_jur.cumsum()"
   ]
  },
  {
   "cell_type": "code",
   "execution_count": null,
   "metadata": {},
   "outputs": [],
   "source": [
    "df_plot_jur.plot(style='.-',title=jur)"
   ]
  },
  {
   "cell_type": "markdown",
   "metadata": {},
   "source": [
    "### Housing unit change cumulative sum by increment"
   ]
  },
  {
   "cell_type": "code",
   "execution_count": null,
   "metadata": {},
   "outputs": [],
   "source": [
    "df_plot.plot(style='.-',title=jur)"
   ]
  },
  {
   "cell_type": "markdown",
   "metadata": {},
   "source": [
    "#### Housing units by source: sched dev, region control, entire region (remaining)"
   ]
  },
  {
   "cell_type": "code",
   "execution_count": null,
   "metadata": {},
   "outputs": [],
   "source": [
    "unit_type_by_year = '''\n",
    "    SELECT x.jurisdiction_id, sum(x.units_built) as units_by_type, x.source\n",
    "    FROM(SELECT jurisdiction_id,\n",
    "        sum([unit_change]) as units_built,\n",
    "        [year_simulation],\n",
    "        o.[source]\n",
    "        FROM [urbansim].[urbansim].[urbansim_lite_output] o\n",
    "        join [urbansim].[urbansim].[parcel] p on p.parcel_id = o.parcel_id\n",
    "        where run_id = %s\n",
    "        GROUP BY o.source,jurisdiction_id,year_simulation) as x\n",
    "        group by x.jurisdiction_id, x.source\n",
    "        order by x.jurisdiction_id, x.source\n",
    "'''\n",
    "\n",
    "unit_type_by_year = unit_type_by_year % run_id\n",
    "unit_type_by_year_df =  pd.read_sql(unit_type_by_year,mssql_engine)"
   ]
  },
  {
   "cell_type": "code",
   "execution_count": null,
   "metadata": {
    "collapsed": true
   },
   "outputs": [],
   "source": [
    "unit_type_by_year_pivot = unit_type_by_year_df.pivot\\\n",
    "(index='source', columns='jurisdiction_id', values='units_by_type').\\\n",
    "reset_index().rename_axis(None, axis=1)\n",
    "unit_type_by_year_pivot.set_index('source',inplace=True)"
   ]
  },
  {
   "cell_type": "code",
   "execution_count": null,
   "metadata": {
    "collapsed": true
   },
   "outputs": [],
   "source": [
    "# unit_type_by_year_pivot"
   ]
  },
  {
   "cell_type": "code",
   "execution_count": null,
   "metadata": {},
   "outputs": [],
   "source": [
    "fig, axes = plt.subplots(nrows=10, ncols=2)\n",
    "for j in unit_type_by_year_df.jurisdiction_id.unique().tolist():\n",
    "    jur_plot = unit_type_by_year_pivot[[j]]\n",
    "    jur_plot.plot(style='.-',ax=axes.flat[j],rot=0,figsize=(10,32),kind='bar')\n"
   ]
  },
  {
   "cell_type": "code",
   "execution_count": null,
   "metadata": {
    "collapsed": true
   },
   "outputs": [],
   "source": []
  }
 ],
 "metadata": {
  "kernelspec": {
   "display_name": "Python 2",
   "language": "python",
   "name": "python2"
  },
  "language_info": {
   "codemirror_mode": {
    "name": "ipython",
    "version": 2
   },
   "file_extension": ".py",
   "mimetype": "text/x-python",
   "name": "python",
   "nbconvert_exporter": "python",
   "pygments_lexer": "ipython2",
   "version": "2.7.14"
  }
 },
 "nbformat": 4,
 "nbformat_minor": 2
}
