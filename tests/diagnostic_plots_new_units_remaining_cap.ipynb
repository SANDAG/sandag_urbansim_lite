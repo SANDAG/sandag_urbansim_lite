{
 "cells": [
  {
   "cell_type": "code",
   "execution_count": null,
   "metadata": {
    "collapsed": true
   },
   "outputs": [],
   "source": [
    "import pandas as pd\n",
    "import numpy as np\n",
    "%matplotlib inline\n",
    "from sqlalchemy import create_engine\n",
    "from pysandag.database import get_connection_string\n",
    "\n",
    "db_connection_string = get_connection_string('..\\data\\config.yml', 'mssql_db')\n",
    "mssql_engine = create_engine(db_connection_string)"
   ]
  },
  {
   "cell_type": "markdown",
   "metadata": {},
   "source": [
    "### 1. Get output of simulation"
   ]
  },
  {
   "cell_type": "markdown",
   "metadata": {},
   "source": [
    "##### urbansim.urbansim.urbansim_lite_output (unit change by year, grouped by jurisdiction)"
   ]
  },
  {
   "cell_type": "code",
   "execution_count": null,
   "metadata": {
    "collapsed": true
   },
   "outputs": [],
   "source": [
    "run_id = 2"
   ]
  },
  {
   "cell_type": "code",
   "execution_count": null,
   "metadata": {
    "collapsed": true
   },
   "outputs": [],
   "source": [
    "hs_change_sql = '''\n",
    "    SELECT j.name, p.jurisdiction_id, sum(units_added) as hs_change, year_simulation\n",
    "      FROM urbansim.urbansim.urbansim_lite_output o \n",
    "      JOIN urbansim.urbansim.parcel p on p.parcel_id = o.parcel_id\n",
    "      JOIN urbansim.ref.jurisdiction j on p.jurisdiction_id = j.jurisdiction_id\n",
    "     WHERE run_id =  %s\n",
    "  GROUP BY j.name,p.jurisdiction_id, year_simulation\n",
    "  ORDER BY j.name,p.jurisdiction_id, year_simulation'''\n",
    "hs_change_sql = hs_change_sql % run_id"
   ]
  },
  {
   "cell_type": "code",
   "execution_count": null,
   "metadata": {
    "collapsed": true
   },
   "outputs": [],
   "source": [
    "units_by_jur = pd.read_sql(hs_change_sql,mssql_engine,index_col='jurisdiction_id')"
   ]
  },
  {
   "cell_type": "markdown",
   "metadata": {},
   "source": [
    "### 2. Fill in \"0\" for units for \"missing\" years (for plotting) (e.g. Del Mar)"
   ]
  },
  {
   "cell_type": "code",
   "execution_count": null,
   "metadata": {
    "collapsed": true
   },
   "outputs": [],
   "source": [
    "idx = range(2017,2051)"
   ]
  },
  {
   "cell_type": "code",
   "execution_count": null,
   "metadata": {},
   "outputs": [],
   "source": [
    "# Del Mar example\n",
    "del_mar_before = units_by_jur.loc[4].sort_values(by='year_simulation')\n",
    "del_mar_before.head()"
   ]
  },
  {
   "cell_type": "code",
   "execution_count": null,
   "metadata": {},
   "outputs": [],
   "source": [
    "del_mar_before.plot(x='year_simulation',y='hs_change',style='.-',title='Del Mar Housing Unit Change by Year')"
   ]
  },
  {
   "cell_type": "code",
   "execution_count": null,
   "metadata": {
    "collapsed": true
   },
   "outputs": [],
   "source": [
    "units_by_jur.set_index(['name','year_simulation'],append=True,inplace=True)\n",
    "units_by_jur = units_by_jur.unstack(['jurisdiction_id','name'])\n",
    "units_by_jur = units_by_jur.reindex(idx, fill_value=0)\n",
    "units_by_jur.fillna(0,inplace=True)\n",
    "units_by_jur = units_by_jur.stack(['jurisdiction_id','name'])\n",
    "units_by_jur.reset_index(inplace=True)\n",
    "units_by_jur.set_index('jurisdiction_id',inplace=True)"
   ]
  },
  {
   "cell_type": "code",
   "execution_count": null,
   "metadata": {},
   "outputs": [],
   "source": [
    "# Del Mar example\n",
    "del_mar_after = units_by_jur.loc[4].sort_values(by='year_simulation')\n",
    "del_mar_after.head()"
   ]
  },
  {
   "cell_type": "code",
   "execution_count": null,
   "metadata": {},
   "outputs": [],
   "source": [
    "del_mar_after.plot(x='year_simulation',y='hs_change',style='.-',title='Del Mar Housing Unit Change by Year')"
   ]
  },
  {
   "cell_type": "markdown",
   "metadata": {},
   "source": [
    "### 3. Get capacity"
   ]
  },
  {
   "cell_type": "markdown",
   "metadata": {},
   "source": [
    "#####  <span style=\"color:red\">!!! NOTE: capacity from urbansim.parcel does not match capacity for sched dev from sched dev table</span>"
   ]
  },
  {
   "cell_type": "markdown",
   "metadata": {},
   "source": [
    "##### from urbansim.parcel (site_id IS NULL)"
   ]
  },
  {
   "cell_type": "code",
   "execution_count": null,
   "metadata": {
    "collapsed": true
   },
   "outputs": [],
   "source": [
    "capacity_by_jurs_sans_sched_dev_sql = '''  \n",
    "    SELECT jurisdiction_id,  sum(capacity) as capacity_sans_sched_dev\n",
    "      FROM urbansim.parcel\n",
    "     WHERE site_id IS NULL and capacity > 0\n",
    "  GROUP BY jurisdiction_id\n",
    "  ORDER BY jurisdiction_id'''"
   ]
  },
  {
   "cell_type": "code",
   "execution_count": null,
   "metadata": {
    "collapsed": true
   },
   "outputs": [],
   "source": [
    "cap_by_jur_sans_sched =  pd.read_sql(capacity_by_jurs_sans_sched_dev_sql,mssql_engine,index_col='jurisdiction_id')"
   ]
  },
  {
   "cell_type": "markdown",
   "metadata": {},
   "source": [
    "##### from urbansim.scheduled_development_do_not_use (capacity for sched dev)"
   ]
  },
  {
   "cell_type": "code",
   "execution_count": null,
   "metadata": {
    "collapsed": true
   },
   "outputs": [],
   "source": [
    "# Note: only count sched dev with year >= 2017\n",
    "capacity_by_jurs_sched_dev_sql = '''  \n",
    "    SELECT jurisdiction_id,  sum(res_units) as capacity_only_sched_dev\n",
    "      FROM urbansim.urbansim.scheduled_development_do_not_use s\n",
    "      JOIN urbansim.parcel p on p.parcel_id = s.parcel_id\n",
    "     WHERE yr >= 2017\n",
    "  GROUP BY jurisdiction_id\n",
    "  ORDER BY jurisdiction_id'''"
   ]
  },
  {
   "cell_type": "code",
   "execution_count": null,
   "metadata": {
    "collapsed": true
   },
   "outputs": [],
   "source": [
    "cap_by_jur_sched_dev =  pd.read_sql(capacity_by_jurs_sched_dev_sql,mssql_engine,index_col='jurisdiction_id')"
   ]
  },
  {
   "cell_type": "markdown",
   "metadata": {},
   "source": [
    "##### add capacity from two tables"
   ]
  },
  {
   "cell_type": "code",
   "execution_count": null,
   "metadata": {
    "collapsed": true
   },
   "outputs": [],
   "source": [
    "cap_by_jur = cap_by_jur_sans_sched.join(cap_by_jur_sched_dev)"
   ]
  },
  {
   "cell_type": "code",
   "execution_count": null,
   "metadata": {
    "collapsed": true
   },
   "outputs": [],
   "source": [
    "cap_by_jur['capacity'] = cap_by_jur['capacity_sans_sched_dev'] + cap_by_jur['capacity_only_sched_dev']"
   ]
  },
  {
   "cell_type": "code",
   "execution_count": null,
   "metadata": {
    "collapsed": true
   },
   "outputs": [],
   "source": [
    "cap_by_jur = cap_by_jur.drop(['capacity_sans_sched_dev', 'capacity_only_sched_dev'],axis=1)"
   ]
  },
  {
   "cell_type": "markdown",
   "metadata": {},
   "source": [
    "### 4. Sum units from output of simulation over five year increments"
   ]
  },
  {
   "cell_type": "code",
   "execution_count": null,
   "metadata": {
    "collapsed": true
   },
   "outputs": [],
   "source": [
    "bins = range(2015,2055,5)\n",
    "names = [str(x) for x in range(2020,2055,5)]\n",
    "units_by_jur['increment'] = pd.cut(units_by_jur.year_simulation, bins, labels=names)"
   ]
  },
  {
   "cell_type": "code",
   "execution_count": null,
   "metadata": {
    "collapsed": true
   },
   "outputs": [],
   "source": [
    "units_by_jur_inc = pd.DataFrame({'hs_added': units_by_jur.\n",
    "                                            groupby([\"increment\", \"jurisdiction_id\",\"name\"]).\n",
    "                                 hs_change.sum()}).reset_index()"
   ]
  },
  {
   "cell_type": "markdown",
   "metadata": {},
   "source": [
    "### 5. Join output of simulation with capacity"
   ]
  },
  {
   "cell_type": "code",
   "execution_count": null,
   "metadata": {
    "collapsed": true
   },
   "outputs": [],
   "source": [
    "units_by_jur_inc = units_by_jur_inc.set_index('jurisdiction_id').join(cap_by_jur)"
   ]
  },
  {
   "cell_type": "markdown",
   "metadata": {},
   "source": [
    "### 6. Add increment 2017 with units added equal to 0 (for plotting)"
   ]
  },
  {
   "cell_type": "code",
   "execution_count": null,
   "metadata": {
    "collapsed": true
   },
   "outputs": [],
   "source": [
    "start_year = units_by_jur_inc.loc[units_by_jur_inc.increment=='2020'].copy()"
   ]
  },
  {
   "cell_type": "code",
   "execution_count": null,
   "metadata": {
    "collapsed": true
   },
   "outputs": [],
   "source": [
    "start_year['increment'] = '2017'\n",
    "start_year['hs_added'] = 0"
   ]
  },
  {
   "cell_type": "code",
   "execution_count": null,
   "metadata": {
    "collapsed": true
   },
   "outputs": [],
   "source": [
    "units_by_jur_inc = pd.concat([start_year,units_by_jur_inc])"
   ]
  },
  {
   "cell_type": "markdown",
   "metadata": {},
   "source": [
    "### 7. Pivot so each jurisdiction is a column, each row is an increment and the values are hs unit change"
   ]
  },
  {
   "cell_type": "code",
   "execution_count": null,
   "metadata": {
    "collapsed": true
   },
   "outputs": [],
   "source": [
    "units_by_jur_pivot = units_by_jur_inc.pivot\\\n",
    "(index='increment', columns='name', values='hs_added').\\\n",
    "reset_index().rename_axis(None, axis=1)\n",
    "units_by_jur_pivot.fillna(0,inplace=True)\n",
    "units_by_jur_pivot.set_index('increment',inplace=True)"
   ]
  },
  {
   "cell_type": "markdown",
   "metadata": {},
   "source": [
    "### 8. Pivot so each jurisdiction is a column, each row is an increment and the values are capacity"
   ]
  },
  {
   "cell_type": "code",
   "execution_count": null,
   "metadata": {
    "collapsed": true
   },
   "outputs": [],
   "source": [
    "cap_by_jur_pivot = units_by_jur_inc.pivot\\\n",
    "(index='increment', columns='name', values='capacity').\\\n",
    "reset_index().rename_axis(None, axis=1)\n",
    "cap_by_jur_pivot.fillna(0,inplace=True)\n",
    "cap_by_jur_pivot.set_index('increment',inplace=True)"
   ]
  },
  {
   "cell_type": "markdown",
   "metadata": {},
   "source": [
    "### 9. Calculate cumulative sum of hs unit change by jurisdiction"
   ]
  },
  {
   "cell_type": "code",
   "execution_count": null,
   "metadata": {
    "collapsed": true
   },
   "outputs": [],
   "source": [
    "units_by_jur_pivot = units_by_jur_pivot.cumsum()"
   ]
  },
  {
   "cell_type": "markdown",
   "metadata": {},
   "source": [
    "### 10. Plot results - line plots"
   ]
  },
  {
   "cell_type": "code",
   "execution_count": null,
   "metadata": {},
   "outputs": [],
   "source": [
    "import matplotlib.pyplot as plt\n",
    "fig, axes = plt.subplots(nrows=10, ncols=2)\n",
    "for j, jur in enumerate(units_by_jur.name.unique().tolist()):\n",
    "    df_units_added = units_by_jur_pivot[[jur]]\n",
    "    df_capacity = cap_by_jur_pivot[[jur]]\n",
    "    # join dataframe of units added with dataframe of capacity for each jurisdiction\n",
    "    df_plot = df_units_added.join(df_capacity, lsuffix='_hs_change', rsuffix='_capacity')\n",
    "    hs_column = jur + '_hs_change'\n",
    "    cap_column = jur + '_capacity'\n",
    "    cap_plot_column = jur + '_remaining_cap'\n",
    "    # calculate remaining capacity by subtracting\n",
    "    # units added from starting capacity\n",
    "    df_plot[cap_plot_column] = df_plot[cap_column] - df_plot[hs_column]\n",
    "    del  df_plot[cap_column]\n",
    "    df_plot.plot(style='.-',ax=axes.flat[j],figsize=(10,32))\n",
    "    fig.savefig('units_and_capacity_lineplot.png', format='png', dpi=300)"
   ]
  },
  {
   "cell_type": "markdown",
   "metadata": {},
   "source": [
    "### 10. Plot results - bar plots"
   ]
  },
  {
   "cell_type": "code",
   "execution_count": null,
   "metadata": {},
   "outputs": [],
   "source": [
    "fig, axes = plt.subplots(nrows=10, ncols=2)\n",
    "for j, jur in enumerate(units_by_jur.name.unique().tolist()):\n",
    "    df_units_added = units_by_jur_pivot[[jur]]\n",
    "    df_capacity = cap_by_jur_pivot[[jur]]\n",
    "    # join dataframe of units added with dataframe of capacity for each jurisdiction\n",
    "    df_plot = df_units_added.join(df_capacity, lsuffix='_hs_change', rsuffix='_capacity')\n",
    "    hs_column = jur + '_hs_change'\n",
    "    cap_column = jur + '_capacity'\n",
    "    cap_plot_column = jur + '_remaining_cap'\n",
    "    # calculate remaining capacity by subtracting\n",
    "    # units added from starting capacity\n",
    "    df_plot[cap_plot_column] = df_plot[cap_column] - df_plot[hs_column]\n",
    "    del  df_plot[cap_column]\n",
    "    df_plot.plot(style='.-',ax=axes.flat[j],figsize=(10,32),kind='bar')\n",
    "    fig.savefig('units_and_capacity_barplot.png', format='png', dpi=300)"
   ]
  },
  {
   "cell_type": "markdown",
   "metadata": {},
   "source": [
    "### 11. Double check results for one jurisdiction: Encinitas"
   ]
  },
  {
   "cell_type": "markdown",
   "metadata": {},
   "source": [
    "Plot of Encinitas housing unit change and remaining capacity"
   ]
  },
  {
   "cell_type": "code",
   "execution_count": null,
   "metadata": {},
   "outputs": [],
   "source": [
    "jur = 'Encinitas'\n",
    "df_units_added = units_by_jur_pivot[[jur]]\n",
    "df_capacity = cap_by_jur_pivot[[jur]]\n",
    "df_plot = df_units_added.join(df_capacity, lsuffix='_hs_change', rsuffix='_capacity')\n",
    "hs_column = jur + '_hs_change'\n",
    "cap_column = jur + '_capacity'\n",
    "cap_plot_column = jur + '_remaining_cap'\n",
    "df_plot[cap_plot_column] = df_plot[cap_column] - df_plot[hs_column]\n",
    "del  df_plot[cap_column]\n",
    "df_plot.plot(style='.-')"
   ]
  },
  {
   "cell_type": "markdown",
   "metadata": {},
   "source": [
    "Capacity and housing unit change shown on plot"
   ]
  },
  {
   "cell_type": "code",
   "execution_count": null,
   "metadata": {},
   "outputs": [],
   "source": [
    "print(\"Starting capacity: {}\\nHousing unit change: {}\\nRemaining:   {}\".\\\n",
    "      format(int(df_plot.loc['2017'].Encinitas_remaining_cap),\\\n",
    "       int(df_plot.loc['2050'].Encinitas_hs_change),\\\n",
    "             int(df_plot.loc['2017'].Encinitas_remaining_cap)-int(df_plot.loc['2050'].Encinitas_hs_change)))\n",
    "print(\"Remaining capacity Encinitas 2050: {}\".format(int(df_plot.loc['2050'].Encinitas_remaining_cap)))"
   ]
  },
  {
   "cell_type": "markdown",
   "metadata": {},
   "source": [
    "Capacity on confluence page Jurisdiction Feedback"
   ]
  },
  {
   "cell_type": "code",
   "execution_count": null,
   "metadata": {},
   "outputs": [],
   "source": [
    "print(\"Starting capacity on jur feedback confluence page: 2460\")\n",
    "print(\"Difference between confluence page and plot: {}\".\\\n",
    "      format(int(df_plot.loc['2017'].Encinitas_remaining_cap)-2460))"
   ]
  },
  {
   "cell_type": "markdown",
   "metadata": {},
   "source": [
    "Capacity and forecast from database"
   ]
  },
  {
   "cell_type": "code",
   "execution_count": null,
   "metadata": {},
   "outputs": [],
   "source": [
    "encinitas_capacity_sql =  '''\n",
    "     SELECT sum(capacity)\n",
    "       FROM urbansim.parcel\n",
    "      WHERE jurisdiction_id = 6 and capacity > 0'''\n",
    "cap_encinitas_df =  pd.read_sql(encinitas_capacity_sql,mssql_engine)\n",
    "encinitas_capacity_sql_no_sched_dev =  '''\n",
    "     SELECT sum(capacity)\n",
    "       FROM urbansim.parcel\n",
    "      WHERE jurisdiction_id = 6 and site_id IS NULL and capacity > 0'''\n",
    "cap_encinitas_df_no_sched_dev =  pd.read_sql(encinitas_capacity_sql_no_sched_dev,mssql_engine)\n",
    "encinitas_capacity_sql_just_sched_dev =  '''\n",
    "     SELECT sum(res_units)\n",
    "       FROM urbansim.urbansim.scheduled_development_do_not_use s\n",
    "       JOIN urbansim.parcel p on p.parcel_id = s.parcel_id\n",
    "      WHERE jurisdiction_id = 6 and yr >= 2017'''\n",
    "simulation_sched_dev =  '''  \n",
    "    SELECT  sum(units_added)\n",
    "       FROM urbansim.urbansim.urbansim_lite_output o\n",
    "       JOIN urbansim.parcel p on p.parcel_id = o.parcel_id\n",
    "      WHERE jurisdiction_id = 6 and source='sched_dev' and run_id =  %s'''\n",
    "simulation_sched_dev_sql = simulation_sched_dev % run_id\n",
    "sim_sched_dev_df =  pd.read_sql(simulation_sched_dev_sql,mssql_engine)\n",
    "simulation_NOT_sched_dev =  '''  \n",
    "    SELECT  sum(units_added)\n",
    "       FROM urbansim.urbansim.urbansim_lite_output o\n",
    "       JOIN urbansim.parcel p on p.parcel_id = o.parcel_id\n",
    "      WHERE jurisdiction_id = 6 and source != 'sched_dev' and run_id =  %s'''\n",
    "simulation_NOT_sched_dev_sql = simulation_NOT_sched_dev % run_id\n",
    "sim_NOT_sched_dev_df =  pd.read_sql(simulation_NOT_sched_dev_sql,mssql_engine)"
   ]
  },
  {
   "cell_type": "code",
   "execution_count": null,
   "metadata": {},
   "outputs": [],
   "source": [
    "print(\"\\nTotal capacity from urbansim.parcel: {}\".\\\n",
    "      format(int(cap_encinitas_df.values)))\n",
    "print(\"Total capacity from urbansim.parcel and sched dev tbale: {}\\n\".\\\n",
    "      format(int(cap_encinitas_df_no_sched_dev.values) +\\\n",
    "             int(cap_encinitas_df_just_sched_dev.values)))\n",
    "print(\"Capacity sched dev: {}\".\\\n",
    "      format(int(cap_encinitas_df_just_sched_dev.values)))\n",
    "print(\"Forecast sched dev: {}\\n\".\\\n",
    "      format(int(sim_sched_dev_df.values)))\n",
    "\n",
    "print(\"Capacity no sched dev: {}\".\\\n",
    "      format(int(cap_encinitas_df_no_sched_dev.values)))\n",
    "print(\"Forecast no sched dev: {}\\n\".\\\n",
    "      format(int(sim_NOT_sched_dev_df.values)))\n",
    "\n",
    "print(\"Remaining: {}\".\\\n",
    "      format(int(cap_encinitas_df_no_sched_dev.values)-\\\n",
    "                 int(sim_NOT_sched_dev_df.values)))\n",
    "print(\"Remaining shown on plot: {}\\n\".format(int(df_plot.loc['2050'].Encinitas_remaining_cap)))\n",
    "print(\"Forecast total: {}\".\\\n",
    "      format(int(sim_sched_dev_df.values) +  int(sim_NOT_sched_dev_df.values)))\n",
    "print(\"Forecast housing unit change on plot: {}\".\\\n",
    "      format(int(df_plot.loc['2050'].Encinitas_hs_change)))\n"
   ]
  },
  {
   "cell_type": "code",
   "execution_count": null,
   "metadata": {},
   "outputs": [],
   "source": [
    "remaining_capacity_sql = ''' \n",
    "\n",
    "        WITH parcel_out AS \n",
    "            (SELECT  o.parcel_id, sum(units_added) as units_added\n",
    "                FROM urbansim.urbansim.urbansim_lite_output o \n",
    "                JOIN urbansim.parcel p on p.parcel_id = o.parcel_id\n",
    "                WHERE jurisdiction_id = 6 and source != 'sched_dev' and  run_id =  %s\n",
    "                GROUP BY o.parcel_id)\n",
    "        SELECT sum(p.capacity - COALESCE(o.units_added,0))\n",
    "        FROM urbansim.parcel p\n",
    "        FULL OUTER JOIN parcel_out o\n",
    "        ON o.parcel_id = p.parcel_id\n",
    "        WHERE jurisdiction_id = 6 and site_id IS NULL and p.capacity  > 0 '''\n",
    "remaining_capacity_sql = remaining_capacity_sql % run_id\n",
    "remaining_capacity_df =  pd.read_sql(remaining_capacity_sql,mssql_engine)\n",
    "remaining_capacity_df =  pd.read_sql(remaining_capacity_sql,mssql_engine)"
   ]
  },
  {
   "cell_type": "code",
   "execution_count": null,
   "metadata": {},
   "outputs": [],
   "source": [
    "print(\"Remaining capacity from db: {}\".\\\n",
    "      format(int(remaining_capacity_df.values)))"
   ]
  }
 ],
 "metadata": {
  "kernelspec": {
   "display_name": "Python 2",
   "language": "python",
   "name": "python2"
  },
  "language_info": {
   "codemirror_mode": {
    "name": "ipython",
    "version": 2
   },
   "file_extension": ".py",
   "mimetype": "text/x-python",
   "name": "python",
   "nbconvert_exporter": "python",
   "pygments_lexer": "ipython2",
   "version": "2.7.14"
  }
 },
 "nbformat": 4,
 "nbformat_minor": 2
}
