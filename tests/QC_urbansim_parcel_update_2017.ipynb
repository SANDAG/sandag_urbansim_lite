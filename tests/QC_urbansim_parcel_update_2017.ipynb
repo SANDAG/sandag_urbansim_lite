{
 "cells": [
  {
   "cell_type": "code",
   "execution_count": null,
   "metadata": {
    "collapsed": true
   },
   "outputs": [],
   "source": [
    "import pandas as pd\n",
    "from sqlalchemy import create_engine\n",
    "from pysandag.database import get_connection_string\n",
    "db_connection_string = get_connection_string('..\\data\\config.yml', 'mssql_db')\n",
    "mssql_engine = create_engine(db_connection_string)\n",
    "import matplotlib.pyplot as plt\n",
    "import matplotlib.ticker as mtick\n",
    "%matplotlib inline"
   ]
  },
  {
   "cell_type": "code",
   "execution_count": null,
   "metadata": {},
   "outputs": [],
   "source": [
    "parcel_update_sql = '''   \n",
    "SELECT [parcelid_2015]\n",
    "      ,jurisdiction_id\n",
    "      ,[du_2015]\n",
    "      ,u.du_2017 as update_du_2017\n",
    "      ,p.du_2017 as parcel_du_2017\n",
    "      ,[du_urb]\n",
    "      ,[cap_urb]\n",
    "      ,p.capacity\n",
    "      ,[buildout]\n",
    "      ,[cap_remaining_old]\n",
    "      ,u.cap_remaining_new as update_cap_remaining_new\n",
    "      ,p.cap_remaining_new as parcel_cap_remaining_new\n",
    "  FROM  [urbansim].[urbansim].[parcel_update_2017] u\n",
    "  JOIN [urbansim].[urbansim].[parcel] p on p.parcel_id = u.parcelid_2015\n",
    "  where p.capacity > 0 OR cap_urb > 0'''\n",
    "parcel_update_df = pd.read_sql(parcel_update_sql, mssql_engine)\n",
    "parcel_update_df.fillna(0,inplace=True)"
   ]
  },
  {
   "cell_type": "markdown",
   "metadata": {},
   "source": [
    "## Check data"
   ]
  },
  {
   "cell_type": "code",
   "execution_count": null,
   "metadata": {},
   "outputs": [],
   "source": [
    "len(parcel_update_df)"
   ]
  },
  {
   "cell_type": "code",
   "execution_count": null,
   "metadata": {},
   "outputs": [],
   "source": [
    "parcel_update_df.loc[parcel_update_df.update_cap_remaining_new.isnull()]"
   ]
  },
  {
   "cell_type": "code",
   "execution_count": null,
   "metadata": {},
   "outputs": [],
   "source": [
    "parcel_update_df.loc[parcel_update_df.capacity.isnull()]"
   ]
  },
  {
   "cell_type": "code",
   "execution_count": null,
   "metadata": {},
   "outputs": [],
   "source": [
    "parcel_update_df.loc[parcel_update_df.update_cap_remaining_new == 0].head()"
   ]
  },
  {
   "cell_type": "code",
   "execution_count": null,
   "metadata": {},
   "outputs": [],
   "source": [
    "parcel_update_df.loc[parcel_update_df.capacity==0].head()"
   ]
  },
  {
   "cell_type": "markdown",
   "metadata": {},
   "source": [
    "## add jurisdiction names"
   ]
  },
  {
   "cell_type": "code",
   "execution_count": null,
   "metadata": {
    "collapsed": true
   },
   "outputs": [],
   "source": [
    "jurisdictions_names_sql = '''\n",
    "    SELECT zone, name\n",
    "      FROM data_cafe.ref.geography_zone\n",
    "     WHERE geography_type_id = 150\n",
    "'''\n",
    "jur_name_df = pd.read_sql(jurisdictions_names_sql, mssql_engine)"
   ]
  },
  {
   "cell_type": "markdown",
   "metadata": {},
   "source": [
    "## plot data"
   ]
  },
  {
   "cell_type": "code",
   "execution_count": null,
   "metadata": {},
   "outputs": [],
   "source": [
    "from matplotlib.patches import Rectangle\n",
    "fig, axes = plt.subplots(nrows=10, ncols=2)\n",
    "for j, jur in enumerate(jur_name_df.zone.unique().tolist()):\n",
    "    df_plot = parcel_update_df.loc[parcel_update_df.jurisdiction_id == jur].copy()\n",
    "    df_plot = pd.merge(df_plot,jur_name_df[['zone','name']],left_on='jurisdiction_id',right_on='zone')\n",
    "    # df_plot.plot(kind='scatter',x='cap_urb', y='capacity',ax=axes.flat[j],figsize=(10,30))\n",
    "    # df_plot.plot(kind='scatter',x='update_cap_remaining_new', y='capacity',ax=axes.flat[j],figsize=(10,30))\n",
    "    # df_plot.plot(kind='scatter',x='update_du_2017', y='parcel_du_2017',ax=axes.flat[j],figsize=(10,30))\n",
    "    df_plot.plot(kind='scatter',x='update_cap_remaining_new', y='parcel_cap_remaining_new',ax=axes.flat[j],figsize=(10,30))\n",
    "    axes.flat[j].set_xlabel(\"parcel_update_2017 cap_urb\",size=12)\n",
    "    axes.flat[j].set_ylabel(\"urbansim.parcel capacity\",size=12)\n",
    "    axes.flat[j].set_title('QC of parcel_update_2017',size=14) \n",
    "    extra = Rectangle((0, 0), 1, 1, fc=\"w\", fill=False, edgecolor='none', linewidth=0)\n",
    "    axes.flat[j].legend([extra], [df_plot.name[0]],fontsize=14)\n",
    "    fig.tight_layout()\n",
    "fig.savefig('qc_parcel_update_2017_capacity_vs_cap_remaining_new.png', format='png', dpi=300)"
   ]
  },
  {
   "cell_type": "code",
   "execution_count": null,
   "metadata": {
    "collapsed": true
   },
   "outputs": [],
   "source": []
  }
 ],
 "metadata": {
  "kernelspec": {
   "display_name": "Python 2",
   "language": "python",
   "name": "python2"
  },
  "language_info": {
   "codemirror_mode": {
    "name": "ipython",
    "version": 2
   },
   "file_extension": ".py",
   "mimetype": "text/x-python",
   "name": "python",
   "nbconvert_exporter": "python",
   "pygments_lexer": "ipython2",
   "version": "2.7.14"
  }
 },
 "nbformat": 4,
 "nbformat_minor": 2
}
