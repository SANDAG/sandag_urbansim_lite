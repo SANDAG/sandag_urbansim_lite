{
 "cells": [
  {
   "cell_type": "markdown",
   "metadata": {},
   "source": [
    "# Subregional QC: Target units and Capacity "
   ]
  },
  {
   "cell_type": "markdown",
   "metadata": {},
   "source": [
    "#### load packages and connect to database"
   ]
  },
  {
   "cell_type": "code",
   "execution_count": 1,
   "metadata": {},
   "outputs": [],
   "source": [
    "# append path to find utils module in urbansim\n",
    "import os \n",
    "import sys\n",
    "cwd = os.getcwd() \n",
    "parentdir =  os.path.abspath(os.path.join(cwd, os.pardir))\n",
    "sys.path.append(parentdir) # to get path to utils module"
   ]
  },
  {
   "cell_type": "code",
   "execution_count": 2,
   "metadata": {},
   "outputs": [],
   "source": [
    "from sqlalchemy import create_engine\n",
    "from database import get_connection_string\n",
    "import pandas as pd\n",
    "import numpy as np\n",
    "import utils\n",
    "import matplotlib.pyplot as plt\n",
    "%matplotlib inline"
   ]
  },
  {
   "cell_type": "code",
   "execution_count": 3,
   "metadata": {},
   "outputs": [],
   "source": [
    "# connect to database and get version ids\n",
    "db_connection_string = get_connection_string('..\\data\\config.yml', 'mssql_db')\n",
    "mssql_engine = create_engine(db_connection_string)\n",
    "versions = utils.yaml_to_dict('../data/scenario_config.yaml', 'scenario')"
   ]
  },
  {
   "cell_type": "markdown",
   "metadata": {},
   "source": [
    "# Get Capacities"
   ]
  },
  {
   "cell_type": "markdown",
   "metadata": {},
   "source": [
    "##### from urbansim.parcel"
   ]
  },
  {
   "cell_type": "code",
   "execution_count": 4,
   "metadata": {},
   "outputs": [
    {
     "name": "stdout",
     "output_type": "stream",
     "text": [
      "\n",
      "Capacity from urbansim.parcel where site id is null: 298,241\n"
     ]
    }
   ],
   "source": [
    "parcel_capacity_sql = '''\n",
    "    SELECT [parcel_id],[jurisdiction_id],[cap_jurisdiction_id],[site_id],\n",
    "           [du_2015],[du_2017],[capacity_1],[capacity_2]\n",
    "      FROM [urbansim].[urbansim].[parcel]'''\n",
    "capacity_df = pd.read_sql(parcel_capacity_sql,mssql_engine)\n",
    "urbansim_parcel_capacity = int(capacity_df.loc[capacity_df.site_id.isnull()].capacity_2.sum())\n",
    "print(\"\\nCapacity from urbansim.parcel where site id is null: {:,}\".format(urbansim_parcel_capacity))\n",
    "# 291,989\n",
    "# 291,712"
   ]
  },
  {
   "cell_type": "markdown",
   "metadata": {},
   "source": [
    "##### from urbansim.additional_capacity"
   ]
  },
  {
   "cell_type": "code",
   "execution_count": 5,
   "metadata": {},
   "outputs": [
    {
     "name": "stdout",
     "output_type": "stream",
     "text": [
      "\n",
      "Capacity from urbansim.additional_capacity (ADU and SGOAs): 109,031\n",
      "\n",
      "      Capacity from sgoa: 18,017\n",
      "\n",
      "      Capacity from adu: 19,557\n",
      "\n",
      "                 note: 2019 to 2035 adu: 8,607 (city of san diego, chula vista, oceanside, el cajon)\n"
     ]
    }
   ],
   "source": [
    "assigned_parcel_sql = '''\n",
    "SELECT  a.parcel_id, cap_jurisdiction_id, jurisdiction_id, a.du, a.type\n",
    "   FROM [urbansim].[urbansim].[additional_capacity] a\n",
    "   JOIN urbansim.parcel p on p.parcel_id = a.parcel_id\n",
    "  WHERE version_id = %s'''\n",
    "assigned_parcel_sql = assigned_parcel_sql % versions['additional_capacity_version']\n",
    "assigned_df = pd.read_sql(assigned_parcel_sql, mssql_engine)\n",
    "assigned_capacity = int(assigned_df.du.sum())\n",
    "print(\"\\nCapacity from urbansim.additional_capacity (ADU and SGOAs): {:,}\".format(assigned_capacity))\n",
    "assigned_df.type.unique()\n",
    "sgoa_assigned = assigned_df.loc[assigned_df.type.isin(['mc', 'tco', 'uc', 'tc','cc'])]\n",
    "adu_assigned  = assigned_df.loc[assigned_df.type=='adu']\n",
    "sgoa_assigned_capacity = int(sgoa_assigned.du.sum())\n",
    "adu_assigned_capacity = int(adu_assigned.du.sum())\n",
    "print(\"\\n      Capacity from sgoa: {:,}\".format(sgoa_assigned_capacity))\n",
    "print(\"\\n      Capacity from adu: {:,}\".format(adu_assigned_capacity))\n",
    "# adus in city of san diego, chula vista, oceanside, el cajon\n",
    "starting_2019_adu = assigned_df.loc[(assigned_df.cap_jurisdiction_id.isin([14,2,12,5])) &\\\n",
    "                                    (assigned_df.type=='adu')]\n",
    "adu_2019_assigned_capacity = int(starting_2019_adu.du.sum())\n",
    "print(\"\\n                 note: 2019 to 2035 adu: {:,} \\\n",
    "(city of san diego, chula vista, oceanside, el cajon)\".format(adu_2019_assigned_capacity))\n",
    "# 5316\n",
    "# 136,158\n",
    "# 138,035\n",
    "# 163,035\n",
    "# 81,677 (58,534 sgoa & 23,143 adu)"
   ]
  },
  {
   "cell_type": "raw",
   "metadata": {},
   "source": [
    "capacity_df assigned_df sched_dev_df"
   ]
  },
  {
   "cell_type": "markdown",
   "metadata": {},
   "source": [
    "##### from \"urbansim.scheduled_development_parcel\" & \"urbansim.urbansim.scheduled_development_priority\""
   ]
  },
  {
   "cell_type": "code",
   "execution_count": 6,
   "metadata": {},
   "outputs": [
    {
     "name": "stdout",
     "output_type": "stream",
     "text": [
      "\n",
      "Scheduled development capacity from urbansim.scheduled_development_parcel : 83,443\n",
      "\n",
      "Scheduled developments from scheduled_development_priority: 83,443\n"
     ]
    }
   ],
   "source": [
    "sched_dev_parcel_sql = '''\n",
    "SELECT [capacity_3] FROM [urbansim].[urbansim].[scheduled_development_parcel]'''\n",
    "sched_dev_df = pd.read_sql(sched_dev_parcel_sql, mssql_engine)\n",
    "sched_dev_capacity = int(sched_dev_df.capacity_3.sum())\n",
    "print(\"\\nScheduled development capacity from urbansim.scheduled_development_parcel : {:,}\".\\\n",
    "      format(sched_dev_capacity))\n",
    "sched_dev_do_not_use_sql = '''\n",
    "SELECT [sched_version_id],s.[parcel_id],p.cap_jurisdiction_id,s.[site_id],[capacity_3]\n",
    "  FROM [urbansim].[urbansim].[scheduled_development_priority] s\n",
    "  JOIN urbansim.urbansim.parcel p ON p.parcel_id = s.parcel_id\n",
    "  WHERE sched_version_id = %s'''\n",
    "sched_dev_do_not_use_sql = sched_dev_do_not_use_sql % versions['sched_dev_version']\n",
    "site_do_not_use = pd.read_sql(sched_dev_do_not_use_sql,mssql_engine)\n",
    "sched_dev_capacity_do_not_use = int(site_do_not_use.capacity_3.sum())\n",
    "print(\"\\nScheduled developments from scheduled_development_priority: {:,}\".format(sched_dev_capacity_do_not_use))\n",
    "# 78,976"
   ]
  },
  {
   "cell_type": "markdown",
   "metadata": {},
   "source": [
    "# Capacity by Jurisdiction"
   ]
  },
  {
   "cell_type": "code",
   "execution_count": 7,
   "metadata": {},
   "outputs": [],
   "source": [
    "jur1_sql = '''\n",
    "    SELECT [jurisdiction_id],sum([capacity_2]) as capacity_zoning_jur\n",
    "      FROM [urbansim].[urbansim].[parcel]\n",
    "      where site_id is NULL\n",
    "        GROUP BY jurisdiction_id\n",
    "      ORDER BY jurisdiction_id'''\n",
    "jur1 = pd.read_sql(jur1_sql,mssql_engine)\n",
    "jur2_sql  = '''\n",
    "    SELECT [cap_jurisdiction_id] as jurisdiction_id,sum([capacity_2]) as capacity_cap_jur\n",
    "      FROM [urbansim].[urbansim].[parcel]\n",
    "      where site_id is NULL\n",
    "        GROUP BY cap_jurisdiction_id\n",
    "      ORDER BY cap_jurisdiction_id'''\n",
    "jur2 = pd.read_sql(jur2_sql,mssql_engine)\n",
    "jur3_sql = '''SELECT [cpa_jurisdiction_id] as jurisdiction_id, sum(capacity_2) as capacity_spacecore_geo_jur\n",
    "FROM [spacecore].[urbansim].[parcels] s\n",
    "--JOIN [urbansim].[urbansim].[parcel] p\n",
    "--on p.parcel_id = s.parcel_id\n",
    "WHERE cpa_jurisdiction_id > 0 and site_id is NULL\n",
    "GROUP BY cpa_jurisdiction_id\n",
    "ORDER BY cpa_jurisdiction_id'''\n",
    "jur3 = pd.read_sql(jur3_sql,mssql_engine)\n",
    "jur4_sql = '''SELECT jur_id as jurisdiction_id, sum(capacity_2) as capacity_isam_jur\n",
    " FROM [isam].[xpef04].[parcel2015_mgra_jur_cpa] i\n",
    "JOIN [urbansim].[urbansim].[parcel] p\n",
    "on p.parcel_id = i.parcel_id\n",
    "WHERE site_id is NULL and i=1\n",
    "GROUP BY jur_id\n",
    "ORDER BY jur_id'''\n",
    "jur4 = pd.read_sql(jur4_sql,mssql_engine)"
   ]
  },
  {
   "cell_type": "code",
   "execution_count": 8,
   "metadata": {},
   "outputs": [],
   "source": [
    "#jur_name\n",
    "jur_name_sql = '''SELECT [jurisdiction_id],[name] FROM [urbansim].[ref].[jurisdiction]'''\n",
    "jur_name = pd.read_sql(jur_name_sql,mssql_engine)"
   ]
  },
  {
   "cell_type": "code",
   "execution_count": 9,
   "metadata": {},
   "outputs": [],
   "source": [
    "from functools import reduce\n",
    "dfs = [jur1, jur2, jur3,jur4]\n",
    "df_jur = reduce(lambda left,right: pd.merge(left,right,on='jurisdiction_id'), dfs)"
   ]
  },
  {
   "cell_type": "code",
   "execution_count": 10,
   "metadata": {},
   "outputs": [],
   "source": [
    "df_jur = pd.merge(df_jur,jur_name, on ='jurisdiction_id')"
   ]
  },
  {
   "cell_type": "code",
   "execution_count": 11,
   "metadata": {},
   "outputs": [],
   "source": [
    "df_jur.loc['Total']= df_jur .sum()"
   ]
  },
  {
   "cell_type": "code",
   "execution_count": 12,
   "metadata": {},
   "outputs": [],
   "source": [
    "df_jur.loc[df_jur.index=='Total','name'] = 'Region'\n",
    "df_jur.loc[df_jur.index=='Total','jurisdiction_id'] = 0\n"
   ]
  },
  {
   "cell_type": "markdown",
   "metadata": {},
   "source": [
    "# Capacity by jursidiction id (from zoning, capacity, isam)"
   ]
  },
  {
   "cell_type": "markdown",
   "metadata": {},
   "source": [
    "## Note: use capacity_isam_jur"
   ]
  },
  {
   "cell_type": "code",
   "execution_count": 13,
   "metadata": {},
   "outputs": [
    {
     "name": "stdout",
     "output_type": "stream",
     "text": [
      "Capacity from jurisdictions (excludes sched dev)\n"
     ]
    },
    {
     "data": {
      "text/html": [
       "<div>\n",
       "<style scoped>\n",
       "    .dataframe tbody tr th:only-of-type {\n",
       "        vertical-align: middle;\n",
       "    }\n",
       "\n",
       "    .dataframe tbody tr th {\n",
       "        vertical-align: top;\n",
       "    }\n",
       "\n",
       "    .dataframe thead th {\n",
       "        text-align: right;\n",
       "    }\n",
       "</style>\n",
       "<table border=\"1\" class=\"dataframe\">\n",
       "  <thead>\n",
       "    <tr style=\"text-align: right;\">\n",
       "      <th></th>\n",
       "      <th>jurisdiction_id</th>\n",
       "      <th>capacity_zoning_jur</th>\n",
       "      <th>capacity_cap_jur</th>\n",
       "      <th>capacity_spacecore_geo_jur</th>\n",
       "      <th>capacity_isam_jur</th>\n",
       "      <th>name</th>\n",
       "    </tr>\n",
       "  </thead>\n",
       "  <tbody>\n",
       "    <tr>\n",
       "      <th>0</th>\n",
       "      <td>1</td>\n",
       "      <td>4107</td>\n",
       "      <td>4106</td>\n",
       "      <td>4107</td>\n",
       "      <td>4107</td>\n",
       "      <td>Carlsbad</td>\n",
       "    </tr>\n",
       "    <tr>\n",
       "      <th>1</th>\n",
       "      <td>2</td>\n",
       "      <td>8581</td>\n",
       "      <td>8581</td>\n",
       "      <td>8581</td>\n",
       "      <td>8581</td>\n",
       "      <td>Chula Vista</td>\n",
       "    </tr>\n",
       "    <tr>\n",
       "      <th>2</th>\n",
       "      <td>3</td>\n",
       "      <td>227</td>\n",
       "      <td>227</td>\n",
       "      <td>227</td>\n",
       "      <td>227</td>\n",
       "      <td>Coronado</td>\n",
       "    </tr>\n",
       "    <tr>\n",
       "      <th>3</th>\n",
       "      <td>4</td>\n",
       "      <td>57</td>\n",
       "      <td>57</td>\n",
       "      <td>57</td>\n",
       "      <td>57</td>\n",
       "      <td>Del Mar</td>\n",
       "    </tr>\n",
       "    <tr>\n",
       "      <th>4</th>\n",
       "      <td>5</td>\n",
       "      <td>2973</td>\n",
       "      <td>2965</td>\n",
       "      <td>2973</td>\n",
       "      <td>2973</td>\n",
       "      <td>El Cajon</td>\n",
       "    </tr>\n",
       "    <tr>\n",
       "      <th>5</th>\n",
       "      <td>6</td>\n",
       "      <td>2216</td>\n",
       "      <td>2216</td>\n",
       "      <td>2216</td>\n",
       "      <td>2216</td>\n",
       "      <td>Encinitas</td>\n",
       "    </tr>\n",
       "    <tr>\n",
       "      <th>6</th>\n",
       "      <td>7</td>\n",
       "      <td>8432</td>\n",
       "      <td>8479</td>\n",
       "      <td>8431</td>\n",
       "      <td>8433</td>\n",
       "      <td>Escondido</td>\n",
       "    </tr>\n",
       "    <tr>\n",
       "      <th>7</th>\n",
       "      <td>8</td>\n",
       "      <td>3342</td>\n",
       "      <td>3342</td>\n",
       "      <td>3342</td>\n",
       "      <td>3342</td>\n",
       "      <td>Imperial Beach</td>\n",
       "    </tr>\n",
       "    <tr>\n",
       "      <th>8</th>\n",
       "      <td>9</td>\n",
       "      <td>8707</td>\n",
       "      <td>8707</td>\n",
       "      <td>8707</td>\n",
       "      <td>8707</td>\n",
       "      <td>La Mesa</td>\n",
       "    </tr>\n",
       "    <tr>\n",
       "      <th>9</th>\n",
       "      <td>10</td>\n",
       "      <td>861</td>\n",
       "      <td>861</td>\n",
       "      <td>861</td>\n",
       "      <td>861</td>\n",
       "      <td>Lemon Grove</td>\n",
       "    </tr>\n",
       "    <tr>\n",
       "      <th>10</th>\n",
       "      <td>11</td>\n",
       "      <td>4507</td>\n",
       "      <td>4507</td>\n",
       "      <td>4507</td>\n",
       "      <td>4507</td>\n",
       "      <td>National City</td>\n",
       "    </tr>\n",
       "    <tr>\n",
       "      <th>11</th>\n",
       "      <td>12</td>\n",
       "      <td>4112</td>\n",
       "      <td>4112</td>\n",
       "      <td>4112</td>\n",
       "      <td>4112</td>\n",
       "      <td>Oceanside</td>\n",
       "    </tr>\n",
       "    <tr>\n",
       "      <th>12</th>\n",
       "      <td>13</td>\n",
       "      <td>1306</td>\n",
       "      <td>1306</td>\n",
       "      <td>1306</td>\n",
       "      <td>1306</td>\n",
       "      <td>Poway</td>\n",
       "    </tr>\n",
       "    <tr>\n",
       "      <th>13</th>\n",
       "      <td>14</td>\n",
       "      <td>173219</td>\n",
       "      <td>173219</td>\n",
       "      <td>173219</td>\n",
       "      <td>173219</td>\n",
       "      <td>San Diego</td>\n",
       "    </tr>\n",
       "    <tr>\n",
       "      <th>14</th>\n",
       "      <td>15</td>\n",
       "      <td>3448</td>\n",
       "      <td>3445</td>\n",
       "      <td>3061</td>\n",
       "      <td>3448</td>\n",
       "      <td>San Marcos</td>\n",
       "    </tr>\n",
       "    <tr>\n",
       "      <th>15</th>\n",
       "      <td>16</td>\n",
       "      <td>1194</td>\n",
       "      <td>1194</td>\n",
       "      <td>1194</td>\n",
       "      <td>1194</td>\n",
       "      <td>Santee</td>\n",
       "    </tr>\n",
       "    <tr>\n",
       "      <th>16</th>\n",
       "      <td>17</td>\n",
       "      <td>325</td>\n",
       "      <td>325</td>\n",
       "      <td>325</td>\n",
       "      <td>325</td>\n",
       "      <td>Solana Beach</td>\n",
       "    </tr>\n",
       "    <tr>\n",
       "      <th>17</th>\n",
       "      <td>18</td>\n",
       "      <td>6038</td>\n",
       "      <td>6038</td>\n",
       "      <td>6038</td>\n",
       "      <td>6038</td>\n",
       "      <td>Vista</td>\n",
       "    </tr>\n",
       "    <tr>\n",
       "      <th>18</th>\n",
       "      <td>19</td>\n",
       "      <td>64589</td>\n",
       "      <td>64554</td>\n",
       "      <td>64585</td>\n",
       "      <td>64588</td>\n",
       "      <td>Unincorporated</td>\n",
       "    </tr>\n",
       "    <tr>\n",
       "      <th>Total</th>\n",
       "      <td>0</td>\n",
       "      <td>298241</td>\n",
       "      <td>298241</td>\n",
       "      <td>297849</td>\n",
       "      <td>298241</td>\n",
       "      <td>Region</td>\n",
       "    </tr>\n",
       "  </tbody>\n",
       "</table>\n",
       "</div>"
      ],
      "text/plain": [
       "       jurisdiction_id  capacity_zoning_jur  capacity_cap_jur  \\\n",
       "0                    1                 4107              4106   \n",
       "1                    2                 8581              8581   \n",
       "2                    3                  227               227   \n",
       "3                    4                   57                57   \n",
       "4                    5                 2973              2965   \n",
       "5                    6                 2216              2216   \n",
       "6                    7                 8432              8479   \n",
       "7                    8                 3342              3342   \n",
       "8                    9                 8707              8707   \n",
       "9                   10                  861               861   \n",
       "10                  11                 4507              4507   \n",
       "11                  12                 4112              4112   \n",
       "12                  13                 1306              1306   \n",
       "13                  14               173219            173219   \n",
       "14                  15                 3448              3445   \n",
       "15                  16                 1194              1194   \n",
       "16                  17                  325               325   \n",
       "17                  18                 6038              6038   \n",
       "18                  19                64589             64554   \n",
       "Total                0               298241            298241   \n",
       "\n",
       "       capacity_spacecore_geo_jur  capacity_isam_jur            name  \n",
       "0                            4107               4107        Carlsbad  \n",
       "1                            8581               8581     Chula Vista  \n",
       "2                             227                227        Coronado  \n",
       "3                              57                 57         Del Mar  \n",
       "4                            2973               2973        El Cajon  \n",
       "5                            2216               2216       Encinitas  \n",
       "6                            8431               8433       Escondido  \n",
       "7                            3342               3342  Imperial Beach  \n",
       "8                            8707               8707         La Mesa  \n",
       "9                             861                861     Lemon Grove  \n",
       "10                           4507               4507   National City  \n",
       "11                           4112               4112       Oceanside  \n",
       "12                           1306               1306           Poway  \n",
       "13                         173219             173219       San Diego  \n",
       "14                           3061               3448      San Marcos  \n",
       "15                           1194               1194          Santee  \n",
       "16                            325                325    Solana Beach  \n",
       "17                           6038               6038           Vista  \n",
       "18                          64585              64588  Unincorporated  \n",
       "Total                      297849             298241          Region  "
      ]
     },
     "execution_count": 13,
     "metadata": {},
     "output_type": "execute_result"
    }
   ],
   "source": [
    "pd.options.display.float_format = '{:,.0f}'.format\n",
    "print(\"Capacity from jurisdictions (excludes sched dev)\")\n",
    "df_jur"
   ]
  },
  {
   "cell_type": "markdown",
   "metadata": {},
   "source": [
    "# Get target housing units"
   ]
  },
  {
   "cell_type": "markdown",
   "metadata": {},
   "source": [
    "##### urbansim.urbansim_target_housing_units"
   ]
  },
  {
   "cell_type": "code",
   "execution_count": 14,
   "metadata": {},
   "outputs": [
    {
     "name": "stdout",
     "output_type": "stream",
     "text": [
      "\n",
      "  Target units to add : 418,845\n",
      "      (from urbansim.urbansim_target_housing_units version id 112)\n"
     ]
    }
   ],
   "source": [
    "units_needed_sql = '''\n",
    "SELECT [yr], [version_id], [housing_units_add]\n",
    "  FROM [urbansim].[urbansim].[urbansim_target_housing_units]\n",
    "  WHERE version_id = %s'''\n",
    "units_needed_sql = units_needed_sql % versions['target_housing_units_version']\n",
    "units_needed_df =  pd.read_sql(units_needed_sql, mssql_engine)\n",
    "units_needed_df['total_housing_units_add'] = units_needed_df['housing_units_add'].cumsum()\n",
    "units_needed = int(sum(units_needed_df.housing_units_add))\n",
    "print(\"\\n  Target units to add : {:,}\\n\\\n",
    "      (from urbansim.urbansim_target_housing_units version id {:})\".\\\n",
    "      format(units_needed,versions['target_housing_units_version']))\n",
    "# 468,866\n",
    "# 534,000"
   ]
  },
  {
   "cell_type": "code",
   "execution_count": 15,
   "metadata": {},
   "outputs": [],
   "source": [
    "#units_needed_df.to_csv('test2.csv')"
   ]
  },
  {
   "cell_type": "markdown",
   "metadata": {},
   "source": [
    "## Total Capacity & Remaining Capacity"
   ]
  },
  {
   "cell_type": "code",
   "execution_count": 16,
   "metadata": {},
   "outputs": [
    {
     "name": "stdout",
     "output_type": "stream",
     "text": [
      "\n",
      "\n",
      "Total Capacity: 490,715\n",
      "\n",
      "       = 298,241 (urbansim.parcel) + 83,443 (sched dev) + 109,031 (assigned capacity) \n",
      "\n",
      "            (381,684 urbansim.parcel and sched dev only)\n",
      "\n",
      "\n",
      " Remaining capacity 2050: 71,870\n",
      "       = 490,715 capacity - 418,845 units needed\n",
      "\n"
     ]
    }
   ],
   "source": [
    "total_capacity = urbansim_parcel_capacity + assigned_capacity + sched_dev_capacity\n",
    "print(\"\\n\\nTotal Capacity: {:,}\\n\".format(total_capacity))\n",
    "print(\"       = {:,} (urbansim.parcel) + {:,} (sched dev) + {:,} (assigned capacity) \\n\".\\\n",
    "      format(urbansim_parcel_capacity,sched_dev_capacity,assigned_capacity))\n",
    "print(\"            ({:,} urbansim.parcel and sched dev only)\\n\".format(urbansim_parcel_capacity+sched_dev_capacity))\n",
    "remaining_capacity = total_capacity - units_needed\n",
    "print(\"\\n Remaining capacity 2050: {:,}\\n       = {:,} capacity - {:,} units needed\\n\".\\\n",
    "format(remaining_capacity,total_capacity,units_needed))\n",
    "# 507,123\n",
    "# 509,000\n",
    "# 452,365\n",
    "# compare to 364,374 capacity previously"
   ]
  },
  {
   "cell_type": "markdown",
   "metadata": {},
   "source": [
    "# Output of simulation "
   ]
  },
  {
   "cell_type": "markdown",
   "metadata": {},
   "source": [
    "##### from urbansim.urbansim_lite_output - get latest run id"
   ]
  },
  {
   "cell_type": "code",
   "execution_count": 17,
   "metadata": {},
   "outputs": [
    {
     "name": "stdout",
     "output_type": "stream",
     "text": [
      "\n",
      "   Max run id : 410\n"
     ]
    }
   ],
   "source": [
    "# get max run id from urbansim\n",
    "run_id_sql = '''\n",
    "SELECT max(run_id)\n",
    "  FROM [urbansim].[urbansim].[urbansim_lite_output]\n",
    "'''\n",
    "run_id_df = pd.read_sql(run_id_sql, mssql_engine)\n",
    "run_id = int(run_id_df.values)\n",
    "\n",
    "print(\"\\n   Max run id : {:,}\".format(run_id))"
   ]
  },
  {
   "cell_type": "code",
   "execution_count": 18,
   "metadata": {},
   "outputs": [],
   "source": [
    "hs_change_sql = '''\n",
    "    SELECT j.name, i.jur_id,\n",
    "    sum(unit_change) as hs_change, capacity_type\n",
    "      FROM urbansim.urbansim.urbansim_lite_output o \n",
    "      JOIN [isam].[xpef04].[parcel2015_mgra_jur_cpa] i on i.parcel_id = o.parcel_id\n",
    "      JOIN urbansim.ref.jurisdiction j on i.jur_id = j.jurisdiction_id\n",
    "     WHERE run_id =  %s and i = 1\n",
    "     GROUP BY j.name,i.jur_id,capacity_type\n",
    "      ORDER BY j.name,i.jur_id'''\n",
    "hs_change_sql = hs_change_sql % run_id\n",
    "hs = pd.read_sql(hs_change_sql,mssql_engine)"
   ]
  },
  {
   "cell_type": "code",
   "execution_count": 19,
   "metadata": {},
   "outputs": [],
   "source": [
    "#hs.head()"
   ]
  },
  {
   "cell_type": "markdown",
   "metadata": {},
   "source": [
    "### compare units added in subregional to capacities"
   ]
  },
  {
   "cell_type": "code",
   "execution_count": 21,
   "metadata": {},
   "outputs": [
    {
     "name": "stdout",
     "output_type": "stream",
     "text": [
      "\n",
      "Units added: 418,845 (from capacity 490,715)\n",
      "\n",
      "    (Target: 418,845)\n",
      "\n",
      "       Urb parcel units: 275,991 (capacity 298,241) (remaining 22,250)\n",
      "\n",
      "       Sched dev units: 83,443 (capacity 83,443) (remaining 0)\n",
      "\n",
      "       Additional units: 59,411 (capacity 109,031) (remaining 49,620)\n",
      "\n",
      " Total Unused Capacity : 71,870\n"
     ]
    }
   ],
   "source": [
    "units_added = int(hs.hs_change.sum())\n",
    "units_from_sched_dev = int(hs.loc[hs.capacity_type=='sch'].hs_change.sum())\n",
    "sched_dev_difference = int(sched_dev_capacity_do_not_use - units_from_sched_dev)\n",
    "units_from_assigned = int(hs.loc[~hs.capacity_type.isin(['sch','jur'])].hs_change.sum())\n",
    "assigned_difference = int(assigned_capacity - units_from_assigned)\n",
    "units_from_urbansim_parcel = int(hs.loc[hs.capacity_type=='jur'].hs_change.sum())\n",
    "urbansim_parcel_difference = int(urbansim_parcel_capacity - units_from_urbansim_parcel)\n",
    "remaining_capacity_simulation = total_capacity - units_added\n",
    "print(\"\\nUnits added: {:,} (from capacity {:,})\".\\\n",
    "      format(units_added,total_capacity))\n",
    "print(\"\\n    (Target: {:,})\".format(units_needed))\n",
    "print(\"\\n       Urb parcel units: {:,} (capacity {:,}) (remaining {:,})\".\\\n",
    "      format(units_from_urbansim_parcel,urbansim_parcel_capacity,urbansim_parcel_difference))\n",
    "print(\"\\n       Sched dev units: {:,} (capacity {:,}) (remaining {:,})\".\\\n",
    "      format(units_from_sched_dev,sched_dev_capacity_do_not_use,sched_dev_difference))\n",
    "print(\"\\n       Additional units: {:,} (capacity {:,}) (remaining {:,})\".\\\n",
    "      format(units_from_assigned,int(assigned_df.du.sum()),assigned_difference))\n",
    "print(\"\\n Total Unused Capacity : {:,}\".format(remaining_capacity_simulation))"
   ]
  },
  {
   "cell_type": "markdown",
   "metadata": {},
   "source": [
    "## If remaining jur capacity or sched dev capacity - where is it?"
   ]
  },
  {
   "cell_type": "code",
   "execution_count": 22,
   "metadata": {},
   "outputs": [],
   "source": [
    "urb_parcel_cap = capacity_df.loc[(capacity_df.capacity_2>0) & (capacity_df.site_id.isnull())]\n",
    "urb_parcel_cap = urb_parcel_cap[['parcel_id','capacity_2']].copy()\n",
    "urb_parcel_cap.rename(columns={\"capacity_2\": \"capacity\"}, inplace=True)\n",
    "urb_parcel_cap['capacity_type'] = 'jur'\n",
    "\n",
    "add_df = assigned_df[['parcel_id','du','type']].copy()\n",
    "add_df.rename(columns={\"du\": \"capacity\"}, inplace=True)\n",
    "add_df.rename(columns={\"type\": \"capacity_type\"}, inplace=True)\n",
    "add_df.replace('cc', 'sgoa',inplace=True)\n",
    "add_df.replace('mc', 'sgoa',inplace=True)\n",
    "add_df.replace('tc', 'sgoa',inplace=True)\n",
    "add_df.replace('tco', 'sgoa',inplace=True)\n",
    "add_df.replace('uc', 'sgoa',inplace=True)\n",
    "\n",
    "sched = site_do_not_use[['parcel_id','capacity_3']].copy()\n",
    "sched.rename(columns={\"capacity_3\": \"capacity\"}, inplace=True)\n",
    "sched['capacity_type'] = 'sch'\n",
    "\n",
    "c1 = pd.concat([urb_parcel_cap,add_df,sched])\n",
    "jur_sql = '''\n",
    "    SELECT i.parcel_id,j.name, i.jur_id\n",
    "      FROM [isam].[xpef04].[parcel2015_mgra_jur_cpa] i \n",
    "      JOIN urbansim.ref.jurisdiction j on i.jur_id = j.jurisdiction_id\n",
    "     WHERE i = 1'''\n",
    "j = pd.read_sql(jur_sql,mssql_engine)\n",
    "c = pd.merge(c1,j,how='left',on=['parcel_id'])"
   ]
  },
  {
   "cell_type": "code",
   "execution_count": 23,
   "metadata": {},
   "outputs": [
    {
     "data": {
      "text/html": [
       "<div>\n",
       "<style scoped>\n",
       "    .dataframe tbody tr th:only-of-type {\n",
       "        vertical-align: middle;\n",
       "    }\n",
       "\n",
       "    .dataframe tbody tr th {\n",
       "        vertical-align: top;\n",
       "    }\n",
       "\n",
       "    .dataframe thead th {\n",
       "        text-align: right;\n",
       "    }\n",
       "</style>\n",
       "<table border=\"1\" class=\"dataframe\">\n",
       "  <thead>\n",
       "    <tr style=\"text-align: right;\">\n",
       "      <th></th>\n",
       "      <th>parcel_id</th>\n",
       "      <th>capacity</th>\n",
       "      <th>capacity_type</th>\n",
       "      <th>name</th>\n",
       "      <th>jur_id</th>\n",
       "    </tr>\n",
       "  </thead>\n",
       "  <tbody>\n",
       "    <tr>\n",
       "      <th>0</th>\n",
       "      <td>4</td>\n",
       "      <td>1</td>\n",
       "      <td>jur</td>\n",
       "      <td>Unincorporated</td>\n",
       "      <td>19</td>\n",
       "    </tr>\n",
       "    <tr>\n",
       "      <th>1</th>\n",
       "      <td>168</td>\n",
       "      <td>3</td>\n",
       "      <td>jur</td>\n",
       "      <td>San Diego</td>\n",
       "      <td>14</td>\n",
       "    </tr>\n",
       "    <tr>\n",
       "      <th>2</th>\n",
       "      <td>169</td>\n",
       "      <td>20</td>\n",
       "      <td>jur</td>\n",
       "      <td>San Diego</td>\n",
       "      <td>14</td>\n",
       "    </tr>\n",
       "    <tr>\n",
       "      <th>3</th>\n",
       "      <td>193</td>\n",
       "      <td>19</td>\n",
       "      <td>jur</td>\n",
       "      <td>San Diego</td>\n",
       "      <td>14</td>\n",
       "    </tr>\n",
       "    <tr>\n",
       "      <th>4</th>\n",
       "      <td>194</td>\n",
       "      <td>19</td>\n",
       "      <td>jur</td>\n",
       "      <td>San Diego</td>\n",
       "      <td>14</td>\n",
       "    </tr>\n",
       "  </tbody>\n",
       "</table>\n",
       "</div>"
      ],
      "text/plain": [
       "   parcel_id  capacity capacity_type            name  jur_id\n",
       "0          4         1           jur  Unincorporated      19\n",
       "1        168         3           jur       San Diego      14\n",
       "2        169        20           jur       San Diego      14\n",
       "3        193        19           jur       San Diego      14\n",
       "4        194        19           jur       San Diego      14"
      ]
     },
     "execution_count": 23,
     "metadata": {},
     "output_type": "execute_result"
    }
   ],
   "source": [
    "c.head()"
   ]
  },
  {
   "cell_type": "code",
   "execution_count": 24,
   "metadata": {},
   "outputs": [],
   "source": [
    "dfout = pd.DataFrame({'capacity': c.groupby([\"name\",\"jur_id\"])\n",
    "                                          .capacity.sum()}).reset_index()"
   ]
  },
  {
   "cell_type": "code",
   "execution_count": 25,
   "metadata": {},
   "outputs": [],
   "source": [
    "dfout.to_csv('test.csv')"
   ]
  },
  {
   "cell_type": "code",
   "execution_count": 26,
   "metadata": {},
   "outputs": [],
   "source": [
    "hs_change_sql = '''\n",
    "    SELECT o.parcel_id,j.name, i.jur_id,capacity_type,\n",
    "    sum(unit_change) as hs_change\n",
    "      FROM urbansim.urbansim.urbansim_lite_output o \n",
    "      JOIN [isam].[xpef04].[parcel2015_mgra_jur_cpa] i on i.parcel_id = o.parcel_id\n",
    "      JOIN urbansim.ref.jurisdiction j on i.jur_id = j.jurisdiction_id\n",
    "     WHERE run_id =  %s and i = 1\n",
    "     GROUP BY j.name,i.jur_id,o.parcel_id,capacity_type\n",
    "      ORDER BY parcel_id'''\n",
    "hs_change_sql = hs_change_sql % run_id\n",
    "results = pd.read_sql(hs_change_sql,mssql_engine)\n",
    "results.replace('cc', 'sgoa',inplace=True)\n",
    "results.replace('mc', 'sgoa',inplace=True)\n",
    "results.replace('tc', 'sgoa',inplace=True)\n",
    "results.replace('tco', 'sgoa',inplace=True)\n",
    "results.replace('uc', 'sgoa',inplace=True)"
   ]
  },
  {
   "cell_type": "code",
   "execution_count": null,
   "metadata": {},
   "outputs": [],
   "source": [
    "# results.head()"
   ]
  },
  {
   "cell_type": "code",
   "execution_count": 27,
   "metadata": {},
   "outputs": [],
   "source": [
    "df = pd.merge(c,results,how='left',on=['parcel_id','capacity_type'])\n",
    "df.hs_change.fillna(0,inplace=True)\n",
    "df['capacity_unused'] = df['capacity'] - df['hs_change']\n",
    "#df.loc[df['capacity_unused']!=0].head()"
   ]
  },
  {
   "cell_type": "code",
   "execution_count": 28,
   "metadata": {},
   "outputs": [
    {
     "name": "stdout",
     "output_type": "stream",
     "text": [
      "\n",
      " Total Unused Capacity : 72,170\n"
     ]
    }
   ],
   "source": [
    "ununsed_cap_total = int(df.loc[df['capacity_unused']!=0].capacity_unused.sum())\n",
    "print(\"\\n Total Unused Capacity : {:,}\".format(ununsed_cap_total))"
   ]
  },
  {
   "cell_type": "code",
   "execution_count": 29,
   "metadata": {},
   "outputs": [
    {
     "name": "stdout",
     "output_type": "stream",
     "text": [
      "\n",
      " Unused Capacity from Jur Feedback : 22,550\n"
     ]
    }
   ],
   "source": [
    "unused_jur = df.loc[df.capacity_type=='jur']\n",
    "ununsed_jur_total = int(unused_jur.capacity_unused.sum())\n",
    "print(\"\\n Unused Capacity from Jur Feedback : {:,}\".format(ununsed_jur_total))"
   ]
  },
  {
   "cell_type": "code",
   "execution_count": 32,
   "metadata": {},
   "outputs": [
    {
     "data": {
      "text/html": [
       "<div>\n",
       "<style scoped>\n",
       "    .dataframe tbody tr th:only-of-type {\n",
       "        vertical-align: middle;\n",
       "    }\n",
       "\n",
       "    .dataframe tbody tr th {\n",
       "        vertical-align: top;\n",
       "    }\n",
       "\n",
       "    .dataframe thead th {\n",
       "        text-align: right;\n",
       "    }\n",
       "</style>\n",
       "<table border=\"1\" class=\"dataframe\">\n",
       "  <thead>\n",
       "    <tr style=\"text-align: right;\">\n",
       "      <th></th>\n",
       "      <th>parcel_id</th>\n",
       "      <th>capacity</th>\n",
       "      <th>capacity_type</th>\n",
       "      <th>name_x</th>\n",
       "      <th>jur_id_x</th>\n",
       "      <th>name_y</th>\n",
       "      <th>jur_id_y</th>\n",
       "      <th>hs_change</th>\n",
       "      <th>capacity_unused</th>\n",
       "    </tr>\n",
       "  </thead>\n",
       "  <tbody>\n",
       "    <tr>\n",
       "      <th>0</th>\n",
       "      <td>4</td>\n",
       "      <td>1</td>\n",
       "      <td>jur</td>\n",
       "      <td>Unincorporated</td>\n",
       "      <td>19</td>\n",
       "      <td>NaN</td>\n",
       "      <td>nan</td>\n",
       "      <td>0</td>\n",
       "      <td>1</td>\n",
       "    </tr>\n",
       "    <tr>\n",
       "      <th>1</th>\n",
       "      <td>168</td>\n",
       "      <td>3</td>\n",
       "      <td>jur</td>\n",
       "      <td>San Diego</td>\n",
       "      <td>14</td>\n",
       "      <td>NaN</td>\n",
       "      <td>nan</td>\n",
       "      <td>0</td>\n",
       "      <td>3</td>\n",
       "    </tr>\n",
       "    <tr>\n",
       "      <th>2</th>\n",
       "      <td>169</td>\n",
       "      <td>20</td>\n",
       "      <td>jur</td>\n",
       "      <td>San Diego</td>\n",
       "      <td>14</td>\n",
       "      <td>NaN</td>\n",
       "      <td>nan</td>\n",
       "      <td>0</td>\n",
       "      <td>20</td>\n",
       "    </tr>\n",
       "    <tr>\n",
       "      <th>16</th>\n",
       "      <td>250</td>\n",
       "      <td>1</td>\n",
       "      <td>jur</td>\n",
       "      <td>San Diego</td>\n",
       "      <td>14</td>\n",
       "      <td>NaN</td>\n",
       "      <td>nan</td>\n",
       "      <td>0</td>\n",
       "      <td>1</td>\n",
       "    </tr>\n",
       "    <tr>\n",
       "      <th>87</th>\n",
       "      <td>533</td>\n",
       "      <td>1</td>\n",
       "      <td>jur</td>\n",
       "      <td>Imperial Beach</td>\n",
       "      <td>8</td>\n",
       "      <td>NaN</td>\n",
       "      <td>nan</td>\n",
       "      <td>0</td>\n",
       "      <td>1</td>\n",
       "    </tr>\n",
       "  </tbody>\n",
       "</table>\n",
       "</div>"
      ],
      "text/plain": [
       "    parcel_id  capacity capacity_type          name_x  jur_id_x name_y  \\\n",
       "0           4         1           jur  Unincorporated        19    NaN   \n",
       "1         168         3           jur       San Diego        14    NaN   \n",
       "2         169        20           jur       San Diego        14    NaN   \n",
       "16        250         1           jur       San Diego        14    NaN   \n",
       "87        533         1           jur  Imperial Beach         8    NaN   \n",
       "\n",
       "    jur_id_y  hs_change  capacity_unused  \n",
       "0        nan          0                1  \n",
       "1        nan          0                3  \n",
       "2        nan          0               20  \n",
       "16       nan          0                1  \n",
       "87       nan          0                1  "
      ]
     },
     "execution_count": 32,
     "metadata": {},
     "output_type": "execute_result"
    }
   ],
   "source": [
    "unused_jur.loc[unused_jur.capacity_unused>0].head()"
   ]
  },
  {
   "cell_type": "code",
   "execution_count": 30,
   "metadata": {},
   "outputs": [
    {
     "name": "stdout",
     "output_type": "stream",
     "text": [
      "Jurisdictions with unused capacity from jurisdiction feedback:\n"
     ]
    },
    {
     "data": {
      "text/html": [
       "<div>\n",
       "<style scoped>\n",
       "    .dataframe tbody tr th:only-of-type {\n",
       "        vertical-align: middle;\n",
       "    }\n",
       "\n",
       "    .dataframe tbody tr th {\n",
       "        vertical-align: top;\n",
       "    }\n",
       "\n",
       "    .dataframe thead th {\n",
       "        text-align: right;\n",
       "    }\n",
       "</style>\n",
       "<table border=\"1\" class=\"dataframe\">\n",
       "  <thead>\n",
       "    <tr style=\"text-align: right;\">\n",
       "      <th></th>\n",
       "      <th>jursidiction</th>\n",
       "      <th>jur_id_x</th>\n",
       "      <th>unused_jur_capacity</th>\n",
       "    </tr>\n",
       "  </thead>\n",
       "  <tbody>\n",
       "    <tr>\n",
       "      <th>7</th>\n",
       "      <td>Imperial Beach</td>\n",
       "      <td>8</td>\n",
       "      <td>168</td>\n",
       "    </tr>\n",
       "    <tr>\n",
       "      <th>13</th>\n",
       "      <td>San Diego</td>\n",
       "      <td>14</td>\n",
       "      <td>19,974</td>\n",
       "    </tr>\n",
       "    <tr>\n",
       "      <th>17</th>\n",
       "      <td>Unincorporated</td>\n",
       "      <td>19</td>\n",
       "      <td>2,408</td>\n",
       "    </tr>\n",
       "  </tbody>\n",
       "</table>\n",
       "</div>"
      ],
      "text/plain": [
       "      jursidiction  jur_id_x  unused_jur_capacity\n",
       "7   Imperial Beach         8                  168\n",
       "13       San Diego        14               19,974\n",
       "17  Unincorporated        19                2,408"
      ]
     },
     "execution_count": 30,
     "metadata": {},
     "output_type": "execute_result"
    }
   ],
   "source": [
    "jur_unused = pd.DataFrame({'unused_jur_capacity': unused_jur.\n",
    "                                          groupby([\"name_x\",\"jur_id_x\"])\n",
    "                                          .capacity_unused.sum()}).reset_index()\n",
    "jur_unused.rename(columns={\"name_x\": \"jursidiction\"}, inplace=True)\n",
    "\n",
    "print(\"Jurisdictions with unused capacity from jurisdiction feedback:\")\n",
    "jur_unused.loc[jur_unused.unused_jur_capacity!=0]"
   ]
  },
  {
   "cell_type": "code",
   "execution_count": null,
   "metadata": {},
   "outputs": [],
   "source": [
    "unused_sch = df.loc[df.capacity_type=='sch']\n",
    "ununsed_sch_total = int(unused_sch.capacity_unused.sum())\n",
    "print(\"\\n Unused capacity from sched dev : {:,}\".format(ununsed_sch_total))"
   ]
  },
  {
   "cell_type": "code",
   "execution_count": null,
   "metadata": {},
   "outputs": [],
   "source": [
    "# unused_sch.loc[unused_sch.name_x=='Chula Vista']"
   ]
  },
  {
   "cell_type": "code",
   "execution_count": null,
   "metadata": {},
   "outputs": [],
   "source": [
    "sch_unused = pd.DataFrame({'unused_sch_capacity': unused_sch.\n",
    "                                          groupby([\"name_x\"])\n",
    "                                          .capacity_unused.sum()}).reset_index()\n",
    "sch_unused.rename(columns={\"name_x\": \"jursidiction\"}, inplace=True)\n",
    "\n",
    "print(\"Jurisdictions with unused capacity from sched dev:\")\n",
    "sch_unused.loc[sch_unused.unused_sch_capacity!=0]"
   ]
  },
  {
   "cell_type": "code",
   "execution_count": null,
   "metadata": {},
   "outputs": [],
   "source": [
    "# df.to_csv('test.csv')"
   ]
  },
  {
   "cell_type": "markdown",
   "metadata": {},
   "source": [
    "### percent sgoa and adu compared to jur feedback for each  jur"
   ]
  },
  {
   "cell_type": "code",
   "execution_count": null,
   "metadata": {},
   "outputs": [],
   "source": [
    "df = pd.DataFrame({'capacity_by_type': c.groupby([\"name\",'capacity_type'])\n",
    "                                          .capacity.sum()}).reset_index()"
   ]
  },
  {
   "cell_type": "code",
   "execution_count": null,
   "metadata": {},
   "outputs": [],
   "source": [
    "#pivot\n",
    "df.head()\n",
    "type_pivot = df.pivot(index='name', columns='capacity_type', \\\n",
    "                                                       values='capacity_by_type').reset_index().rename_axis(None, axis=1)\n",
    "type_pivot.fillna(0,inplace=True)\n",
    "type_pivot.set_index('name',inplace=True)\n",
    "cols = ['sch','jur','adu','sgoa']\n",
    "type_pivot = type_pivot[cols]\n",
    "type_pivot['total'] = type_pivot['sch'] + type_pivot['jur'] + type_pivot['adu'] + type_pivot['sgoa']\n",
    "#type_pivot[cols] = type_pivot[cols].applymap(np.int32)"
   ]
  },
  {
   "cell_type": "code",
   "execution_count": null,
   "metadata": {},
   "outputs": [],
   "source": [
    "type_pivot['percent_sgoa'] = (type_pivot['sgoa']/type_pivot['total'] * 100.0).round(1)"
   ]
  },
  {
   "cell_type": "code",
   "execution_count": null,
   "metadata": {},
   "outputs": [],
   "source": [
    "#type_pivot.dtypes"
   ]
  },
  {
   "cell_type": "code",
   "execution_count": null,
   "metadata": {},
   "outputs": [],
   "source": [
    "pd.options.display.float_format = '{:,.0f}'.format"
   ]
  },
  {
   "cell_type": "code",
   "execution_count": null,
   "metadata": {},
   "outputs": [],
   "source": [
    "type_pivot"
   ]
  },
  {
   "cell_type": "code",
   "execution_count": null,
   "metadata": {},
   "outputs": [],
   "source": [
    "type_pivot.sort_values(by='percent_sgoa')"
   ]
  },
  {
   "cell_type": "markdown",
   "metadata": {},
   "source": [
    "### Compare parcel by parcel capacities and units added"
   ]
  },
  {
   "cell_type": "code",
   "execution_count": null,
   "metadata": {},
   "outputs": [],
   "source": [
    "urb_parcel_cap = capacity_df.loc[(capacity_df.capacity_2>0) & (capacity_df.site_id.isnull())]\n",
    "urb_parcel_cap = urb_parcel_cap[['parcel_id','capacity_2']].copy()\n",
    "urb_parcel_cap.rename(columns={\"capacity_2\": \"capacity_jur\"}, inplace=True)\n",
    "\n",
    "add_df = assigned_df[['parcel_id','du']].copy()\n",
    "add_df.rename(columns={\"du\": \"capacity_assigned\"}, inplace=True)\n",
    "\n",
    "sched = site_do_not_use[['parcel_id','capacity_3']].copy()\n",
    "sched.rename(columns={\"capacity_3\": \"capacity_sch\"}, inplace=True)\n",
    "\n",
    "all_parcels_w_cap = pd.concat([urb_parcel_cap[['parcel_id']],add_df[['parcel_id']],sched[['parcel_id']]])\n",
    "all_parcels_w_cap['is_duplicated'] = all_parcels_w_cap.duplicated(['parcel_id'])\n",
    "unique_parcels = len(all_parcels_w_cap.parcel_id.unique())\n",
    "\n",
    "\n",
    "print(\"\\n Number of parcels with capacity from jur feedback : {:,}\".format(len(urb_parcel_cap)))\n",
    "print(\"\\n Number of parcels with capacity from sched dev : {:,}\".format(len(sched)))\n",
    "print(\"\\n Number of parcels with additional capacity : {:,}\".format(len(add_df)))\n",
    "print(\"\\n Total number of parcels with capacity \\n (includes duplicate parcels with different capacity types) : {:,}\".\\\n",
    "      format(len(urb_parcel_cap) + len(sched) + len(add_df)))"
   ]
  },
  {
   "cell_type": "markdown",
   "metadata": {},
   "source": [
    "#### parcels with more than one capacity type (\"duplicate\") "
   ]
  },
  {
   "cell_type": "code",
   "execution_count": null,
   "metadata": {},
   "outputs": [],
   "source": [
    "print(\"\\n Total number of parcels with capacity \\n   (includes duplicate parcels with different capacity types) : {:,}\".\\\n",
    "      format(len(urb_parcel_cap) + len(sched) + len(add_df)))\n",
    "print(\"\\n Total number of UNIQUE parcels with capacity : {:,}\".format(unique_parcels))\n",
    "print(\"\\n Total number of parcels with capacity from more than one type : {:,}\".\\\n",
    "      format(all_parcels_w_cap['is_duplicated'].sum()))\n",
    "#133"
   ]
  },
  {
   "cell_type": "markdown",
   "metadata": {},
   "source": [
    "#### capacity types of parcels that are \"duplicated\""
   ]
  },
  {
   "cell_type": "code",
   "execution_count": null,
   "metadata": {},
   "outputs": [],
   "source": [
    "duplicated_parcels = all_parcels_w_cap.loc[all_parcels_w_cap.is_duplicated].parcel_id.tolist()\n",
    "jur_dup = urb_parcel_cap.loc[urb_parcel_cap.parcel_id.isin(duplicated_parcels)]\n",
    "print(\"\\n Number of parcels with capacity from jurisdictions that are duplicates :{:,}\".\\\n",
    "      format(len(jur_dup)))\n",
    "add_dup = add_df.loc[add_df.parcel_id.isin(duplicated_parcels)]\n",
    "print(\"\\n Number of parcels with capacity from additional that are duplicates :{:,}\".\\\n",
    "      format(len(add_dup)))\n",
    "sch_dup = sched.loc[sched.parcel_id.isin(duplicated_parcels)]\n",
    "print(\"\\n Number of parcels with capacity from sched dev that are duplicates :{:,}\".\\\n",
    "      format(len(sch_dup)))"
   ]
  },
  {
   "cell_type": "code",
   "execution_count": null,
   "metadata": {},
   "outputs": [],
   "source": [
    "pd.options.display.float_format = '{:,.0f}'.format"
   ]
  },
  {
   "cell_type": "markdown",
   "metadata": {},
   "source": [
    "### Merge capacity for each parcel with units built for each parcel"
   ]
  },
  {
   "cell_type": "code",
   "execution_count": null,
   "metadata": {},
   "outputs": [],
   "source": [
    "#cap_df = capacity_df[['parcel_id','cap_jurisdiction_id']].copy()\n",
    "#cap_df = pd.merge(cap_df,urb_parcel_cap,how='left',on='parcel_id')\n",
    "cap_df = pd.merge(urb_parcel_cap,add_df,how='outer',on='parcel_id')\n",
    "cap_df = pd.merge(cap_df,sched,how='outer',on='parcel_id')\n",
    "cap_df.fillna(0,inplace=True)\n",
    "cap_df['capacity'] = cap_df['capacity_jur'] + cap_df['capacity_assigned'] + cap_df['capacity_sch']\n",
    "cap = cap_df.copy()\n",
    "cap.sort_values(by='parcel_id',inplace=True)\n",
    "cap.reset_index(inplace=True,drop=True)"
   ]
  },
  {
   "cell_type": "markdown",
   "metadata": {},
   "source": [
    "#### length of merge df should match unique parcels & sum of capacity should match total capacity"
   ]
  },
  {
   "cell_type": "code",
   "execution_count": null,
   "metadata": {},
   "outputs": [],
   "source": [
    "print (\"\\n Length of capacity df : {:,}\".format(len(cap)))\n",
    "print(\"\\n Total number of UNIQUE parcels with capacity : {:,}\".format(unique_parcels))\n",
    "print(\"\\n Sum of capacity from df : {:,}\".format(cap.capacity.sum())) \n",
    "print(\"\\n Total capacity : {:,}\".format(total_capacity)) "
   ]
  },
  {
   "cell_type": "markdown",
   "metadata": {},
   "source": [
    "#### units added should match units_needed "
   ]
  },
  {
   "cell_type": "code",
   "execution_count": null,
   "metadata": {},
   "outputs": [],
   "source": [
    "units_by_parcel_sql = '''\n",
    "    SELECT parcel_id,sum(unit_change) as unit_change\n",
    "      FROM urbansim.urbansim.urbansim_lite_output  \n",
    "     WHERE run_id =  %s\n",
    "     GROUP BY parcel_id\n",
    "      ORDER BY parcel_id'''\n",
    "units_by_parcel_sql = units_by_parcel_sql % run_id\n",
    "unit_by_parcel = pd.read_sql(units_by_parcel_sql,mssql_engine)"
   ]
  },
  {
   "cell_type": "code",
   "execution_count": null,
   "metadata": {},
   "outputs": [],
   "source": [
    "unit_by_parcel.unit_change.sum()"
   ]
  },
  {
   "cell_type": "code",
   "execution_count": null,
   "metadata": {},
   "outputs": [],
   "source": [
    "units_needed "
   ]
  },
  {
   "cell_type": "markdown",
   "metadata": {},
   "source": [
    "### number of parcels with new capacity added during simulation"
   ]
  },
  {
   "cell_type": "code",
   "execution_count": null,
   "metadata": {},
   "outputs": [],
   "source": [
    "len(unit_by_parcel)"
   ]
  },
  {
   "cell_type": "code",
   "execution_count": null,
   "metadata": {},
   "outputs": [],
   "source": []
  },
  {
   "cell_type": "markdown",
   "metadata": {},
   "source": [
    "#### find parcels with more than one capacity type"
   ]
  },
  {
   "cell_type": "code",
   "execution_count": null,
   "metadata": {},
   "outputs": [],
   "source": [
    "#duplicated_parcels\n",
    "cap['is_duplicated'] = cap.parcel_id.isin(duplicated_parcels)"
   ]
  },
  {
   "cell_type": "code",
   "execution_count": null,
   "metadata": {},
   "outputs": [],
   "source": [
    "# cap.loc[cap.is_duplicated].head()"
   ]
  },
  {
   "cell_type": "markdown",
   "metadata": {},
   "source": [
    "#### merge units added with capacity for parcel by parcel comparison"
   ]
  },
  {
   "cell_type": "code",
   "execution_count": null,
   "metadata": {},
   "outputs": [],
   "source": [
    "compare_cap_w_units = pd.merge(unit_by_parcel,cap,on='parcel_id',how='outer')\n",
    "compare_cap_w_units.fillna(0,inplace=True)\n",
    "compare_cap_w_units['remaining_cap'] = compare_cap_w_units['capacity'] - compare_cap_w_units['unit_change']"
   ]
  },
  {
   "cell_type": "markdown",
   "metadata": {},
   "source": [
    "#### length should be the unique parcels with capacity"
   ]
  },
  {
   "cell_type": "code",
   "execution_count": null,
   "metadata": {},
   "outputs": [],
   "source": [
    "print(\"\\n Length of df with units : {:,}\".format(len(compare_cap_w_units))) \n",
    "print(\"\\n Total number of UNIQUE parcels with capacity : {:,}\".format(unique_parcels))\n",
    "print(\"\\n Sum of unit change : {:,}\".format(compare_cap_w_units.unit_change.sum()))\n",
    "print(\"\\n Units needed : {:,}\".format(units_needed ))\n",
    "print(\"\\n Capacity sum : {:,}\".format(compare_cap_w_units.capacity.sum()))\n",
    "print(\"\\n Total capacity : {:,}\".format(total_capacity ))"
   ]
  },
  {
   "cell_type": "code",
   "execution_count": null,
   "metadata": {},
   "outputs": [],
   "source": [
    "# compare_cap_w_units.head()"
   ]
  },
  {
   "cell_type": "markdown",
   "metadata": {},
   "source": [
    "### parcels that have more than one capacity type"
   ]
  },
  {
   "cell_type": "code",
   "execution_count": null,
   "metadata": {},
   "outputs": [],
   "source": [
    "parcels_dups = compare_cap_w_units.loc[compare_cap_w_units.is_duplicated]"
   ]
  },
  {
   "cell_type": "markdown",
   "metadata": {},
   "source": [
    "#### length should match all parcels_w_cap duplicates"
   ]
  },
  {
   "cell_type": "code",
   "execution_count": null,
   "metadata": {},
   "outputs": [],
   "source": [
    "print(\"\\n Length parcels with dups df : {:,}\".format(len(parcels_dups)))\n",
    "print(\"\\n Number of parcels dup using is_duplicate : {:,}\".format(all_parcels_w_cap['is_duplicated'].sum()))"
   ]
  },
  {
   "cell_type": "markdown",
   "metadata": {},
   "source": [
    "## No parcels should have negative remaining capacity?"
   ]
  },
  {
   "cell_type": "code",
   "execution_count": null,
   "metadata": {},
   "outputs": [],
   "source": [
    "compare_cap_w_units.loc[compare_cap_w_units.remaining_cap<0]"
   ]
  },
  {
   "cell_type": "markdown",
   "metadata": {},
   "source": [
    "## total remaining capacity should match capacity - units needed"
   ]
  },
  {
   "cell_type": "code",
   "execution_count": null,
   "metadata": {},
   "outputs": [],
   "source": [
    "print(\"\\n remaining capacity sum : {:,}\".format(compare_cap_w_units.remaining_cap.sum()))\n",
    "print(\"\\n Total capacity minus units needed : {:,}\".format(total_capacity - units_needed)) "
   ]
  },
  {
   "cell_type": "markdown",
   "metadata": {},
   "source": [
    "## all parcels with remaining capacity have additional capacity (greater than zero)"
   ]
  },
  {
   "cell_type": "code",
   "execution_count": null,
   "metadata": {},
   "outputs": [],
   "source": [
    "parcels_w_remaining = compare_cap_w_units.loc[compare_cap_w_units.remaining_cap>0]\n",
    "print(\"\\n Total number of parcels with remaining capacity : {:,}\".\\\n",
    "      format(len(parcels_w_remaining)))\n",
    "print(\"\\n Total number of parcels with remaining capacity and assigned capacity>0 : {:,}\".\\\n",
    "      format(len(parcels_w_remaining.loc[parcels_w_remaining.capacity_assigned>0])))"
   ]
  },
  {
   "cell_type": "markdown",
   "metadata": {},
   "source": [
    "### parcels with remaining capacity that had no units added"
   ]
  },
  {
   "cell_type": "code",
   "execution_count": null,
   "metadata": {},
   "outputs": [],
   "source": [
    "parcels_not_used = len(parcels_w_remaining.loc[parcels_w_remaining.remaining_cap==parcels_w_remaining.capacity])\n",
    "print(\"\\n Total number of parcels not used : {:,}\".\\\n",
    "      format((parcels_not_used)))"
   ]
  },
  {
   "cell_type": "markdown",
   "metadata": {},
   "source": [
    "### parcels that are partially used"
   ]
  },
  {
   "cell_type": "code",
   "execution_count": null,
   "metadata": {},
   "outputs": [],
   "source": [
    "len(parcels_w_remaining) - parcels_not_used"
   ]
  },
  {
   "cell_type": "markdown",
   "metadata": {},
   "source": [
    "### parcels with remaining capacity that had some units added"
   ]
  },
  {
   "cell_type": "code",
   "execution_count": null,
   "metadata": {},
   "outputs": [],
   "source": [
    "parcels_not_used = parcels_w_remaining.loc[parcels_w_remaining.capacity>parcels_w_remaining.remaining_cap]"
   ]
  },
  {
   "cell_type": "code",
   "execution_count": null,
   "metadata": {},
   "outputs": [],
   "source": [
    "len(parcels_not_used)"
   ]
  },
  {
   "cell_type": "code",
   "execution_count": null,
   "metadata": {},
   "outputs": [],
   "source": [
    "# parcels_not_used.head()"
   ]
  },
  {
   "cell_type": "markdown",
   "metadata": {},
   "source": [
    "#### No parcels with remaining capacity should have capacity assigned less than or equal to zero"
   ]
  },
  {
   "cell_type": "code",
   "execution_count": null,
   "metadata": {},
   "outputs": [],
   "source": [
    "parcels_w_remaining.loc[parcels_w_remaining.capacity_assigned<=0]"
   ]
  },
  {
   "cell_type": "markdown",
   "metadata": {},
   "source": [
    "#### No parcel with remaining capacity should have a unit change less than jurisdiction provided capacity"
   ]
  },
  {
   "cell_type": "code",
   "execution_count": null,
   "metadata": {},
   "outputs": [],
   "source": [
    "parcels_w_remaining.loc[parcels_w_remaining.unit_change<parcels_w_remaining.capacity_jur]"
   ]
  },
  {
   "cell_type": "code",
   "execution_count": null,
   "metadata": {},
   "outputs": [],
   "source": [
    "# parcels_w_remaining.loc[parcels_w_remaining.capacity_assigned<=0]\n",
    "# parcels_w_remaining.loc[parcels_w_remaining.unit_change<parcels_w_remaining.capacity_jur]"
   ]
  },
  {
   "cell_type": "markdown",
   "metadata": {},
   "source": [
    "#### capacity type of parcels with remaining capacity"
   ]
  },
  {
   "cell_type": "code",
   "execution_count": null,
   "metadata": {},
   "outputs": [],
   "source": [
    "assigned_df.replace('cc', 'sgoa',inplace=True)\n",
    "assigned_df.replace('mc', 'sgoa',inplace=True)\n",
    "assigned_df.replace('tc', 'sgoa',inplace=True)\n",
    "assigned_df.replace('tco', 'sgoa',inplace=True)\n",
    "assigned_df.replace('uc', 'sgoa',inplace=True)\n",
    "assigned_df.head()"
   ]
  },
  {
   "cell_type": "code",
   "execution_count": null,
   "metadata": {},
   "outputs": [],
   "source": [
    "assigned_df.parcel_id = assigned_df.parcel_id.astype(int)\n",
    "urb_parcel_cap.parcel_id = urb_parcel_cap.parcel_id.astype(int)"
   ]
  },
  {
   "cell_type": "code",
   "execution_count": null,
   "metadata": {},
   "outputs": [],
   "source": [
    "sgoa = assigned_df[['parcel_id','du']].loc[assigned_df.type=='sgoa'].copy()\n",
    "sgoa.rename(columns={'du':'capacity_sgoa'},inplace=True)\n",
    "\n",
    "adu = assigned_df[['parcel_id','du']].loc[assigned_df.type=='adu'].copy()\n",
    "adu.rename(columns={'du':'capacity_adu'},inplace=True)\n"
   ]
  },
  {
   "cell_type": "code",
   "execution_count": null,
   "metadata": {},
   "outputs": [],
   "source": [
    "#cap_df = capacity_df[['parcel_id','cap_jurisdiction_id']].copy()\n",
    "#cap_df = pd.merge(cap_df,urb_parcel_cap,how='left',on='parcel_id')\n",
    "cap_df = pd.merge(urb_parcel_cap,sgoa,how='outer',on='parcel_id')\n",
    "cap_df = pd.merge(cap_df,adu,how='outer',on='parcel_id')\n",
    "cap_df = pd.merge(cap_df,sched,how='outer',on='parcel_id')\n",
    "cap_df.fillna(0,inplace=True)\n",
    "cap_df['capacity'] = cap_df['capacity_jur'] + cap_df['capacity_sgoa'] + cap_df['capacity_adu'] + cap_df['capacity_sch']\n",
    "cap = cap_df.copy()\n",
    "cap.sort_values(by='parcel_id',inplace=True)\n",
    "cap.reset_index(inplace=True,drop=True)"
   ]
  },
  {
   "cell_type": "code",
   "execution_count": null,
   "metadata": {},
   "outputs": [],
   "source": [
    "print (\"\\n Length of capacity df : {:,}\".format(len(cap)))\n",
    "print(\"\\n Total number of UNIQUE parcels with capacity : {:,}\".format(unique_parcels))\n",
    "print(\"\\n Sum of capacity from df : {:,}\".format(cap.capacity.sum())) \n",
    "print(\"\\n Total capacity : {:,}\".format(total_capacity)) "
   ]
  },
  {
   "cell_type": "code",
   "execution_count": null,
   "metadata": {},
   "outputs": [],
   "source": [
    "cap['is_duplicated'] = cap.parcel_id.isin(duplicated_parcels)"
   ]
  },
  {
   "cell_type": "code",
   "execution_count": null,
   "metadata": {},
   "outputs": [],
   "source": [
    "compare_cap_w_units = pd.merge(unit_by_parcel,cap,on='parcel_id',how='outer')\n",
    "compare_cap_w_units.fillna(0,inplace=True)\n",
    "compare_cap_w_units['remaining_cap'] = compare_cap_w_units['capacity'] - compare_cap_w_units['unit_change']"
   ]
  },
  {
   "cell_type": "code",
   "execution_count": null,
   "metadata": {},
   "outputs": [],
   "source": [
    "print(\"\\n Length of df with units : {:,}\".format(len(compare_cap_w_units))) \n",
    "print(\"\\n Total number of UNIQUE parcels with capacity : {:,}\".format(unique_parcels))\n",
    "print(\"\\n Sum of unit change : {:,}\".format(compare_cap_w_units.unit_change.sum()))\n",
    "print(\"\\n Units needed : {:,}\".format(units_needed ))\n",
    "print(\"\\n Capacity sum : {:,}\".format(compare_cap_w_units.capacity.sum()))\n",
    "print(\"\\n Total capacity : {:,}\".format(total_capacity ))"
   ]
  },
  {
   "cell_type": "code",
   "execution_count": null,
   "metadata": {},
   "outputs": [],
   "source": [
    "print(\"\\n Length parcels with dups df : {:,}\".format(len(parcels_dups)))\n",
    "print(\"\\n Number of parcels dup using is_duplicate : {:,}\".format(all_parcels_w_cap['is_duplicated'].sum()))\n",
    "print(\"\\n remaining capacity sum : {:,}\".format(compare_cap_w_units.remaining_cap.sum()))\n",
    "print(\"\\n Total capacity minus units needed : {:,}\".format(total_capacity - units_needed)) "
   ]
  },
  {
   "cell_type": "code",
   "execution_count": null,
   "metadata": {},
   "outputs": [],
   "source": [
    "print(\"parcels with negative remaining capacity\")\n",
    "compare_cap_w_units.loc[compare_cap_w_units.remaining_cap<0]"
   ]
  },
  {
   "cell_type": "code",
   "execution_count": null,
   "metadata": {},
   "outputs": [],
   "source": [
    "parcels_w_remaining = compare_cap_w_units.loc[compare_cap_w_units.remaining_cap>0]\n",
    "print(\"\\n Total number of parcels with remaining capacity : {:,}\".\\\n",
    "      format(len(parcels_w_remaining)))\n",
    "print(\"\\n Total number of parcels with remaining capacity and adu>0 or sgoa>0 : {:,}\".\\\n",
    "      format(len(parcels_w_remaining.loc[((parcels_w_remaining.capacity_adu>0) \\\n",
    "                                         | (parcels_w_remaining.capacity_sgoa>0))])))"
   ]
  },
  {
   "cell_type": "code",
   "execution_count": null,
   "metadata": {},
   "outputs": [],
   "source": [
    "parcels_not_used = len(parcels_w_remaining.loc[parcels_w_remaining.remaining_cap==parcels_w_remaining.capacity])\n",
    "print(\"\\n Total number of parcels not used : {:,}\".\\\n",
    "      format((parcels_not_used)))\n",
    "partial_used = len(parcels_w_remaining) - parcels_not_used\n",
    "print(\"\\n Total number of parcels that are partially used : {:,}\".\\\n",
    "      format((partial_used)))\n",
    "print(\"\\n Total number of parcels that have remaining capacity : {:,}\".\\\n",
    "      format((partial_used + parcels_not_used)))"
   ]
  },
  {
   "cell_type": "code",
   "execution_count": null,
   "metadata": {},
   "outputs": [],
   "source": [
    "parcels_partially_used = parcels_w_remaining.loc[parcels_w_remaining.capacity>parcels_w_remaining.remaining_cap]\n",
    "len(parcels_partially_used)"
   ]
  },
  {
   "cell_type": "code",
   "execution_count": null,
   "metadata": {},
   "outputs": [],
   "source": [
    "parcels_w_remaining.loc[((parcels_w_remaining.capacity_adu<=0) & (parcels_w_remaining.capacity_sgoa<=0))]"
   ]
  },
  {
   "cell_type": "code",
   "execution_count": null,
   "metadata": {},
   "outputs": [],
   "source": [
    "parcels_w_remaining.loc[parcels_w_remaining.unit_change<parcels_w_remaining.capacity_jur]"
   ]
  },
  {
   "cell_type": "code",
   "execution_count": null,
   "metadata": {},
   "outputs": [],
   "source": [
    "parcels_w_remaining.head()"
   ]
  },
  {
   "cell_type": "code",
   "execution_count": null,
   "metadata": {},
   "outputs": [],
   "source": [
    "sgoa_remaining = parcels_w_remaining.loc[((parcels_w_remaining.capacity_sgoa>0) &\\\n",
    "                                         (parcels_w_remaining.capacity_adu<=0)) ]\n",
    "len(sgoa_remaining)"
   ]
  },
  {
   "cell_type": "code",
   "execution_count": null,
   "metadata": {},
   "outputs": [],
   "source": [
    "adu_remaining = parcels_w_remaining.loc[((parcels_w_remaining.capacity_sgoa<=0) &\\\n",
    "                                         (parcels_w_remaining.capacity_adu>0)) ]\n",
    "len(adu_remaining)"
   ]
  },
  {
   "cell_type": "code",
   "execution_count": null,
   "metadata": {},
   "outputs": [],
   "source": [
    "print(\"\\n Total number of parcels that have remaining capacity : {:,}\".\\\n",
    "      format((len(sgoa_remaining) + len(adu_remaining))))\n",
    "print(\"\\n Total number of parcels that have remaining capacity : {:,}\".\\\n",
    "      format((len(parcels_w_remaining))))"
   ]
  },
  {
   "cell_type": "code",
   "execution_count": null,
   "metadata": {},
   "outputs": [],
   "source": [
    "sgoaur = sgoa_remaining.remaining_cap.sum()\n",
    "print(\"\\n Total number of units of remaining from sgoas : {:,}\".\\\n",
    "      format((sgoaur )))\n",
    "aduur = adu_remaining.remaining_cap.sum()\n",
    "print(\"\\n Total number of units of remaining from adus : {:,}\".\\\n",
    "      format((aduur )))\n",
    "print(\"\\n Total number of units of remaining : {:,}\".\\\n",
    "      format((sgoaur + aduur )))\n",
    "print(\"\\n Total capacity minus units needed : {:,}\".format(total_capacity - units_needed)) "
   ]
  },
  {
   "cell_type": "code",
   "execution_count": null,
   "metadata": {},
   "outputs": [],
   "source": [
    "adu_remaining.loc[adu_remaining.capacity_jur>0]"
   ]
  },
  {
   "cell_type": "code",
   "execution_count": null,
   "metadata": {},
   "outputs": [],
   "source": [
    "sgoa_remaining_Partial_use = sgoa_remaining.loc[(sgoa_remaining.unit_change>0)]"
   ]
  },
  {
   "cell_type": "code",
   "execution_count": null,
   "metadata": {},
   "outputs": [],
   "source": [
    "len(sgoa_remaining_Partial_use)"
   ]
  },
  {
   "cell_type": "code",
   "execution_count": null,
   "metadata": {},
   "outputs": [],
   "source": [
    "partial_use_w_capacity_jur = sgoa_remaining_Partial_use.loc[sgoa_remaining_Partial_use.capacity_jur>0]"
   ]
  },
  {
   "cell_type": "code",
   "execution_count": null,
   "metadata": {},
   "outputs": [],
   "source": [
    "partial_use_w_capacity_sgoa = sgoa_remaining_Partial_use.loc[sgoa_remaining_Partial_use.capacity_jur==0]"
   ]
  },
  {
   "cell_type": "code",
   "execution_count": null,
   "metadata": {},
   "outputs": [],
   "source": [
    "len(partial_use_w_capacity_jur)"
   ]
  },
  {
   "cell_type": "code",
   "execution_count": null,
   "metadata": {},
   "outputs": [],
   "source": [
    "print(\"\\n Total number of partial used parcels : {:,}\".format(len(sgoa_remaining_Partial_use))) \n",
    "print(\"\\n Total number of parcels that have jurisdiction capacity but remaining sgoa capacity : {:,}\".\\\n",
    "      format(len(partial_use_w_capacity_jur)))\n",
    "print(\"\\n Total number of partial used parcels that have only sgoa capacity : {:,}\".\\\n",
    "      format(len(partial_use_w_capacity_sgoa)))"
   ]
  },
  {
   "cell_type": "code",
   "execution_count": null,
   "metadata": {},
   "outputs": [],
   "source": [
    "# sgoa_remaining_w_capacity_jur"
   ]
  },
  {
   "cell_type": "code",
   "execution_count": null,
   "metadata": {},
   "outputs": [],
   "source": [
    "# parcels_partially_used"
   ]
  },
  {
   "cell_type": "markdown",
   "metadata": {},
   "source": [
    "## Check that sched dev is used up"
   ]
  },
  {
   "cell_type": "code",
   "execution_count": null,
   "metadata": {},
   "outputs": [],
   "source": [
    "sched_devs = compare_cap_w_units.loc[compare_cap_w_units.capacity_sch>0]"
   ]
  },
  {
   "cell_type": "code",
   "execution_count": null,
   "metadata": {},
   "outputs": [],
   "source": [
    "sched_devs.head()"
   ]
  },
  {
   "cell_type": "markdown",
   "metadata": {},
   "source": [
    "##### do any of the parcels with sched dev capacity have additional capacity?"
   ]
  },
  {
   "cell_type": "code",
   "execution_count": null,
   "metadata": {},
   "outputs": [],
   "source": [
    "# any sched devs with assigned capacity?\n",
    "sched_devs.loc[sched_devs.capacity_sgoa>0]"
   ]
  },
  {
   "cell_type": "code",
   "execution_count": null,
   "metadata": {},
   "outputs": [],
   "source": [
    "sched_devs.loc[sched_devs.capacity_adu>0]"
   ]
  },
  {
   "cell_type": "markdown",
   "metadata": {},
   "source": [
    "#### do any of the parcels with sched dev capacity have jur feedback capacity?"
   ]
  },
  {
   "cell_type": "code",
   "execution_count": null,
   "metadata": {},
   "outputs": [],
   "source": [
    "# any sched devs with jur capacity?\n",
    "sched_devs.loc[sched_devs.capacity_jur>0]"
   ]
  },
  {
   "cell_type": "markdown",
   "metadata": {},
   "source": [
    "#### does sched dev capacity from merged df matches urbansim.scheduled_development_parcel capacity?"
   ]
  },
  {
   "cell_type": "code",
   "execution_count": null,
   "metadata": {},
   "outputs": [],
   "source": [
    "print(sched_devs.capacity.sum()) # merged df\n",
    "print(sched_dev_capacity) #urbansim.scheduled_development_parcel "
   ]
  },
  {
   "cell_type": "markdown",
   "metadata": {},
   "source": [
    "#### unit change for sched dev should match capacity"
   ]
  },
  {
   "cell_type": "code",
   "execution_count": null,
   "metadata": {},
   "outputs": [],
   "source": [
    "print(\"\\n Unit change for sched dev parcels : {:,}\".\\\n",
    "      format(sched_devs.unit_change.sum()))"
   ]
  },
  {
   "cell_type": "markdown",
   "metadata": {},
   "source": [
    "#### check no remaining capacity for sched dev parcels"
   ]
  },
  {
   "cell_type": "code",
   "execution_count": null,
   "metadata": {},
   "outputs": [],
   "source": [
    "sched_devs.loc[sched_devs.remaining_cap>0]"
   ]
  },
  {
   "cell_type": "code",
   "execution_count": null,
   "metadata": {},
   "outputs": [],
   "source": []
  },
  {
   "cell_type": "markdown",
   "metadata": {},
   "source": [
    "### compare jurisdiction capacity to output of simulation by jurisdiction"
   ]
  },
  {
   "cell_type": "code",
   "execution_count": null,
   "metadata": {},
   "outputs": [],
   "source": [
    "jur_use_sql = '''With a as (\n",
    "SELECT  jur_id as jurisdiction_id,sum([unit_change]) as output_change\n",
    "  FROM [urbansim].[urbansim].[urbansim_lite_output] o \n",
    "   JOIN [isam].[xpef04].[parcel2015_mgra_jur_cpa] x\n",
    "  on x.parcel_id = o.parcel_id\n",
    "  where run_id =  %s and capacity_type = 'jur' and i=1\n",
    "   GROUP BY jur_id),\n",
    "b as (\n",
    "select jur_id as jurisdiction_id, sum(capacity_2) as urbansim_capacity \n",
    "from urbansim.urbansim.parcel p \n",
    "JOIN [isam].[xpef04].[parcel2015_mgra_jur_cpa] x\n",
    " on x.parcel_id = p.parcel_id\n",
    " where site_id is null and i=1\n",
    "GROUP BY jur_id\n",
    "   )\n",
    "   SELECT a.jurisdiction_id,urbansim_capacity,output_change\n",
    "   from a\n",
    "   join b\n",
    "   on a.jurisdiction_id = b.jurisdiction_id\n",
    "   ORDER BY a.jurisdiction_id'''\n",
    "jur_use_sql  = jur_use_sql % run_id\n",
    "jur_use = pd.read_sql(jur_use_sql,mssql_engine)\n",
    "jur_use['diff'] = jur_use['urbansim_capacity'] - jur_use['output_change']\n",
    "jur_use.head()\n",
    "df_jur = pd.merge(jur_use,jur_name, on ='jurisdiction_id')\n",
    "pd.options.display.float_format = '{:,.0f}'.format\n",
    "df_jur\n",
    "# print(jur_use[['jurisdiction_2016_name','urbansim_capacity','output_change','diff']])\n",
    "   "
   ]
  },
  {
   "cell_type": "markdown",
   "metadata": {},
   "source": [
    "### make sure duplicate adus do not get picked"
   ]
  },
  {
   "cell_type": "code",
   "execution_count": null,
   "metadata": {},
   "outputs": [],
   "source": [
    "# make sure no adus get picked twice\n",
    "# total number adus\n",
    "adu_sql = '''SELECT count(*)\n",
    "  FROM [urbansim].[urbansim].[urbansim_lite_output]\n",
    "  where run_id = %s and capacity_type = 'adu' '''\n",
    "adu_sql = adu_sql % run_id\n",
    "adu_use = pd.read_sql(adu_sql,mssql_engine)\n",
    "print(\"\\n Number of parcels with adu unit change : {:,}\".format(int(adu_use.values)))\n",
    "#22,102\n",
    "# distinct adus\n",
    "adu_distinct_sql = ''' SELECT count(distinct([parcel_id]))\n",
    "  FROM [urbansim].[urbansim].[urbansim_lite_output]\n",
    "  where run_id = %s and capacity_type = 'adu' '''\n",
    "adu_distinct_sql  =adu_distinct_sql  % run_id\n",
    "adu_use_distinct = pd.read_sql(adu_distinct_sql,mssql_engine)\n",
    "print(\"\\n Number of distinct parcels with adu unit change : {:,}\".format(int(adu_use_distinct.values)))\n",
    "#22,102"
   ]
  },
  {
   "cell_type": "code",
   "execution_count": null,
   "metadata": {},
   "outputs": [],
   "source": [
    "hs_change_sql = '''\n",
    "    SELECT j.name, i.jur_id,year_simulation,\n",
    "    sum(unit_change) as hs_change, capacity_type\n",
    "      FROM urbansim.urbansim.urbansim_lite_output o \n",
    "      JOIN [isam].[xpef04].[parcel2015_mgra_jur_cpa] i on i.parcel_id = o.parcel_id\n",
    "      JOIN urbansim.ref.jurisdiction j on i.jur_id = j.jurisdiction_id\n",
    "     WHERE run_id =  %s and i = 1\n",
    "     GROUP BY j.name,i.jur_id,capacity_type,year_simulation\n",
    "      ORDER BY j.name,i.jur_id'''\n",
    "hs_change_sql = hs_change_sql % run_id\n",
    "hs = pd.read_sql(hs_change_sql,mssql_engine)"
   ]
  },
  {
   "cell_type": "code",
   "execution_count": null,
   "metadata": {},
   "outputs": [],
   "source": [
    "units_added_by_yr = pd.DataFrame({'subregional_simulation': hs.\n",
    "                                          groupby([\"year_simulation\"])\n",
    "                                          .hs_change.sum()}).reset_index()"
   ]
  },
  {
   "cell_type": "markdown",
   "metadata": {},
   "source": [
    "## compare units added in subregional to housing unit targets in forecast"
   ]
  },
  {
   "cell_type": "code",
   "execution_count": null,
   "metadata": {},
   "outputs": [],
   "source": [
    "units_added_by_yr = pd.DataFrame({'subregional_simulation': hs.\n",
    "                                          groupby([\"year_simulation\"])\n",
    "                                          .hs_change.sum()}).reset_index()\n",
    "housing_units_by_yr = pd.merge(units_needed_df[['yr','housing_units_add']],units_added_by_yr,\\\n",
    "                               left_on='yr',right_on='year_simulation')\n",
    "housing_units_by_yr['housing_units_add'] = housing_units_by_yr['housing_units_add'].astype(int)\n",
    "housing_units_by_yr.rename(columns={\"housing_units_add\": \"forecast\"}, inplace=True)\n",
    "housing_units_by_yr.drop(['year_simulation'], axis=1,inplace=True)\n",
    "housing_units_by_yr.set_index('yr',inplace=True)\n",
    "axes = housing_units_by_yr.plot(style='.-',subplots=True, figsize=(6, 6));\n",
    "ptitle = 'DRAFT Housing Units By Year \\n(version_id=' + \\\n",
    "str(versions['target_housing_units_version']) + ')'\n",
    "axes.flat[0].set_title(ptitle,size=16) \n",
    "axes[0].set_ylabel('housing units')\n",
    "axes[1].set_ylabel('housing units')\n"
   ]
  },
  {
   "cell_type": "markdown",
   "metadata": {},
   "source": [
    "## Housing unit target cumulative sum"
   ]
  },
  {
   "cell_type": "code",
   "execution_count": null,
   "metadata": {},
   "outputs": [],
   "source": [
    "housing_units_by_yr['cumulative sum hs forecast'] = housing_units_by_yr.forecast.cumsum()\n",
    "housing_units_by_yr['cumulative sum simulation'] = housing_units_by_yr.subregional_simulation.cumsum()\n",
    "housing_units_by_yr['diff'] = housing_units_by_yr['forecast'] - housing_units_by_yr['subregional_simulation']\n",
    "housing_units_by_yr"
   ]
  },
  {
   "cell_type": "markdown",
   "metadata": {},
   "source": [
    "## Housing Units by Capacity Type Plot"
   ]
  },
  {
   "cell_type": "markdown",
   "metadata": {},
   "source": [
    "#### replace sgoa subtypes with \"sgoa\""
   ]
  },
  {
   "cell_type": "code",
   "execution_count": null,
   "metadata": {},
   "outputs": [],
   "source": [
    "hs2 = hs.copy()\n",
    "hs2.replace('cc', 'sgoa',inplace=True)\n",
    "hs2.replace('mc', 'sgoa',inplace=True)\n",
    "hs2.replace('tc', 'sgoa',inplace=True)\n",
    "hs2.replace('tco', 'sgoa',inplace=True)\n",
    "hs2.replace('uc', 'sgoa',inplace=True)"
   ]
  },
  {
   "cell_type": "markdown",
   "metadata": {},
   "source": [
    "#### group by year simulation and capacity type and sum unit change"
   ]
  },
  {
   "cell_type": "code",
   "execution_count": null,
   "metadata": {},
   "outputs": [],
   "source": [
    "units_added_by_capacity_type_and_yr = pd.DataFrame({'units_by_type': hs2.\n",
    "                                          groupby([\"year_simulation\",\"capacity_type\"])\n",
    "                                          .hs_change.sum()}).reset_index()"
   ]
  },
  {
   "cell_type": "markdown",
   "metadata": {},
   "source": [
    "#### pivot to make capacity types as columns: 'sch','jur','adu','sgoa'"
   ]
  },
  {
   "cell_type": "code",
   "execution_count": null,
   "metadata": {},
   "outputs": [],
   "source": [
    "type_pivot = units_added_by_capacity_type_and_yr.pivot(index='year_simulation', columns='capacity_type', \\\n",
    "                                                       values='units_by_type').reset_index().rename_axis(None, axis=1)\n",
    "type_pivot.fillna(0,inplace=True)\n",
    "type_pivot.set_index('year_simulation',inplace=True)\n",
    "cols = ['sch','jur','adu','sgoa']\n",
    "type_pivot = type_pivot[cols]\n",
    "type_pivot[cols] = type_pivot[cols].applymap(np.int32)"
   ]
  },
  {
   "cell_type": "code",
   "execution_count": null,
   "metadata": {},
   "outputs": [],
   "source": [
    "# type_pivot = type_pivot.loc[type_pivot.index.isin(list(range(2017,2023)))]"
   ]
  },
  {
   "cell_type": "code",
   "execution_count": null,
   "metadata": {},
   "outputs": [],
   "source": [
    "dirname = os.path.join(os.getcwd(),'plots')#,datetime.datetime.now().strftime('%Y-%m-%d_%H-%M-%S'))\n",
    "try:\n",
    "    os.stat(dirname)\n",
    "except:\n",
    "    os.mkdir(dirname)  "
   ]
  },
  {
   "cell_type": "code",
   "execution_count": null,
   "metadata": {},
   "outputs": [],
   "source": [
    "# NOTE: the width and fig size are important to show adu. \n",
    "# if fig size and width are too small the bar is no longer visible.\n",
    "# see https://stackoverflow.com/questions/47740478/matplotlib-bar-chart-some-bars-are-not-visible-and-seem-to-be-of-different-width\n",
    "\n",
    "\n",
    "plt.style.use('ggplot')\n",
    "#plt.style.use('default')\n",
    "ax = type_pivot.plot(kind='bar',stacked=True,width=0.5,\n",
    "                     #color = ['#ff7f0e','#9467bd','#1f77b4','#2ca02c'],\n",
    "                     color = ['#1f77b4','#ff7f0e','#2ca02c','#d62728'],\n",
    "                     # colormap = 'tab10', #colormap='coolwarm',\\ Paired\n",
    "                     figsize=(18, 8)) #(stacked=True,colormap='Paired')\n",
    "ax.set_ylabel(\"housing units added\",size=20)\n",
    "ax.set_xlabel(\"forecast year\",size=20)\n",
    "ptitle = 'DRAFT Housing Units (' + str(units_added) + ')' + ' By Capacity Type\\nversion id = '\\\n",
    "+ str(versions['target_housing_units_version'])\n",
    "ax.set_title(ptitle,size=20)\n",
    "plt.legend(loc=1, prop={'size': 16})\n",
    "plt.tick_params(axis='both', which='major', labelsize=14) \n",
    "plt.show()\n",
    "fig = ax.get_figure()\n",
    "plotname = dirname + '//' + str(run_id) + 'barplot_region.png'\n",
    "fig.savefig(plotname)"
   ]
  },
  {
   "cell_type": "markdown",
   "metadata": {},
   "source": [
    "### QC \"units to add\" not equal \"units added\""
   ]
  },
  {
   "cell_type": "code",
   "execution_count": null,
   "metadata": {},
   "outputs": [],
   "source": [
    "hu = housing_units_by_yr.copy()\n",
    "hu.rename(columns={\"forecast\":\"hu_forecast\"}, inplace=True)\n",
    "hu.rename(columns={\"subregional_simulation\":\"hu_subregional\"}, inplace=True)\n",
    "hu['DIFF'] = hu.hu_subregional - hu.hu_forecast\n",
    "hu['cum_sum_forecast'] = hu.hu_forecast.cumsum()\n",
    "hu['cum_sum_subregional'] = hu.hu_subregional.cumsum()\n",
    "print('\\n\\nQC: Years that \"Units to Add\" not equal to \"Units Added\"')\n",
    "print(hu.loc[hu.hu_forecast != hu.hu_subregional])"
   ]
  },
  {
   "cell_type": "markdown",
   "metadata": {},
   "source": [
    "### Table: DRAFT Housing Units by Capacity Type (and Percentage of Total Units)"
   ]
  },
  {
   "cell_type": "code",
   "execution_count": null,
   "metadata": {},
   "outputs": [],
   "source": [
    "table_of_units = type_pivot.copy()\n",
    "table_of_units['total_units'] = table_of_units.sum(axis=1)\n",
    "table_of_units[['sch','jur','adu','sgoa','total_units']] =table_of_units[['sch','jur','adu','sgoa','total_units']].astype(int)\n",
    "\n",
    "# table_of_units['cumulative units'] = table_of_units['total_units'].cumsum()\n",
    "table_of_units.loc['Total']= table_of_units.sum()\n",
    "# table_of_units.loc[table_of_units.index=='Total','cumulative units'] = ''\n",
    "table_of_units"
   ]
  },
  {
   "cell_type": "code",
   "execution_count": null,
   "metadata": {},
   "outputs": [],
   "source": [
    "percent_of_units = type_pivot.copy()\n",
    "percent_of_units['total_units'] = percent_of_units.sum(axis=1)\n",
    "percent_of_units['adu_share_per_year'] = percent_of_units.adu / percent_of_units.total_units\n",
    "percent_of_units['adu_share_per_year'] = (percent_of_units.adu_share_per_year * 100).round(2)\n",
    "percent_of_units['adu_share_per_year'] = percent_of_units['adu_share_per_year'].astype(str) + '%'\n",
    "\n",
    "percent_of_units['sch_share_per_year'] = percent_of_units.sch / percent_of_units.total_units\n",
    "percent_of_units['sch_share_per_year'] = (percent_of_units.sch_share_per_year * 100).round(2)\n",
    "percent_of_units['sch_share_per_year'] = percent_of_units['sch_share_per_year'].astype(str) + '%'\n",
    "\n",
    "percent_of_units['jur_share_per_year'] = percent_of_units.jur / percent_of_units.total_units\n",
    "percent_of_units['jur_share_per_year'] = (percent_of_units.jur_share_per_year * 100).round(2)\n",
    "percent_of_units['jur_share_per_year'] = percent_of_units['jur_share_per_year'].astype(str) + '%'\n",
    "\n",
    "percent_of_units['sgoa_share_per_year'] = percent_of_units.sgoa / percent_of_units.total_units\n",
    "percent_of_units['sgoa_share_per_year'] = (percent_of_units.sgoa_share_per_year * 100).round(2)\n",
    "percent_of_units['sgoa_share_per_year'] = percent_of_units['sgoa_share_per_year'].astype(str) + '%'\n",
    "percent_of_units[['sch_share_per_year','jur_share_per_year','adu_share_per_year','sgoa_share_per_year']]\n",
    "\n"
   ]
  },
  {
   "cell_type": "markdown",
   "metadata": {},
   "source": [
    "### Housing units urbansim.parcel (2017) compared to [isam].[defm].[housing_units] "
   ]
  },
  {
   "cell_type": "code",
   "execution_count": null,
   "metadata": {},
   "outputs": [],
   "source": [
    "du_2017 = capacity_df.du_2017.sum()\n",
    "print(\"\\n Housing units 2017 from urbansim.parcel: {:,}\\n\".format(du_2017))\n",
    "housing_unit_estimates_sql = '''SELECT  [yr],[du]FROM [isam].[defm].[housing_units]'''\n",
    "housing_unit_estimates = pd.read_sql(housing_unit_estimates_sql, mssql_engine)\n",
    "print(\"\\n Housing units 2017 from estimates in defm.housing_units: {:,}\\n\".\\\n",
    "      format(int(housing_unit_estimates.loc[housing_unit_estimates.yr==2017].du)))\n",
    "print(\"\\n DIFFERENCE in housing units urbansim and defm.housing_units: {:,}\\n\".\\\n",
    "      format(int(housing_unit_estimates.loc[housing_unit_estimates.yr==2017].du)\\\n",
    "                - du_2017 ))\n",
    "\n",
    "print(\"\\n Total Housing units 2050: {:,}\\n\\n (= {:,} du 2017 +  {:,} units needed) \\n\".\\\n",
    "      format(du_2017 + units_needed,du_2017,units_needed)) \n",
    "# housing units du_2017 from urbansim.parcel\n",
    "# 1,192,748\n",
    "# housing units from estimates:\n",
    "# 2015: 1,183,211\n",
    "# 2016: 1,194,603\n",
    "# 2017: 1,205,531\n",
    "# 2018: 1,217,060"
   ]
  },
  {
   "cell_type": "code",
   "execution_count": null,
   "metadata": {},
   "outputs": [],
   "source": [
    "### QC HS per year"
   ]
  },
  {
   "cell_type": "code",
   "execution_count": null,
   "metadata": {},
   "outputs": [],
   "source": []
  }
 ],
 "metadata": {
  "kernelspec": {
   "display_name": "Python 3",
   "language": "python",
   "name": "python3"
  },
  "language_info": {
   "codemirror_mode": {
    "name": "ipython",
    "version": 3
   },
   "file_extension": ".py",
   "mimetype": "text/x-python",
   "name": "python",
   "nbconvert_exporter": "python",
   "pygments_lexer": "ipython3",
   "version": "3.6.4"
  }
 },
 "nbformat": 4,
 "nbformat_minor": 2
}
