{
 "cells": [
  {
   "cell_type": "code",
   "execution_count": null,
   "metadata": {},
   "outputs": [],
   "source": [
    "# append path to find utils module in urbansim\n",
    "import os \n",
    "import sys\n",
    "cwd = os.getcwd() \n",
    "parentdir =  os.path.abspath(os.path.join(cwd, os.pardir))\n",
    "sys.path.append(parentdir) # to get path to utils module"
   ]
  },
  {
   "cell_type": "code",
   "execution_count": null,
   "metadata": {},
   "outputs": [],
   "source": [
    "from sqlalchemy import create_engine\n",
    "from database import get_connection_string\n",
    "import numpy as np\n",
    "import pandas as pd"
   ]
  },
  {
   "cell_type": "code",
   "execution_count": null,
   "metadata": {},
   "outputs": [],
   "source": [
    "# connect to database and get version ids\n",
    "db_connection_string = get_connection_string('..\\data\\config.yml', 'mssql_db')\n",
    "mssql_engine = create_engine(db_connection_string)"
   ]
  },
  {
   "cell_type": "code",
   "execution_count": null,
   "metadata": {},
   "outputs": [],
   "source": []
  },
  {
   "cell_type": "code",
   "execution_count": null,
   "metadata": {},
   "outputs": [],
   "source": [
    "# get max run id from urbansim\n",
    "run_id_sql = '''\n",
    "SELECT max(run_id)\n",
    "  FROM [urbansim].[urbansim].[urbansim_lite_output]\n",
    "'''\n",
    "run_id_df = pd.read_sql(run_id_sql, mssql_engine)\n",
    "run_id = int(run_id_df.values)\n",
    "\n",
    "print(\"\\n   Max run id : {:,}\".format(run_id))"
   ]
  },
  {
   "cell_type": "code",
   "execution_count": null,
   "metadata": {},
   "outputs": [],
   "source": [
    "sched_dev_sql = ''' SELECT site_id, year_simulation,\n",
    "      sum([unit_change]) as unit_change\n",
    "  FROM [urbansim].[urbansim].[urbansim_lite_output] o\n",
    "  JOIN [urbansim].[scheduled_development_parcel] p on p.parcel_id = o.parcel_id\n",
    "  where run_id =  %s  and capacity_type='sch' --and year_simulation < 2025\n",
    "  GROUP by site_id,year_simulation\n",
    "  ORDER BY site_id,year_simulation''' \n",
    "sched_dev_sql = sched_dev_sql % run_id\n",
    "s = pd.read_sql(sched_dev_sql,mssql_engine)"
   ]
  },
  {
   "cell_type": "code",
   "execution_count": null,
   "metadata": {},
   "outputs": [],
   "source": [
    "s.head()"
   ]
  },
  {
   "cell_type": "code",
   "execution_count": null,
   "metadata": {},
   "outputs": [],
   "source": [
    "df4 = pd.pivot_table(s,index=['site_id'],columns='year_simulation', values='unit_change').reset_index()# .rename_axis(None, axis=1)"
   ]
  },
  {
   "cell_type": "code",
   "execution_count": null,
   "metadata": {},
   "outputs": [],
   "source": [
    "# df4.to_csv('test20.csv')"
   ]
  },
  {
   "cell_type": "markdown",
   "metadata": {},
   "source": [
    "# get sched dev parcels"
   ]
  },
  {
   "cell_type": "code",
   "execution_count": null,
   "metadata": {},
   "outputs": [],
   "source": [
    "sched_dev_sql = '''\n",
    "SELECT [site_id]\n",
    "      ,[parcel_id]\n",
    "      ,[capacity_3]\n",
    "  FROM [urbansim].[urbansim].[scheduled_development_parcel]'''\n",
    "sched_df = pd.read_sql(sched_dev_sql, mssql_engine)\n",
    "print(\"\\n Sched Dev Units : {}\".format(sched_df.capacity_3.sum()))"
   ]
  },
  {
   "cell_type": "markdown",
   "metadata": {},
   "source": [
    "#### get output of simulation from database"
   ]
  },
  {
   "cell_type": "code",
   "execution_count": null,
   "metadata": {},
   "outputs": [],
   "source": [
    "# run_id = 263"
   ]
  },
  {
   "cell_type": "code",
   "execution_count": null,
   "metadata": {},
   "outputs": [],
   "source": [
    "# get max run id from urbansim\n",
    "run_id_sql = '''\n",
    "SELECT max(run_id)\n",
    "  FROM [urbansim].[urbansim].[urbansim_lite_output]\n",
    "'''\n",
    "run_id_df = pd.read_sql(run_id_sql, mssql_engine)\n",
    "run_id = int(run_id_df.values)\n",
    "\n",
    "print(\"\\n   Max run id : {:,}\".format(run_id))"
   ]
  },
  {
   "cell_type": "markdown",
   "metadata": {},
   "source": [
    "## Urbansim Lite Output"
   ]
  },
  {
   "cell_type": "markdown",
   "metadata": {},
   "source": [
    "##### get unit change by site id by year simulation"
   ]
  },
  {
   "cell_type": "markdown",
   "metadata": {},
   "source": [
    "##### from [urbansim].[urbansim].[urbansim_lite_output]"
   ]
  },
  {
   "cell_type": "code",
   "execution_count": null,
   "metadata": {},
   "outputs": [],
   "source": [
    "uo_sql = '''\n",
    "SELECT site_id,jur_id,cpa_id,sum(unit_change) as units_added_by_yr,year_simulation\n",
    "  FROM [urbansim].[urbansim].[urbansim_lite_output] o\n",
    "  JOIN [isam].[xpef04].[parcel2015_mgra_jur_cpa] cp\n",
    "    ON cp.parcel_id = o.parcel_id\n",
    "  JOIN [urbansim].[scheduled_development_parcel] p\n",
    "    ON p.parcel_id = o.parcel_id\n",
    " WHERE run_id = %s and capacity_type = 'sch' and i=1\n",
    " GROUP BY site_id,jur_id,cpa_id,year_simulation\n",
    " ORDER BY site_id,year_simulation'''\n",
    "uo_sql = uo_sql % run_id\n",
    "uo = pd.read_sql(uo_sql,mssql_engine)"
   ]
  },
  {
   "cell_type": "markdown",
   "metadata": {},
   "source": [
    "#### change datatype for jurisdiction, cpa, site_id from float to int"
   ]
  },
  {
   "cell_type": "code",
   "execution_count": null,
   "metadata": {},
   "outputs": [],
   "source": [
    "uo.jur_id = uo.jur_id.astype(int)\n",
    "uo.cpa_id = uo.cpa_id.astype(int)\n",
    "uo.site_id = uo.site_id.astype(int)"
   ]
  },
  {
   "cell_type": "markdown",
   "metadata": {},
   "source": [
    "## Sched development parcel (capacities)"
   ]
  },
  {
   "cell_type": "markdown",
   "metadata": {},
   "source": [
    "#### get capacity for all sites"
   ]
  },
  {
   "cell_type": "markdown",
   "metadata": {},
   "source": [
    "##### [urbansim].[urbansim].[scheduled_development_parcel]"
   ]
  },
  {
   "cell_type": "code",
   "execution_count": null,
   "metadata": {},
   "outputs": [],
   "source": [
    "sites_sql = '''\n",
    "SELECT site_id,\n",
    "       sum(capacity_3) as capacity3\n",
    "FROM [urbansim].[urbansim].[scheduled_development_parcel]\n",
    "WHERE capacity_3 > 0\n",
    "GROUP BY site_id'''\n",
    "sp = pd.read_sql(sites_sql,mssql_engine)"
   ]
  },
  {
   "cell_type": "markdown",
   "metadata": {},
   "source": [
    "#### change datatype for capacity and site_id from float to int"
   ]
  },
  {
   "cell_type": "code",
   "execution_count": null,
   "metadata": {},
   "outputs": [],
   "source": [
    "sp.capacity3 = sp.capacity3.astype(int)\n",
    "sp.site_id = sp.site_id.astype(int)"
   ]
  },
  {
   "cell_type": "markdown",
   "metadata": {},
   "source": [
    "## Difference between capacity and urbansim output"
   ]
  },
  {
   "cell_type": "markdown",
   "metadata": {},
   "source": [
    "#### total number of unique sites by jurisdiction from output"
   ]
  },
  {
   "cell_type": "code",
   "execution_count": null,
   "metadata": {},
   "outputs": [],
   "source": [
    "print(\"\\nOutput: Total sched dev sites from urbansim output: {:,}\".format(len(uo.drop_duplicates(['jur_id','site_id']))))\n",
    "total_units_sched_dev = uo.units_added_by_yr.sum()\n",
    "print(\"\\nOutput: Total units sched dev from urbansim output: {:,}\".format(total_units_sched_dev))"
   ]
  },
  {
   "cell_type": "code",
   "execution_count": null,
   "metadata": {},
   "outputs": [],
   "source": [
    "print(\"\\nCapacity: Total sched dev sites from sched dev parcel: {:,}\".format(len(sp)))\n",
    "total_cap3_sp = sp.capacity3.sum()\n",
    "print(\"\\nCapacity: Total units in sched dev parcel: {:,}\".format(total_cap3_sp))"
   ]
  },
  {
   "cell_type": "code",
   "execution_count": null,
   "metadata": {},
   "outputs": [],
   "source": [
    "print(\"\\nDifference: Sched dev sites: {:,}\".format(len(uo.drop_duplicates(['jur_id','site_id']))-len(sp)))\n",
    "print(\"\\nDifference: Sched dev units: {:,}\".format(total_units_sched_dev-total_cap3_sp))"
   ]
  },
  {
   "cell_type": "markdown",
   "metadata": {},
   "source": [
    "## Fix issue with difference in sched dev sites"
   ]
  },
  {
   "cell_type": "markdown",
   "metadata": {},
   "source": [
    "#### change site 15002 to San Marcos - was both unincorporated and San Marcos. (caused it to split it into two sites.)"
   ]
  },
  {
   "cell_type": "code",
   "execution_count": null,
   "metadata": {},
   "outputs": [],
   "source": [
    "uo.loc[uo.site_id==15002].sort_values(by='jur_id')"
   ]
  },
  {
   "cell_type": "code",
   "execution_count": null,
   "metadata": {},
   "outputs": [],
   "source": [
    "uo.loc[uo.site_id==15002, 'jur_id'] = 15\n",
    "uo.loc[uo.site_id==15002, 'cpa_id'] = 0"
   ]
  },
  {
   "cell_type": "code",
   "execution_count": null,
   "metadata": {},
   "outputs": [],
   "source": [
    "print(\"\\nDifference: Sched dev sites: {:,}\".format(len(uo.drop_duplicates(['jur_id','site_id']))-len(sp)))\n",
    "print(\"\\nDifference: Sched dev units: {:,}\".format(total_units_sched_dev-total_cap3_sp))"
   ]
  },
  {
   "cell_type": "markdown",
   "metadata": {},
   "source": [
    "## Sum output units added by year and jurisdiction/cpa"
   ]
  },
  {
   "cell_type": "code",
   "execution_count": null,
   "metadata": {},
   "outputs": [],
   "source": [
    "df = pd.DataFrame({'units_by_site': uo.groupby([\"site_id\",\"jur_id\",\"cpa_id\",\"year_simulation\"])\n",
    "                                          .units_added_by_yr.sum()}).reset_index()"
   ]
  },
  {
   "cell_type": "code",
   "execution_count": null,
   "metadata": {},
   "outputs": [],
   "source": [
    "df.head()"
   ]
  },
  {
   "cell_type": "markdown",
   "metadata": {},
   "source": [
    "#### calculate total urbansim output units for each site"
   ]
  },
  {
   "cell_type": "code",
   "execution_count": null,
   "metadata": {},
   "outputs": [],
   "source": [
    "df2 = pd.DataFrame({'units_by_site': uo.groupby([\"site_id\",\"jur_id\",\"cpa_id\"])\n",
    "                                          .units_added_by_yr.sum()}).reset_index()\n",
    "df2['year_simulation'] = \"Total\""
   ]
  },
  {
   "cell_type": "code",
   "execution_count": null,
   "metadata": {},
   "outputs": [],
   "source": [
    "df.head()"
   ]
  },
  {
   "cell_type": "code",
   "execution_count": null,
   "metadata": {},
   "outputs": [],
   "source": [
    "df2.head()"
   ]
  },
  {
   "cell_type": "markdown",
   "metadata": {},
   "source": [
    "#### add totals \"row\" to dataframe with output units by year"
   ]
  },
  {
   "cell_type": "code",
   "execution_count": null,
   "metadata": {},
   "outputs": [],
   "source": [
    "df3 = pd.concat([df,df2],sort=True)"
   ]
  },
  {
   "cell_type": "code",
   "execution_count": null,
   "metadata": {},
   "outputs": [],
   "source": [
    "df3.loc[df3.site_id==165]"
   ]
  },
  {
   "cell_type": "markdown",
   "metadata": {},
   "source": [
    "## JOIN capacity 1"
   ]
  },
  {
   "cell_type": "code",
   "execution_count": null,
   "metadata": {},
   "outputs": [],
   "source": [
    "cap1_sql = '''\n",
    "SELECT sum([capacity_1]) as capacity_1, sum(capacity_2) as capacity_2\n",
    "      ,[site_id]\n",
    "  FROM [urbansim].[urbansim].[parcel]\n",
    "  where site_id IS NOT NULL\n",
    "  GROUP BY site_id'''\n",
    "cap1 = pd.read_sql(cap1_sql,mssql_engine)"
   ]
  },
  {
   "cell_type": "code",
   "execution_count": null,
   "metadata": {},
   "outputs": [],
   "source": [
    "df3.head()"
   ]
  },
  {
   "cell_type": "code",
   "execution_count": null,
   "metadata": {},
   "outputs": [],
   "source": [
    "len(df3)"
   ]
  },
  {
   "cell_type": "markdown",
   "metadata": {},
   "source": [
    "#### pivot urbansim output so year is column and each site id is one row"
   ]
  },
  {
   "cell_type": "code",
   "execution_count": null,
   "metadata": {},
   "outputs": [],
   "source": [
    "df3.year_simulation = df3.year_simulation.astype(str)\n",
    "df4 = pd.pivot_table(df3,index=['site_id','jur_id','cpa_id'],columns='year_simulation', values='units_by_site').\\\n",
    "reset_index().rename_axis(None, axis=1)\n",
    "df4.fillna(0,inplace=True)\n",
    "df4[df4.columns] = df4[df4.columns].astype(int)\n",
    "df4.head()"
   ]
  },
  {
   "cell_type": "markdown",
   "metadata": {},
   "source": [
    "#### merge capacity with urbansim output units added by year"
   ]
  },
  {
   "cell_type": "code",
   "execution_count": null,
   "metadata": {},
   "outputs": [],
   "source": [
    "sp.head()"
   ]
  },
  {
   "cell_type": "code",
   "execution_count": null,
   "metadata": {},
   "outputs": [],
   "source": [
    "df5 = pd.merge(df4,sp,on='site_id')"
   ]
  },
  {
   "cell_type": "code",
   "execution_count": null,
   "metadata": {},
   "outputs": [],
   "source": [
    "len(df5)"
   ]
  },
  {
   "cell_type": "markdown",
   "metadata": {},
   "source": [
    "## merge output and capacity with capacity 1"
   ]
  },
  {
   "cell_type": "code",
   "execution_count": null,
   "metadata": {},
   "outputs": [],
   "source": [
    "df5.head()"
   ]
  },
  {
   "cell_type": "code",
   "execution_count": null,
   "metadata": {},
   "outputs": [],
   "source": [
    "cap1.head()"
   ]
  },
  {
   "cell_type": "code",
   "execution_count": null,
   "metadata": {},
   "outputs": [],
   "source": [
    "df6 = pd.merge(df5,cap1,on='site_id')"
   ]
  },
  {
   "cell_type": "code",
   "execution_count": null,
   "metadata": {},
   "outputs": [],
   "source": [
    "len(df6)"
   ]
  },
  {
   "cell_type": "markdown",
   "metadata": {},
   "source": [
    "## check urbansim output Total units and capacity units match"
   ]
  },
  {
   "cell_type": "code",
   "execution_count": null,
   "metadata": {},
   "outputs": [],
   "source": [
    "print(\"\\nCapacity: Sched dev units: {:,}\".format(df5.capacity3.sum())) "
   ]
  },
  {
   "cell_type": "code",
   "execution_count": null,
   "metadata": {},
   "outputs": [],
   "source": [
    "print(\"\\nUrbansim output: Sched dev units: {:,}\".format(df5.Total.sum())) "
   ]
  },
  {
   "cell_type": "code",
   "execution_count": null,
   "metadata": {},
   "outputs": [],
   "source": [
    "# df5.head()"
   ]
  },
  {
   "cell_type": "markdown",
   "metadata": {},
   "source": [
    "## Get sitename from scheduled_development_site"
   ]
  },
  {
   "cell_type": "markdown",
   "metadata": {},
   "source": [
    "#### get site info"
   ]
  },
  {
   "cell_type": "code",
   "execution_count": null,
   "metadata": {},
   "outputs": [],
   "source": [
    "site_sql = '''\n",
    "SELECT [siteid] as site_id\n",
    "      ,[sitename]\n",
    "      ,[startdate]\n",
    "      ,[compdate]\n",
    "      ,[city]\n",
    "  FROM [urbansim].[ref].[scheduled_development_site]'''\n",
    "site_df = pd.read_sql(site_sql, mssql_engine)\n",
    "ids = site_df[\"site_id\"]\n",
    "print(\"\\n Duplicated sites : \")\n",
    "site_df[site_df.site_id.isin(ids[site_df.site_id.duplicated()])]\n",
    "site_df_unique = site_df.drop_duplicates(subset='site_id', keep=\"last\")\n",
    "sched_site_df = pd.merge(sched_df,site_df_unique,on='site_id')"
   ]
  },
  {
   "cell_type": "code",
   "execution_count": null,
   "metadata": {},
   "outputs": [],
   "source": [
    "ref_sql = '''\n",
    "SELECT [siteid] as site_id\n",
    "      ,[sitename]\n",
    "      ,[sfu]\n",
    "      ,[mfu]\n",
    "      ,[mhu]\n",
    "      ,[source]\n",
    "      ,[infodate]\n",
    "      ,[startdate]\n",
    "      ,[compdate]\n",
    "        ,[created_us]\n",
    "      ,[created_da]\n",
    "      ,[last_edite]\n",
    "      ,[last_edi_1]\n",
    "      ,[devtypeid]\n",
    "      ,[city]\n",
    "      ,[old_siteid]\n",
    "      ,[check_]\n",
    "      ,[status]\n",
    "  FROM [urbansim].[ref].[scheduled_development_site]\n",
    "  WHERE (sfu>0 or mfu>0 or mhu>0)\n",
    "  '''\n",
    "ref = pd.read_sql(ref_sql,mssql_engine)"
   ]
  },
  {
   "cell_type": "code",
   "execution_count": null,
   "metadata": {},
   "outputs": [],
   "source": [
    "ref.loc[ref.site_id == 19002]"
   ]
  },
  {
   "cell_type": "raw",
   "metadata": {},
   "source": [
    "ref_sql = '''\n",
    "SELECT \n",
    "      [siteid] as site_id\n",
    "      ,[sitename]\n",
    "      ,[sfu]\n",
    "      ,[mfu]\n",
    "      ,[mhu]\n",
    "      ,[civgq]\n",
    "      ,[milgq]\n",
    "      ,[source]\n",
    "      ,[infodate]\n",
    "      ,[spacesqft]\n",
    "      ,[startdate]\n",
    "      ,[compdate]\n",
    "      ,[created_us]\n",
    "      ,[created_da]\n",
    "      ,[last_edite]\n",
    "      ,[last_edi_1]\n",
    "      ,[devtypeid]\n",
    "      ,[city]\n",
    "      ,[old_siteid]\n",
    "      ,[check_]\n",
    "      ,[status]\n",
    "  FROM [urbansim].[ref].[scheduled_development_site]\n",
    "  WHERE (sfu>0 or mfu>0 or mhu>0)\n",
    "  '''\n",
    "ref = pd.read_sql(ref_sql,mssql_engine)"
   ]
  },
  {
   "cell_type": "code",
   "execution_count": null,
   "metadata": {},
   "outputs": [],
   "source": [
    "ids = ref[\"site_id\"]\n",
    "print(\"\\n Duplicated sites : \")\n",
    "ref[ref.site_id.isin(ids[ref.site_id.duplicated()])]\n"
   ]
  },
  {
   "cell_type": "code",
   "execution_count": null,
   "metadata": {},
   "outputs": [],
   "source": [
    "ref = ref.drop_duplicates(subset='site_id', keep=\"last\")\n",
    "#sched_site_df = pd.merge(sched_df,site_df_unique,on='site_id')"
   ]
  },
  {
   "cell_type": "markdown",
   "metadata": {},
   "source": [
    "#### merge site ref info with units added"
   ]
  },
  {
   "cell_type": "code",
   "execution_count": null,
   "metadata": {},
   "outputs": [],
   "source": [
    "sites = pd.merge(ref,df5,on='site_id',how='outer')"
   ]
  },
  {
   "cell_type": "code",
   "execution_count": null,
   "metadata": {},
   "outputs": [],
   "source": [
    "print(\"\\nTotal sched dev sites from ref sched dev: {:,}\".format(len(sites)))"
   ]
  },
  {
   "cell_type": "markdown",
   "metadata": {},
   "source": [
    "## check differences between ref.sched dev site and capacity"
   ]
  },
  {
   "cell_type": "code",
   "execution_count": null,
   "metadata": {},
   "outputs": [],
   "source": [
    "no_cap3 = sites.loc[sites.capacity3.isnull()]\n",
    "cap3 = sites.loc[sites.capacity3>0]\n",
    "print(\"\\nTotal sites from ref sched dev with no capacity3: {:,}\".format(len(no_cap3)))\n",
    "print(\"\\nTotal sites from ref sched dev with capacity3: {:,}\".format(len(cap3)))\n",
    "print(\"\\n       Expected sites from sched dev : {:,}\".format(len(sp)))\n",
    "print(\"\\nTotal units in dataframe: {:,}\".format(sites.capacity3.sum()))\n",
    "print(\"\\n       Expected units from sched dev: {:,}\".format(total_cap3_sp))"
   ]
  },
  {
   "cell_type": "markdown",
   "metadata": {},
   "source": [
    "#### consolidate duplicate site into one site for 15035"
   ]
  },
  {
   "cell_type": "raw",
   "metadata": {},
   "source": [
    "sitename = 'San Marcos Creek District:Main Street Square,Eastgate,(residue),Promenade'\n",
    "siteid = dups.site_id.iloc[0]\n",
    "city = dups.city.iloc[0]\n",
    "source = dups.source.iloc[0]\n",
    "startdate = dups.startdate.iloc[0]\n",
    "compdate = dups.compdate.iloc[2]\n",
    "sfu = 0\n",
    "mhu = 0\n",
    "mfu = dups.mfu.sum()\n",
    "df = pd.DataFrame(data={'site_id': [siteid], 'sitename': [sitename],\\\n",
    "                        'sfu':[sfu], 'mfu':[mfu], 'mhu':[mhu], 'source': [source],\\\n",
    "                       'startdate':[startdate], 'compdate':[compdate], 'city':[city]})"
   ]
  },
  {
   "cell_type": "raw",
   "metadata": {},
   "source": [
    "ref = ref.drop(ref[ref.site_id == 15035].index)"
   ]
  },
  {
   "cell_type": "raw",
   "metadata": {},
   "source": [
    "ref = pd.concat([ref,df])"
   ]
  },
  {
   "cell_type": "markdown",
   "metadata": {},
   "source": [
    "## Merge sitenames (ref) with capacity and output of urbansim"
   ]
  },
  {
   "cell_type": "code",
   "execution_count": null,
   "metadata": {},
   "outputs": [],
   "source": [
    "sites = pd.merge(ref,df6,on='site_id',how='outer')"
   ]
  },
  {
   "cell_type": "markdown",
   "metadata": {},
   "source": [
    "## re-check differences between ref.sched dev site and capacity"
   ]
  },
  {
   "cell_type": "code",
   "execution_count": null,
   "metadata": {},
   "outputs": [],
   "source": [
    "print(\"\\nTotal sched dev sites from ref sched dev: {:,}\".format(len(ref)))"
   ]
  },
  {
   "cell_type": "code",
   "execution_count": null,
   "metadata": {},
   "outputs": [],
   "source": [
    "no_cap3 = sites.loc[sites.capacity3.isnull()]\n",
    "cap3 = sites.loc[sites.capacity3>0]\n",
    "print(\"\\nTotal sites from ref sched dev with no capacity3: {:,}\".format(len(no_cap3)))\n",
    "print(\"\\nTotal sites from ref sched dev with capacity3: {:,}\".format(len(cap3)))\n",
    "print(\"\\n       Expected sites from sched dev : {:,}\".format(len(sp)))\n",
    "print(\"\\nTotal units in dataframe: {:,}\".format(sites.capacity3.sum()))\n",
    "print(\"\\n       Expected units from sched dev: {:,}\".format(total_cap3_sp))"
   ]
  },
  {
   "cell_type": "markdown",
   "metadata": {},
   "source": [
    "## Add cpa names to dataframe"
   ]
  },
  {
   "cell_type": "code",
   "execution_count": null,
   "metadata": {},
   "outputs": [],
   "source": [
    "#update to jcpa view\n",
    "cocpa_names_sql = '''\n",
    "    SELECT zone as cocpa_id, name as cocpa\n",
    "    FROM data_cafe.ref.geography_zone WHERE geography_type_id = 20'''\n",
    "cocpa_names = pd.read_sql(cocpa_names_sql, mssql_engine)\n",
    "cicpa_names_sql = '''\n",
    "    SELECT zone as cicpa_id, name as cicpa\n",
    "    FROM data_cafe.ref.geography_zone WHERE geography_type_id = 15'''\n",
    "cicpa_names = pd.read_sql(cicpa_names_sql, mssql_engine)"
   ]
  },
  {
   "cell_type": "code",
   "execution_count": null,
   "metadata": {},
   "outputs": [],
   "source": [
    "sites = pd.merge(sites,cocpa_names,left_on='cpa_id',right_on='cocpa_id',how='left')"
   ]
  },
  {
   "cell_type": "code",
   "execution_count": null,
   "metadata": {},
   "outputs": [],
   "source": [
    "sites = pd.merge(sites,cicpa_names,left_on='cpa_id',right_on='cicpa_id',how='left')"
   ]
  },
  {
   "cell_type": "code",
   "execution_count": null,
   "metadata": {},
   "outputs": [],
   "source": [
    "sites['cityorcpa'] = sites.cocpa.combine_first(sites.cicpa)\n",
    "sites['cityorcpa'] = sites.cityorcpa.combine_first(sites.city)"
   ]
  },
  {
   "cell_type": "code",
   "execution_count": null,
   "metadata": {},
   "outputs": [],
   "source": [
    "sites.drop(['cocpa_id','cocpa', 'cicpa_id', 'cicpa'], axis=1,inplace=True)"
   ]
  },
  {
   "cell_type": "code",
   "execution_count": null,
   "metadata": {},
   "outputs": [],
   "source": [
    "#sites.columns[2:6]"
   ]
  },
  {
   "cell_type": "markdown",
   "metadata": {},
   "source": [
    "#### change datatype from float to int for years and units"
   ]
  },
  {
   "cell_type": "code",
   "execution_count": null,
   "metadata": {},
   "outputs": [],
   "source": [
    "sites.fillna(0,inplace=True)\n",
    "#yr_columns = sites.columns[9:47]\n",
    "#mfu_columns = sites.columns[2:6]\n",
    "#sites[yr_columns] = sites[yr_columns].astype(int)\n",
    "#sites[mfu_columns] = sites[mfu_columns].astype(int)\n",
    "\n",
    "sites.loc[sites.startdate==0, 'startdate'] = np.nan\n",
    "sites.loc[sites.compdate==0, 'compdate'] = np.nan"
   ]
  },
  {
   "cell_type": "markdown",
   "metadata": {},
   "source": [
    "## write to csv"
   ]
  },
  {
   "cell_type": "code",
   "execution_count": null,
   "metadata": {},
   "outputs": [],
   "source": [
    "run_id"
   ]
  },
  {
   "cell_type": "code",
   "execution_count": null,
   "metadata": {},
   "outputs": [],
   "source": [
    "fileout = 'sched_dev_sites_run_' + str(run_id) + '.csv'\n",
    "print(fileout)"
   ]
  },
  {
   "cell_type": "code",
   "execution_count": null,
   "metadata": {},
   "outputs": [],
   "source": [
    "sites.to_csv(fileout)\n"
   ]
  },
  {
   "cell_type": "code",
   "execution_count": null,
   "metadata": {},
   "outputs": [],
   "source": [
    "yrs_per_site = pd.DataFrame({'count_yrs': df3.groupby('site_id').year_simulation.count()}).reset_index()"
   ]
  },
  {
   "cell_type": "code",
   "execution_count": null,
   "metadata": {},
   "outputs": [],
   "source": [
    "csv_name = 'years_per_site_run_{}.csv'.format(run_id)"
   ]
  },
  {
   "cell_type": "code",
   "execution_count": null,
   "metadata": {},
   "outputs": [],
   "source": [
    "yrs_per_site.to_csv(csv_name)"
   ]
  },
  {
   "cell_type": "code",
   "execution_count": null,
   "metadata": {},
   "outputs": [],
   "source": []
  }
 ],
 "metadata": {
  "kernelspec": {
   "display_name": "Python 3",
   "language": "python",
   "name": "python3"
  },
  "language_info": {
   "codemirror_mode": {
    "name": "ipython",
    "version": 3
   },
   "file_extension": ".py",
   "mimetype": "text/x-python",
   "name": "python",
   "nbconvert_exporter": "python",
   "pygments_lexer": "ipython3",
   "version": "3.6.4"
  }
 },
 "nbformat": 4,
 "nbformat_minor": 2
}
