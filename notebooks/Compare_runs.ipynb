{
 "cells": [
  {
   "cell_type": "code",
   "execution_count": null,
   "metadata": {},
   "outputs": [],
   "source": [
    "# append path to find utils module in urbansim\n",
    "import os \n",
    "import sys\n",
    "cwd = os.getcwd() \n",
    "parentdir =  os.path.abspath(os.path.join(cwd, os.pardir))\n",
    "sys.path.append(parentdir) # to get path to utils module"
   ]
  },
  {
   "cell_type": "code",
   "execution_count": null,
   "metadata": {},
   "outputs": [],
   "source": [
    "from sqlalchemy import create_engine\n",
    "# from pysandag.database import get_connection_string\n",
    "from database import get_connection_string\n",
    "import pandas as pd\n",
    "import folium"
   ]
  },
  {
   "cell_type": "code",
   "execution_count": null,
   "metadata": {},
   "outputs": [],
   "source": [
    "import matplotlib.pyplot as plt\n",
    "%matplotlib inline"
   ]
  },
  {
   "cell_type": "code",
   "execution_count": null,
   "metadata": {},
   "outputs": [],
   "source": [
    "db_connection_string = get_connection_string('..\\data\\config.yml', 'mssql_db')\n",
    "mssql_engine = create_engine(db_connection_string)"
   ]
  },
  {
   "cell_type": "markdown",
   "metadata": {},
   "source": [
    "# Compare outputs"
   ]
  },
  {
   "cell_type": "markdown",
   "metadata": {},
   "source": [
    "#### Get max run id"
   ]
  },
  {
   "cell_type": "code",
   "execution_count": null,
   "metadata": {},
   "outputs": [],
   "source": [
    "# get max run id from urbansim\n",
    "run_id_sql = '''\n",
    "SELECT max(run_id)\n",
    "  FROM [urbansim].[urbansim].[urbansim_lite_output]\n",
    "'''\n",
    "run_id_df = pd.read_sql(run_id_sql, mssql_engine)\n",
    "max_run_id = int(run_id_df.values)\n",
    "print(\"\\n Max Run id : {:,}\".format(max_run_id))"
   ]
  },
  {
   "cell_type": "markdown",
   "metadata": {},
   "source": [
    "### specify run_id either max run id or number"
   ]
  },
  {
   "cell_type": "code",
   "execution_count": null,
   "metadata": {},
   "outputs": [],
   "source": [
    "run_id = max_run_id\n",
    "run_id = 397"
   ]
  },
  {
   "cell_type": "code",
   "execution_count": null,
   "metadata": {},
   "outputs": [],
   "source": [
    "print(\"\\n   Run id : {:,}\".format(run_id))\n",
    "hs_change_sql = '''\n",
    "    SELECT  o.parcel_id, jcpa, capacity_type, source, unit_change, year_simulation,\n",
    "     COALESCE(cocpa_2016_name,cicpa_13_name,jurisdiction_2016_name) AS jcpa_name\n",
    "      FROM urbansim.urbansim.urbansim_lite_output o\n",
    "      JOIN [urbansim].[ref].[vi_parcel_xref] x\n",
    "      ON o.parcel_id = x.parcel_id\n",
    "     WHERE run_id =  %s\n",
    "     ORDER BY year_simulation,parcel_id,jcpa,capacity_type,source\n",
    "     '''\n",
    "hs_change_sql = hs_change_sql % run_id\n",
    "current_hs = pd.read_sql(hs_change_sql,mssql_engine)"
   ]
  },
  {
   "cell_type": "markdown",
   "metadata": {},
   "source": [
    "### specify run_id to compare. max run id minus 1 or specify number"
   ]
  },
  {
   "cell_type": "code",
   "execution_count": null,
   "metadata": {},
   "outputs": [],
   "source": [
    "run_id2 = run_id - 1\n",
    "run_id2 = 390\n",
    "# note run_id 133 matches 138"
   ]
  },
  {
   "cell_type": "code",
   "execution_count": null,
   "metadata": {},
   "outputs": [],
   "source": [
    "print(\"\\n   Previous run id : {:,}\".format(run_id2))\n",
    "hs_change_sql = '''\n",
    "    SELECT o.parcel_id, jcpa, capacity_type, source, unit_change, year_simulation,\n",
    "     COALESCE(cocpa_2016_name,cicpa_13_name,jurisdiction_2016_name) AS jcpa_name\n",
    "      FROM urbansim.urbansim.urbansim_lite_output o\n",
    "      JOIN [urbansim].[ref].[vi_parcel_xref] x\n",
    "      ON o.parcel_id = x.parcel_id\n",
    "     WHERE run_id =  %s\n",
    "     ORDER BY year_simulation,parcel_id,jcpa,capacity_type,source\n",
    "      '''\n",
    "hs_change_sql = hs_change_sql % run_id2\n",
    "previous_hs = pd.read_sql(hs_change_sql,mssql_engine)"
   ]
  },
  {
   "cell_type": "code",
   "execution_count": null,
   "metadata": {},
   "outputs": [],
   "source": [
    "print(\"\\nDo the simulations produce the same results?\")\n",
    "print(current_hs.equals(previous_hs))"
   ]
  },
  {
   "cell_type": "markdown",
   "metadata": {},
   "source": [
    "## test one cpa"
   ]
  },
  {
   "cell_type": "code",
   "execution_count": null,
   "metadata": {},
   "outputs": [],
   "source": [
    "#prev1447 = previous_hs.loc[previous_hs.jcpa==1447]\n",
    "#cur1447 = current_hs.loc[current_hs.jcpa==1447]\n",
    "#compare_1447 = pd.merge(prev1447,cur1447,on=['parcel_id','capacity_type','source','year_simulation','jcpa_name'])\n",
    "#compare_1447['diff'] = compare_1447['unit_change_x'] - compare_1447['unit_change_y']\n",
    "#compare_1447.loc[compare_1447['diff']!=0]"
   ]
  },
  {
   "cell_type": "markdown",
   "metadata": {},
   "source": [
    "## data for plotting"
   ]
  },
  {
   "cell_type": "code",
   "execution_count": null,
   "metadata": {},
   "outputs": [],
   "source": [
    "current = pd.DataFrame({'hs_sum': current_hs.groupby(['jcpa','year_simulation','jcpa_name']).\\\n",
    "                            unit_change.sum()}).reset_index()"
   ]
  },
  {
   "cell_type": "code",
   "execution_count": null,
   "metadata": {},
   "outputs": [],
   "source": [
    "previous = pd.DataFrame({'hs_sum': previous_hs.groupby(['jcpa','year_simulation','jcpa_name']).\\\n",
    "                            unit_change.sum()}).reset_index()"
   ]
  },
  {
   "cell_type": "code",
   "execution_count": null,
   "metadata": {},
   "outputs": [],
   "source": [
    "#current.loc[current.jcpa==1447]"
   ]
  },
  {
   "cell_type": "code",
   "execution_count": null,
   "metadata": {},
   "outputs": [],
   "source": [
    "compare_df = current.merge(previous, on=['jcpa','jcpa_name','year_simulation'], how='outer',suffixes=['_current','_previous'])"
   ]
  },
  {
   "cell_type": "code",
   "execution_count": null,
   "metadata": {},
   "outputs": [],
   "source": [
    "compare_df.loc[compare_df.jcpa==1447]"
   ]
  },
  {
   "cell_type": "code",
   "execution_count": null,
   "metadata": {},
   "outputs": [],
   "source": [
    "compare_df.set_index('jcpa',inplace=True)\n",
    "compare_df.set_index(['year_simulation'],append=True,inplace=True)\n",
    "compare_df.set_index(['jcpa_name'],append=True,inplace=True)"
   ]
  },
  {
   "cell_type": "code",
   "execution_count": null,
   "metadata": {},
   "outputs": [],
   "source": [
    "#compare_df.head()"
   ]
  },
  {
   "cell_type": "code",
   "execution_count": null,
   "metadata": {},
   "outputs": [],
   "source": [
    "# fill in zero for years w no change"
   ]
  },
  {
   "cell_type": "code",
   "execution_count": null,
   "metadata": {},
   "outputs": [],
   "source": [
    "idx = range(2017,2051)\n",
    "compare_df = compare_df.unstack(['jcpa','jcpa_name'])\n",
    "compare_df = compare_df.reindex(idx, fill_value=0)\n",
    "compare_df.fillna(0,inplace=True)\n",
    "compare_df = compare_df.stack(['jcpa','jcpa_name'])\n",
    "compare_df.reset_index(inplace=True)"
   ]
  },
  {
   "cell_type": "code",
   "execution_count": null,
   "metadata": {},
   "outputs": [],
   "source": [
    "# cumulative sum\n",
    "compare_df['hs_current'] = compare_df.groupby(compare_df.jcpa)['hs_sum_current'].cumsum()\n",
    "compare_df['hs_previous'] = compare_df.groupby(compare_df.jcpa)['hs_sum_previous'].cumsum()"
   ]
  },
  {
   "cell_type": "code",
   "execution_count": null,
   "metadata": {},
   "outputs": [],
   "source": [
    "# c2 =  compare_df.loc[compare_df.jcpa.isin([1,2,3])][['jcpa','jcpa_name','year_simulation','hs_current','hs_previous']].copy()\n",
    "c2 =  compare_df[['jcpa','jcpa_name','year_simulation','hs_current','hs_previous']].copy()"
   ]
  },
  {
   "cell_type": "code",
   "execution_count": null,
   "metadata": {},
   "outputs": [],
   "source": [
    "#c2.head()\n"
   ]
  },
  {
   "cell_type": "code",
   "execution_count": null,
   "metadata": {},
   "outputs": [],
   "source": [
    "#c2.loc[c2.jcpa==1447]"
   ]
  },
  {
   "cell_type": "code",
   "execution_count": null,
   "metadata": {},
   "outputs": [],
   "source": [
    "dirname = os.path.join(os.getcwd(),'plots/run' + str(run_id) + '_' + str(run_id2))\n",
    "try:\n",
    "    os.stat(dirname)\n",
    "except:\n",
    "    os.mkdir(dirname)  \n",
    "print(dirname)"
   ]
  },
  {
   "cell_type": "code",
   "execution_count": null,
   "metadata": {},
   "outputs": [],
   "source": [
    "from matplotlib.backends.backend_pdf import PdfPages\n",
    "pdfplotname = dirname +  '//' + 'compare_runs_'  + str(run_id) + '_' + str(run_id2) + '.pdf'\n",
    "# pp = PdfPages(pdfplotname)\n",
    "pp = PdfPages(pdfplotname)\n",
    "\n",
    "for jcpa in set(c2['jcpa']): \n",
    "    plotjcpa = c2[c2['jcpa']==jcpa].copy()\n",
    "    jcpa_name = plotjcpa['jcpa_name'].iloc[0]\n",
    "    jcpa_name_ = jcpa_name.replace(\":\", \"_\")\n",
    "    plotjcpa.drop(['jcpa','jcpa_name'], axis=1,inplace=True)\n",
    "    plotjcpa.plot(x='year_simulation',title ='%s jcpa=%d'% (jcpa_name,jcpa))\n",
    "    plotname = dirname + '//' + 'compare_runs_' + str(jcpa) + '_' + jcpa_name_ + '.png'\n",
    "    \n",
    "    pp.savefig()\n",
    "    plt.show()\n",
    "    plt.clf()\n",
    "    # pp.savefig(pdfplotname, dpi = 300, transparent = True)\n",
    "pp.close()   "
   ]
  },
  {
   "cell_type": "raw",
   "metadata": {},
   "source": [
    "# as figures\n",
    "for jcpa in set(c2['jcpa']): \n",
    "    plotjcpa = c2[c2['jcpa']==jcpa].copy()\n",
    "    jcpa_name = plotjcpa['jcpa_name'].iloc[0]\n",
    "    jcpa_name_ = jcpa_name.replace(\":\", \"_\")\n",
    "    plotjcpa.drop(['jcpa','jcpa_name'], axis=1,inplace=True)\n",
    "    plotjcpa.plot(x='year_simulation',title ='%s jcpa=%d'% (jcpa_name,jcpa))\n",
    "    plotname = dirname + '//' + 'compare_runs_' + str(jcpa) + '_' + jcpa_name_ + '.png'\n",
    "    plt.savefig(plotname)\n",
    "    plt.show()\n",
    "   \n",
    "    plt.clf()"
   ]
  },
  {
   "cell_type": "markdown",
   "metadata": {},
   "source": [
    "### testing to find duplicated parcel ids"
   ]
  },
  {
   "cell_type": "code",
   "execution_count": null,
   "metadata": {},
   "outputs": [],
   "source": [
    "ids = current_hs['parcel_id']"
   ]
  },
  {
   "cell_type": "code",
   "execution_count": null,
   "metadata": {},
   "outputs": [],
   "source": [
    "current_hs[ids.isin(ids[ids.duplicated()])].sort_values(by=\"parcel_id\")"
   ]
  },
  {
   "cell_type": "markdown",
   "metadata": {},
   "source": [
    "## Number of Parcels"
   ]
  },
  {
   "cell_type": "code",
   "execution_count": null,
   "metadata": {},
   "outputs": [],
   "source": [
    "parcel_change_sql = '''\n",
    "    Select count(o.parcel_id) as parcels_modified, jcpa, year_simulation\n",
    "    FROM urbansim.urbansim.urbansim_lite_output o\n",
    "    JOIN [urbansim].[ref].[vi_parcel_xref] x\n",
    "    ON o.parcel_id = x.parcel_id\n",
    "    WHERE run_id =  %s\n",
    "    group by year_simulation, jcpa\n",
    "    order BY year_simulation, jcpa\n",
    "    '''\n",
    "parcel_change_sql = parcel_change_sql % run_id2\n",
    "previous_parcels = pd.read_sql(parcel_change_sql,mssql_engine)"
   ]
  },
  {
   "cell_type": "code",
   "execution_count": null,
   "metadata": {},
   "outputs": [],
   "source": [
    "parcel_change_sql = '''\n",
    "    Select count(o.parcel_id) as parcels_modified, jcpa, year_simulation\n",
    "    FROM urbansim.urbansim.urbansim_lite_output o\n",
    "    JOIN [urbansim].[ref].[vi_parcel_xref] x\n",
    "    ON o.parcel_id = x.parcel_id\n",
    "    WHERE run_id =  %s\n",
    "    group by year_simulation, jcpa\n",
    "    order BY year_simulation, jcpa\n",
    "    '''\n",
    "parcel_change_sql = parcel_change_sql % run_id\n",
    "current_parcels = pd.read_sql(parcel_change_sql,mssql_engine)"
   ]
  },
  {
   "cell_type": "code",
   "execution_count": null,
   "metadata": {},
   "outputs": [],
   "source": [
    "compare_parcels_df = current_parcels.merge(previous_parcels, on=['jcpa','year_simulation'],suffixes=['_current','_previous'])\n",
    "#compare_parcels_df.set_index('jcpa',inplace=True)\n",
    "#compare_parcels_df.set_index(['year_simulation'],append=True,inplace=True)\n",
    "#compare_parcels_df"
   ]
  },
  {
   "cell_type": "code",
   "execution_count": null,
   "metadata": {},
   "outputs": [],
   "source": [
    "pdfplotname = dirname +  '//' + 'compare_parcels_'  + str(run_id) + '_' + str(run_id2) + '.pdf'\n",
    "# pp = PdfPages(pdfplotname)\n",
    "pp = PdfPages(pdfplotname)\n",
    "\n",
    "for jcpa in set(compare_parcels_df['jcpa']): \n",
    "    plotjcpa = compare_parcels_df[compare_parcels_df['jcpa']==jcpa].copy()\n",
    "    plotjcpa.drop(['jcpa'], axis=1,inplace=True)\n",
    "    plotjcpa.plot(x='year_simulation',title ='jcpa=%d'% (jcpa))\n",
    "    plotname = dirname + '//' + 'compare_runs_' + str(jcpa) + '.png'\n",
    "    \n",
    "    pp.savefig()\n",
    "    plt.show()\n",
    "    plt.clf()\n",
    "    # pp.savefig(pdfplotname, dpi = 300, transparent = True)\n",
    "pp.close()   "
   ]
  },
  {
   "cell_type": "markdown",
   "metadata": {},
   "source": [
    "# Map it"
   ]
  },
  {
   "cell_type": "code",
   "execution_count": null,
   "metadata": {},
   "outputs": [],
   "source": [
    "m = folium.Map(location=[32.7157,  -117.1611])\n",
    "m"
   ]
  },
  {
   "cell_type": "code",
   "execution_count": null,
   "metadata": {},
   "outputs": [],
   "source": []
  }
 ],
 "metadata": {
  "kernelspec": {
   "display_name": "Python 3",
   "language": "python",
   "name": "python3"
  },
  "language_info": {
   "codemirror_mode": {
    "name": "ipython",
    "version": 3
   },
   "file_extension": ".py",
   "mimetype": "text/x-python",
   "name": "python",
   "nbconvert_exporter": "python",
   "pygments_lexer": "ipython3",
   "version": "3.6.4"
  }
 },
 "nbformat": 4,
 "nbformat_minor": 2
}
