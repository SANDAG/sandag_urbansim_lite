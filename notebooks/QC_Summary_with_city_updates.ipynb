{
 "cells": [
  {
   "cell_type": "markdown",
   "metadata": {},
   "source": [
    "# Subregional QC: Target units and Capacity "
   ]
  },
  {
   "cell_type": "markdown",
   "metadata": {},
   "source": [
    "#### load packages and connect to database"
   ]
  },
  {
   "cell_type": "code",
   "execution_count": null,
   "metadata": {},
   "outputs": [],
   "source": [
    "# append path to find utils module in urbansim\n",
    "import os \n",
    "import sys\n",
    "cwd = os.getcwd() \n",
    "parentdir =  os.path.abspath(os.path.join(cwd, os.pardir))\n",
    "sys.path.append(parentdir) # to get path to utils module"
   ]
  },
  {
   "cell_type": "code",
   "execution_count": null,
   "metadata": {},
   "outputs": [],
   "source": [
    "from sqlalchemy import create_engine\n",
    "from database import get_connection_string\n",
    "import pandas as pd\n",
    "import numpy as np\n",
    "import utils\n",
    "import matplotlib.pyplot as plt\n",
    "%matplotlib inline"
   ]
  },
  {
   "cell_type": "code",
   "execution_count": null,
   "metadata": {},
   "outputs": [],
   "source": [
    "# connect to database and get version ids\n",
    "db_connection_string = get_connection_string('..\\data\\config.yml', 'mssql_db')\n",
    "mssql_engine = create_engine(db_connection_string)\n",
    "versions = utils.yaml_to_dict('../data/scenario_config.yaml', 'scenario')"
   ]
  },
  {
   "cell_type": "markdown",
   "metadata": {},
   "source": [
    "# Get Capacities"
   ]
  },
  {
   "cell_type": "markdown",
   "metadata": {},
   "source": [
    "##### from urbansim.parcel"
   ]
  },
  {
   "cell_type": "code",
   "execution_count": null,
   "metadata": {},
   "outputs": [],
   "source": [
    "parcel_capacity_sql = '''\n",
    "    SELECT [parcel_id],[jurisdiction_id],[cap_jurisdiction_id],[site_id],\n",
    "           [du_2015],[du_2017],[capacity_1],[capacity_2]\n",
    "      FROM [urbansim].[urbansim].[parcel]'''\n",
    "capacity_df = pd.read_sql(parcel_capacity_sql,mssql_engine)\n",
    "# ([site_id] IS NULL or site_id = 15008)\n",
    "urbansim_parcel_capacity = int( capacity_df.loc[((capacity_df.site_id.isnull()) |\\\n",
    "                                                 (capacity_df.site_id==15008 ))].capacity_2.sum())\n",
    "print(\"\\nCapacity from urbansim.parcel where site id is null: {:,}\".format(urbansim_parcel_capacity))\n",
    "# 291,989\n",
    "# 291,712\n",
    "# 298,541"
   ]
  },
  {
   "cell_type": "code",
   "execution_count": null,
   "metadata": {},
   "outputs": [],
   "source": [
    "# SQL statement for parcels with additional (SGOA and ADU) capacity.\n",
    "city_update_sql = '''\n",
    "SELECT a.[parcel_id],[jurisdiction_id],[cap_jurisdiction_id],[site_id],\n",
    "           [du_2015],[du_2017],[capacity_1],a.[du] AS capacity_2\n",
    "FROM [urbansim].[urbansim].[additional_capacity] AS a\n",
    "JOIN [urbansim].[parcel] AS p \n",
    "ON p.[parcel_id] = a.[parcel_id]\n",
    "WHERE [version_id] = %s and type ='upd'\n",
    "ORDER BY a.[parcel_id]\n",
    "'''\n",
    "city_update_sql = city_update_sql % versions['additional_capacity_version']\n",
    "city_update_df = pd.read_sql(city_update_sql, mssql_engine)\n",
    "city_update_df['site_id'] = city_update_df.site_id.astype(float)\n",
    "# city_update_df.set_index('parcel_id',inplace=True)"
   ]
  },
  {
   "cell_type": "code",
   "execution_count": null,
   "metadata": {},
   "outputs": [],
   "source": [
    "city_update_df.capacity_2.sum()"
   ]
  },
  {
   "cell_type": "raw",
   "metadata": {},
   "source": [
    "City Capacity Increase \n",
    "8802.00 Clairemont Mesa\n",
    "3219.00 Linda Vista (Morena Station) \n",
    "15656.00 Mission Valley\n",
    "3852.00 Pacific Beach (Balboa Station)\n",
    "39928.00 Kearny Mesa\n",
    "\n",
    "sum = 71457\n"
   ]
  },
  {
   "cell_type": "code",
   "execution_count": null,
   "metadata": {},
   "outputs": [],
   "source": [
    "capacity_df.loc[capacity_df.parcel_id == 5282707]"
   ]
  },
  {
   "cell_type": "code",
   "execution_count": null,
   "metadata": {},
   "outputs": [],
   "source": [
    "#capacity_df.set_index('parcel_id',inplace=True)\n",
    "#capacity_df.update(city_update_df)\n",
    "#capacity_df.reset_index(inplace=True)"
   ]
  },
  {
   "cell_type": "code",
   "execution_count": null,
   "metadata": {},
   "outputs": [],
   "source": [
    "capacity_df = pd.concat([capacity_df,city_update_df],sort=False).drop_duplicates(['parcel_id'],keep='last').sort_values('parcel_id')\n"
   ]
  },
  {
   "cell_type": "code",
   "execution_count": null,
   "metadata": {},
   "outputs": [],
   "source": [
    "capacity_df.loc[capacity_df.parcel_id == 131043]"
   ]
  },
  {
   "cell_type": "code",
   "execution_count": null,
   "metadata": {},
   "outputs": [],
   "source": [
    "# urbansim_parcel_capacity = int(capacity_df.loc[capacity_df.site_id.isnull()].capacity_2.sum())\n",
    "urbansim_parcel_capacity = int( capacity_df.loc[((capacity_df.site_id.isnull()) |\\\n",
    "                                                 (capacity_df.site_id==15008 ) |\\\n",
    "                                                (capacity_df.parcel_id == 5637) )].capacity_2.sum())\n",
    "print(\"\\nCapacity from urbansim.parcel where site id is null: {:,}\".format(urbansim_parcel_capacity))\n",
    "# 359,195\n",
    "# 364,413"
   ]
  },
  {
   "cell_type": "code",
   "execution_count": null,
   "metadata": {},
   "outputs": [],
   "source": [
    "# net difference in capacity since lost previous capacity_2 \n",
    "364413-298541"
   ]
  },
  {
   "cell_type": "markdown",
   "metadata": {},
   "source": [
    "##### from urbansim.additional_capacity"
   ]
  },
  {
   "cell_type": "code",
   "execution_count": null,
   "metadata": {},
   "outputs": [],
   "source": [
    "assigned_parcel_sql = '''\n",
    "SELECT  a.parcel_id, cap_jurisdiction_id, jurisdiction_id, a.du, a.type\n",
    "   FROM [urbansim].[urbansim].[additional_capacity] a\n",
    "   JOIN urbansim.parcel p on p.parcel_id = a.parcel_id\n",
    "  WHERE version_id = %s and type !='upd' '''\n",
    "assigned_parcel_sql = assigned_parcel_sql % versions['additional_capacity_version']\n",
    "assigned_df = pd.read_sql(assigned_parcel_sql, mssql_engine)\n",
    "assigned_capacity = int(assigned_df.du.sum())\n",
    "print(\"\\nCapacity from urbansim.additional_capacity (ADU and SGOAs): {:,}\".format(assigned_capacity))\n",
    "assigned_df.type.unique()\n",
    "sgoa_assigned = assigned_df.loc[assigned_df.type.isin(['mc', 'tco', 'uc', 'tc','cc'])]\n",
    "adu_assigned  = assigned_df.loc[assigned_df.type=='adu']\n",
    "sgoa_assigned_capacity = int(sgoa_assigned.du.sum())\n",
    "adu_assigned_capacity = int(adu_assigned.du.sum())\n",
    "print(\"\\n      Capacity from sgoa: {:,}\".format(sgoa_assigned_capacity))\n",
    "print(\"\\n      Capacity from adu: {:,}\".format(adu_assigned_capacity))\n",
    "# adus in city of san diego, chula vista, oceanside, el cajon\n",
    "starting_2019_adu = assigned_df.loc[(assigned_df.cap_jurisdiction_id.isin([14,2,12,5])) &\\\n",
    "                                    (assigned_df.type=='adu')]\n",
    "adu_2019_assigned_capacity = int(starting_2019_adu.du.sum())\n",
    "print(\"\\n                 note: 2019 to 2035 adu: {:,} \\\n",
    "(city of san diego, chula vista, oceanside, el cajon)\".format(adu_2019_assigned_capacity))\n",
    "# 5316\n",
    "# 136,158\n",
    "# 138,035\n",
    "# 163,035\n",
    "# 81,677 (58,534 sgoa & 23,143 adu)\n",
    "# 37,574 (18,017 sgoa & 19,557 adu)"
   ]
  },
  {
   "cell_type": "markdown",
   "metadata": {},
   "source": [
    "##### from \"urbansim.scheduled_development_parcel\" & \"urbansim.urbansim.scheduled_development_priority\""
   ]
  },
  {
   "cell_type": "code",
   "execution_count": null,
   "metadata": {},
   "outputs": [],
   "source": [
    "sched_dev_parcel_sql = '''\n",
    "SELECT [capacity_3] FROM [urbansim].[urbansim].[scheduled_development_parcel]'''\n",
    "sched_dev_df = pd.read_sql(sched_dev_parcel_sql, mssql_engine)\n",
    "sched_dev_capacity = int(sched_dev_df.capacity_3.sum())\n",
    "print(\"\\nScheduled development capacity from urbansim.scheduled_development_parcel : {:,}\".\\\n",
    "      format(sched_dev_capacity))\n",
    "sched_dev_do_not_use_sql = '''\n",
    "SELECT [sched_version_id],s.[parcel_id],p.cap_jurisdiction_id,s.[site_id],[capacity_3]\n",
    "  FROM [urbansim].[urbansim].[scheduled_development_priority] s\n",
    "  JOIN urbansim.urbansim.parcel p ON p.parcel_id = s.parcel_id\n",
    "  WHERE sched_version_id = %s'''\n",
    "sched_dev_do_not_use_sql = sched_dev_do_not_use_sql % versions['sched_dev_version']\n",
    "site_do_not_use = pd.read_sql(sched_dev_do_not_use_sql,mssql_engine)\n",
    "sched_dev_capacity_do_not_use = int(site_do_not_use.capacity_3.sum())\n",
    "print(\"\\nScheduled developments from scheduled_development_priority: {:,}\".format(sched_dev_capacity_do_not_use))\n",
    "# 78,976"
   ]
  },
  {
   "cell_type": "markdown",
   "metadata": {},
   "source": [
    "# Get target housing units"
   ]
  },
  {
   "cell_type": "markdown",
   "metadata": {},
   "source": [
    "##### urbansim.urbansim_target_housing_units"
   ]
  },
  {
   "cell_type": "code",
   "execution_count": null,
   "metadata": {},
   "outputs": [],
   "source": [
    "units_needed_sql = '''\n",
    "SELECT [yr], [version_id], [housing_units_add]\n",
    "  FROM [urbansim].[urbansim].[urbansim_target_housing_units]\n",
    "  WHERE version_id = %s'''\n",
    "units_needed_sql = units_needed_sql % versions['target_housing_units_version']\n",
    "units_needed_df =  pd.read_sql(units_needed_sql, mssql_engine)\n",
    "units_needed_df['total_housing_units_add'] = units_needed_df['housing_units_add'].cumsum()\n",
    "units_needed = int(sum(units_needed_df.housing_units_add))\n",
    "print(\"\\n  Target units to add : {:,}\\n\\\n",
    "      (from urbansim.urbansim_target_housing_units version id {:})\".\\\n",
    "      format(units_needed,versions['target_housing_units_version']))\n",
    "# 468,866\n",
    "# 534,000"
   ]
  },
  {
   "cell_type": "code",
   "execution_count": null,
   "metadata": {},
   "outputs": [],
   "source": [
    "#units_needed_df.to_csv('test2.csv')"
   ]
  },
  {
   "cell_type": "markdown",
   "metadata": {},
   "source": [
    "## Total Capacity & Remaining Capacity"
   ]
  },
  {
   "cell_type": "code",
   "execution_count": null,
   "metadata": {},
   "outputs": [],
   "source": [
    "total_capacity = urbansim_parcel_capacity + assigned_capacity + sched_dev_capacity\n",
    "print(\"\\n\\nTotal Capacity: {:,}\\n\".format(total_capacity))\n",
    "print(\"       = {:,} (urbansim.parcel) + {:,} (sched dev) + {:,} (assigned capacity) \\n\".\\\n",
    "      format(urbansim_parcel_capacity,sched_dev_capacity,assigned_capacity))\n",
    "print(\"            ({:,} urbansim.parcel and sched dev only)\\n\".format(urbansim_parcel_capacity+sched_dev_capacity))\n",
    "remaining_capacity = total_capacity - units_needed\n",
    "print(\"\\n Remaining capacity 2050: {:,}\\n       = {:,} capacity - {:,} units needed\\n\".\\\n",
    "format(remaining_capacity,total_capacity,units_needed))\n",
    "# 507,123\n",
    "# 509,000\n",
    "# 452,365\n",
    "# compare to 364,374 capacity previously"
   ]
  },
  {
   "cell_type": "markdown",
   "metadata": {},
   "source": [
    "# Output of simulation "
   ]
  },
  {
   "cell_type": "markdown",
   "metadata": {},
   "source": [
    "##### from urbansim.urbansim_lite_output - get latest run id"
   ]
  },
  {
   "cell_type": "code",
   "execution_count": null,
   "metadata": {},
   "outputs": [],
   "source": [
    "# get max run id from urbansim\n",
    "run_id_sql = '''\n",
    "SELECT max(run_id)\n",
    "  FROM [urbansim].[urbansim].[urbansim_lite_output]\n",
    "'''\n",
    "run_id_df = pd.read_sql(run_id_sql, mssql_engine)\n",
    "run_id = int(run_id_df.values)\n",
    "\n",
    "print(\"\\n   Max run id : {:,}\".format(run_id))"
   ]
  },
  {
   "cell_type": "code",
   "execution_count": null,
   "metadata": {},
   "outputs": [],
   "source": [
    "hs_change_sql = '''\n",
    "    SELECT j.name, i.jur_id,\n",
    "    sum(unit_change) as hs_change, capacity_type\n",
    "      FROM urbansim.urbansim.urbansim_lite_output o \n",
    "      JOIN [isam].[xpef04].[parcel2015_mgra_jur_cpa] i on i.parcel_id = o.parcel_id\n",
    "      JOIN urbansim.ref.jurisdiction j on i.jur_id = j.jurisdiction_id\n",
    "     WHERE run_id =  %s and i = 1\n",
    "     GROUP BY j.name,i.jur_id,capacity_type\n",
    "      ORDER BY j.name,i.jur_id'''\n",
    "hs_change_sql = hs_change_sql % run_id\n",
    "hs = pd.read_sql(hs_change_sql,mssql_engine)"
   ]
  },
  {
   "cell_type": "code",
   "execution_count": null,
   "metadata": {},
   "outputs": [],
   "source": [
    "#hs.head()"
   ]
  },
  {
   "cell_type": "markdown",
   "metadata": {},
   "source": [
    "### compare units added in subregional to capacities"
   ]
  },
  {
   "cell_type": "code",
   "execution_count": null,
   "metadata": {},
   "outputs": [],
   "source": [
    "units_added = int(hs.hs_change.sum())\n",
    "units_from_sched_dev = int(hs.loc[hs.capacity_type=='sch'].hs_change.sum())\n",
    "sched_dev_difference = int(sched_dev_capacity_do_not_use - units_from_sched_dev)\n",
    "units_from_assigned = int(hs.loc[~hs.capacity_type.isin(['sch','jur'])].hs_change.sum())\n",
    "assigned_difference = int(assigned_capacity - units_from_assigned)\n",
    "units_from_urbansim_parcel = int(hs.loc[hs.capacity_type=='jur'].hs_change.sum())\n",
    "urbansim_parcel_difference = int(urbansim_parcel_capacity - units_from_urbansim_parcel)\n",
    "remaining_capacity_simulation = total_capacity - units_added\n",
    "print(\"\\nUnits added: {:,} (from capacity {:,})\".\\\n",
    "      format(units_added,total_capacity))\n",
    "print(\"\\n    (Target: {:,})\".format(units_needed))\n",
    "print(\"\\n       Urb parcel units: {:,} (capacity {:,}) (remaining {:,})\".\\\n",
    "      format(units_from_urbansim_parcel,urbansim_parcel_capacity,urbansim_parcel_difference))\n",
    "print(\"\\n       Sched dev units: {:,} (capacity {:,}) (remaining {:,})\".\\\n",
    "      format(units_from_sched_dev,sched_dev_capacity_do_not_use,sched_dev_difference))\n",
    "print(\"\\n       Additional units: {:,} (capacity {:,}) (remaining {:,})\".\\\n",
    "      format(units_from_assigned,int(assigned_df.du.sum()),assigned_difference))\n",
    "print(\"\\n Total Unused Capacity : {:,}\".format(remaining_capacity_simulation))"
   ]
  },
  {
   "cell_type": "markdown",
   "metadata": {},
   "source": [
    "## If remaining jur capacity or sched dev capacity - where is it?"
   ]
  },
  {
   "cell_type": "code",
   "execution_count": null,
   "metadata": {},
   "outputs": [],
   "source": [
    "urb_parcel_cap = capacity_df.loc[(capacity_df.site_id==15008) | (capacity_df.site_id.isnull())]\n",
    "urb_parcel_cap = urb_parcel_cap.loc[urb_parcel_cap.capacity_2>0]\n",
    "# ([site_id] IS NULL or site_id = 15008)\n",
    "urb_parcel_cap = urb_parcel_cap[['parcel_id','capacity_2']].copy()\n",
    "urb_parcel_cap.rename(columns={\"capacity_2\": \"capacity\"}, inplace=True)\n",
    "urb_parcel_cap['capacity_type'] = 'jur'\n",
    "\n",
    "add_df = assigned_df[['parcel_id','du','type']].copy()\n",
    "add_df.rename(columns={\"du\": \"capacity\"}, inplace=True)\n",
    "add_df.rename(columns={\"type\": \"capacity_type\"}, inplace=True)\n",
    "add_df.replace('cc', 'sgoa',inplace=True)\n",
    "add_df.replace('mc', 'sgoa',inplace=True)\n",
    "add_df.replace('tc', 'sgoa',inplace=True)\n",
    "add_df.replace('tco', 'sgoa',inplace=True)\n",
    "add_df.replace('uc', 'sgoa',inplace=True)\n",
    "\n",
    "sched = site_do_not_use[['parcel_id','capacity_3']].copy()\n",
    "sched.rename(columns={\"capacity_3\": \"capacity\"}, inplace=True)\n",
    "sched['capacity_type'] = 'sch'\n",
    "\n",
    "c1 = pd.concat([urb_parcel_cap,add_df,sched])\n",
    "jur_sql = '''\n",
    "    SELECT i.parcel_id,j.name, i.jur_id\n",
    "      FROM [isam].[xpef04].[parcel2015_mgra_jur_cpa] i \n",
    "      JOIN urbansim.ref.jurisdiction j on i.jur_id = j.jurisdiction_id\n",
    "     WHERE i = 1'''\n",
    "j = pd.read_sql(jur_sql,mssql_engine)\n",
    "c = pd.merge(c1,j,how='left',on=['parcel_id'])"
   ]
  },
  {
   "cell_type": "code",
   "execution_count": null,
   "metadata": {},
   "outputs": [],
   "source": [
    "urb_parcel_cap.capacity.sum()"
   ]
  },
  {
   "cell_type": "code",
   "execution_count": null,
   "metadata": {},
   "outputs": [],
   "source": [
    "dfout = pd.DataFrame({'capacity': c.groupby([\"name\",\"jur_id\"])\n",
    "                                          .capacity.sum()}).reset_index()"
   ]
  },
  {
   "cell_type": "code",
   "execution_count": null,
   "metadata": {},
   "outputs": [],
   "source": [
    "hs_change_sql = '''\n",
    "    SELECT o.parcel_id,j.name, i.jur_id,capacity_type,\n",
    "    sum(unit_change) as hs_change\n",
    "      FROM urbansim.urbansim.urbansim_lite_output o \n",
    "      JOIN [isam].[xpef04].[parcel2015_mgra_jur_cpa] i on i.parcel_id = o.parcel_id\n",
    "      JOIN urbansim.ref.jurisdiction j on i.jur_id = j.jurisdiction_id\n",
    "     WHERE run_id =  %s and i = 1\n",
    "     GROUP BY j.name,i.jur_id,o.parcel_id,capacity_type\n",
    "      ORDER BY parcel_id'''\n",
    "hs_change_sql = hs_change_sql % run_id\n",
    "results = pd.read_sql(hs_change_sql,mssql_engine)\n",
    "results.replace('cc', 'sgoa',inplace=True)\n",
    "results.replace('mc', 'sgoa',inplace=True)\n",
    "results.replace('tc', 'sgoa',inplace=True)\n",
    "results.replace('tco', 'sgoa',inplace=True)\n",
    "results.replace('uc', 'sgoa',inplace=True)"
   ]
  },
  {
   "cell_type": "code",
   "execution_count": null,
   "metadata": {},
   "outputs": [],
   "source": [
    "df = pd.merge(c,results,how='left',on=['parcel_id','capacity_type'])\n",
    "df.hs_change.fillna(0,inplace=True)\n",
    "df['capacity_unused'] = df['capacity'] - df['hs_change']\n",
    "#df.loc[df['capacity_unused']!=0].head()"
   ]
  },
  {
   "cell_type": "code",
   "execution_count": null,
   "metadata": {},
   "outputs": [],
   "source": [
    "df.capacity_unused.sum()"
   ]
  },
  {
   "cell_type": "code",
   "execution_count": null,
   "metadata": {},
   "outputs": [],
   "source": [
    "results.hs_change.sum()"
   ]
  },
  {
   "cell_type": "code",
   "execution_count": null,
   "metadata": {},
   "outputs": [],
   "source": [
    "c.capacity.sum()"
   ]
  },
  {
   "cell_type": "code",
   "execution_count": null,
   "metadata": {},
   "outputs": [],
   "source": [
    "480212.0-418845"
   ]
  },
  {
   "cell_type": "code",
   "execution_count": null,
   "metadata": {},
   "outputs": [],
   "source": [
    "ununsed_cap_total = int(df.loc[df['capacity_unused']!=0].capacity_unused.sum())\n",
    "print(\"\\n Total Unused Capacity : {:,}\".format(ununsed_cap_total))"
   ]
  },
  {
   "cell_type": "code",
   "execution_count": null,
   "metadata": {},
   "outputs": [],
   "source": [
    "66585 -  61367"
   ]
  },
  {
   "cell_type": "code",
   "execution_count": null,
   "metadata": {},
   "outputs": [],
   "source": [
    "480212.0-418845"
   ]
  },
  {
   "cell_type": "code",
   "execution_count": null,
   "metadata": {},
   "outputs": [],
   "source": [
    "#df.loc[df['capacity_unused']!=0].to_csv('test.csv')"
   ]
  },
  {
   "cell_type": "code",
   "execution_count": null,
   "metadata": {},
   "outputs": [],
   "source": [
    "unused_jur = df.loc[df.capacity_type=='jur']\n",
    "ununsed_jur_total = int(unused_jur.capacity_unused.sum())\n",
    "print(\"\\n Unused Capacity from Jur Feedback : {:,}\".format(ununsed_jur_total))"
   ]
  },
  {
   "cell_type": "code",
   "execution_count": null,
   "metadata": {},
   "outputs": [],
   "source": [
    "unused_jur.loc[unused_jur.capacity_unused>0].head()"
   ]
  },
  {
   "cell_type": "code",
   "execution_count": null,
   "metadata": {},
   "outputs": [],
   "source": [
    "jur_unused = pd.DataFrame({'unused_jur_capacity': unused_jur.\n",
    "                                          groupby([\"name_x\",\"jur_id_x\"])\n",
    "                                          .capacity_unused.sum()}).reset_index()\n",
    "jur_unused.rename(columns={\"name_x\": \"jursidiction\"}, inplace=True)\n",
    "\n",
    "print(\"Jurisdictions with unused capacity from jurisdiction feedback:\")\n",
    "jur_unused.loc[jur_unused.unused_jur_capacity!=0]"
   ]
  },
  {
   "cell_type": "code",
   "execution_count": null,
   "metadata": {},
   "outputs": [],
   "source": [
    "unused_sch = df.loc[df.capacity_type=='sch']\n",
    "ununsed_sch_total = int(unused_sch.capacity_unused.sum())\n",
    "print(\"\\n Unused capacity from sched dev : {:,}\".format(ununsed_sch_total))"
   ]
  },
  {
   "cell_type": "code",
   "execution_count": null,
   "metadata": {},
   "outputs": [],
   "source": [
    "# unused_sch.loc[unused_sch.name_x=='Chula Vista']"
   ]
  },
  {
   "cell_type": "code",
   "execution_count": null,
   "metadata": {},
   "outputs": [],
   "source": [
    "sch_unused = pd.DataFrame({'unused_sch_capacity': unused_sch.\n",
    "                                          groupby([\"name_x\"])\n",
    "                                          .capacity_unused.sum()}).reset_index()\n",
    "sch_unused.rename(columns={\"name_x\": \"jursidiction\"}, inplace=True)\n",
    "\n",
    "print(\"Jurisdictions with unused capacity from sched dev:\")\n",
    "sch_unused.loc[sch_unused.unused_sch_capacity!=0]"
   ]
  },
  {
   "cell_type": "code",
   "execution_count": null,
   "metadata": {},
   "outputs": [],
   "source": [
    "# df.to_csv('test.csv')"
   ]
  },
  {
   "cell_type": "markdown",
   "metadata": {},
   "source": [
    "### percent sgoa and adu compared to jur feedback for each  jur"
   ]
  },
  {
   "cell_type": "code",
   "execution_count": null,
   "metadata": {},
   "outputs": [],
   "source": [
    "df = pd.DataFrame({'capacity_by_type': c.groupby([\"name\",'capacity_type'])\n",
    "                                          .capacity.sum()}).reset_index()"
   ]
  },
  {
   "cell_type": "code",
   "execution_count": null,
   "metadata": {},
   "outputs": [],
   "source": [
    "#pivot\n",
    "df.head()\n",
    "type_pivot = df.pivot(index='name', columns='capacity_type', \\\n",
    "                                                       values='capacity_by_type').reset_index().rename_axis(None, axis=1)\n",
    "type_pivot.fillna(0,inplace=True)\n",
    "type_pivot.set_index('name',inplace=True)\n",
    "cols = ['sch','jur','adu','sgoa']\n",
    "type_pivot = type_pivot[cols]\n",
    "type_pivot['total'] = type_pivot['sch'] + type_pivot['jur'] + type_pivot['adu'] + type_pivot['sgoa']\n",
    "#type_pivot[cols] = type_pivot[cols].applymap(np.int32)"
   ]
  },
  {
   "cell_type": "code",
   "execution_count": null,
   "metadata": {},
   "outputs": [],
   "source": [
    "type_pivot['percent_sgoa'] = (type_pivot['sgoa']/type_pivot['total'] * 100.0).round(1)"
   ]
  },
  {
   "cell_type": "code",
   "execution_count": null,
   "metadata": {},
   "outputs": [],
   "source": [
    "#type_pivot.dtypes"
   ]
  },
  {
   "cell_type": "code",
   "execution_count": null,
   "metadata": {},
   "outputs": [],
   "source": [
    "pd.options.display.float_format = '{:,.0f}'.format"
   ]
  },
  {
   "cell_type": "code",
   "execution_count": null,
   "metadata": {},
   "outputs": [],
   "source": [
    "type_pivot"
   ]
  },
  {
   "cell_type": "code",
   "execution_count": null,
   "metadata": {},
   "outputs": [],
   "source": [
    "type_pivot.sort_values(by='percent_sgoa')"
   ]
  },
  {
   "cell_type": "markdown",
   "metadata": {},
   "source": [
    "### Compare parcel by parcel capacities and units added"
   ]
  },
  {
   "cell_type": "code",
   "execution_count": null,
   "metadata": {},
   "outputs": [],
   "source": [
    "# urb_parcel_cap = capacity_df.loc[(capacity_df.capacity_2>0) & (capacity_df.site_id.isnull())]\n",
    "\n",
    "urb_parcel_cap = capacity_df.loc[(capacity_df.site_id==15008) | (capacity_df.site_id.isnull())]\n",
    "urb_parcel_cap = urb_parcel_cap.loc[urb_parcel_cap.capacity_2>0]\n",
    "urb_parcel_cap = urb_parcel_cap[['parcel_id','capacity_2']].copy()\n",
    "urb_parcel_cap.rename(columns={\"capacity_2\": \"capacity_jur\"}, inplace=True)\n",
    "\n",
    "add_df = assigned_df[['parcel_id','du']].copy()\n",
    "add_df.rename(columns={\"du\": \"capacity_assigned\"}, inplace=True)\n",
    "\n",
    "sched = site_do_not_use[['parcel_id','capacity_3']].copy()\n",
    "sched.rename(columns={\"capacity_3\": \"capacity_sch\"}, inplace=True)\n",
    "\n",
    "all_parcels_w_cap = pd.concat([urb_parcel_cap[['parcel_id']],add_df[['parcel_id']],sched[['parcel_id']]])\n",
    "all_parcels_w_cap['is_duplicated'] = all_parcels_w_cap.duplicated(['parcel_id'])\n",
    "unique_parcels = len(all_parcels_w_cap.parcel_id.unique())\n",
    "\n",
    "\n",
    "print(\"\\n Number of parcels with capacity from jur feedback : {:,}\".format(len(urb_parcel_cap)))\n",
    "print(\"\\n Number of parcels with capacity from sched dev : {:,}\".format(len(sched)))\n",
    "print(\"\\n Number of parcels with additional capacity : {:,}\".format(len(add_df)))\n",
    "print(\"\\n Total number of parcels with capacity \\n (includes duplicate parcels with different capacity types) : {:,}\".\\\n",
    "      format(len(urb_parcel_cap) + len(sched) + len(add_df)))"
   ]
  },
  {
   "cell_type": "markdown",
   "metadata": {},
   "source": [
    "#### parcels with more than one capacity type (\"duplicate\") "
   ]
  },
  {
   "cell_type": "code",
   "execution_count": null,
   "metadata": {},
   "outputs": [],
   "source": [
    "print(\"\\n Total number of parcels with capacity \\n   (includes duplicate parcels with different capacity types) : {:,}\".\\\n",
    "      format(len(urb_parcel_cap) + len(sched) + len(add_df)))\n",
    "print(\"\\n Total number of UNIQUE parcels with capacity : {:,}\".format(unique_parcels))\n",
    "print(\"\\n Total number of parcels with capacity from more than one type : {:,}\".\\\n",
    "      format(all_parcels_w_cap['is_duplicated'].sum()))\n",
    "#133"
   ]
  },
  {
   "cell_type": "markdown",
   "metadata": {},
   "source": [
    "#### capacity types of parcels that are \"duplicated\""
   ]
  },
  {
   "cell_type": "code",
   "execution_count": null,
   "metadata": {},
   "outputs": [],
   "source": [
    "duplicated_parcels = all_parcels_w_cap.loc[all_parcels_w_cap.is_duplicated].parcel_id.tolist()\n",
    "jur_dup = urb_parcel_cap.loc[urb_parcel_cap.parcel_id.isin(duplicated_parcels)]\n",
    "print(\"\\n Number of parcels with capacity from jurisdictions that are duplicates :{:,}\".\\\n",
    "      format(len(jur_dup)))\n",
    "add_dup = add_df.loc[add_df.parcel_id.isin(duplicated_parcels)]\n",
    "print(\"\\n Number of parcels with capacity from additional that are duplicates :{:,}\".\\\n",
    "      format(len(add_dup)))\n",
    "sch_dup = sched.loc[sched.parcel_id.isin(duplicated_parcels)]\n",
    "print(\"\\n Number of parcels with capacity from sched dev that are duplicates :{:,}\".\\\n",
    "      format(len(sch_dup)))"
   ]
  },
  {
   "cell_type": "code",
   "execution_count": null,
   "metadata": {},
   "outputs": [],
   "source": [
    "pd.options.display.float_format = '{:,.0f}'.format"
   ]
  },
  {
   "cell_type": "markdown",
   "metadata": {},
   "source": [
    "### Merge capacity for each parcel with units built for each parcel"
   ]
  },
  {
   "cell_type": "code",
   "execution_count": null,
   "metadata": {},
   "outputs": [],
   "source": [
    "#cap_df = capacity_df[['parcel_id','cap_jurisdiction_id']].copy()\n",
    "#cap_df = pd.merge(cap_df,urb_parcel_cap,how='left',on='parcel_id')\n",
    "cap_df = pd.merge(urb_parcel_cap,add_df,how='outer',on='parcel_id')\n",
    "cap_df = pd.merge(cap_df,sched,how='outer',on='parcel_id')\n",
    "cap_df.fillna(0,inplace=True)\n",
    "cap_df['capacity'] = cap_df['capacity_jur'] + cap_df['capacity_assigned'] + cap_df['capacity_sch']\n",
    "cap = cap_df.copy()\n",
    "cap.sort_values(by='parcel_id',inplace=True)\n",
    "cap.reset_index(inplace=True,drop=True)"
   ]
  },
  {
   "cell_type": "markdown",
   "metadata": {},
   "source": [
    "#### length of merge df should match unique parcels & sum of capacity should match total capacity"
   ]
  },
  {
   "cell_type": "code",
   "execution_count": null,
   "metadata": {},
   "outputs": [],
   "source": [
    "print (\"\\n Length of capacity df : {:,}\".format(len(cap)))\n",
    "print(\"\\n Total number of UNIQUE parcels with capacity : {:,}\".format(unique_parcels))\n",
    "print(\"\\n Sum of capacity from df : {:,}\".format(cap.capacity.sum())) \n",
    "print(\"\\n Total capacity : {:,}\".format(total_capacity)) "
   ]
  },
  {
   "cell_type": "markdown",
   "metadata": {},
   "source": [
    "#### units added should match units_needed "
   ]
  },
  {
   "cell_type": "code",
   "execution_count": null,
   "metadata": {},
   "outputs": [],
   "source": [
    "units_by_parcel_sql = '''\n",
    "    SELECT parcel_id,sum(unit_change) as unit_change\n",
    "      FROM urbansim.urbansim.urbansim_lite_output  \n",
    "     WHERE run_id =  %s\n",
    "     GROUP BY parcel_id\n",
    "      ORDER BY parcel_id'''\n",
    "units_by_parcel_sql = units_by_parcel_sql % run_id\n",
    "unit_by_parcel = pd.read_sql(units_by_parcel_sql,mssql_engine)"
   ]
  },
  {
   "cell_type": "code",
   "execution_count": null,
   "metadata": {},
   "outputs": [],
   "source": [
    "unit_by_parcel.unit_change.sum()"
   ]
  },
  {
   "cell_type": "code",
   "execution_count": null,
   "metadata": {},
   "outputs": [],
   "source": [
    "units_needed "
   ]
  },
  {
   "cell_type": "markdown",
   "metadata": {},
   "source": [
    "### number of parcels with new capacity added during simulation"
   ]
  },
  {
   "cell_type": "code",
   "execution_count": null,
   "metadata": {},
   "outputs": [],
   "source": [
    "len(unit_by_parcel)"
   ]
  },
  {
   "cell_type": "code",
   "execution_count": null,
   "metadata": {},
   "outputs": [],
   "source": []
  },
  {
   "cell_type": "markdown",
   "metadata": {},
   "source": [
    "#### find parcels with more than one capacity type"
   ]
  },
  {
   "cell_type": "code",
   "execution_count": null,
   "metadata": {},
   "outputs": [],
   "source": [
    "#duplicated_parcels\n",
    "cap['is_duplicated'] = cap.parcel_id.isin(duplicated_parcels)"
   ]
  },
  {
   "cell_type": "code",
   "execution_count": null,
   "metadata": {},
   "outputs": [],
   "source": [
    "# cap.loc[cap.is_duplicated].head()"
   ]
  },
  {
   "cell_type": "markdown",
   "metadata": {},
   "source": [
    "#### merge units added with capacity for parcel by parcel comparison"
   ]
  },
  {
   "cell_type": "code",
   "execution_count": null,
   "metadata": {},
   "outputs": [],
   "source": [
    "compare_cap_w_units = pd.merge(unit_by_parcel,cap,on='parcel_id',how='outer')\n",
    "compare_cap_w_units.fillna(0,inplace=True)\n",
    "compare_cap_w_units['remaining_cap'] = compare_cap_w_units['capacity'] - compare_cap_w_units['unit_change']"
   ]
  },
  {
   "cell_type": "markdown",
   "metadata": {},
   "source": [
    "#### length should be the unique parcels with capacity"
   ]
  },
  {
   "cell_type": "code",
   "execution_count": null,
   "metadata": {},
   "outputs": [],
   "source": [
    "print(\"\\n Length of df with units : {:,}\".format(len(compare_cap_w_units))) \n",
    "print(\"\\n Total number of UNIQUE parcels with capacity : {:,}\".format(unique_parcels))\n",
    "print(\"\\n Sum of unit change : {:,}\".format(compare_cap_w_units.unit_change.sum()))\n",
    "print(\"\\n Units needed : {:,}\".format(units_needed ))\n",
    "print(\"\\n Capacity sum : {:,}\".format(compare_cap_w_units.capacity.sum()))\n",
    "print(\"\\n Total capacity : {:,}\".format(total_capacity ))"
   ]
  },
  {
   "cell_type": "code",
   "execution_count": null,
   "metadata": {},
   "outputs": [],
   "source": [
    "# compare_cap_w_units.head()"
   ]
  },
  {
   "cell_type": "markdown",
   "metadata": {},
   "source": [
    "### parcels that have more than one capacity type"
   ]
  },
  {
   "cell_type": "code",
   "execution_count": null,
   "metadata": {},
   "outputs": [],
   "source": [
    "parcels_dups = compare_cap_w_units.loc[compare_cap_w_units.is_duplicated]"
   ]
  },
  {
   "cell_type": "markdown",
   "metadata": {},
   "source": [
    "#### length should match all parcels_w_cap duplicates"
   ]
  },
  {
   "cell_type": "code",
   "execution_count": null,
   "metadata": {},
   "outputs": [],
   "source": [
    "print(\"\\n Length parcels with dups df : {:,}\".format(len(parcels_dups)))\n",
    "print(\"\\n Number of parcels dup using is_duplicate : {:,}\".format(all_parcels_w_cap['is_duplicated'].sum()))"
   ]
  },
  {
   "cell_type": "markdown",
   "metadata": {},
   "source": [
    "## No parcels should have negative remaining capacity?"
   ]
  },
  {
   "cell_type": "code",
   "execution_count": null,
   "metadata": {},
   "outputs": [],
   "source": [
    "compare_cap_w_units.loc[compare_cap_w_units.remaining_cap<0]"
   ]
  },
  {
   "cell_type": "markdown",
   "metadata": {},
   "source": [
    "## total remaining capacity should match capacity - units needed"
   ]
  },
  {
   "cell_type": "code",
   "execution_count": null,
   "metadata": {},
   "outputs": [],
   "source": [
    "print(\"\\n remaining capacity sum : {:,}\".format(compare_cap_w_units.remaining_cap.sum()))\n",
    "print(\"\\n Total capacity minus units needed : {:,}\".format(total_capacity - units_needed)) "
   ]
  },
  {
   "cell_type": "markdown",
   "metadata": {},
   "source": [
    "## all parcels with remaining capacity have additional capacity (greater than zero)"
   ]
  },
  {
   "cell_type": "code",
   "execution_count": null,
   "metadata": {},
   "outputs": [],
   "source": [
    "parcels_w_remaining = compare_cap_w_units.loc[compare_cap_w_units.remaining_cap>0]\n",
    "print(\"\\n Total number of parcels with remaining capacity : {:,}\".\\\n",
    "      format(len(parcels_w_remaining)))\n",
    "print(\"\\n Total number of parcels with remaining capacity and assigned capacity>0 : {:,}\".\\\n",
    "      format(len(parcels_w_remaining.loc[parcels_w_remaining.capacity_assigned>0])))"
   ]
  },
  {
   "cell_type": "markdown",
   "metadata": {},
   "source": [
    "### parcels with remaining capacity that had no units added"
   ]
  },
  {
   "cell_type": "code",
   "execution_count": null,
   "metadata": {},
   "outputs": [],
   "source": [
    "parcels_not_used = len(parcels_w_remaining.loc[parcels_w_remaining.remaining_cap==parcels_w_remaining.capacity])\n",
    "print(\"\\n Total number of parcels not used : {:,}\".\\\n",
    "      format((parcels_not_used)))"
   ]
  },
  {
   "cell_type": "markdown",
   "metadata": {},
   "source": [
    "### parcels that are partially used"
   ]
  },
  {
   "cell_type": "code",
   "execution_count": null,
   "metadata": {},
   "outputs": [],
   "source": [
    "len(parcels_w_remaining) - parcels_not_used"
   ]
  },
  {
   "cell_type": "markdown",
   "metadata": {},
   "source": [
    "### parcels with remaining capacity that had some units added"
   ]
  },
  {
   "cell_type": "code",
   "execution_count": null,
   "metadata": {},
   "outputs": [],
   "source": [
    "parcels_not_used = parcels_w_remaining.loc[parcels_w_remaining.capacity>parcels_w_remaining.remaining_cap]"
   ]
  },
  {
   "cell_type": "code",
   "execution_count": null,
   "metadata": {},
   "outputs": [],
   "source": [
    "len(parcels_not_used)"
   ]
  },
  {
   "cell_type": "code",
   "execution_count": null,
   "metadata": {},
   "outputs": [],
   "source": [
    "# parcels_not_used.head()"
   ]
  },
  {
   "cell_type": "markdown",
   "metadata": {},
   "source": [
    "#### No parcels with remaining capacity should have capacity assigned less than or equal to zero"
   ]
  },
  {
   "cell_type": "code",
   "execution_count": null,
   "metadata": {},
   "outputs": [],
   "source": [
    "parcels_w_remaining.loc[parcels_w_remaining.capacity_assigned<=0]"
   ]
  },
  {
   "cell_type": "markdown",
   "metadata": {},
   "source": [
    "#### No parcel with remaining capacity should have a unit change less than jurisdiction provided capacity"
   ]
  },
  {
   "cell_type": "code",
   "execution_count": null,
   "metadata": {},
   "outputs": [],
   "source": [
    "parcels_w_remaining.loc[parcels_w_remaining.unit_change<parcels_w_remaining.capacity_jur]"
   ]
  },
  {
   "cell_type": "code",
   "execution_count": null,
   "metadata": {},
   "outputs": [],
   "source": [
    "# parcels_w_remaining.loc[parcels_w_remaining.capacity_assigned<=0]\n",
    "# parcels_w_remaining.loc[parcels_w_remaining.unit_change<parcels_w_remaining.capacity_jur]"
   ]
  },
  {
   "cell_type": "markdown",
   "metadata": {},
   "source": [
    "#### capacity type of parcels with remaining capacity"
   ]
  },
  {
   "cell_type": "code",
   "execution_count": null,
   "metadata": {},
   "outputs": [],
   "source": [
    "assigned_df.replace('cc', 'sgoa',inplace=True)\n",
    "assigned_df.replace('mc', 'sgoa',inplace=True)\n",
    "assigned_df.replace('tc', 'sgoa',inplace=True)\n",
    "assigned_df.replace('tco', 'sgoa',inplace=True)\n",
    "assigned_df.replace('uc', 'sgoa',inplace=True)\n",
    "assigned_df.head()"
   ]
  },
  {
   "cell_type": "code",
   "execution_count": null,
   "metadata": {},
   "outputs": [],
   "source": [
    "assigned_df.parcel_id = assigned_df.parcel_id.astype(int)\n",
    "urb_parcel_cap.parcel_id = urb_parcel_cap.parcel_id.astype(int)"
   ]
  },
  {
   "cell_type": "code",
   "execution_count": null,
   "metadata": {},
   "outputs": [],
   "source": [
    "sgoa = assigned_df[['parcel_id','du']].loc[assigned_df.type=='sgoa'].copy()\n",
    "sgoa.rename(columns={'du':'capacity_sgoa'},inplace=True)\n",
    "\n",
    "adu = assigned_df[['parcel_id','du']].loc[assigned_df.type=='adu'].copy()\n",
    "adu.rename(columns={'du':'capacity_adu'},inplace=True)\n"
   ]
  },
  {
   "cell_type": "code",
   "execution_count": null,
   "metadata": {},
   "outputs": [],
   "source": [
    "#cap_df = capacity_df[['parcel_id','cap_jurisdiction_id']].copy()\n",
    "#cap_df = pd.merge(cap_df,urb_parcel_cap,how='left',on='parcel_id')\n",
    "cap_df = pd.merge(urb_parcel_cap,sgoa,how='outer',on='parcel_id')\n",
    "cap_df = pd.merge(cap_df,adu,how='outer',on='parcel_id')\n",
    "cap_df = pd.merge(cap_df,sched,how='outer',on='parcel_id')\n",
    "cap_df.fillna(0,inplace=True)\n",
    "cap_df['capacity'] = cap_df['capacity_jur'] + cap_df['capacity_sgoa'] + cap_df['capacity_adu'] + cap_df['capacity_sch']\n",
    "cap = cap_df.copy()\n",
    "cap.sort_values(by='parcel_id',inplace=True)\n",
    "cap.reset_index(inplace=True,drop=True)"
   ]
  },
  {
   "cell_type": "code",
   "execution_count": null,
   "metadata": {},
   "outputs": [],
   "source": [
    "print (\"\\n Length of capacity df : {:,}\".format(len(cap)))\n",
    "print(\"\\n Total number of UNIQUE parcels with capacity : {:,}\".format(unique_parcels))\n",
    "print(\"\\n Sum of capacity from df : {:,}\".format(cap.capacity.sum())) \n",
    "print(\"\\n Total capacity : {:,}\".format(total_capacity)) "
   ]
  },
  {
   "cell_type": "code",
   "execution_count": null,
   "metadata": {},
   "outputs": [],
   "source": [
    "cap['is_duplicated'] = cap.parcel_id.isin(duplicated_parcels)"
   ]
  },
  {
   "cell_type": "code",
   "execution_count": null,
   "metadata": {},
   "outputs": [],
   "source": [
    "compare_cap_w_units = pd.merge(unit_by_parcel,cap,on='parcel_id',how='outer')\n",
    "compare_cap_w_units.fillna(0,inplace=True)\n",
    "compare_cap_w_units['remaining_cap'] = compare_cap_w_units['capacity'] - compare_cap_w_units['unit_change']"
   ]
  },
  {
   "cell_type": "code",
   "execution_count": null,
   "metadata": {},
   "outputs": [],
   "source": [
    "print(\"\\n Length of df with units : {:,}\".format(len(compare_cap_w_units))) \n",
    "print(\"\\n Total number of UNIQUE parcels with capacity : {:,}\".format(unique_parcels))\n",
    "print(\"\\n Sum of unit change : {:,}\".format(compare_cap_w_units.unit_change.sum()))\n",
    "print(\"\\n Units needed : {:,}\".format(units_needed ))\n",
    "print(\"\\n Capacity sum : {:,}\".format(compare_cap_w_units.capacity.sum()))\n",
    "print(\"\\n Total capacity : {:,}\".format(total_capacity ))"
   ]
  },
  {
   "cell_type": "code",
   "execution_count": null,
   "metadata": {},
   "outputs": [],
   "source": [
    "print(\"\\n Length parcels with dups df : {:,}\".format(len(parcels_dups)))\n",
    "print(\"\\n Number of parcels dup using is_duplicate : {:,}\".format(all_parcels_w_cap['is_duplicated'].sum()))\n",
    "print(\"\\n remaining capacity sum : {:,}\".format(compare_cap_w_units.remaining_cap.sum()))\n",
    "print(\"\\n Total capacity minus units needed : {:,}\".format(total_capacity - units_needed)) "
   ]
  },
  {
   "cell_type": "code",
   "execution_count": null,
   "metadata": {},
   "outputs": [],
   "source": [
    "print(\"parcels with negative remaining capacity\")\n",
    "compare_cap_w_units.loc[compare_cap_w_units.remaining_cap<0]"
   ]
  },
  {
   "cell_type": "code",
   "execution_count": null,
   "metadata": {},
   "outputs": [],
   "source": [
    "parcels_w_remaining = compare_cap_w_units.loc[compare_cap_w_units.remaining_cap>0]\n",
    "print(\"\\n Total number of parcels with remaining capacity : {:,}\".\\\n",
    "      format(len(parcels_w_remaining)))\n",
    "print(\"\\n Total number of parcels with remaining capacity and adu>0 or sgoa>0 : {:,}\".\\\n",
    "      format(len(parcels_w_remaining.loc[((parcels_w_remaining.capacity_adu>0) \\\n",
    "                                         | (parcels_w_remaining.capacity_sgoa>0))])))"
   ]
  },
  {
   "cell_type": "code",
   "execution_count": null,
   "metadata": {},
   "outputs": [],
   "source": [
    "parcels_not_used = len(parcels_w_remaining.loc[parcels_w_remaining.remaining_cap==parcels_w_remaining.capacity])\n",
    "print(\"\\n Total number of parcels not used : {:,}\".\\\n",
    "      format((parcels_not_used)))\n",
    "partial_used = len(parcels_w_remaining) - parcels_not_used\n",
    "print(\"\\n Total number of parcels that are partially used : {:,}\".\\\n",
    "      format((partial_used)))\n",
    "print(\"\\n Total number of parcels that have remaining capacity : {:,}\".\\\n",
    "      format((partial_used + parcels_not_used)))"
   ]
  },
  {
   "cell_type": "code",
   "execution_count": null,
   "metadata": {},
   "outputs": [],
   "source": [
    "parcels_partially_used = parcels_w_remaining.loc[parcels_w_remaining.capacity>parcels_w_remaining.remaining_cap]\n",
    "len(parcels_partially_used)"
   ]
  },
  {
   "cell_type": "code",
   "execution_count": null,
   "metadata": {},
   "outputs": [],
   "source": [
    "parcels_w_remaining.loc[((parcels_w_remaining.capacity_adu<=0) & (parcels_w_remaining.capacity_sgoa<=0))]"
   ]
  },
  {
   "cell_type": "code",
   "execution_count": null,
   "metadata": {},
   "outputs": [],
   "source": [
    "parcels_w_remaining.loc[parcels_w_remaining.unit_change<parcels_w_remaining.capacity_jur]"
   ]
  },
  {
   "cell_type": "code",
   "execution_count": null,
   "metadata": {},
   "outputs": [],
   "source": [
    "parcels_w_remaining.head()"
   ]
  },
  {
   "cell_type": "code",
   "execution_count": null,
   "metadata": {},
   "outputs": [],
   "source": [
    "sgoa_remaining = parcels_w_remaining.loc[((parcels_w_remaining.capacity_sgoa>0) &\\\n",
    "                                         (parcels_w_remaining.capacity_adu<=0)) ]\n",
    "len(sgoa_remaining)"
   ]
  },
  {
   "cell_type": "code",
   "execution_count": null,
   "metadata": {},
   "outputs": [],
   "source": [
    "adu_remaining = parcels_w_remaining.loc[((parcels_w_remaining.capacity_sgoa<=0) &\\\n",
    "                                         (parcels_w_remaining.capacity_adu>0)) ]\n",
    "len(adu_remaining)"
   ]
  },
  {
   "cell_type": "code",
   "execution_count": null,
   "metadata": {},
   "outputs": [],
   "source": [
    "print(\"\\n Total number of parcels that have remaining capacity : {:,}\".\\\n",
    "      format((len(sgoa_remaining) + len(adu_remaining))))\n",
    "print(\"\\n Total number of parcels that have remaining capacity : {:,}\".\\\n",
    "      format((len(parcels_w_remaining))))"
   ]
  },
  {
   "cell_type": "code",
   "execution_count": null,
   "metadata": {},
   "outputs": [],
   "source": [
    "sgoaur = sgoa_remaining.remaining_cap.sum()\n",
    "print(\"\\n Total number of units of remaining from sgoas : {:,}\".\\\n",
    "      format((sgoaur )))\n",
    "aduur = adu_remaining.remaining_cap.sum()\n",
    "print(\"\\n Total number of units of remaining from adus : {:,}\".\\\n",
    "      format((aduur )))\n",
    "print(\"\\n Total number of units of remaining : {:,}\".\\\n",
    "      format((sgoaur + aduur )))\n",
    "print(\"\\n Total capacity minus units needed : {:,}\".format(total_capacity - units_needed)) "
   ]
  },
  {
   "cell_type": "code",
   "execution_count": null,
   "metadata": {},
   "outputs": [],
   "source": [
    "adu_remaining.loc[adu_remaining.capacity_jur>0]"
   ]
  },
  {
   "cell_type": "code",
   "execution_count": null,
   "metadata": {},
   "outputs": [],
   "source": [
    "sgoa_remaining_Partial_use = sgoa_remaining.loc[(sgoa_remaining.unit_change>0)]"
   ]
  },
  {
   "cell_type": "code",
   "execution_count": null,
   "metadata": {},
   "outputs": [],
   "source": [
    "len(sgoa_remaining_Partial_use)"
   ]
  },
  {
   "cell_type": "code",
   "execution_count": null,
   "metadata": {},
   "outputs": [],
   "source": [
    "partial_use_w_capacity_jur = sgoa_remaining_Partial_use.loc[sgoa_remaining_Partial_use.capacity_jur>0]"
   ]
  },
  {
   "cell_type": "code",
   "execution_count": null,
   "metadata": {},
   "outputs": [],
   "source": [
    "partial_use_w_capacity_sgoa = sgoa_remaining_Partial_use.loc[sgoa_remaining_Partial_use.capacity_jur==0]"
   ]
  },
  {
   "cell_type": "code",
   "execution_count": null,
   "metadata": {},
   "outputs": [],
   "source": [
    "len(partial_use_w_capacity_jur)"
   ]
  },
  {
   "cell_type": "code",
   "execution_count": null,
   "metadata": {},
   "outputs": [],
   "source": [
    "print(\"\\n Total number of partial used parcels : {:,}\".format(len(sgoa_remaining_Partial_use))) \n",
    "print(\"\\n Total number of parcels that have jurisdiction capacity but remaining sgoa capacity : {:,}\".\\\n",
    "      format(len(partial_use_w_capacity_jur)))\n",
    "print(\"\\n Total number of partial used parcels that have only sgoa capacity : {:,}\".\\\n",
    "      format(len(partial_use_w_capacity_sgoa)))"
   ]
  },
  {
   "cell_type": "code",
   "execution_count": null,
   "metadata": {},
   "outputs": [],
   "source": [
    "# sgoa_remaining_w_capacity_jur"
   ]
  },
  {
   "cell_type": "code",
   "execution_count": null,
   "metadata": {},
   "outputs": [],
   "source": [
    "# parcels_partially_used"
   ]
  },
  {
   "cell_type": "markdown",
   "metadata": {},
   "source": [
    "## Check that sched dev is used up"
   ]
  },
  {
   "cell_type": "code",
   "execution_count": null,
   "metadata": {},
   "outputs": [],
   "source": [
    "sched_devs = compare_cap_w_units.loc[compare_cap_w_units.capacity_sch>0]"
   ]
  },
  {
   "cell_type": "code",
   "execution_count": null,
   "metadata": {},
   "outputs": [],
   "source": [
    "sched_devs.head()"
   ]
  },
  {
   "cell_type": "markdown",
   "metadata": {},
   "source": [
    "##### do any of the parcels with sched dev capacity have additional capacity?"
   ]
  },
  {
   "cell_type": "code",
   "execution_count": null,
   "metadata": {},
   "outputs": [],
   "source": [
    "# any sched devs with assigned capacity?\n",
    "sched_devs.loc[sched_devs.capacity_sgoa>0]"
   ]
  },
  {
   "cell_type": "code",
   "execution_count": null,
   "metadata": {},
   "outputs": [],
   "source": [
    "sched_devs.loc[sched_devs.capacity_adu>0]"
   ]
  },
  {
   "cell_type": "markdown",
   "metadata": {},
   "source": [
    "#### do any of the parcels with sched dev capacity have jur feedback capacity?"
   ]
  },
  {
   "cell_type": "code",
   "execution_count": null,
   "metadata": {},
   "outputs": [],
   "source": [
    "# any sched devs with jur capacity?\n",
    "sched_devs.loc[sched_devs.capacity_jur>0]"
   ]
  },
  {
   "cell_type": "markdown",
   "metadata": {},
   "source": [
    "#### does sched dev capacity from merged df matches urbansim.scheduled_development_parcel capacity?"
   ]
  },
  {
   "cell_type": "code",
   "execution_count": null,
   "metadata": {},
   "outputs": [],
   "source": [
    "print(sched_devs.capacity.sum()) # merged df\n",
    "print(sched_dev_capacity) #urbansim.scheduled_development_parcel "
   ]
  },
  {
   "cell_type": "markdown",
   "metadata": {},
   "source": [
    "#### unit change for sched dev should match capacity"
   ]
  },
  {
   "cell_type": "code",
   "execution_count": null,
   "metadata": {},
   "outputs": [],
   "source": [
    "print(\"\\n Unit change for sched dev parcels : {:,}\".\\\n",
    "      format(sched_devs.unit_change.sum()))"
   ]
  },
  {
   "cell_type": "markdown",
   "metadata": {},
   "source": [
    "#### check no remaining capacity for sched dev parcels"
   ]
  },
  {
   "cell_type": "code",
   "execution_count": null,
   "metadata": {},
   "outputs": [],
   "source": [
    "sched_devs.loc[sched_devs.remaining_cap>0]"
   ]
  },
  {
   "cell_type": "code",
   "execution_count": null,
   "metadata": {},
   "outputs": [],
   "source": []
  },
  {
   "cell_type": "markdown",
   "metadata": {},
   "source": [
    "### compare jurisdiction capacity to output of simulation by jurisdiction"
   ]
  },
  {
   "cell_type": "raw",
   "metadata": {},
   "source": [
    "jur_use_sql = '''With a as (\n",
    "SELECT  jur_id as jurisdiction_id,sum([unit_change]) as output_change\n",
    "  FROM [urbansim].[urbansim].[urbansim_lite_output] o \n",
    "   JOIN [isam].[xpef04].[parcel2015_mgra_jur_cpa] x\n",
    "  on x.parcel_id = o.parcel_id\n",
    "  where run_id =  %s and capacity_type = 'jur' and i=1\n",
    "   GROUP BY jur_id),\n",
    "b as (\n",
    "select jur_id as jurisdiction_id, sum(capacity_2) as urbansim_capacity \n",
    "from urbansim.urbansim.parcel p \n",
    "JOIN [isam].[xpef04].[parcel2015_mgra_jur_cpa] x\n",
    " on x.parcel_id = p.parcel_id\n",
    " where site_id is null and i=1\n",
    "GROUP BY jur_id\n",
    "   )\n",
    "   SELECT a.jurisdiction_id,urbansim_capacity,output_change\n",
    "   from a\n",
    "   join b\n",
    "   on a.jurisdiction_id = b.jurisdiction_id\n",
    "   ORDER BY a.jurisdiction_id'''\n",
    "jur_use_sql  = jur_use_sql % run_id\n",
    "jur_use = pd.read_sql(jur_use_sql,mssql_engine)\n",
    "jur_use['diff'] = jur_use['urbansim_capacity'] - jur_use['output_change']\n",
    "jur_use.head()\n",
    "#df_jur = pd.merge(jur_use,jur_name, on ='jurisdiction_id')\n",
    "pd.options.display.float_format = '{:,.0f}'.format\n",
    "jur_use\n",
    "# print(jur_use[['jurisdiction_2016_name','urbansim_capacity','output_change','diff']])\n",
    "   "
   ]
  },
  {
   "cell_type": "markdown",
   "metadata": {},
   "source": [
    "### make sure duplicate adus do not get picked"
   ]
  },
  {
   "cell_type": "code",
   "execution_count": null,
   "metadata": {},
   "outputs": [],
   "source": [
    "# make sure no adus get picked twice\n",
    "# total number adus\n",
    "adu_sql = '''SELECT count(*)\n",
    "  FROM [urbansim].[urbansim].[urbansim_lite_output]\n",
    "  where run_id = %s and capacity_type = 'adu' '''\n",
    "adu_sql = adu_sql % run_id\n",
    "adu_use = pd.read_sql(adu_sql,mssql_engine)\n",
    "print(\"\\n Number of parcels with adu unit change : {:,}\".format(int(adu_use.values)))\n",
    "#22,102\n",
    "# distinct adus\n",
    "adu_distinct_sql = ''' SELECT count(distinct([parcel_id]))\n",
    "  FROM [urbansim].[urbansim].[urbansim_lite_output]\n",
    "  where run_id = %s and capacity_type = 'adu' '''\n",
    "adu_distinct_sql  =adu_distinct_sql  % run_id\n",
    "adu_use_distinct = pd.read_sql(adu_distinct_sql,mssql_engine)\n",
    "print(\"\\n Number of distinct parcels with adu unit change : {:,}\".format(int(adu_use_distinct.values)))\n",
    "#22,102"
   ]
  },
  {
   "cell_type": "code",
   "execution_count": null,
   "metadata": {},
   "outputs": [],
   "source": [
    "hs_change_sql = '''\n",
    "    SELECT j.name, i.jur_id,year_simulation,\n",
    "    sum(unit_change) as hs_change, capacity_type\n",
    "      FROM urbansim.urbansim.urbansim_lite_output o \n",
    "      JOIN [isam].[xpef04].[parcel2015_mgra_jur_cpa] i on i.parcel_id = o.parcel_id\n",
    "      JOIN urbansim.ref.jurisdiction j on i.jur_id = j.jurisdiction_id\n",
    "     WHERE run_id =  %s and i = 1\n",
    "     GROUP BY j.name,i.jur_id,capacity_type,year_simulation\n",
    "      ORDER BY j.name,i.jur_id'''\n",
    "hs_change_sql = hs_change_sql % run_id\n",
    "hs = pd.read_sql(hs_change_sql,mssql_engine)"
   ]
  },
  {
   "cell_type": "code",
   "execution_count": null,
   "metadata": {},
   "outputs": [],
   "source": [
    "units_added_by_yr = pd.DataFrame({'subregional_simulation': hs.\n",
    "                                          groupby([\"year_simulation\"])\n",
    "                                          .hs_change.sum()}).reset_index()"
   ]
  },
  {
   "cell_type": "markdown",
   "metadata": {},
   "source": [
    "## compare units added in subregional to housing unit targets in forecast"
   ]
  },
  {
   "cell_type": "code",
   "execution_count": null,
   "metadata": {},
   "outputs": [],
   "source": [
    "units_added_by_yr = pd.DataFrame({'subregional_simulation': hs.\n",
    "                                          groupby([\"year_simulation\"])\n",
    "                                          .hs_change.sum()}).reset_index()\n",
    "housing_units_by_yr = pd.merge(units_needed_df[['yr','housing_units_add']],units_added_by_yr,\\\n",
    "                               left_on='yr',right_on='year_simulation')\n",
    "housing_units_by_yr['housing_units_add'] = housing_units_by_yr['housing_units_add'].astype(int)\n",
    "housing_units_by_yr.rename(columns={\"housing_units_add\": \"forecast\"}, inplace=True)\n",
    "housing_units_by_yr.drop(['year_simulation'], axis=1,inplace=True)\n",
    "housing_units_by_yr.set_index('yr',inplace=True)\n",
    "axes = housing_units_by_yr.plot(style='.-',subplots=True, figsize=(6, 6));\n",
    "ptitle = 'DRAFT Housing Units By Year \\n(version_id=' + \\\n",
    "str(versions['target_housing_units_version']) + ')'\n",
    "axes.flat[0].set_title(ptitle,size=16) \n",
    "axes[0].set_ylabel('housing units')\n",
    "axes[1].set_ylabel('housing units')\n"
   ]
  },
  {
   "cell_type": "markdown",
   "metadata": {},
   "source": [
    "## Housing unit target cumulative sum"
   ]
  },
  {
   "cell_type": "code",
   "execution_count": null,
   "metadata": {},
   "outputs": [],
   "source": [
    "housing_units_by_yr['cumulative sum hs forecast'] = housing_units_by_yr.forecast.cumsum()\n",
    "housing_units_by_yr['cumulative sum simulation'] = housing_units_by_yr.subregional_simulation.cumsum()\n",
    "housing_units_by_yr['diff'] = housing_units_by_yr['forecast'] - housing_units_by_yr['subregional_simulation']\n",
    "housing_units_by_yr"
   ]
  },
  {
   "cell_type": "markdown",
   "metadata": {},
   "source": [
    "## Housing Units by Capacity Type Plot"
   ]
  },
  {
   "cell_type": "markdown",
   "metadata": {},
   "source": [
    "#### replace sgoa subtypes with \"sgoa\""
   ]
  },
  {
   "cell_type": "code",
   "execution_count": null,
   "metadata": {},
   "outputs": [],
   "source": [
    "hs2 = hs.copy()\n",
    "hs2.replace('cc', 'sgoa',inplace=True)\n",
    "hs2.replace('mc', 'sgoa',inplace=True)\n",
    "hs2.replace('tc', 'sgoa',inplace=True)\n",
    "hs2.replace('tco', 'sgoa',inplace=True)\n",
    "hs2.replace('uc', 'sgoa',inplace=True)"
   ]
  },
  {
   "cell_type": "markdown",
   "metadata": {},
   "source": [
    "#### group by year simulation and capacity type and sum unit change"
   ]
  },
  {
   "cell_type": "code",
   "execution_count": null,
   "metadata": {},
   "outputs": [],
   "source": [
    "units_added_by_capacity_type_and_yr = pd.DataFrame({'units_by_type': hs2.\n",
    "                                          groupby([\"year_simulation\",\"capacity_type\"])\n",
    "                                          .hs_change.sum()}).reset_index()"
   ]
  },
  {
   "cell_type": "markdown",
   "metadata": {},
   "source": [
    "#### pivot to make capacity types as columns: 'sch','jur','adu','sgoa'"
   ]
  },
  {
   "cell_type": "code",
   "execution_count": null,
   "metadata": {},
   "outputs": [],
   "source": [
    "type_pivot = units_added_by_capacity_type_and_yr.pivot(index='year_simulation', columns='capacity_type', \\\n",
    "                                                       values='units_by_type').reset_index().rename_axis(None, axis=1)\n",
    "type_pivot.fillna(0,inplace=True)\n",
    "type_pivot.set_index('year_simulation',inplace=True)\n",
    "# cols = ['sch','jur','adu','sgoa']\n",
    "cols = ['sch','jur']\n",
    "type_pivot = type_pivot[cols]\n",
    "type_pivot[cols] = type_pivot[cols].applymap(np.int32)"
   ]
  },
  {
   "cell_type": "code",
   "execution_count": null,
   "metadata": {},
   "outputs": [],
   "source": [
    "# type_pivot = type_pivot.loc[type_pivot.index.isin(list(range(2017,2023)))]"
   ]
  },
  {
   "cell_type": "code",
   "execution_count": null,
   "metadata": {},
   "outputs": [],
   "source": [
    "dirname = os.path.join(os.getcwd(),'plots')#,datetime.datetime.now().strftime('%Y-%m-%d_%H-%M-%S'))\n",
    "try:\n",
    "    os.stat(dirname)\n",
    "except:\n",
    "    os.mkdir(dirname)  "
   ]
  },
  {
   "cell_type": "code",
   "execution_count": null,
   "metadata": {},
   "outputs": [],
   "source": [
    "# NOTE: the width and fig size are important to show adu. \n",
    "# if fig size and width are too small the bar is no longer visible.\n",
    "# see https://stackoverflow.com/questions/47740478/matplotlib-bar-chart-some-bars-are-not-visible-and-seem-to-be-of-different-width\n",
    "\n",
    "\n",
    "plt.style.use('ggplot')\n",
    "#plt.style.use('default')\n",
    "ax = type_pivot.plot(kind='bar',stacked=True,width=0.5,\n",
    "                     #color = ['#ff7f0e','#9467bd','#1f77b4','#2ca02c'],\n",
    "                     color = ['#1f77b4','#ff7f0e','#2ca02c','#d62728'],\n",
    "                     # colormap = 'tab10', #colormap='coolwarm',\\ Paired\n",
    "                     figsize=(18, 8)) #(stacked=True,colormap='Paired')\n",
    "ax.set_ylabel(\"housing units added\",size=20)\n",
    "ax.set_xlabel(\"forecast year\",size=20)\n",
    "ptitle = 'DRAFT Housing Units (' + str(units_added) + ')' + ' By Capacity Type\\nversion id = '\\\n",
    "+ str(versions['target_housing_units_version'])\n",
    "ax.set_title(ptitle,size=20)\n",
    "plt.legend(loc=1, prop={'size': 16})\n",
    "plt.tick_params(axis='both', which='major', labelsize=14) \n",
    "plt.show()\n",
    "fig = ax.get_figure()\n",
    "plotname = dirname + '//' + str(run_id) + 'barplot_region.png'\n",
    "fig.savefig(plotname)"
   ]
  },
  {
   "cell_type": "markdown",
   "metadata": {},
   "source": [
    "### QC \"units to add\" not equal \"units added\""
   ]
  },
  {
   "cell_type": "code",
   "execution_count": null,
   "metadata": {},
   "outputs": [],
   "source": [
    "hu = housing_units_by_yr.copy()\n",
    "hu.rename(columns={\"forecast\":\"hu_forecast\"}, inplace=True)\n",
    "hu.rename(columns={\"subregional_simulation\":\"hu_subregional\"}, inplace=True)\n",
    "hu['DIFF'] = hu.hu_subregional - hu.hu_forecast\n",
    "hu['cum_sum_forecast'] = hu.hu_forecast.cumsum()\n",
    "hu['cum_sum_subregional'] = hu.hu_subregional.cumsum()\n",
    "print('\\n\\nQC: Years that \"Units to Add\" not equal to \"Units Added\"')\n",
    "print(hu.loc[hu.hu_forecast != hu.hu_subregional])"
   ]
  },
  {
   "cell_type": "markdown",
   "metadata": {},
   "source": [
    "### Table: DRAFT Housing Units by Capacity Type (and Percentage of Total Units)"
   ]
  },
  {
   "cell_type": "code",
   "execution_count": null,
   "metadata": {},
   "outputs": [],
   "source": [
    "table_of_units = type_pivot.copy()\n",
    "table_of_units['total_units'] = table_of_units.sum(axis=1)\n",
    "# table_of_units[['sch','jur','adu','sgoa','total_units']] =table_of_units[['sch','jur','adu','sgoa','total_units']].astype(int)\n",
    "table_of_units[['sch','jur','total_units']] =table_of_units[['sch','jur','total_units']].astype(int)\n",
    "# table_of_units['cumulative units'] = table_of_units['total_units'].cumsum()\n",
    "table_of_units.loc['Total']= table_of_units.sum()\n",
    "# table_of_units.loc[table_of_units.index=='Total','cumulative units'] = ''\n",
    "table_of_units"
   ]
  },
  {
   "cell_type": "code",
   "execution_count": null,
   "metadata": {},
   "outputs": [],
   "source": [
    "percent_of_units = type_pivot.copy()\n",
    "percent_of_units['total_units'] = percent_of_units.sum(axis=1)\n",
    "percent_of_units['adu_share_per_year'] = percent_of_units.adu / percent_of_units.total_units\n",
    "percent_of_units['adu_share_per_year'] = (percent_of_units.adu_share_per_year * 100).round(2)\n",
    "percent_of_units['adu_share_per_year'] = percent_of_units['adu_share_per_year'].astype(str) + '%'\n",
    "\n",
    "percent_of_units['sch_share_per_year'] = percent_of_units.sch / percent_of_units.total_units\n",
    "percent_of_units['sch_share_per_year'] = (percent_of_units.sch_share_per_year * 100).round(2)\n",
    "percent_of_units['sch_share_per_year'] = percent_of_units['sch_share_per_year'].astype(str) + '%'\n",
    "\n",
    "percent_of_units['jur_share_per_year'] = percent_of_units.jur / percent_of_units.total_units\n",
    "percent_of_units['jur_share_per_year'] = (percent_of_units.jur_share_per_year * 100).round(2)\n",
    "percent_of_units['jur_share_per_year'] = percent_of_units['jur_share_per_year'].astype(str) + '%'\n",
    "\n",
    "percent_of_units['sgoa_share_per_year'] = percent_of_units.sgoa / percent_of_units.total_units\n",
    "percent_of_units['sgoa_share_per_year'] = (percent_of_units.sgoa_share_per_year * 100).round(2)\n",
    "percent_of_units['sgoa_share_per_year'] = percent_of_units['sgoa_share_per_year'].astype(str) + '%'\n",
    "percent_of_units[['sch_share_per_year','jur_share_per_year','adu_share_per_year','sgoa_share_per_year']]\n",
    "\n"
   ]
  },
  {
   "cell_type": "markdown",
   "metadata": {},
   "source": [
    "### Housing units urbansim.parcel (2017) compared to [isam].[defm].[housing_units] "
   ]
  },
  {
   "cell_type": "code",
   "execution_count": null,
   "metadata": {},
   "outputs": [],
   "source": [
    "du_2017 = capacity_df.du_2017.sum()\n",
    "print(\"\\n Housing units 2017 from urbansim.parcel: {:,}\\n\".format(du_2017))\n",
    "housing_unit_estimates_sql = '''SELECT  [yr],[du]FROM [isam].[defm].[housing_units]'''\n",
    "housing_unit_estimates = pd.read_sql(housing_unit_estimates_sql, mssql_engine)\n",
    "print(\"\\n Housing units 2017 from estimates in defm.housing_units: {:,}\\n\".\\\n",
    "      format(int(housing_unit_estimates.loc[housing_unit_estimates.yr==2017].du)))\n",
    "print(\"\\n DIFFERENCE in housing units urbansim and defm.housing_units: {:,}\\n\".\\\n",
    "      format(int(housing_unit_estimates.loc[housing_unit_estimates.yr==2017].du)\\\n",
    "                - du_2017 ))\n",
    "\n",
    "print(\"\\n Total Housing units 2050: {:,}\\n\\n (= {:,} du 2017 +  {:,} units needed) \\n\".\\\n",
    "      format(du_2017 + units_needed,du_2017,units_needed)) \n",
    "# housing units du_2017 from urbansim.parcel\n",
    "# 1,192,748\n",
    "# housing units from estimates:\n",
    "# 2015: 1,183,211\n",
    "# 2016: 1,194,603\n",
    "# 2017: 1,205,531\n",
    "# 2018: 1,217,060"
   ]
  },
  {
   "cell_type": "code",
   "execution_count": null,
   "metadata": {},
   "outputs": [],
   "source": [
    "### QC HS per year"
   ]
  },
  {
   "cell_type": "code",
   "execution_count": null,
   "metadata": {},
   "outputs": [],
   "source": []
  }
 ],
 "metadata": {
  "kernelspec": {
   "display_name": "Python 3",
   "language": "python",
   "name": "python3"
  },
  "language_info": {
   "codemirror_mode": {
    "name": "ipython",
    "version": 3
   },
   "file_extension": ".py",
   "mimetype": "text/x-python",
   "name": "python",
   "nbconvert_exporter": "python",
   "pygments_lexer": "ipython3",
   "version": "3.6.4"
  }
 },
 "nbformat": 4,
 "nbformat_minor": 2
}
