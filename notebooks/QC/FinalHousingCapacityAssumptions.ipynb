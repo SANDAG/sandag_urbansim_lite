{
 "cells": [
  {
   "cell_type": "markdown",
   "metadata": {},
   "source": [
    "# QC: Results match Capacity Assumptions from TWG meeting and Board"
   ]
  },
  {
   "cell_type": "markdown",
   "metadata": {},
   "source": [
    "Board of Directors Meeting MAY 25, 2018"
   ]
  },
  {
   "cell_type": "markdown",
   "metadata": {},
   "source": [
    "### 509,000 capacity"
   ]
  },
  {
   "cell_type": "markdown",
   "metadata": {},
   "source": [
    "https://www.sandag.org/uploads/meetingid/meetingid_4785_23865.pdf (page 852)"
   ]
  },
  {
   "cell_type": "code",
   "execution_count": 1,
   "metadata": {},
   "outputs": [],
   "source": [
    "import os\n",
    "import sys"
   ]
  },
  {
   "cell_type": "code",
   "execution_count": 2,
   "metadata": {},
   "outputs": [],
   "source": [
    "# append path to find utils module in urbansim\n",
    "cwd = os.getcwd() \n",
    "parentdir =  os.path.abspath(os.path.join(cwd, os.pardir))\n",
    "parentdir2 =  os.path.abspath(os.path.join(parentdir, os.pardir))\n",
    "sys.path.append(parentdir2) # to get path to utils module"
   ]
  },
  {
   "cell_type": "code",
   "execution_count": 3,
   "metadata": {},
   "outputs": [],
   "source": [
    "import pandas as pd\n",
    "import numpy as np\n",
    "import utils"
   ]
  },
  {
   "cell_type": "code",
   "execution_count": 4,
   "metadata": {},
   "outputs": [],
   "source": [
    "from sqlalchemy import create_engine\n",
    "from database import get_connection_string"
   ]
  },
  {
   "cell_type": "code",
   "execution_count": 5,
   "metadata": {},
   "outputs": [],
   "source": [
    "%matplotlib inline"
   ]
  },
  {
   "cell_type": "code",
   "execution_count": 6,
   "metadata": {},
   "outputs": [],
   "source": [
    "# connect to database\n",
    "db_connection_string = get_connection_string('..\\..\\data\\config.yml', 'mssql_db')\n",
    "mssql_engine = create_engine(db_connection_string)"
   ]
  },
  {
   "cell_type": "code",
   "execution_count": 7,
   "metadata": {},
   "outputs": [],
   "source": [
    "# get versions\n",
    "versions = utils.yaml_to_dict('../../data/scenario_config.yaml', 'scenario')"
   ]
  },
  {
   "cell_type": "markdown",
   "metadata": {},
   "source": [
    "### Get board report capacity assumptions"
   ]
  },
  {
   "cell_type": "code",
   "execution_count": 8,
   "metadata": {},
   "outputs": [],
   "source": [
    "d = {'jur_id': range(1,20),\\\n",
    "    'twg2016to2035': [6600, 27700,200,100,3200,2500,11800,3600,9300,1100,5800,6900,1500,202600,11500,3300,400,7100,67800],\\\n",
    "     'twg2036to2050': [2100, 14200,200,200,7400,1100,8800,300,1900,1500,6400,5200,2000,65600,4300,3400,200,3400,7800]}\n",
    "dfboard = pd.DataFrame(data=d)\n",
    "#dfboard['jur_id'] = range(1,20)\n",
    "# dfboard"
   ]
  },
  {
   "cell_type": "code",
   "execution_count": 9,
   "metadata": {},
   "outputs": [],
   "source": [
    "dfboard['twgTotal'] = dfboard.iloc[:, 1:3].sum(1)"
   ]
  },
  {
   "cell_type": "code",
   "execution_count": 10,
   "metadata": {},
   "outputs": [],
   "source": [
    "# dfboard"
   ]
  },
  {
   "cell_type": "markdown",
   "metadata": {},
   "source": [
    "# Get geographies"
   ]
  },
  {
   "cell_type": "code",
   "execution_count": 11,
   "metadata": {},
   "outputs": [],
   "source": [
    "lookup_sql = '''\n",
    "SELECT parcel_id,jur_id\n",
    "FROM [isam].[xpef04].[parcel2015_mgra_jur_cpa] \n",
    "WHERE  i=1'''\n",
    "lookup_df = pd.read_sql(lookup_sql, mssql_engine)\n",
    "jur_name_sql = '''SELECT [jurisdiction_id] as jur_id,[name] as jur_name FROM [urbansim].[ref].[jurisdiction]'''\n",
    "jur_name = pd.read_sql(jur_name_sql,mssql_engine)\n",
    "lookup_df = pd.merge(lookup_df,jur_name,on='jur_id',how='left')"
   ]
  },
  {
   "cell_type": "markdown",
   "metadata": {},
   "source": [
    "# Get units added"
   ]
  },
  {
   "cell_type": "code",
   "execution_count": 12,
   "metadata": {},
   "outputs": [
    {
     "name": "stdout",
     "output_type": "stream",
     "text": [
      "\n",
      "   Max run id : 411\n"
     ]
    }
   ],
   "source": [
    "# get max run id from urbansim\n",
    "run_id_sql = '''\n",
    "SELECT max(run_id)\n",
    "  FROM [urbansim].[urbansim].[urbansim_lite_output]\n",
    "'''\n",
    "run_id_df = pd.read_sql(run_id_sql, mssql_engine)\n",
    "run_id = int(run_id_df.values)\n",
    "print(\"\\n   Max run id : {:,}\".format(run_id))"
   ]
  },
  {
   "cell_type": "code",
   "execution_count": 13,
   "metadata": {},
   "outputs": [],
   "source": [
    "# run_id = input()"
   ]
  },
  {
   "cell_type": "code",
   "execution_count": 14,
   "metadata": {},
   "outputs": [],
   "source": [
    "output_sql = '''\n",
    "    SELECT parcel_id,year_simulation,unit_change\n",
    "    FROM urbansim.urbansim.urbansim_lite_output urbansim_lite_output \n",
    "    WHERE  run_id =  %s'''\n",
    "output_sql = output_sql % run_id\n",
    "output = pd.read_sql(output_sql,mssql_engine)"
   ]
  },
  {
   "cell_type": "code",
   "execution_count": 15,
   "metadata": {},
   "outputs": [
    {
     "name": "stdout",
     "output_type": "stream",
     "text": [
      "units added sum: 418,845\n"
     ]
    }
   ],
   "source": [
    "print(\"units added sum: {:,}\".format(output.unit_change.sum()))"
   ]
  },
  {
   "cell_type": "markdown",
   "metadata": {},
   "source": [
    "## Classify units into two categories based on year added: \"2016 to 2035\" & \"2036 to 2050\""
   ]
  },
  {
   "cell_type": "code",
   "execution_count": 16,
   "metadata": {},
   "outputs": [],
   "source": [
    "output['yr_category'] = 'urb2016to2035'"
   ]
  },
  {
   "cell_type": "code",
   "execution_count": 17,
   "metadata": {},
   "outputs": [],
   "source": [
    "output.loc[output['year_simulation']>2035,'yr_category'] = 'urb2036to2050' "
   ]
  },
  {
   "cell_type": "markdown",
   "metadata": {},
   "source": [
    "##  Add city to output dataframe"
   ]
  },
  {
   "cell_type": "code",
   "execution_count": 18,
   "metadata": {},
   "outputs": [],
   "source": [
    "output = pd.merge(output,lookup_df,on='parcel_id',how='left')"
   ]
  },
  {
   "cell_type": "code",
   "execution_count": 19,
   "metadata": {},
   "outputs": [],
   "source": [
    "# output.head()"
   ]
  },
  {
   "cell_type": "markdown",
   "metadata": {},
   "source": [
    "## Group by jurisdiction and year category and sum unit change"
   ]
  },
  {
   "cell_type": "code",
   "execution_count": 20,
   "metadata": {},
   "outputs": [],
   "source": [
    "df = pd.DataFrame({'unit_change': output.groupby([\"jur_name\",\"jur_id\",\"yr_category\"])\n",
    "                                          .unit_change.sum()}).reset_index()"
   ]
  },
  {
   "cell_type": "code",
   "execution_count": 21,
   "metadata": {},
   "outputs": [
    {
     "data": {
      "text/plain": [
       "418845"
      ]
     },
     "execution_count": 21,
     "metadata": {},
     "output_type": "execute_result"
    }
   ],
   "source": [
    "df.unit_change.sum()\n",
    "#419,558"
   ]
  },
  {
   "cell_type": "code",
   "execution_count": 22,
   "metadata": {},
   "outputs": [],
   "source": [
    "# df.head()"
   ]
  },
  {
   "cell_type": "markdown",
   "metadata": {},
   "source": [
    "## Pivot data so year category is a column and jurisdiction is a row"
   ]
  },
  {
   "cell_type": "code",
   "execution_count": 23,
   "metadata": {},
   "outputs": [],
   "source": [
    "table = pd.pivot_table(df, values='unit_change', index=[ 'jur_id','jur_name'],columns=['yr_category'])"
   ]
  },
  {
   "cell_type": "code",
   "execution_count": 24,
   "metadata": {},
   "outputs": [],
   "source": [
    "table.reset_index(inplace=True)"
   ]
  },
  {
   "cell_type": "code",
   "execution_count": 25,
   "metadata": {},
   "outputs": [],
   "source": [
    "table.columns.name = None"
   ]
  },
  {
   "cell_type": "code",
   "execution_count": 26,
   "metadata": {},
   "outputs": [],
   "source": [
    "# table"
   ]
  },
  {
   "cell_type": "code",
   "execution_count": 27,
   "metadata": {},
   "outputs": [],
   "source": [
    "table['urbTotal'] = table.iloc[:, 2:4].sum(1)"
   ]
  },
  {
   "cell_type": "code",
   "execution_count": 28,
   "metadata": {},
   "outputs": [
    {
     "data": {
      "text/plain": [
       "418845"
      ]
     },
     "execution_count": 28,
     "metadata": {},
     "output_type": "execute_result"
    }
   ],
   "source": [
    "table.urbTotal.sum()\n",
    "#419558"
   ]
  },
  {
   "cell_type": "code",
   "execution_count": 29,
   "metadata": {},
   "outputs": [],
   "source": [
    "table_w_boardreport = pd.merge(dfboard,table,on='jur_id',how='left')"
   ]
  },
  {
   "cell_type": "code",
   "execution_count": 30,
   "metadata": {},
   "outputs": [],
   "source": [
    "table_w_boardreport.loc['Total']= table_w_boardreport.sum()"
   ]
  },
  {
   "cell_type": "code",
   "execution_count": 31,
   "metadata": {},
   "outputs": [],
   "source": [
    "table_w_boardreport.loc[table_w_boardreport.jur_id==190,'jur_name'] = 'Region'"
   ]
  },
  {
   "cell_type": "code",
   "execution_count": 32,
   "metadata": {},
   "outputs": [],
   "source": [
    "table_w_boardreport['jur_id'] = table_w_boardreport['jur_id'].astype('int')"
   ]
  },
  {
   "cell_type": "code",
   "execution_count": 33,
   "metadata": {},
   "outputs": [],
   "source": [
    "table_w_boardreport.loc[table_w_boardreport.jur_id==190,'jur_id'] = 'Total'"
   ]
  },
  {
   "cell_type": "code",
   "execution_count": 34,
   "metadata": {},
   "outputs": [],
   "source": [
    "table_w_boardreport.set_index(['jur_id'],inplace=True)"
   ]
  },
  {
   "cell_type": "code",
   "execution_count": 35,
   "metadata": {},
   "outputs": [],
   "source": [
    "# table_w_boardreport"
   ]
  },
  {
   "cell_type": "code",
   "execution_count": 36,
   "metadata": {},
   "outputs": [],
   "source": [
    "t2016to2035 = table_w_boardreport[['jur_name','twg2016to2035','urb2016to2035']].copy()"
   ]
  },
  {
   "cell_type": "code",
   "execution_count": 37,
   "metadata": {},
   "outputs": [],
   "source": [
    "t2016to2035['remaining2016to2035'] = t2016to2035['twg2016to2035'] - t2016to2035['urb2016to2035']"
   ]
  },
  {
   "cell_type": "code",
   "execution_count": 38,
   "metadata": {},
   "outputs": [],
   "source": [
    "# t2016to2035"
   ]
  },
  {
   "cell_type": "code",
   "execution_count": 39,
   "metadata": {},
   "outputs": [],
   "source": [
    "num_remaining2016to2035 = len(t2016to2035.loc[t2016to2035.remaining2016to2035<0])"
   ]
  },
  {
   "cell_type": "code",
   "execution_count": 40,
   "metadata": {},
   "outputs": [],
   "source": [
    "t2036to2050 = table_w_boardreport[['jur_name','twg2036to2050','urb2036to2050']].copy()"
   ]
  },
  {
   "cell_type": "code",
   "execution_count": 41,
   "metadata": {},
   "outputs": [],
   "source": [
    "t2036to2050['remaining2036to2050'] = t2036to2050['twg2036to2050'] - t2036to2050['urb2036to2050']"
   ]
  },
  {
   "cell_type": "code",
   "execution_count": 42,
   "metadata": {},
   "outputs": [],
   "source": [
    "t2016to2050 = table_w_boardreport[['jur_name','twg2016to2035','urb2016to2035','twg2036to2050','urb2036to2050']].copy()\n",
    "t2016to2050['remaining2016to2035'] = t2016to2050['twg2016to2035'] - t2016to2050['urb2016to2035']\n",
    "t2016to2050['remaining2036to2050'] = t2016to2050['twg2036to2050'] - t2016to2050['urb2036to2050']"
   ]
  },
  {
   "cell_type": "code",
   "execution_count": 43,
   "metadata": {},
   "outputs": [],
   "source": [
    "# t2036to2050"
   ]
  },
  {
   "cell_type": "code",
   "execution_count": 44,
   "metadata": {},
   "outputs": [],
   "source": [
    "num_remaining2036to2050 = len(t2036to2050.loc[t2036to2050.remaining2036to2050<0])"
   ]
  },
  {
   "cell_type": "code",
   "execution_count": 45,
   "metadata": {},
   "outputs": [],
   "source": [
    "tTotal = table_w_boardreport[['jur_name','twgTotal','urbTotal']].copy()"
   ]
  },
  {
   "cell_type": "code",
   "execution_count": 46,
   "metadata": {},
   "outputs": [],
   "source": [
    "tTotal['remaining'] = tTotal['twgTotal'] - tTotal['urbTotal']"
   ]
  },
  {
   "cell_type": "code",
   "execution_count": 47,
   "metadata": {},
   "outputs": [],
   "source": [
    "# tTotal"
   ]
  },
  {
   "cell_type": "code",
   "execution_count": 48,
   "metadata": {},
   "outputs": [],
   "source": [
    "num_remaining = len(tTotal.loc[tTotal.remaining<0])"
   ]
  },
  {
   "cell_type": "code",
   "execution_count": 49,
   "metadata": {},
   "outputs": [
    {
     "name": "stdout",
     "output_type": "stream",
     "text": [
      "From Board Report with 509,000 capacity\n"
     ]
    },
    {
     "data": {
      "text/html": [
       "<div>\n",
       "<style scoped>\n",
       "    .dataframe tbody tr th:only-of-type {\n",
       "        vertical-align: middle;\n",
       "    }\n",
       "\n",
       "    .dataframe tbody tr th {\n",
       "        vertical-align: top;\n",
       "    }\n",
       "\n",
       "    .dataframe thead th {\n",
       "        text-align: right;\n",
       "    }\n",
       "</style>\n",
       "<table border=\"1\" class=\"dataframe\">\n",
       "  <thead>\n",
       "    <tr style=\"text-align: right;\">\n",
       "      <th></th>\n",
       "      <th>jur_name</th>\n",
       "      <th>twg2016to2035</th>\n",
       "      <th>twg2036to2050</th>\n",
       "      <th>twgTotal</th>\n",
       "      <th>urb2016to2035</th>\n",
       "      <th>urb2036to2050</th>\n",
       "      <th>urbTotal</th>\n",
       "    </tr>\n",
       "    <tr>\n",
       "      <th>jur_id</th>\n",
       "      <th></th>\n",
       "      <th></th>\n",
       "      <th></th>\n",
       "      <th></th>\n",
       "      <th></th>\n",
       "      <th></th>\n",
       "      <th></th>\n",
       "    </tr>\n",
       "  </thead>\n",
       "  <tbody>\n",
       "    <tr>\n",
       "      <th>1</th>\n",
       "      <td>Carlsbad</td>\n",
       "      <td>6600</td>\n",
       "      <td>2100</td>\n",
       "      <td>8700</td>\n",
       "      <td>5173</td>\n",
       "      <td>2468</td>\n",
       "      <td>7641</td>\n",
       "    </tr>\n",
       "    <tr>\n",
       "      <th>2</th>\n",
       "      <td>Chula Vista</td>\n",
       "      <td>27700</td>\n",
       "      <td>14200</td>\n",
       "      <td>41900</td>\n",
       "      <td>9214</td>\n",
       "      <td>21786</td>\n",
       "      <td>31000</td>\n",
       "    </tr>\n",
       "    <tr>\n",
       "      <th>3</th>\n",
       "      <td>Coronado</td>\n",
       "      <td>200</td>\n",
       "      <td>200</td>\n",
       "      <td>400</td>\n",
       "      <td>106</td>\n",
       "      <td>291</td>\n",
       "      <td>397</td>\n",
       "    </tr>\n",
       "    <tr>\n",
       "      <th>4</th>\n",
       "      <td>Del Mar</td>\n",
       "      <td>100</td>\n",
       "      <td>200</td>\n",
       "      <td>300</td>\n",
       "      <td>44</td>\n",
       "      <td>84</td>\n",
       "      <td>128</td>\n",
       "    </tr>\n",
       "    <tr>\n",
       "      <th>5</th>\n",
       "      <td>El Cajon</td>\n",
       "      <td>3200</td>\n",
       "      <td>7400</td>\n",
       "      <td>10600</td>\n",
       "      <td>2917</td>\n",
       "      <td>1937</td>\n",
       "      <td>4854</td>\n",
       "    </tr>\n",
       "    <tr>\n",
       "      <th>6</th>\n",
       "      <td>Encinitas</td>\n",
       "      <td>2500</td>\n",
       "      <td>1100</td>\n",
       "      <td>3600</td>\n",
       "      <td>1442</td>\n",
       "      <td>1652</td>\n",
       "      <td>3094</td>\n",
       "    </tr>\n",
       "    <tr>\n",
       "      <th>7</th>\n",
       "      <td>Escondido</td>\n",
       "      <td>11800</td>\n",
       "      <td>8800</td>\n",
       "      <td>20600</td>\n",
       "      <td>9183</td>\n",
       "      <td>5500</td>\n",
       "      <td>14683</td>\n",
       "    </tr>\n",
       "    <tr>\n",
       "      <th>8</th>\n",
       "      <td>Imperial Beach</td>\n",
       "      <td>3600</td>\n",
       "      <td>300</td>\n",
       "      <td>3900</td>\n",
       "      <td>2894</td>\n",
       "      <td>674</td>\n",
       "      <td>3568</td>\n",
       "    </tr>\n",
       "    <tr>\n",
       "      <th>9</th>\n",
       "      <td>La Mesa</td>\n",
       "      <td>9300</td>\n",
       "      <td>1900</td>\n",
       "      <td>11200</td>\n",
       "      <td>7653</td>\n",
       "      <td>2705</td>\n",
       "      <td>10358</td>\n",
       "    </tr>\n",
       "    <tr>\n",
       "      <th>10</th>\n",
       "      <td>Lemon Grove</td>\n",
       "      <td>1100</td>\n",
       "      <td>1500</td>\n",
       "      <td>2600</td>\n",
       "      <td>717</td>\n",
       "      <td>792</td>\n",
       "      <td>1509</td>\n",
       "    </tr>\n",
       "    <tr>\n",
       "      <th>11</th>\n",
       "      <td>National City</td>\n",
       "      <td>5800</td>\n",
       "      <td>6400</td>\n",
       "      <td>12200</td>\n",
       "      <td>4668</td>\n",
       "      <td>1970</td>\n",
       "      <td>6638</td>\n",
       "    </tr>\n",
       "    <tr>\n",
       "      <th>12</th>\n",
       "      <td>Oceanside</td>\n",
       "      <td>6900</td>\n",
       "      <td>5200</td>\n",
       "      <td>12100</td>\n",
       "      <td>7119</td>\n",
       "      <td>1575</td>\n",
       "      <td>8694</td>\n",
       "    </tr>\n",
       "    <tr>\n",
       "      <th>13</th>\n",
       "      <td>Poway</td>\n",
       "      <td>1500</td>\n",
       "      <td>2000</td>\n",
       "      <td>3500</td>\n",
       "      <td>1367</td>\n",
       "      <td>866</td>\n",
       "      <td>2233</td>\n",
       "    </tr>\n",
       "    <tr>\n",
       "      <th>14</th>\n",
       "      <td>San Diego</td>\n",
       "      <td>202600</td>\n",
       "      <td>65600</td>\n",
       "      <td>268200</td>\n",
       "      <td>162981</td>\n",
       "      <td>61027</td>\n",
       "      <td>224008</td>\n",
       "    </tr>\n",
       "    <tr>\n",
       "      <th>15</th>\n",
       "      <td>San Marcos</td>\n",
       "      <td>11500</td>\n",
       "      <td>4300</td>\n",
       "      <td>15800</td>\n",
       "      <td>4025</td>\n",
       "      <td>8137</td>\n",
       "      <td>12162</td>\n",
       "    </tr>\n",
       "    <tr>\n",
       "      <th>16</th>\n",
       "      <td>Santee</td>\n",
       "      <td>3300</td>\n",
       "      <td>3400</td>\n",
       "      <td>6700</td>\n",
       "      <td>3306</td>\n",
       "      <td>995</td>\n",
       "      <td>4301</td>\n",
       "    </tr>\n",
       "    <tr>\n",
       "      <th>17</th>\n",
       "      <td>Solana Beach</td>\n",
       "      <td>400</td>\n",
       "      <td>200</td>\n",
       "      <td>600</td>\n",
       "      <td>313</td>\n",
       "      <td>283</td>\n",
       "      <td>596</td>\n",
       "    </tr>\n",
       "    <tr>\n",
       "      <th>18</th>\n",
       "      <td>Vista</td>\n",
       "      <td>7100</td>\n",
       "      <td>3400</td>\n",
       "      <td>10500</td>\n",
       "      <td>5398</td>\n",
       "      <td>2652</td>\n",
       "      <td>8050</td>\n",
       "    </tr>\n",
       "    <tr>\n",
       "      <th>19</th>\n",
       "      <td>Unincorporated</td>\n",
       "      <td>67800</td>\n",
       "      <td>7800</td>\n",
       "      <td>75600</td>\n",
       "      <td>54979</td>\n",
       "      <td>19952</td>\n",
       "      <td>74931</td>\n",
       "    </tr>\n",
       "    <tr>\n",
       "      <th>Total</th>\n",
       "      <td>Region</td>\n",
       "      <td>373000</td>\n",
       "      <td>136000</td>\n",
       "      <td>509000</td>\n",
       "      <td>283499</td>\n",
       "      <td>135346</td>\n",
       "      <td>418845</td>\n",
       "    </tr>\n",
       "  </tbody>\n",
       "</table>\n",
       "</div>"
      ],
      "text/plain": [
       "              jur_name  twg2016to2035  twg2036to2050  twgTotal  urb2016to2035  \\\n",
       "jur_id                                                                          \n",
       "1             Carlsbad           6600           2100      8700           5173   \n",
       "2          Chula Vista          27700          14200     41900           9214   \n",
       "3             Coronado            200            200       400            106   \n",
       "4              Del Mar            100            200       300             44   \n",
       "5             El Cajon           3200           7400     10600           2917   \n",
       "6            Encinitas           2500           1100      3600           1442   \n",
       "7            Escondido          11800           8800     20600           9183   \n",
       "8       Imperial Beach           3600            300      3900           2894   \n",
       "9              La Mesa           9300           1900     11200           7653   \n",
       "10         Lemon Grove           1100           1500      2600            717   \n",
       "11       National City           5800           6400     12200           4668   \n",
       "12           Oceanside           6900           5200     12100           7119   \n",
       "13               Poway           1500           2000      3500           1367   \n",
       "14           San Diego         202600          65600    268200         162981   \n",
       "15          San Marcos          11500           4300     15800           4025   \n",
       "16              Santee           3300           3400      6700           3306   \n",
       "17        Solana Beach            400            200       600            313   \n",
       "18               Vista           7100           3400     10500           5398   \n",
       "19      Unincorporated          67800           7800     75600          54979   \n",
       "Total           Region         373000         136000    509000         283499   \n",
       "\n",
       "        urb2036to2050  urbTotal  \n",
       "jur_id                           \n",
       "1                2468      7641  \n",
       "2               21786     31000  \n",
       "3                 291       397  \n",
       "4                  84       128  \n",
       "5                1937      4854  \n",
       "6                1652      3094  \n",
       "7                5500     14683  \n",
       "8                 674      3568  \n",
       "9                2705     10358  \n",
       "10                792      1509  \n",
       "11               1970      6638  \n",
       "12               1575      8694  \n",
       "13                866      2233  \n",
       "14              61027    224008  \n",
       "15               8137     12162  \n",
       "16                995      4301  \n",
       "17                283       596  \n",
       "18               2652      8050  \n",
       "19              19952     74931  \n",
       "Total          135346    418845  "
      ]
     },
     "execution_count": 49,
     "metadata": {},
     "output_type": "execute_result"
    }
   ],
   "source": [
    "print('From Board Report with 509,000 capacity')\n",
    "table_w_boardreport[['jur_name','twg2016to2035','twg2036to2050','twgTotal','urb2016to2035','urb2036to2050','urbTotal']]"
   ]
  },
  {
   "cell_type": "markdown",
   "metadata": {},
   "source": [
    "#### Note: over the entire forecast period all cities are below the capacity assumptions in the board report, except Unincorporated"
   ]
  },
  {
   "cell_type": "markdown",
   "metadata": {},
   "source": [
    "#### Remaining capacity in the first increment (2016 to 2035) is used in the second increment (2036 to 2050)"
   ]
  },
  {
   "cell_type": "markdown",
   "metadata": {},
   "source": [
    "#### Thus the total capacity used in the later period (2036 to 2050) is greater than the board report"
   ]
  },
  {
   "cell_type": "code",
   "execution_count": 50,
   "metadata": {},
   "outputs": [
    {
     "name": "stdout",
     "output_type": "stream",
     "text": [
      "\n",
      "for run id : 411\n",
      "\n",
      "\n",
      "\n",
      "QC Fail: Urbansim units are not less than the board report capacity assumptions\n",
      "\n",
      "\n",
      "\n",
      "\n",
      "Failed Cities 2016 to 2035:\n",
      "\n",
      "\n",
      "         jur_name  twg2016to2035  urb2016to2035  remaining2016to2035\n",
      "jur_id                                                              \n",
      "12      Oceanside           6900           7119                 -219\n",
      "16         Santee           3300           3306                   -6\n",
      "\n",
      "\n",
      "Failed Cities 2036 to 2050:\n",
      "\n",
      "\n",
      "              jur_name  twg2016to2035  urb2016to2035  twg2036to2050  \\\n",
      "jur_id                                                                \n",
      "1             Carlsbad           6600           5173           2100   \n",
      "2          Chula Vista          27700           9214          14200   \n",
      "3             Coronado            200            106            200   \n",
      "6            Encinitas           2500           1442           1100   \n",
      "8       Imperial Beach           3600           2894            300   \n",
      "9              La Mesa           9300           7653           1900   \n",
      "15          San Marcos          11500           4025           4300   \n",
      "17        Solana Beach            400            313            200   \n",
      "19      Unincorporated          67800          54979           7800   \n",
      "\n",
      "        urb2036to2050  remaining2016to2035  remaining2036to2050  \n",
      "jur_id                                                           \n",
      "1                2468                 1427                 -368  \n",
      "2               21786                18486                -7586  \n",
      "3                 291                   94                  -91  \n",
      "6                1652                 1058                 -552  \n",
      "8                 674                  706                 -374  \n",
      "9                2705                 1647                 -805  \n",
      "15               8137                 7475                -3837  \n",
      "17                283                   87                  -83  \n",
      "19              19952                12821               -12152  \n",
      "\n",
      "\n",
      "\n",
      "QC Fail\n",
      "\n",
      "\n"
     ]
    }
   ],
   "source": [
    "if (num_remaining + num_remaining2036to2050 + num_remaining2016to2035) == 0:\n",
    "    print(\"for run id : {:,}\\n\".format(run_id))\n",
    "    print('\\n\\nQC Pass: Urbansim units matches board report capacity assumptions\\n\\n')\n",
    "else:\n",
    "    print(\"\\nfor run id : {:,}\\n\".format(run_id))\n",
    "    print('\\n\\nQC Fail: Urbansim units are not less than the board report capacity assumptions\\n\\n')\n",
    "    if num_remaining2016to2035 > 0:\n",
    "        print('\\n\\nFailed Cities 2016 to 2035:\\n\\n')\n",
    "        print(t2016to2035.loc[t2016to2035.remaining2016to2035<0])\n",
    "    if num_remaining2036to2050 > 0:\n",
    "        print('\\n\\nFailed Cities 2036 to 2050:\\n\\n')\n",
    "        print(t2016to2050.loc[t2016to2050.remaining2036to2050<0])\n",
    "    if num_remaining > 0:\n",
    "        print('\\n\\n\\n\\nFailed Cities Total over entire forecast: 2016 to 2050:\\n\\n')\n",
    "        print(tTotal.loc[tTotal.remaining<0])\n",
    "    print('\\n\\n\\nQC Fail\\n\\n')"
   ]
  },
  {
   "cell_type": "code",
   "execution_count": null,
   "metadata": {},
   "outputs": [],
   "source": []
  }
 ],
 "metadata": {
  "kernelspec": {
   "display_name": "Python 3",
   "language": "python",
   "name": "python3"
  },
  "language_info": {
   "codemirror_mode": {
    "name": "ipython",
    "version": 3
   },
   "file_extension": ".py",
   "mimetype": "text/x-python",
   "name": "python",
   "nbconvert_exporter": "python",
   "pygments_lexer": "ipython3",
   "version": "3.6.4"
  }
 },
 "nbformat": 4,
 "nbformat_minor": 2
}
