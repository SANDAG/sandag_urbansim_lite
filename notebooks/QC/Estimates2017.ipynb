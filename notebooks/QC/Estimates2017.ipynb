{
 "cells": [
  {
   "cell_type": "markdown",
   "metadata": {},
   "source": [
    "## QC: Units 2017 match to Estimates"
   ]
  },
  {
   "cell_type": "markdown",
   "metadata": {},
   "source": [
    "###  Urbansim 2017 units should match 2017 housing unit by Jurisdiction"
   ]
  },
  {
   "cell_type": "code",
   "execution_count": null,
   "metadata": {},
   "outputs": [],
   "source": [
    "import os\n",
    "import sys"
   ]
  },
  {
   "cell_type": "code",
   "execution_count": null,
   "metadata": {},
   "outputs": [],
   "source": [
    "# append path to find utils module in urbansim\n",
    "cwd = os.getcwd() \n",
    "parentdir =  os.path.abspath(os.path.join(cwd, os.pardir))\n",
    "parentdir2 =  os.path.abspath(os.path.join(parentdir, os.pardir))\n",
    "sys.path.append(parentdir2) # to get path to utils module"
   ]
  },
  {
   "cell_type": "code",
   "execution_count": null,
   "metadata": {},
   "outputs": [],
   "source": [
    "import pandas as pd\n",
    "import utils"
   ]
  },
  {
   "cell_type": "code",
   "execution_count": null,
   "metadata": {},
   "outputs": [],
   "source": [
    "from sqlalchemy import create_engine\n",
    "from database import get_connection_string"
   ]
  },
  {
   "cell_type": "code",
   "execution_count": null,
   "metadata": {},
   "outputs": [],
   "source": [
    "%matplotlib inline"
   ]
  },
  {
   "cell_type": "code",
   "execution_count": null,
   "metadata": {},
   "outputs": [],
   "source": [
    "# connect to database\n",
    "db_connection_string = get_connection_string('..\\..\\data\\config.yml', 'mssql_db')\n",
    "mssql_engine = create_engine(db_connection_string)"
   ]
  },
  {
   "cell_type": "code",
   "execution_count": null,
   "metadata": {},
   "outputs": [],
   "source": [
    "# get versions\n",
    "versions = utils.yaml_to_dict('../../data/scenario_config.yaml', 'scenario')"
   ]
  },
  {
   "cell_type": "code",
   "execution_count": null,
   "metadata": {},
   "outputs": [],
   "source": [
    "# get max run id from urbansim\n",
    "run_id_sql = '''\n",
    "SELECT max(run_id)\n",
    "  FROM [urbansim].[urbansim].[urbansim_lite_output]\n",
    "'''\n",
    "run_id_df = pd.read_sql(run_id_sql, mssql_engine)\n",
    "run_id = int(run_id_df.values)\n",
    "print(\"\\n   Max run id : {:,}\".format(run_id))"
   ]
  },
  {
   "cell_type": "code",
   "execution_count": null,
   "metadata": {},
   "outputs": [],
   "source": [
    "output_sql = '''\n",
    "SELECT jurisdiction.name,  \n",
    "           parcel2015_mgra_jur_cpa.jur_id,\n",
    "           sum(unit_change) as unit_change\n",
    "    FROM urbansim.urbansim.urbansim_lite_output urbansim_lite_output \n",
    "    JOIN [isam].[xpef04].[parcel2015_mgra_jur_cpa] parcel2015_mgra_jur_cpa \n",
    "        ON parcel2015_mgra_jur_cpa.parcel_id = urbansim_lite_output.parcel_id\n",
    "    JOIN urbansim.ref.jurisdiction jurisdiction\n",
    "        ON parcel2015_mgra_jur_cpa.jur_id = jurisdiction.jurisdiction_id\n",
    "    WHERE  i = 1 and run_id =  %s and year_simulation = 2017\n",
    "    GROUP BY jurisdiction.name,parcel2015_mgra_jur_cpa.jur_id\n",
    "    ORDER BY jurisdiction.name,parcel2015_mgra_jur_cpa.jur_id'''\n",
    "output_sql = output_sql % run_id\n",
    "output = pd.read_sql(output_sql,mssql_engine)"
   ]
  },
  {
   "cell_type": "code",
   "execution_count": null,
   "metadata": {},
   "outputs": [],
   "source": [
    "targets2017_sql = '''\n",
    "SELECT [jurisdiction_id] as jur_id\n",
    "      ,[housing_units_add] AS target_units\n",
    "  FROM [urbansim].[urbansim].[urbansim_target_hu_jur]\n",
    "  WHERE [version_id] = %s\n",
    "  ORDER BY [yr], [jurisdiction_id]\n",
    "'''\n",
    "targets2017_sql = targets2017_sql % versions['subregional_targets_id']\n",
    "targets2017 = pd.read_sql(targets2017_sql, mssql_engine)"
   ]
  },
  {
   "cell_type": "code",
   "execution_count": null,
   "metadata": {},
   "outputs": [],
   "source": [
    "jur2017 = pd.merge(targets2017,output,on='jur_id')\n",
    "jur2017.drop(['jur_id'], axis=1,inplace=True)"
   ]
  },
  {
   "cell_type": "code",
   "execution_count": null,
   "metadata": {},
   "outputs": [],
   "source": [
    "jur2017.set_index('name',inplace=True)\n",
    "jur2017"
   ]
  },
  {
   "cell_type": "markdown",
   "metadata": {},
   "source": [
    "# QC Pass/Fail"
   ]
  },
  {
   "cell_type": "code",
   "execution_count": null,
   "metadata": {},
   "outputs": [],
   "source": [
    "jur2017['diff'] =jur2017['target_units'] - jur2017['unit_change']\n",
    "unit_diff = jur2017['diff'].sum()\n",
    "if unit_diff !=0:\n",
    "    print('\\n\\nQC Fail: Urbansim units 2017 by City does not matches estimates\\n\\n')\n",
    "else:\n",
    "    print('\\n\\nQC Pass\\n\\n    Urbansim units 2017 by City matches estimates\\n\\n')\n",
    "#housing_units_by_yr"
   ]
  },
  {
   "cell_type": "markdown",
   "metadata": {},
   "source": [
    "###  plot results of QC"
   ]
  },
  {
   "cell_type": "code",
   "execution_count": null,
   "metadata": {},
   "outputs": [],
   "source": [
    "axes = jur2017.plot(style='.-',subplots=True, figsize=(6, 6));\n",
    "# axes.set_xticklabels(x, rotation = 45)\n",
    "#ptitle = 'DRAFT Estimates 2017 by City \\n(version_id=' + \\\n",
    "#str(versions['subregional_targets_id']) + ')'\n",
    "##axes.flat[0].set_title(ptitle,size=16) \n",
    "#axes[0].set_ylabel('housing units')\n",
    "#axes[1].set_ylabel('housing units')"
   ]
  },
  {
   "cell_type": "markdown",
   "metadata": {},
   "source": [
    "### tabular results of QC"
   ]
  },
  {
   "cell_type": "code",
   "execution_count": null,
   "metadata": {},
   "outputs": [],
   "source": [
    "jur2017"
   ]
  },
  {
   "cell_type": "code",
   "execution_count": null,
   "metadata": {},
   "outputs": [],
   "source": []
  }
 ],
 "metadata": {
  "kernelspec": {
   "display_name": "Python 3",
   "language": "python",
   "name": "python3"
  },
  "language_info": {
   "codemirror_mode": {
    "name": "ipython",
    "version": 3
   },
   "file_extension": ".py",
   "mimetype": "text/x-python",
   "name": "python",
   "nbconvert_exporter": "python",
   "pygments_lexer": "ipython3",
   "version": "3.6.4"
  }
 },
 "nbformat": 4,
 "nbformat_minor": 2
}
