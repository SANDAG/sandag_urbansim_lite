{
 "cells": [
  {
   "cell_type": "markdown",
   "metadata": {},
   "source": [
    "# Capacity and Targets"
   ]
  },
  {
   "cell_type": "code",
   "execution_count": null,
   "metadata": {},
   "outputs": [],
   "source": [
    "import os\n",
    "import sys"
   ]
  },
  {
   "cell_type": "code",
   "execution_count": null,
   "metadata": {},
   "outputs": [],
   "source": [
    "# append path to find utils module in urbansim\n",
    "cwd = os.getcwd() \n",
    "parentdir =  os.path.abspath(os.path.join(cwd, os.pardir))\n",
    "parentdir2 =  os.path.abspath(os.path.join(parentdir, os.pardir))\n",
    "sys.path.append(parentdir2) # to get path to utils module"
   ]
  },
  {
   "cell_type": "code",
   "execution_count": null,
   "metadata": {},
   "outputs": [],
   "source": [
    "import pandas as pd\n",
    "import numpy as np\n",
    "import utils"
   ]
  },
  {
   "cell_type": "code",
   "execution_count": null,
   "metadata": {},
   "outputs": [],
   "source": [
    "from sqlalchemy import create_engine\n",
    "from database import get_connection_string"
   ]
  },
  {
   "cell_type": "code",
   "execution_count": null,
   "metadata": {},
   "outputs": [],
   "source": [
    "%matplotlib inline"
   ]
  },
  {
   "cell_type": "code",
   "execution_count": null,
   "metadata": {},
   "outputs": [],
   "source": [
    "# connect to database\n",
    "db_connection_string = get_connection_string('..\\..\\data\\config.yml', 'mssql_db')\n",
    "mssql_engine = create_engine(db_connection_string)"
   ]
  },
  {
   "cell_type": "code",
   "execution_count": null,
   "metadata": {},
   "outputs": [],
   "source": [
    "# get versions\n",
    "versions = utils.yaml_to_dict('../../data/scenario_config.yaml', 'scenario')"
   ]
  },
  {
   "cell_type": "markdown",
   "metadata": {},
   "source": [
    "# Get Capacity"
   ]
  },
  {
   "cell_type": "code",
   "execution_count": null,
   "metadata": {},
   "outputs": [],
   "source": [
    "capacity_sql = '''\n",
    "SELECT jcpa,jcpa_name,COALESCE(sum(du),0) + sum(COALESCE(capacity_3,capacity_2)) as capacity\n",
    "    FROM [urbansim].[urbansim].[parcel]\n",
    "    JOIN [urbansim].[ref].[vi_parcel_geo_names]\n",
    "    ON vi_parcel_geo_names.parcel_id = parcel.parcel_id\n",
    "    LEFT JOIN  [urbansim].[urbansim].[scheduled_development_parcel]\n",
    "    ON scheduled_development_parcel.parcel_id = parcel.parcel_id\n",
    "    LEFT JOIN   (SELECT * FROM [urbansim].[urbansim].[additional_capacity]\n",
    "                WHERE additional_capacity.version_id = %s) as additional_cap\n",
    "    ON additional_cap.parcel_id = parcel.parcel_id\n",
    "    GROUP BY jcpa,jcpa_name'''\n",
    "capacity_sql = capacity_sql % versions['additional_capacity_version']\n",
    "allcapacity = pd.read_sql(capacity_sql,mssql_engine)\n",
    "#531591.0"
   ]
  },
  {
   "cell_type": "code",
   "execution_count": null,
   "metadata": {},
   "outputs": [],
   "source": [
    "allcapacity.capacity.sum()"
   ]
  },
  {
   "cell_type": "code",
   "execution_count": null,
   "metadata": {},
   "outputs": [],
   "source": [
    "allcapacity.head(2)"
   ]
  },
  {
   "cell_type": "code",
   "execution_count": null,
   "metadata": {},
   "outputs": [],
   "source": [
    "len(allcapacity)"
   ]
  },
  {
   "cell_type": "markdown",
   "metadata": {},
   "source": [
    "# target housing units"
   ]
  },
  {
   "cell_type": "code",
   "execution_count": null,
   "metadata": {},
   "outputs": [],
   "source": [
    "hu_sql = '''\n",
    "   SELECT  [version_id]\n",
    "      ,[yr]\n",
    "      ,[housing_units_add]\n",
    "  FROM [urbansim].[urbansim].[urbansim_target_housing_units]\n",
    "  where version_id =%s'''\n",
    "hu_sql = hu_sql % versions['target_housing_units_version']\n",
    "hu = pd.read_sql(hu_sql,mssql_engine)"
   ]
  },
  {
   "cell_type": "code",
   "execution_count": null,
   "metadata": {},
   "outputs": [],
   "source": [
    "hu.head(2)"
   ]
  },
  {
   "cell_type": "code",
   "execution_count": null,
   "metadata": {},
   "outputs": [],
   "source": [
    "hu.housing_units_add.sum()"
   ]
  },
  {
   "cell_type": "markdown",
   "metadata": {},
   "source": [
    "## remaining capacity"
   ]
  },
  {
   "cell_type": "code",
   "execution_count": null,
   "metadata": {},
   "outputs": [],
   "source": [
    "allcapacity.capacity.sum() - hu.housing_units_add.sum()"
   ]
  },
  {
   "cell_type": "markdown",
   "metadata": {},
   "source": [
    "## subregional controls"
   ]
  },
  {
   "cell_type": "code",
   "execution_count": null,
   "metadata": {},
   "outputs": [],
   "source": [
    "subregion_sql = '''\n",
    "  SELECT  [subregional_crtl_id]\n",
    "      ,[yr]\n",
    "      ,[geo_id] as jcpa\n",
    "      ,[control]\n",
    "      ,[scenario_desc]\n",
    "  FROM [urbansim].[urbansim].[urbansim_lite_subreg_control]\n",
    "  where subregional_crtl_id = %s\n",
    "  order by yr,geo_id'''\n",
    "subregion_sql = subregion_sql % versions['subregional_ctrl_id']\n",
    "subregion = pd.read_sql(subregion_sql,mssql_engine)"
   ]
  },
  {
   "cell_type": "markdown",
   "metadata": {},
   "source": [
    "# units by year"
   ]
  },
  {
   "cell_type": "code",
   "execution_count": null,
   "metadata": {},
   "outputs": [],
   "source": [
    "targets = pd.merge(hu,subregion,on='yr',how='left')"
   ]
  },
  {
   "cell_type": "code",
   "execution_count": null,
   "metadata": {},
   "outputs": [],
   "source": [
    "targets['units'] = targets['control'] * targets['housing_units_add']"
   ]
  },
  {
   "cell_type": "code",
   "execution_count": null,
   "metadata": {},
   "outputs": [],
   "source": [
    "targets.head(2)"
   ]
  },
  {
   "cell_type": "markdown",
   "metadata": {},
   "source": [
    "# cumulative sum of units"
   ]
  },
  {
   "cell_type": "code",
   "execution_count": null,
   "metadata": {},
   "outputs": [],
   "source": [
    "targets['cumsum_of_units'] = (targets.groupby(by=['jcpa'])['units'].cumsum()).round(2)"
   ]
  },
  {
   "cell_type": "code",
   "execution_count": null,
   "metadata": {},
   "outputs": [],
   "source": [
    "target_and_capacity = pd.merge(targets[['yr','jcpa','units','cumsum_of_units']],allcapacity,on='jcpa',how='left')"
   ]
  },
  {
   "cell_type": "code",
   "execution_count": null,
   "metadata": {},
   "outputs": [],
   "source": [
    "#target_and_capacity.loc[target_and_capacity.jcpa==4]"
   ]
  },
  {
   "cell_type": "markdown",
   "metadata": {},
   "source": [
    "## compare targets and capacity"
   ]
  },
  {
   "cell_type": "code",
   "execution_count": null,
   "metadata": {},
   "outputs": [],
   "source": [
    "t2050 = target_and_capacity.loc[target_and_capacity.yr==2050].copy()"
   ]
  },
  {
   "cell_type": "code",
   "execution_count": null,
   "metadata": {},
   "outputs": [],
   "source": [
    "t2050['capacity_minus_target'] = (t2050['capacity']- t2050['cumsum_of_units']).round(2)"
   ]
  },
  {
   "cell_type": "markdown",
   "metadata": {},
   "source": [
    "# do targets exceed capacity?"
   ]
  },
  {
   "cell_type": "code",
   "execution_count": null,
   "metadata": {},
   "outputs": [],
   "source": [
    "not_enough_capacity = t2050.loc[t2050.capacity_minus_target<0].copy()"
   ]
  },
  {
   "cell_type": "code",
   "execution_count": null,
   "metadata": {},
   "outputs": [],
   "source": [
    "if len(not_enough_capacity) > 0:\n",
    "    print('\\n\\nTargets exceed capacity for the following jur or cpa:\\n\\n')\n",
    "    print(not_enough_capacity)\n",
    "else: print('Targets do not exceed capacity.')"
   ]
  },
  {
   "cell_type": "code",
   "execution_count": null,
   "metadata": {},
   "outputs": [],
   "source": [
    "if len(not_enough_capacity) > 0: \n",
    "    plot_not_enough = target_and_capacity.loc[target_and_capacity.jcpa.isin(not_enough_capacity.jcpa.tolist())]"
   ]
  },
  {
   "cell_type": "code",
   "execution_count": null,
   "metadata": {},
   "outputs": [],
   "source": [
    "if len(not_enough_capacity) > 0: \n",
    "    for f in not_enough_capacity['jcpa_name'].tolist(): \n",
    "         plot_not_enough[plot_not_enough['jcpa_name']==f][['yr','capacity','cumsum_of_units']].plot(x='yr',title=f)"
   ]
  },
  {
   "cell_type": "code",
   "execution_count": null,
   "metadata": {},
   "outputs": [],
   "source": []
  }
 ],
 "metadata": {
  "kernelspec": {
   "display_name": "Python 3",
   "language": "python",
   "name": "python3"
  },
  "language_info": {
   "codemirror_mode": {
    "name": "ipython",
    "version": 3
   },
   "file_extension": ".py",
   "mimetype": "text/x-python",
   "name": "python",
   "nbconvert_exporter": "python",
   "pygments_lexer": "ipython3",
   "version": "3.6.4"
  }
 },
 "nbformat": 4,
 "nbformat_minor": 2
}
