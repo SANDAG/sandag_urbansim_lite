{
 "cells": [
  {
   "cell_type": "markdown",
   "metadata": {},
   "source": [
    "# QC: Units added = parcel capacity"
   ]
  },
  {
   "cell_type": "code",
   "execution_count": 38,
   "metadata": {},
   "outputs": [],
   "source": [
    "import os\n",
    "import sys"
   ]
  },
  {
   "cell_type": "code",
   "execution_count": 39,
   "metadata": {},
   "outputs": [],
   "source": [
    "# append path to find utils module in urbansim\n",
    "cwd = os.getcwd() \n",
    "parentdir =  os.path.abspath(os.path.join(cwd, os.pardir))\n",
    "parentdir2 =  os.path.abspath(os.path.join(parentdir, os.pardir))\n",
    "sys.path.append(parentdir2) # to get path to utils module"
   ]
  },
  {
   "cell_type": "code",
   "execution_count": 40,
   "metadata": {},
   "outputs": [],
   "source": [
    "import pandas as pd\n",
    "import numpy as np\n",
    "import utils"
   ]
  },
  {
   "cell_type": "code",
   "execution_count": 41,
   "metadata": {},
   "outputs": [],
   "source": [
    "from sqlalchemy import create_engine\n",
    "from database import get_connection_string"
   ]
  },
  {
   "cell_type": "code",
   "execution_count": 42,
   "metadata": {},
   "outputs": [],
   "source": [
    "%matplotlib inline"
   ]
  },
  {
   "cell_type": "code",
   "execution_count": 43,
   "metadata": {},
   "outputs": [],
   "source": [
    "# connect to database\n",
    "db_connection_string = get_connection_string('..\\..\\data\\config.yml', 'mssql_db')\n",
    "mssql_engine = create_engine(db_connection_string)"
   ]
  },
  {
   "cell_type": "code",
   "execution_count": 44,
   "metadata": {},
   "outputs": [],
   "source": [
    "# get versions\n",
    "versions = utils.yaml_to_dict('../../data/scenario_config.yaml', 'scenario')"
   ]
  },
  {
   "cell_type": "markdown",
   "metadata": {},
   "source": [
    "# Get Capacity"
   ]
  },
  {
   "cell_type": "code",
   "execution_count": 45,
   "metadata": {},
   "outputs": [],
   "source": [
    "parcel_capacity_sql = '''\n",
    "    SELECT [parcel_id],[capacity_2] as capacity, 'jur feedback' as cap_type\n",
    "      FROM [urbansim].[urbansim].[parcel]\n",
    "      WHERE [capacity_2] > 0 and ([site_id] IS NULL or site_id = 15008)'''\n",
    "capacity_df = pd.read_sql(parcel_capacity_sql,mssql_engine)"
   ]
  },
  {
   "cell_type": "code",
   "execution_count": 46,
   "metadata": {},
   "outputs": [],
   "source": [
    "assigned_parcel_sql = '''\n",
    "SELECT  a.parcel_id, a.du as capacity, type as cap_type\n",
    "   FROM [urbansim].[urbansim].[additional_capacity] a\n",
    "   JOIN urbansim.parcel p on p.parcel_id = a.parcel_id\n",
    "  WHERE version_id = %s'''\n",
    "assigned_parcel_sql = assigned_parcel_sql % versions['additional_capacity_version']\n",
    "assigned_df = pd.read_sql(assigned_parcel_sql, mssql_engine)\n",
    "assigned_df.replace('cc', 'sgoa',inplace=True)\n",
    "assigned_df.replace('mc', 'sgoa',inplace=True)\n",
    "assigned_df.replace('tc', 'sgoa',inplace=True)\n",
    "assigned_df.replace('tco', 'sgoa',inplace=True)\n",
    "assigned_df.replace('uc', 'sgoa',inplace=True)"
   ]
  },
  {
   "cell_type": "code",
   "execution_count": 47,
   "metadata": {},
   "outputs": [],
   "source": [
    "sched_dev_parcel_sql = '''\n",
    "SELECT parcel_id,[capacity_3] as capacity,'sched dev' as cap_type  \n",
    "FROM [urbansim].[urbansim].[scheduled_development_parcel]\n",
    "where capacity_3> 0'''\n",
    "sched_dev_df = pd.read_sql(sched_dev_parcel_sql, mssql_engine)"
   ]
  },
  {
   "cell_type": "code",
   "execution_count": 48,
   "metadata": {},
   "outputs": [],
   "source": [
    "df = pd.concat([capacity_df,sched_dev_df,assigned_df],sort=True)"
   ]
  },
  {
   "cell_type": "code",
   "execution_count": 49,
   "metadata": {},
   "outputs": [],
   "source": [
    "lookup_sql = '''\n",
    "SELECT parcel_id,jur_id,cpa_id\n",
    "FROM [isam].[xpef04].[parcel2015_mgra_jur_cpa] \n",
    "WHERE  i=1'''\n",
    "lookup_df = pd.read_sql(lookup_sql, mssql_engine)\n",
    "cocpa_names_sql = '''\n",
    "    SELECT zone as cpa_id, name as cocpa\n",
    "    FROM data_cafe.ref.geography_zone WHERE geography_type_id = 20'''\n",
    "cocpa_names = pd.read_sql(cocpa_names_sql, mssql_engine)\n",
    "cicpa_names_sql = '''\n",
    "    SELECT zone as cpa_id, name as cicpa\n",
    "    FROM data_cafe.ref.geography_zone WHERE geography_type_id = 15'''\n",
    "cicpa_names = pd.read_sql(cicpa_names_sql, mssql_engine)\n",
    "jur_name_sql = '''SELECT [jurisdiction_id] as jur_id,[name] as jur_name FROM [urbansim].[ref].[jurisdiction]'''\n",
    "jur_name = pd.read_sql(jur_name_sql,mssql_engine)\n",
    "lookup_df = pd.merge(lookup_df,cocpa_names,on='cpa_id',how='left')\n",
    "lookup_df = pd.merge(lookup_df,cicpa_names,on='cpa_id',how='left')\n",
    "lookup_df = pd.merge(lookup_df,jur_name,on='jur_id',how='left')\n",
    "lookup_df['cpa_id'] = lookup_df['cpa_id'].astype(int)\n",
    "lookup_df['jur_id'] = lookup_df['jur_id'].astype(int)\n",
    "lookup_df['jcpa_name'] = lookup_df['jur_name']\n",
    "lookup_df.loc[lookup_df.jur_id==14,'jcpa_name'] = lookup_df['cicpa']\n",
    "lookup_df.loc[lookup_df.jur_id==19,'jcpa_name'] = lookup_df['cocpa']\n",
    "lookup_df['jcpa'] = lookup_df['jur_id']\n",
    "lookup_df.loc[lookup_df.jur_id==14,'jcpa'] = lookup_df['cpa_id']\n",
    "lookup_df.loc[lookup_df.jur_id==19,'jcpa'] = lookup_df['cpa_id']\n",
    "lookup_df.drop(columns=['cocpa', 'cicpa','jur_name','cpa_id'],inplace=True)"
   ]
  },
  {
   "cell_type": "code",
   "execution_count": 50,
   "metadata": {},
   "outputs": [],
   "source": [
    "df = pd.merge(df,lookup_df,on='parcel_id',how='left')"
   ]
  },
  {
   "cell_type": "code",
   "execution_count": 51,
   "metadata": {},
   "outputs": [],
   "source": [
    "df['parcel_id'] = df['parcel_id'].astype(int)"
   ]
  },
  {
   "cell_type": "code",
   "execution_count": 52,
   "metadata": {},
   "outputs": [],
   "source": [
    "# df.loc[df.jcpa_name=='Pendleton-De Luz'].sort_values(by='parcel_id')"
   ]
  },
  {
   "cell_type": "markdown",
   "metadata": {},
   "source": [
    "### Parcels with more than one capacity type"
   ]
  },
  {
   "cell_type": "markdown",
   "metadata": {},
   "source": [
    "#### i.e. added more capacity (sgoa) to parcel than what jurisdiction provided"
   ]
  },
  {
   "cell_type": "code",
   "execution_count": 53,
   "metadata": {},
   "outputs": [
    {
     "name": "stdout",
     "output_type": "stream",
     "text": [
      "number of parcels with more than one capacity type (duplicate parcels): 49\n"
     ]
    }
   ],
   "source": [
    "df['is_duplicated'] = df.duplicated(['parcel_id'])\n",
    "duplicated_parcels = df.loc[df.is_duplicated].parcel_id.tolist()\n",
    "print(\"number of parcels with more than one capacity type (duplicate parcels): {:,}\".format(len(duplicated_parcels)))\n",
    "parcels_w_multiple_cap_types = df.loc[df.parcel_id.isin(duplicated_parcels)]"
   ]
  },
  {
   "cell_type": "code",
   "execution_count": 54,
   "metadata": {},
   "outputs": [],
   "source": [
    "parcels_w_mult_cap_type = pd.pivot_table(parcels_w_multiple_cap_types, values='capacity', \n",
    "                                         index=['parcel_id','jcpa','jcpa_name'],\n",
    "                                         columns=['cap_type'], aggfunc=np.sum)\n",
    "parcels_w_mult_cap_type.fillna(0,inplace=True)\n",
    "#print(\"parcels with more than one capacity type:\")\n",
    "#parcels_w_mult_cap_type.sort_values(by='jcpa')"
   ]
  },
  {
   "cell_type": "code",
   "execution_count": 55,
   "metadata": {},
   "outputs": [],
   "source": [
    "# print(\"parcels with more than one capacity type:\")\n",
    "# parcels_w_mult_cap_type.sort_values(by='jcpa')"
   ]
  },
  {
   "cell_type": "markdown",
   "metadata": {},
   "source": [
    "###  Sum capacity over parcels (so each row has a unique parcel id)"
   ]
  },
  {
   "cell_type": "code",
   "execution_count": 56,
   "metadata": {},
   "outputs": [],
   "source": [
    "capacity = pd.DataFrame({'capacity': df.groupby([\"parcel_id\",\"jcpa\",\"jcpa_name\"])\n",
    "                                          .capacity.sum()}).reset_index()"
   ]
  },
  {
   "cell_type": "markdown",
   "metadata": {},
   "source": [
    "### check capacity sum "
   ]
  },
  {
   "cell_type": "code",
   "execution_count": 57,
   "metadata": {},
   "outputs": [
    {
     "name": "stdout",
     "output_type": "stream",
     "text": [
      "capacity sum after group by: 491,015.0\n"
     ]
    }
   ],
   "source": [
    "print(\"capacity sum after group by: {:,}\".format(capacity.capacity.sum()))"
   ]
  },
  {
   "cell_type": "code",
   "execution_count": 58,
   "metadata": {},
   "outputs": [
    {
     "name": "stdout",
     "output_type": "stream",
     "text": [
      "capacity sum before group by: 491,015.0\n"
     ]
    }
   ],
   "source": [
    "print(\"capacity sum before group by: {:,}\".format(df.capacity.sum()))"
   ]
  },
  {
   "cell_type": "markdown",
   "metadata": {},
   "source": [
    "# Get units added"
   ]
  },
  {
   "cell_type": "code",
   "execution_count": 59,
   "metadata": {},
   "outputs": [
    {
     "name": "stdout",
     "output_type": "stream",
     "text": [
      "\n",
      "   Max run id : 411\n"
     ]
    }
   ],
   "source": [
    "# get max run id from urbansim\n",
    "run_id_sql = '''\n",
    "SELECT max(run_id)\n",
    "  FROM [urbansim].[urbansim].[urbansim_lite_output]\n",
    "'''\n",
    "run_id_df = pd.read_sql(run_id_sql, mssql_engine)\n",
    "run_id = int(run_id_df.values)\n",
    "print(\"\\n   Max run id : {:,}\".format(run_id))"
   ]
  },
  {
   "cell_type": "code",
   "execution_count": 60,
   "metadata": {},
   "outputs": [],
   "source": [
    "# run_id = input()"
   ]
  },
  {
   "cell_type": "code",
   "execution_count": 61,
   "metadata": {},
   "outputs": [],
   "source": [
    "output_sql = '''\n",
    "    SELECT parcel_id,\n",
    "           sum(unit_change) as unit_change\n",
    "    FROM urbansim.urbansim.urbansim_lite_output urbansim_lite_output \n",
    "    WHERE  run_id =  %s\n",
    "    GROUP BY parcel_id'''\n",
    "output_sql = output_sql % run_id\n",
    "output = pd.read_sql(output_sql,mssql_engine)"
   ]
  },
  {
   "cell_type": "code",
   "execution_count": 62,
   "metadata": {},
   "outputs": [
    {
     "name": "stdout",
     "output_type": "stream",
     "text": [
      "units added sum: 418,845\n"
     ]
    }
   ],
   "source": [
    "print(\"units added sum: {:,}\".format(output.unit_change.sum()))"
   ]
  },
  {
   "cell_type": "code",
   "execution_count": 63,
   "metadata": {},
   "outputs": [],
   "source": [
    "output_capacity = pd.merge(capacity,output,how='left',on='parcel_id')"
   ]
  },
  {
   "cell_type": "code",
   "execution_count": 64,
   "metadata": {},
   "outputs": [],
   "source": [
    "# output_capacity.head()"
   ]
  },
  {
   "cell_type": "code",
   "execution_count": null,
   "metadata": {},
   "outputs": [],
   "source": []
  },
  {
   "cell_type": "code",
   "execution_count": 65,
   "metadata": {},
   "outputs": [],
   "source": [
    "output_capacity['unit_change'].fillna(0,inplace=True)"
   ]
  },
  {
   "cell_type": "code",
   "execution_count": 66,
   "metadata": {},
   "outputs": [],
   "source": [
    "output_capacity['remaining'] = output_capacity['capacity'] - output_capacity['unit_change'] "
   ]
  },
  {
   "cell_type": "code",
   "execution_count": 67,
   "metadata": {},
   "outputs": [
    {
     "data": {
      "text/html": [
       "<div>\n",
       "<style scoped>\n",
       "    .dataframe tbody tr th:only-of-type {\n",
       "        vertical-align: middle;\n",
       "    }\n",
       "\n",
       "    .dataframe tbody tr th {\n",
       "        vertical-align: top;\n",
       "    }\n",
       "\n",
       "    .dataframe thead th {\n",
       "        text-align: right;\n",
       "    }\n",
       "</style>\n",
       "<table border=\"1\" class=\"dataframe\">\n",
       "  <thead>\n",
       "    <tr style=\"text-align: right;\">\n",
       "      <th></th>\n",
       "      <th>parcel_id</th>\n",
       "      <th>jcpa</th>\n",
       "      <th>jcpa_name</th>\n",
       "      <th>capacity</th>\n",
       "      <th>unit_change</th>\n",
       "      <th>remaining</th>\n",
       "    </tr>\n",
       "  </thead>\n",
       "  <tbody>\n",
       "    <tr>\n",
       "      <th>2</th>\n",
       "      <td>168</td>\n",
       "      <td>1442</td>\n",
       "      <td>Uptown</td>\n",
       "      <td>3.0</td>\n",
       "      <td>0.0</td>\n",
       "      <td>3.0</td>\n",
       "    </tr>\n",
       "    <tr>\n",
       "      <th>33</th>\n",
       "      <td>297</td>\n",
       "      <td>1404</td>\n",
       "      <td>Downtown</td>\n",
       "      <td>13.0</td>\n",
       "      <td>0.0</td>\n",
       "      <td>13.0</td>\n",
       "    </tr>\n",
       "    <tr>\n",
       "      <th>42</th>\n",
       "      <td>319</td>\n",
       "      <td>1404</td>\n",
       "      <td>Downtown</td>\n",
       "      <td>9.0</td>\n",
       "      <td>0.0</td>\n",
       "      <td>9.0</td>\n",
       "    </tr>\n",
       "    <tr>\n",
       "      <th>127</th>\n",
       "      <td>614</td>\n",
       "      <td>1469</td>\n",
       "      <td>Southeastern:Southeastern San Diego</td>\n",
       "      <td>4.0</td>\n",
       "      <td>0.0</td>\n",
       "      <td>4.0</td>\n",
       "    </tr>\n",
       "    <tr>\n",
       "      <th>128</th>\n",
       "      <td>615</td>\n",
       "      <td>1469</td>\n",
       "      <td>Southeastern:Southeastern San Diego</td>\n",
       "      <td>5.0</td>\n",
       "      <td>0.0</td>\n",
       "      <td>5.0</td>\n",
       "    </tr>\n",
       "    <tr>\n",
       "      <th>130</th>\n",
       "      <td>635</td>\n",
       "      <td>1408</td>\n",
       "      <td>Greater Golden Hill</td>\n",
       "      <td>4.0</td>\n",
       "      <td>0.0</td>\n",
       "      <td>4.0</td>\n",
       "    </tr>\n",
       "    <tr>\n",
       "      <th>133</th>\n",
       "      <td>665</td>\n",
       "      <td>1408</td>\n",
       "      <td>Greater Golden Hill</td>\n",
       "      <td>8.0</td>\n",
       "      <td>0.0</td>\n",
       "      <td>8.0</td>\n",
       "    </tr>\n",
       "    <tr>\n",
       "      <th>135</th>\n",
       "      <td>677</td>\n",
       "      <td>1440</td>\n",
       "      <td>Torrey Pines</td>\n",
       "      <td>1.0</td>\n",
       "      <td>0.0</td>\n",
       "      <td>1.0</td>\n",
       "    </tr>\n",
       "    <tr>\n",
       "      <th>138</th>\n",
       "      <td>707</td>\n",
       "      <td>1402</td>\n",
       "      <td>Barrio Logan</td>\n",
       "      <td>7.0</td>\n",
       "      <td>0.0</td>\n",
       "      <td>7.0</td>\n",
       "    </tr>\n",
       "    <tr>\n",
       "      <th>148</th>\n",
       "      <td>817</td>\n",
       "      <td>1428</td>\n",
       "      <td>Greater North Park</td>\n",
       "      <td>7.0</td>\n",
       "      <td>0.0</td>\n",
       "      <td>7.0</td>\n",
       "    </tr>\n",
       "    <tr>\n",
       "      <th>172</th>\n",
       "      <td>960</td>\n",
       "      <td>1456</td>\n",
       "      <td>Mid-City:City Heights</td>\n",
       "      <td>1.0</td>\n",
       "      <td>0.0</td>\n",
       "      <td>1.0</td>\n",
       "    </tr>\n",
       "    <tr>\n",
       "      <th>174</th>\n",
       "      <td>962</td>\n",
       "      <td>1459</td>\n",
       "      <td>Mid-City:Normal Heights</td>\n",
       "      <td>2.0</td>\n",
       "      <td>0.0</td>\n",
       "      <td>2.0</td>\n",
       "    </tr>\n",
       "    <tr>\n",
       "      <th>192</th>\n",
       "      <td>1130</td>\n",
       "      <td>1469</td>\n",
       "      <td>Southeastern:Southeastern San Diego</td>\n",
       "      <td>1.0</td>\n",
       "      <td>0.0</td>\n",
       "      <td>1.0</td>\n",
       "    </tr>\n",
       "    <tr>\n",
       "      <th>235</th>\n",
       "      <td>1297</td>\n",
       "      <td>1457</td>\n",
       "      <td>Mid-City:Eastern Area</td>\n",
       "      <td>1.0</td>\n",
       "      <td>0.0</td>\n",
       "      <td>1.0</td>\n",
       "    </tr>\n",
       "    <tr>\n",
       "      <th>258</th>\n",
       "      <td>1402</td>\n",
       "      <td>1438</td>\n",
       "      <td>College Area</td>\n",
       "      <td>1.0</td>\n",
       "      <td>0.0</td>\n",
       "      <td>1.0</td>\n",
       "    </tr>\n",
       "    <tr>\n",
       "      <th>273</th>\n",
       "      <td>1460</td>\n",
       "      <td>1468</td>\n",
       "      <td>Southeastern:Encanto Neighborhoods</td>\n",
       "      <td>1.0</td>\n",
       "      <td>0.0</td>\n",
       "      <td>1.0</td>\n",
       "    </tr>\n",
       "    <tr>\n",
       "      <th>291</th>\n",
       "      <td>1498</td>\n",
       "      <td>1469</td>\n",
       "      <td>Southeastern:Southeastern San Diego</td>\n",
       "      <td>4.0</td>\n",
       "      <td>0.0</td>\n",
       "      <td>4.0</td>\n",
       "    </tr>\n",
       "    <tr>\n",
       "      <th>292</th>\n",
       "      <td>1499</td>\n",
       "      <td>1469</td>\n",
       "      <td>Southeastern:Southeastern San Diego</td>\n",
       "      <td>2.0</td>\n",
       "      <td>0.0</td>\n",
       "      <td>2.0</td>\n",
       "    </tr>\n",
       "    <tr>\n",
       "      <th>308</th>\n",
       "      <td>1546</td>\n",
       "      <td>1468</td>\n",
       "      <td>Southeastern:Encanto Neighborhoods</td>\n",
       "      <td>26.0</td>\n",
       "      <td>19.0</td>\n",
       "      <td>7.0</td>\n",
       "    </tr>\n",
       "    <tr>\n",
       "      <th>311</th>\n",
       "      <td>1556</td>\n",
       "      <td>1468</td>\n",
       "      <td>Southeastern:Encanto Neighborhoods</td>\n",
       "      <td>5.0</td>\n",
       "      <td>0.0</td>\n",
       "      <td>5.0</td>\n",
       "    </tr>\n",
       "    <tr>\n",
       "      <th>312</th>\n",
       "      <td>1557</td>\n",
       "      <td>1468</td>\n",
       "      <td>Southeastern:Encanto Neighborhoods</td>\n",
       "      <td>10.0</td>\n",
       "      <td>0.0</td>\n",
       "      <td>10.0</td>\n",
       "    </tr>\n",
       "    <tr>\n",
       "      <th>316</th>\n",
       "      <td>1566</td>\n",
       "      <td>1468</td>\n",
       "      <td>Southeastern:Encanto Neighborhoods</td>\n",
       "      <td>2.0</td>\n",
       "      <td>0.0</td>\n",
       "      <td>2.0</td>\n",
       "    </tr>\n",
       "    <tr>\n",
       "      <th>319</th>\n",
       "      <td>1569</td>\n",
       "      <td>1468</td>\n",
       "      <td>Southeastern:Encanto Neighborhoods</td>\n",
       "      <td>8.0</td>\n",
       "      <td>0.0</td>\n",
       "      <td>8.0</td>\n",
       "    </tr>\n",
       "    <tr>\n",
       "      <th>354</th>\n",
       "      <td>1623</td>\n",
       "      <td>1457</td>\n",
       "      <td>Mid-City:Eastern Area</td>\n",
       "      <td>1.0</td>\n",
       "      <td>0.0</td>\n",
       "      <td>1.0</td>\n",
       "    </tr>\n",
       "    <tr>\n",
       "      <th>355</th>\n",
       "      <td>1636</td>\n",
       "      <td>1444</td>\n",
       "      <td>Skyline-Paradise Hills</td>\n",
       "      <td>1.0</td>\n",
       "      <td>0.0</td>\n",
       "      <td>1.0</td>\n",
       "    </tr>\n",
       "    <tr>\n",
       "      <th>362</th>\n",
       "      <td>1657</td>\n",
       "      <td>1438</td>\n",
       "      <td>College Area</td>\n",
       "      <td>23.0</td>\n",
       "      <td>0.0</td>\n",
       "      <td>23.0</td>\n",
       "    </tr>\n",
       "    <tr>\n",
       "      <th>368</th>\n",
       "      <td>1665</td>\n",
       "      <td>1404</td>\n",
       "      <td>Downtown</td>\n",
       "      <td>9.0</td>\n",
       "      <td>0.0</td>\n",
       "      <td>9.0</td>\n",
       "    </tr>\n",
       "    <tr>\n",
       "      <th>374</th>\n",
       "      <td>1689</td>\n",
       "      <td>1457</td>\n",
       "      <td>Mid-City:Eastern Area</td>\n",
       "      <td>28.0</td>\n",
       "      <td>0.0</td>\n",
       "      <td>28.0</td>\n",
       "    </tr>\n",
       "    <tr>\n",
       "      <th>389</th>\n",
       "      <td>1836</td>\n",
       "      <td>1458</td>\n",
       "      <td>Mid-City:Kensington-Talmadge</td>\n",
       "      <td>3.0</td>\n",
       "      <td>0.0</td>\n",
       "      <td>3.0</td>\n",
       "    </tr>\n",
       "    <tr>\n",
       "      <th>393</th>\n",
       "      <td>1866</td>\n",
       "      <td>1999</td>\n",
       "      <td>County Islands</td>\n",
       "      <td>1.0</td>\n",
       "      <td>0.0</td>\n",
       "      <td>1.0</td>\n",
       "    </tr>\n",
       "    <tr>\n",
       "      <th>...</th>\n",
       "      <td>...</td>\n",
       "      <td>...</td>\n",
       "      <td>...</td>\n",
       "      <td>...</td>\n",
       "      <td>...</td>\n",
       "      <td>...</td>\n",
       "    </tr>\n",
       "    <tr>\n",
       "      <th>69550</th>\n",
       "      <td>5284054</td>\n",
       "      <td>1952</td>\n",
       "      <td>Bonsall</td>\n",
       "      <td>1.0</td>\n",
       "      <td>0.0</td>\n",
       "      <td>1.0</td>\n",
       "    </tr>\n",
       "    <tr>\n",
       "      <th>69564</th>\n",
       "      <td>5284289</td>\n",
       "      <td>1457</td>\n",
       "      <td>Mid-City:Eastern Area</td>\n",
       "      <td>26.0</td>\n",
       "      <td>0.0</td>\n",
       "      <td>26.0</td>\n",
       "    </tr>\n",
       "    <tr>\n",
       "      <th>69598</th>\n",
       "      <td>5285051</td>\n",
       "      <td>1901</td>\n",
       "      <td>Alpine</td>\n",
       "      <td>2.0</td>\n",
       "      <td>0.0</td>\n",
       "      <td>2.0</td>\n",
       "    </tr>\n",
       "    <tr>\n",
       "      <th>69618</th>\n",
       "      <td>5285252</td>\n",
       "      <td>1440</td>\n",
       "      <td>Torrey Pines</td>\n",
       "      <td>1.0</td>\n",
       "      <td>0.0</td>\n",
       "      <td>1.0</td>\n",
       "    </tr>\n",
       "    <tr>\n",
       "      <th>69635</th>\n",
       "      <td>5286399</td>\n",
       "      <td>1410</td>\n",
       "      <td>La Jolla</td>\n",
       "      <td>1.0</td>\n",
       "      <td>0.0</td>\n",
       "      <td>1.0</td>\n",
       "    </tr>\n",
       "    <tr>\n",
       "      <th>69636</th>\n",
       "      <td>5286421</td>\n",
       "      <td>1441</td>\n",
       "      <td>University</td>\n",
       "      <td>368.0</td>\n",
       "      <td>0.0</td>\n",
       "      <td>368.0</td>\n",
       "    </tr>\n",
       "    <tr>\n",
       "      <th>69683</th>\n",
       "      <td>5289831</td>\n",
       "      <td>1402</td>\n",
       "      <td>Barrio Logan</td>\n",
       "      <td>16.0</td>\n",
       "      <td>8.0</td>\n",
       "      <td>8.0</td>\n",
       "    </tr>\n",
       "    <tr>\n",
       "      <th>69743</th>\n",
       "      <td>5291257</td>\n",
       "      <td>1920</td>\n",
       "      <td>Valley Center</td>\n",
       "      <td>1.0</td>\n",
       "      <td>0.0</td>\n",
       "      <td>1.0</td>\n",
       "    </tr>\n",
       "    <tr>\n",
       "      <th>69757</th>\n",
       "      <td>5291271</td>\n",
       "      <td>1920</td>\n",
       "      <td>Valley Center</td>\n",
       "      <td>1.0</td>\n",
       "      <td>0.0</td>\n",
       "      <td>1.0</td>\n",
       "    </tr>\n",
       "    <tr>\n",
       "      <th>69762</th>\n",
       "      <td>5291276</td>\n",
       "      <td>1920</td>\n",
       "      <td>Valley Center</td>\n",
       "      <td>1.0</td>\n",
       "      <td>0.0</td>\n",
       "      <td>1.0</td>\n",
       "    </tr>\n",
       "    <tr>\n",
       "      <th>69767</th>\n",
       "      <td>5291281</td>\n",
       "      <td>1920</td>\n",
       "      <td>Valley Center</td>\n",
       "      <td>1.0</td>\n",
       "      <td>0.0</td>\n",
       "      <td>1.0</td>\n",
       "    </tr>\n",
       "    <tr>\n",
       "      <th>69872</th>\n",
       "      <td>5294725</td>\n",
       "      <td>1448</td>\n",
       "      <td>Torrey Hills</td>\n",
       "      <td>37.0</td>\n",
       "      <td>34.0</td>\n",
       "      <td>3.0</td>\n",
       "    </tr>\n",
       "    <tr>\n",
       "      <th>69970</th>\n",
       "      <td>5300214</td>\n",
       "      <td>1450</td>\n",
       "      <td>Kearny Mesa</td>\n",
       "      <td>13614.0</td>\n",
       "      <td>7303.0</td>\n",
       "      <td>6311.0</td>\n",
       "    </tr>\n",
       "    <tr>\n",
       "      <th>70117</th>\n",
       "      <td>5303584</td>\n",
       "      <td>1469</td>\n",
       "      <td>Southeastern:Southeastern San Diego</td>\n",
       "      <td>1.0</td>\n",
       "      <td>0.0</td>\n",
       "      <td>1.0</td>\n",
       "    </tr>\n",
       "    <tr>\n",
       "      <th>70500</th>\n",
       "      <td>5308763</td>\n",
       "      <td>1444</td>\n",
       "      <td>Skyline-Paradise Hills</td>\n",
       "      <td>1.0</td>\n",
       "      <td>0.0</td>\n",
       "      <td>1.0</td>\n",
       "    </tr>\n",
       "    <tr>\n",
       "      <th>70502</th>\n",
       "      <td>5308765</td>\n",
       "      <td>1444</td>\n",
       "      <td>Skyline-Paradise Hills</td>\n",
       "      <td>1.0</td>\n",
       "      <td>0.0</td>\n",
       "      <td>1.0</td>\n",
       "    </tr>\n",
       "    <tr>\n",
       "      <th>70505</th>\n",
       "      <td>5308769</td>\n",
       "      <td>1444</td>\n",
       "      <td>Skyline-Paradise Hills</td>\n",
       "      <td>1.0</td>\n",
       "      <td>0.0</td>\n",
       "      <td>1.0</td>\n",
       "    </tr>\n",
       "    <tr>\n",
       "      <th>70508</th>\n",
       "      <td>5308772</td>\n",
       "      <td>1444</td>\n",
       "      <td>Skyline-Paradise Hills</td>\n",
       "      <td>2.0</td>\n",
       "      <td>0.0</td>\n",
       "      <td>2.0</td>\n",
       "    </tr>\n",
       "    <tr>\n",
       "      <th>70509</th>\n",
       "      <td>5308773</td>\n",
       "      <td>1444</td>\n",
       "      <td>Skyline-Paradise Hills</td>\n",
       "      <td>2.0</td>\n",
       "      <td>0.0</td>\n",
       "      <td>2.0</td>\n",
       "    </tr>\n",
       "    <tr>\n",
       "      <th>70510</th>\n",
       "      <td>5308774</td>\n",
       "      <td>1444</td>\n",
       "      <td>Skyline-Paradise Hills</td>\n",
       "      <td>3.0</td>\n",
       "      <td>0.0</td>\n",
       "      <td>3.0</td>\n",
       "    </tr>\n",
       "    <tr>\n",
       "      <th>70511</th>\n",
       "      <td>5308775</td>\n",
       "      <td>1444</td>\n",
       "      <td>Skyline-Paradise Hills</td>\n",
       "      <td>1.0</td>\n",
       "      <td>0.0</td>\n",
       "      <td>1.0</td>\n",
       "    </tr>\n",
       "    <tr>\n",
       "      <th>70512</th>\n",
       "      <td>5308776</td>\n",
       "      <td>1444</td>\n",
       "      <td>Skyline-Paradise Hills</td>\n",
       "      <td>1.0</td>\n",
       "      <td>0.0</td>\n",
       "      <td>1.0</td>\n",
       "    </tr>\n",
       "    <tr>\n",
       "      <th>70570</th>\n",
       "      <td>5311263</td>\n",
       "      <td>1465</td>\n",
       "      <td>Pacific Highlands Ranch</td>\n",
       "      <td>10.0</td>\n",
       "      <td>1.0</td>\n",
       "      <td>9.0</td>\n",
       "    </tr>\n",
       "    <tr>\n",
       "      <th>70576</th>\n",
       "      <td>5311543</td>\n",
       "      <td>1426</td>\n",
       "      <td>Otay Mesa</td>\n",
       "      <td>158.0</td>\n",
       "      <td>0.0</td>\n",
       "      <td>158.0</td>\n",
       "    </tr>\n",
       "    <tr>\n",
       "      <th>70577</th>\n",
       "      <td>5311549</td>\n",
       "      <td>1426</td>\n",
       "      <td>Otay Mesa</td>\n",
       "      <td>1431.0</td>\n",
       "      <td>992.0</td>\n",
       "      <td>439.0</td>\n",
       "    </tr>\n",
       "    <tr>\n",
       "      <th>70591</th>\n",
       "      <td>5311783</td>\n",
       "      <td>1906</td>\n",
       "      <td>Jamul-Dulzura</td>\n",
       "      <td>4.0</td>\n",
       "      <td>0.0</td>\n",
       "      <td>4.0</td>\n",
       "    </tr>\n",
       "    <tr>\n",
       "      <th>70641</th>\n",
       "      <td>5312754</td>\n",
       "      <td>1461</td>\n",
       "      <td>Del Mar Mesa</td>\n",
       "      <td>1.0</td>\n",
       "      <td>0.0</td>\n",
       "      <td>1.0</td>\n",
       "    </tr>\n",
       "    <tr>\n",
       "      <th>70651</th>\n",
       "      <td>5313178</td>\n",
       "      <td>1408</td>\n",
       "      <td>Greater Golden Hill</td>\n",
       "      <td>1.0</td>\n",
       "      <td>0.0</td>\n",
       "      <td>1.0</td>\n",
       "    </tr>\n",
       "    <tr>\n",
       "      <th>70659</th>\n",
       "      <td>5313352</td>\n",
       "      <td>1410</td>\n",
       "      <td>La Jolla</td>\n",
       "      <td>2.0</td>\n",
       "      <td>0.0</td>\n",
       "      <td>2.0</td>\n",
       "    </tr>\n",
       "    <tr>\n",
       "      <th>70954</th>\n",
       "      <td>9001705</td>\n",
       "      <td>1410</td>\n",
       "      <td>La Jolla</td>\n",
       "      <td>6.0</td>\n",
       "      <td>0.0</td>\n",
       "      <td>6.0</td>\n",
       "    </tr>\n",
       "  </tbody>\n",
       "</table>\n",
       "<p>1851 rows × 6 columns</p>\n",
       "</div>"
      ],
      "text/plain": [
       "       parcel_id  jcpa                            jcpa_name  capacity  \\\n",
       "2            168  1442                               Uptown       3.0   \n",
       "33           297  1404                             Downtown      13.0   \n",
       "42           319  1404                             Downtown       9.0   \n",
       "127          614  1469  Southeastern:Southeastern San Diego       4.0   \n",
       "128          615  1469  Southeastern:Southeastern San Diego       5.0   \n",
       "130          635  1408                  Greater Golden Hill       4.0   \n",
       "133          665  1408                  Greater Golden Hill       8.0   \n",
       "135          677  1440                         Torrey Pines       1.0   \n",
       "138          707  1402                         Barrio Logan       7.0   \n",
       "148          817  1428                   Greater North Park       7.0   \n",
       "172          960  1456                Mid-City:City Heights       1.0   \n",
       "174          962  1459              Mid-City:Normal Heights       2.0   \n",
       "192         1130  1469  Southeastern:Southeastern San Diego       1.0   \n",
       "235         1297  1457                Mid-City:Eastern Area       1.0   \n",
       "258         1402  1438                         College Area       1.0   \n",
       "273         1460  1468   Southeastern:Encanto Neighborhoods       1.0   \n",
       "291         1498  1469  Southeastern:Southeastern San Diego       4.0   \n",
       "292         1499  1469  Southeastern:Southeastern San Diego       2.0   \n",
       "308         1546  1468   Southeastern:Encanto Neighborhoods      26.0   \n",
       "311         1556  1468   Southeastern:Encanto Neighborhoods       5.0   \n",
       "312         1557  1468   Southeastern:Encanto Neighborhoods      10.0   \n",
       "316         1566  1468   Southeastern:Encanto Neighborhoods       2.0   \n",
       "319         1569  1468   Southeastern:Encanto Neighborhoods       8.0   \n",
       "354         1623  1457                Mid-City:Eastern Area       1.0   \n",
       "355         1636  1444               Skyline-Paradise Hills       1.0   \n",
       "362         1657  1438                         College Area      23.0   \n",
       "368         1665  1404                             Downtown       9.0   \n",
       "374         1689  1457                Mid-City:Eastern Area      28.0   \n",
       "389         1836  1458         Mid-City:Kensington-Talmadge       3.0   \n",
       "393         1866  1999                       County Islands       1.0   \n",
       "...          ...   ...                                  ...       ...   \n",
       "69550    5284054  1952                              Bonsall       1.0   \n",
       "69564    5284289  1457                Mid-City:Eastern Area      26.0   \n",
       "69598    5285051  1901                               Alpine       2.0   \n",
       "69618    5285252  1440                         Torrey Pines       1.0   \n",
       "69635    5286399  1410                             La Jolla       1.0   \n",
       "69636    5286421  1441                           University     368.0   \n",
       "69683    5289831  1402                         Barrio Logan      16.0   \n",
       "69743    5291257  1920                        Valley Center       1.0   \n",
       "69757    5291271  1920                        Valley Center       1.0   \n",
       "69762    5291276  1920                        Valley Center       1.0   \n",
       "69767    5291281  1920                        Valley Center       1.0   \n",
       "69872    5294725  1448                         Torrey Hills      37.0   \n",
       "69970    5300214  1450                          Kearny Mesa   13614.0   \n",
       "70117    5303584  1469  Southeastern:Southeastern San Diego       1.0   \n",
       "70500    5308763  1444               Skyline-Paradise Hills       1.0   \n",
       "70502    5308765  1444               Skyline-Paradise Hills       1.0   \n",
       "70505    5308769  1444               Skyline-Paradise Hills       1.0   \n",
       "70508    5308772  1444               Skyline-Paradise Hills       2.0   \n",
       "70509    5308773  1444               Skyline-Paradise Hills       2.0   \n",
       "70510    5308774  1444               Skyline-Paradise Hills       3.0   \n",
       "70511    5308775  1444               Skyline-Paradise Hills       1.0   \n",
       "70512    5308776  1444               Skyline-Paradise Hills       1.0   \n",
       "70570    5311263  1465              Pacific Highlands Ranch      10.0   \n",
       "70576    5311543  1426                            Otay Mesa     158.0   \n",
       "70577    5311549  1426                            Otay Mesa    1431.0   \n",
       "70591    5311783  1906                        Jamul-Dulzura       4.0   \n",
       "70641    5312754  1461                         Del Mar Mesa       1.0   \n",
       "70651    5313178  1408                  Greater Golden Hill       1.0   \n",
       "70659    5313352  1410                             La Jolla       2.0   \n",
       "70954    9001705  1410                             La Jolla       6.0   \n",
       "\n",
       "       unit_change  remaining  \n",
       "2              0.0        3.0  \n",
       "33             0.0       13.0  \n",
       "42             0.0        9.0  \n",
       "127            0.0        4.0  \n",
       "128            0.0        5.0  \n",
       "130            0.0        4.0  \n",
       "133            0.0        8.0  \n",
       "135            0.0        1.0  \n",
       "138            0.0        7.0  \n",
       "148            0.0        7.0  \n",
       "172            0.0        1.0  \n",
       "174            0.0        2.0  \n",
       "192            0.0        1.0  \n",
       "235            0.0        1.0  \n",
       "258            0.0        1.0  \n",
       "273            0.0        1.0  \n",
       "291            0.0        4.0  \n",
       "292            0.0        2.0  \n",
       "308           19.0        7.0  \n",
       "311            0.0        5.0  \n",
       "312            0.0       10.0  \n",
       "316            0.0        2.0  \n",
       "319            0.0        8.0  \n",
       "354            0.0        1.0  \n",
       "355            0.0        1.0  \n",
       "362            0.0       23.0  \n",
       "368            0.0        9.0  \n",
       "374            0.0       28.0  \n",
       "389            0.0        3.0  \n",
       "393            0.0        1.0  \n",
       "...            ...        ...  \n",
       "69550          0.0        1.0  \n",
       "69564          0.0       26.0  \n",
       "69598          0.0        2.0  \n",
       "69618          0.0        1.0  \n",
       "69635          0.0        1.0  \n",
       "69636          0.0      368.0  \n",
       "69683          8.0        8.0  \n",
       "69743          0.0        1.0  \n",
       "69757          0.0        1.0  \n",
       "69762          0.0        1.0  \n",
       "69767          0.0        1.0  \n",
       "69872         34.0        3.0  \n",
       "69970       7303.0     6311.0  \n",
       "70117          0.0        1.0  \n",
       "70500          0.0        1.0  \n",
       "70502          0.0        1.0  \n",
       "70505          0.0        1.0  \n",
       "70508          0.0        2.0  \n",
       "70509          0.0        2.0  \n",
       "70510          0.0        3.0  \n",
       "70511          0.0        1.0  \n",
       "70512          0.0        1.0  \n",
       "70570          1.0        9.0  \n",
       "70576          0.0      158.0  \n",
       "70577        992.0      439.0  \n",
       "70591          0.0        4.0  \n",
       "70641          0.0        1.0  \n",
       "70651          0.0        1.0  \n",
       "70659          0.0        2.0  \n",
       "70954          0.0        6.0  \n",
       "\n",
       "[1851 rows x 6 columns]"
      ]
     },
     "execution_count": 67,
     "metadata": {},
     "output_type": "execute_result"
    }
   ],
   "source": [
    "output_capacity.loc[output_capacity['remaining'] !=0]"
   ]
  },
  {
   "cell_type": "code",
   "execution_count": 68,
   "metadata": {},
   "outputs": [],
   "source": [
    "output_capacity.loc[output_capacity['remaining'] !=0].to_csv('remaining1.csv')"
   ]
  },
  {
   "cell_type": "code",
   "execution_count": null,
   "metadata": {},
   "outputs": [],
   "source": []
  },
  {
   "cell_type": "code",
   "execution_count": 69,
   "metadata": {},
   "outputs": [
    {
     "data": {
      "text/plain": [
       "418845.0"
      ]
     },
     "execution_count": 69,
     "metadata": {},
     "output_type": "execute_result"
    }
   ],
   "source": [
    "output_capacity.unit_change.sum()"
   ]
  },
  {
   "cell_type": "code",
   "execution_count": 70,
   "metadata": {},
   "outputs": [
    {
     "data": {
      "text/plain": [
       "491015.0"
      ]
     },
     "execution_count": 70,
     "metadata": {},
     "output_type": "execute_result"
    }
   ],
   "source": [
    "output_capacity.capacity.sum()"
   ]
  },
  {
   "cell_type": "code",
   "execution_count": 71,
   "metadata": {},
   "outputs": [
    {
     "data": {
      "text/plain": [
       "72170.0"
      ]
     },
     "execution_count": 71,
     "metadata": {},
     "output_type": "execute_result"
    }
   ],
   "source": [
    "output_capacity.remaining.sum()"
   ]
  },
  {
   "cell_type": "code",
   "execution_count": 72,
   "metadata": {},
   "outputs": [],
   "source": [
    "#output_capacity.loc[output_capacity.jcpa_name=='Pendleton-De Luz']"
   ]
  },
  {
   "cell_type": "markdown",
   "metadata": {},
   "source": [
    "# QC Pass/Fail"
   ]
  },
  {
   "cell_type": "code",
   "execution_count": 73,
   "metadata": {},
   "outputs": [
    {
     "name": "stdout",
     "output_type": "stream",
     "text": [
      "for run id : 411\n",
      "\n",
      "\n",
      "Urbansim capacity matches units added by parcel\n",
      "\n",
      "\n",
      "Remaining units: 72,170.0\n",
      "\n",
      "QC Pass\n",
      "\n",
      "\n",
      "\n"
     ]
    }
   ],
   "source": [
    "if output_capacity.remaining.sum() < df.capacity.sum() - output.unit_change.sum():\n",
    "    print(\"for run id : {:,}\\n\".format(run_id))\n",
    "    print('\\n\\nQC Fail: Urbansim capacity does not match units added by parcel\\n\\n')\n",
    "    print(\"Remaining units: {:,}\\n\".format(output_capacity.remaining.sum()))\n",
    "else:\n",
    "    print(\"for run id : {:}\\n\".format(run_id))\n",
    "    print('\\nUrbansim capacity matches units added by parcel\\n\\n')\n",
    "    print(\"Remaining units: {:,}\\n\".format(output_capacity.remaining.sum()))\n",
    "    print('QC Pass\\n\\n\\n')"
   ]
  },
  {
   "cell_type": "code",
   "execution_count": 74,
   "metadata": {},
   "outputs": [
    {
     "data": {
      "text/plain": [
       "411"
      ]
     },
     "execution_count": 74,
     "metadata": {},
     "output_type": "execute_result"
    }
   ],
   "source": [
    "run_id"
   ]
  },
  {
   "cell_type": "code",
   "execution_count": null,
   "metadata": {},
   "outputs": [],
   "source": []
  }
 ],
 "metadata": {
  "kernelspec": {
   "display_name": "Python 3",
   "language": "python",
   "name": "python3"
  },
  "language_info": {
   "codemirror_mode": {
    "name": "ipython",
    "version": 3
   },
   "file_extension": ".py",
   "mimetype": "text/x-python",
   "name": "python",
   "nbconvert_exporter": "python",
   "pygments_lexer": "ipython3",
   "version": "3.6.4"
  }
 },
 "nbformat": 4,
 "nbformat_minor": 2
}
