{
 "cells": [
  {
   "cell_type": "markdown",
   "metadata": {},
   "source": [
    "# QC: Units added = parcel capacity"
   ]
  },
  {
   "cell_type": "code",
   "execution_count": null,
   "metadata": {},
   "outputs": [],
   "source": [
    "import os\n",
    "import sys"
   ]
  },
  {
   "cell_type": "code",
   "execution_count": null,
   "metadata": {},
   "outputs": [],
   "source": [
    "# append path to find utils module in urbansim\n",
    "cwd = os.getcwd() \n",
    "parentdir =  os.path.abspath(os.path.join(cwd, os.pardir))\n",
    "parentdir2 =  os.path.abspath(os.path.join(parentdir, os.pardir))\n",
    "sys.path.append(parentdir2) # to get path to utils module"
   ]
  },
  {
   "cell_type": "code",
   "execution_count": null,
   "metadata": {},
   "outputs": [],
   "source": [
    "import pandas as pd\n",
    "import numpy as np\n",
    "import utils"
   ]
  },
  {
   "cell_type": "code",
   "execution_count": null,
   "metadata": {},
   "outputs": [],
   "source": [
    "from sqlalchemy import create_engine\n",
    "from database import get_connection_string"
   ]
  },
  {
   "cell_type": "code",
   "execution_count": null,
   "metadata": {},
   "outputs": [],
   "source": [
    "%matplotlib inline"
   ]
  },
  {
   "cell_type": "code",
   "execution_count": null,
   "metadata": {},
   "outputs": [],
   "source": [
    "# connect to database\n",
    "db_connection_string = get_connection_string('..\\..\\data\\config.yml', 'mssql_db')\n",
    "mssql_engine = create_engine(db_connection_string)"
   ]
  },
  {
   "cell_type": "code",
   "execution_count": null,
   "metadata": {},
   "outputs": [],
   "source": [
    "# get versions\n",
    "versions = utils.yaml_to_dict('../../data/scenario_config.yaml', 'scenario')"
   ]
  },
  {
   "cell_type": "markdown",
   "metadata": {},
   "source": [
    "# Get Capacity"
   ]
  },
  {
   "cell_type": "code",
   "execution_count": null,
   "metadata": {},
   "outputs": [],
   "source": [
    "parcel_capacity_sql = '''\n",
    "    SELECT [parcel_id],[capacity_2] as capacity, 'jur feedback' as cap_type\n",
    "      FROM [urbansim].[urbansim].[parcel]\n",
    "      WHERE [capacity_2] > 0 and ([site_id] IS NULL or site_id = 15008)'''\n",
    "capacity_df = pd.read_sql(parcel_capacity_sql,mssql_engine)"
   ]
  },
  {
   "cell_type": "code",
   "execution_count": null,
   "metadata": {},
   "outputs": [],
   "source": [
    "assigned_parcel_sql = '''\n",
    "SELECT  a.parcel_id, a.du as capacity, type as cap_type\n",
    "   FROM [urbansim].[urbansim].[additional_capacity] a\n",
    "   JOIN urbansim.parcel p on p.parcel_id = a.parcel_id\n",
    "  WHERE version_id = %s'''\n",
    "assigned_parcel_sql = assigned_parcel_sql % versions['additional_capacity_version']\n",
    "assigned_df = pd.read_sql(assigned_parcel_sql, mssql_engine)\n",
    "assigned_df.replace('cc', 'sgoa',inplace=True)\n",
    "assigned_df.replace('mc', 'sgoa',inplace=True)\n",
    "assigned_df.replace('tc', 'sgoa',inplace=True)\n",
    "assigned_df.replace('tco', 'sgoa',inplace=True)\n",
    "assigned_df.replace('uc', 'sgoa',inplace=True)"
   ]
  },
  {
   "cell_type": "code",
   "execution_count": null,
   "metadata": {},
   "outputs": [],
   "source": [
    "sched_dev_parcel_sql = '''\n",
    "SELECT parcel_id,[capacity_3] as capacity,'sched dev' as cap_type  \n",
    "FROM [urbansim].[urbansim].[scheduled_development_parcel]\n",
    "where capacity_3> 0'''\n",
    "sched_dev_df = pd.read_sql(sched_dev_parcel_sql, mssql_engine)"
   ]
  },
  {
   "cell_type": "code",
   "execution_count": null,
   "metadata": {},
   "outputs": [],
   "source": [
    "df = pd.concat([capacity_df,sched_dev_df,assigned_df],sort=True)"
   ]
  },
  {
   "cell_type": "code",
   "execution_count": null,
   "metadata": {},
   "outputs": [],
   "source": [
    "lookup_sql = '''\n",
    "SELECT parcel_id,jur_id,cpa_id\n",
    "FROM [isam].[xpef04].[parcel2015_mgra_jur_cpa] \n",
    "WHERE  i=1'''\n",
    "lookup_df = pd.read_sql(lookup_sql, mssql_engine)\n",
    "cocpa_names_sql = '''\n",
    "    SELECT zone as cpa_id, name as cocpa\n",
    "    FROM data_cafe.ref.geography_zone WHERE geography_type_id = 20'''\n",
    "cocpa_names = pd.read_sql(cocpa_names_sql, mssql_engine)\n",
    "cicpa_names_sql = '''\n",
    "    SELECT zone as cpa_id, name as cicpa\n",
    "    FROM data_cafe.ref.geography_zone WHERE geography_type_id = 15'''\n",
    "cicpa_names = pd.read_sql(cicpa_names_sql, mssql_engine)\n",
    "jur_name_sql = '''SELECT [jurisdiction_id] as jur_id,[name] as jur_name FROM [urbansim].[ref].[jurisdiction]'''\n",
    "jur_name = pd.read_sql(jur_name_sql,mssql_engine)\n",
    "lookup_df = pd.merge(lookup_df,cocpa_names,on='cpa_id',how='left')\n",
    "lookup_df = pd.merge(lookup_df,cicpa_names,on='cpa_id',how='left')\n",
    "lookup_df = pd.merge(lookup_df,jur_name,on='jur_id',how='left')\n",
    "lookup_df['cpa_id'] = lookup_df['cpa_id'].astype(int)\n",
    "lookup_df['jur_id'] = lookup_df['jur_id'].astype(int)\n",
    "lookup_df['jcpa_name'] = lookup_df['jur_name']\n",
    "lookup_df.loc[lookup_df.jur_id==14,'jcpa_name'] = lookup_df['cicpa']\n",
    "lookup_df.loc[lookup_df.jur_id==19,'jcpa_name'] = lookup_df['cocpa']\n",
    "lookup_df['jcpa'] = lookup_df['jur_id']\n",
    "lookup_df.loc[lookup_df.jur_id==14,'jcpa'] = lookup_df['cpa_id']\n",
    "lookup_df.loc[lookup_df.jur_id==19,'jcpa'] = lookup_df['cpa_id']\n",
    "lookup_df.drop(columns=['cocpa', 'cicpa','jur_name','cpa_id'],inplace=True)"
   ]
  },
  {
   "cell_type": "code",
   "execution_count": null,
   "metadata": {},
   "outputs": [],
   "source": [
    "df = pd.merge(df,lookup_df,on='parcel_id',how='left')"
   ]
  },
  {
   "cell_type": "code",
   "execution_count": null,
   "metadata": {},
   "outputs": [],
   "source": [
    "df['parcel_id'] = df['parcel_id'].astype(int)"
   ]
  },
  {
   "cell_type": "code",
   "execution_count": null,
   "metadata": {},
   "outputs": [],
   "source": [
    "# df.loc[df.jcpa_name=='Pendleton-De Luz'].sort_values(by='parcel_id')"
   ]
  },
  {
   "cell_type": "markdown",
   "metadata": {},
   "source": [
    "### Parcels with more than one capacity type"
   ]
  },
  {
   "cell_type": "markdown",
   "metadata": {},
   "source": [
    "#### i.e. added more capacity (sgoa) to parcel than what jurisdiction provided"
   ]
  },
  {
   "cell_type": "code",
   "execution_count": null,
   "metadata": {},
   "outputs": [],
   "source": [
    "df['is_duplicated'] = df.duplicated(['parcel_id'])\n",
    "duplicated_parcels = df.loc[df.is_duplicated].parcel_id.tolist()\n",
    "print(\"number of parcels with more than one capacity type (duplicate parcels): {:,}\".format(len(duplicated_parcels)))\n",
    "parcels_w_multiple_cap_types = df.loc[df.parcel_id.isin(duplicated_parcels)]"
   ]
  },
  {
   "cell_type": "code",
   "execution_count": null,
   "metadata": {},
   "outputs": [],
   "source": [
    "parcels_w_mult_cap_type = pd.pivot_table(parcels_w_multiple_cap_types, values='capacity', \n",
    "                                         index=['parcel_id','jcpa','jcpa_name'],\n",
    "                                         columns=['cap_type'], aggfunc=np.sum)\n",
    "parcels_w_mult_cap_type.fillna(0,inplace=True)\n",
    "print(\"parcels with more than one capacity type:\")\n",
    "parcels_w_mult_cap_type.sort_values(by='jcpa')"
   ]
  },
  {
   "cell_type": "markdown",
   "metadata": {},
   "source": [
    "###  Sum capacity over parcels (so each row has a unique parcel id)"
   ]
  },
  {
   "cell_type": "code",
   "execution_count": null,
   "metadata": {},
   "outputs": [],
   "source": [
    "capacity = pd.DataFrame({'capacity': df.groupby([\"parcel_id\",\"jcpa\",\"jcpa_name\"])\n",
    "                                          .capacity.sum()}).reset_index()"
   ]
  },
  {
   "cell_type": "markdown",
   "metadata": {},
   "source": [
    "### check capacity sum "
   ]
  },
  {
   "cell_type": "code",
   "execution_count": null,
   "metadata": {},
   "outputs": [],
   "source": [
    "print(\"capacity sum after group by: {:,}\".format(capacity.capacity.sum()))"
   ]
  },
  {
   "cell_type": "code",
   "execution_count": null,
   "metadata": {},
   "outputs": [],
   "source": [
    "print(\"capacity sum before group by: {:,}\".format(df.capacity.sum()))"
   ]
  },
  {
   "cell_type": "markdown",
   "metadata": {},
   "source": [
    "# Get units added"
   ]
  },
  {
   "cell_type": "code",
   "execution_count": null,
   "metadata": {},
   "outputs": [],
   "source": [
    "# get max run id from urbansim\n",
    "run_id_sql = '''\n",
    "SELECT max(run_id)\n",
    "  FROM [urbansim].[urbansim].[urbansim_lite_output]\n",
    "'''\n",
    "run_id_df = pd.read_sql(run_id_sql, mssql_engine)\n",
    "run_id = int(run_id_df.values)\n",
    "print(\"\\n   Max run id : {:,}\".format(run_id))"
   ]
  },
  {
   "cell_type": "code",
   "execution_count": null,
   "metadata": {},
   "outputs": [],
   "source": [
    "# run_id = input()"
   ]
  },
  {
   "cell_type": "code",
   "execution_count": null,
   "metadata": {},
   "outputs": [],
   "source": [
    "output_sql = '''\n",
    "    SELECT parcel_id,\n",
    "           sum(unit_change) as unit_change\n",
    "    FROM urbansim.urbansim.urbansim_lite_output urbansim_lite_output \n",
    "    WHERE  run_id =  %s\n",
    "    GROUP BY parcel_id'''\n",
    "output_sql = output_sql % run_id\n",
    "output = pd.read_sql(output_sql,mssql_engine)"
   ]
  },
  {
   "cell_type": "code",
   "execution_count": null,
   "metadata": {},
   "outputs": [],
   "source": [
    "print(\"units added sum: {:,}\".format(output.unit_change.sum()))"
   ]
  },
  {
   "cell_type": "code",
   "execution_count": null,
   "metadata": {},
   "outputs": [],
   "source": [
    "output_capacity = pd.merge(capacity,output,how='left',on='parcel_id')"
   ]
  },
  {
   "cell_type": "code",
   "execution_count": null,
   "metadata": {},
   "outputs": [],
   "source": [
    "output_capacity.head()"
   ]
  },
  {
   "cell_type": "code",
   "execution_count": null,
   "metadata": {},
   "outputs": [],
   "source": []
  },
  {
   "cell_type": "code",
   "execution_count": null,
   "metadata": {},
   "outputs": [],
   "source": [
    "output_capacity['unit_change'].fillna(0,inplace=True)"
   ]
  },
  {
   "cell_type": "code",
   "execution_count": null,
   "metadata": {},
   "outputs": [],
   "source": [
    "output_capacity['remaining'] = output_capacity['capacity'] - output_capacity['unit_change'] "
   ]
  },
  {
   "cell_type": "code",
   "execution_count": null,
   "metadata": {},
   "outputs": [],
   "source": [
    "output_capacity.loc[output_capacity['remaining'] !=0]"
   ]
  },
  {
   "cell_type": "code",
   "execution_count": null,
   "metadata": {},
   "outputs": [],
   "source": [
    "output_capacity.unit_change.sum()"
   ]
  },
  {
   "cell_type": "code",
   "execution_count": null,
   "metadata": {},
   "outputs": [],
   "source": [
    "output_capacity.capacity.sum()"
   ]
  },
  {
   "cell_type": "code",
   "execution_count": null,
   "metadata": {},
   "outputs": [],
   "source": [
    "output_capacity.remaining.sum()"
   ]
  },
  {
   "cell_type": "code",
   "execution_count": null,
   "metadata": {},
   "outputs": [],
   "source": [
    "#output_capacity.loc[output_capacity.jcpa_name=='Pendleton-De Luz']"
   ]
  },
  {
   "cell_type": "markdown",
   "metadata": {},
   "source": [
    "# QC Pass/Fail"
   ]
  },
  {
   "cell_type": "code",
   "execution_count": null,
   "metadata": {},
   "outputs": [],
   "source": [
    "if output_capacity.remaining.sum() < df.capacity.sum() - output.unit_change.sum():\n",
    "    print(\"for run id : {:,}\\n\".format(run_id))\n",
    "    print('\\n\\nQC Fail: Urbansim capacity does not match units added by parcel\\n\\n')\n",
    "    print(\"Remaining units: {:,}\\n\".format(output_capacity.remaining.sum()))\n",
    "else:\n",
    "    print(\"for run id : {:,}\\n\".format(run_id))\n",
    "    print('\\nUrbansim capacity matches units added by parcel\\n\\n')\n",
    "    print(\"Remaining units: {:,}\\n\".format(output_capacity.remaining.sum()))\n",
    "    print('QC Pass\\n\\n\\n')"
   ]
  },
  {
   "cell_type": "code",
   "execution_count": null,
   "metadata": {},
   "outputs": [],
   "source": []
  }
 ],
 "metadata": {
  "kernelspec": {
   "display_name": "Python 3",
   "language": "python",
   "name": "python3"
  },
  "language_info": {
   "codemirror_mode": {
    "name": "ipython",
    "version": 3
   },
   "file_extension": ".py",
   "mimetype": "text/x-python",
   "name": "python",
   "nbconvert_exporter": "python",
   "pygments_lexer": "ipython3",
   "version": "3.6.4"
  }
 },
 "nbformat": 4,
 "nbformat_minor": 2
}
